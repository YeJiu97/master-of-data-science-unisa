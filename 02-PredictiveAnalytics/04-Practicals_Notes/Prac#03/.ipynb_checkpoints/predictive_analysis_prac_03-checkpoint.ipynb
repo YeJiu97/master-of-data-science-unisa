{
 "cells": [
  {
   "cell_type": "markdown",
   "id": "d554677d-34f7-4c7e-9ebc-25f33bea9a29",
   "metadata": {},
   "source": [
    "# "
   ]
  }
 ],
 "metadata": {
  "kernelspec": {
   "display_name": "R",
   "language": "R",
   "name": "ir"
  },
  "language_info": {
   "codemirror_mode": "r",
   "file_extension": ".r",
   "mimetype": "text/x-r-source",
   "name": "R",
   "pygments_lexer": "r",
   "version": "4.2.1"
  }
 },
 "nbformat": 4,
 "nbformat_minor": 5
}
