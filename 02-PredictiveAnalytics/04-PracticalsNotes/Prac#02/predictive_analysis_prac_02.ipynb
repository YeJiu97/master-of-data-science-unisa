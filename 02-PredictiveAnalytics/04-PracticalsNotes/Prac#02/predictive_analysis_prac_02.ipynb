{
 "cells": [
  {
   "cell_type": "markdown",
   "id": "c3dd032f-f819-418e-818b-d53a72089b9e",
   "metadata": {},
   "source": [
    "# Handling Missing Values"
   ]
  },
  {
   "cell_type": "code",
   "execution_count": 68,
   "id": "5230b4c5-6b2c-4f88-88ff-d66245b43f52",
   "metadata": {
    "tags": []
   },
   "outputs": [
    {
     "data": {
      "text/html": [
       "<table class=\"dataframe\">\n",
       "<caption>A data.frame: 6 × 5</caption>\n",
       "<thead>\n",
       "\t<tr><th></th><th scope=col>OA</th><th scope=col>White_British</th><th scope=col>Low_Occupancy</th><th scope=col>Unemployed</th><th scope=col>Qualification</th></tr>\n",
       "\t<tr><th></th><th scope=col>&lt;chr&gt;</th><th scope=col>&lt;dbl&gt;</th><th scope=col>&lt;dbl&gt;</th><th scope=col>&lt;dbl&gt;</th><th scope=col>&lt;dbl&gt;</th></tr>\n",
       "</thead>\n",
       "<tbody>\n",
       "\t<tr><th scope=row>1</th><td>E00004120</td><td>42.35669</td><td>6.2937063</td><td>1.893939</td><td>73.62637</td></tr>\n",
       "\t<tr><th scope=row>2</th><td>E00004121</td><td>47.20000</td><td>5.9322034</td><td>2.688172</td><td>69.90291</td></tr>\n",
       "\t<tr><th scope=row>3</th><td>E00004122</td><td>40.67797</td><td>2.9126214</td><td>1.212121</td><td>67.58242</td></tr>\n",
       "\t<tr><th scope=row>4</th><td>E00004123</td><td>49.66216</td><td>0.9259259</td><td>2.803738</td><td>60.77586</td></tr>\n",
       "\t<tr><th scope=row>5</th><td>E00004124</td><td>51.13636</td><td>2.0000000</td><td>3.816794</td><td>65.98639</td></tr>\n",
       "\t<tr><th scope=row>6</th><td>E00004125</td><td>41.41791</td><td>3.9325843</td><td>3.846154</td><td>74.20635</td></tr>\n",
       "</tbody>\n",
       "</table>\n"
      ],
      "text/latex": [
       "A data.frame: 6 × 5\n",
       "\\begin{tabular}{r|lllll}\n",
       "  & OA & White\\_British & Low\\_Occupancy & Unemployed & Qualification\\\\\n",
       "  & <chr> & <dbl> & <dbl> & <dbl> & <dbl>\\\\\n",
       "\\hline\n",
       "\t1 & E00004120 & 42.35669 & 6.2937063 & 1.893939 & 73.62637\\\\\n",
       "\t2 & E00004121 & 47.20000 & 5.9322034 & 2.688172 & 69.90291\\\\\n",
       "\t3 & E00004122 & 40.67797 & 2.9126214 & 1.212121 & 67.58242\\\\\n",
       "\t4 & E00004123 & 49.66216 & 0.9259259 & 2.803738 & 60.77586\\\\\n",
       "\t5 & E00004124 & 51.13636 & 2.0000000 & 3.816794 & 65.98639\\\\\n",
       "\t6 & E00004125 & 41.41791 & 3.9325843 & 3.846154 & 74.20635\\\\\n",
       "\\end{tabular}\n"
      ],
      "text/markdown": [
       "\n",
       "A data.frame: 6 × 5\n",
       "\n",
       "| <!--/--> | OA &lt;chr&gt; | White_British &lt;dbl&gt; | Low_Occupancy &lt;dbl&gt; | Unemployed &lt;dbl&gt; | Qualification &lt;dbl&gt; |\n",
       "|---|---|---|---|---|---|\n",
       "| 1 | E00004120 | 42.35669 | 6.2937063 | 1.893939 | 73.62637 |\n",
       "| 2 | E00004121 | 47.20000 | 5.9322034 | 2.688172 | 69.90291 |\n",
       "| 3 | E00004122 | 40.67797 | 2.9126214 | 1.212121 | 67.58242 |\n",
       "| 4 | E00004123 | 49.66216 | 0.9259259 | 2.803738 | 60.77586 |\n",
       "| 5 | E00004124 | 51.13636 | 2.0000000 | 3.816794 | 65.98639 |\n",
       "| 6 | E00004125 | 41.41791 | 3.9325843 | 3.846154 | 74.20635 |\n",
       "\n"
      ],
      "text/plain": [
       "  OA        White_British Low_Occupancy Unemployed Qualification\n",
       "1 E00004120 42.35669      6.2937063     1.893939   73.62637     \n",
       "2 E00004121 47.20000      5.9322034     2.688172   69.90291     \n",
       "3 E00004122 40.67797      2.9126214     1.212121   67.58242     \n",
       "4 E00004123 49.66216      0.9259259     2.803738   60.77586     \n",
       "5 E00004124 51.13636      2.0000000     3.816794   65.98639     \n",
       "6 E00004125 41.41791      3.9325843     3.846154   74.20635     "
      ]
     },
     "metadata": {},
     "output_type": "display_data"
    }
   ],
   "source": [
    "# 导入数据集\n",
    "data <- read.csv(url(\"http://bit.ly/infs5100_camden_data\"))\n",
    "head(data)"
   ]
  },
  {
   "cell_type": "code",
   "execution_count": 69,
   "id": "a9be81c2-0848-4612-a7e2-71caddd27530",
   "metadata": {
    "tags": []
   },
   "outputs": [
    {
     "data": {
      "text/plain": [
       "      OA            White_British    Low_Occupancy      Unemployed    \n",
       " Length:749         Min.   : 7.882   Min.   : 0.000   Min.   : 0.000  \n",
       " Class :character   1st Qu.:35.915   1st Qu.: 6.015   1st Qu.: 2.500  \n",
       " Mode  :character   Median :44.541   Median :10.000   Median : 4.186  \n",
       "                    Mean   :44.832   Mean   :11.597   Mean   : 4.510  \n",
       "                    3rd Qu.:54.472   3rd Qu.:16.107   3rd Qu.: 6.158  \n",
       "                    Max.   :78.035   Max.   :64.286   Max.   :18.623  \n",
       " Qualification  \n",
       " Min.   :11.64  \n",
       " 1st Qu.:36.32  \n",
       " Median :55.10  \n",
       " Mean   :51.43  \n",
       " 3rd Qu.:66.23  \n",
       " Max.   :88.07  "
      ]
     },
     "metadata": {},
     "output_type": "display_data"
    }
   ],
   "source": [
    "# get summary\n",
    "summary(data)"
   ]
  },
  {
   "cell_type": "markdown",
   "id": "ef5f4e68-b49c-43f2-87ef-dc56a9d3897d",
   "metadata": {},
   "source": [
    "向其中加入一些missing values："
   ]
  },
  {
   "cell_type": "code",
   "execution_count": 70,
   "id": "42a7430e-8712-47fc-8359-e558d7881b57",
   "metadata": {
    "tags": []
   },
   "outputs": [
    {
     "name": "stderr",
     "output_type": "stream",
     "text": [
      "Warning message:\n",
      "\"package 'missForest' is in use and will not be installed\"\n"
     ]
    }
   ],
   "source": [
    "# load library\n",
    "install.packages(\"missForest\")\n",
    "library(missForest)"
   ]
  },
  {
   "cell_type": "code",
   "execution_count": 71,
   "id": "59e52a9f-d7ca-4805-bd32-5d103e83e27a",
   "metadata": {
    "tags": []
   },
   "outputs": [],
   "source": [
    "# 创建一个新的数据，名为 data.mis，其中有10%的missing values\n",
    "data.mis <- prodNA(data, noNA = 0.1)"
   ]
  },
  {
   "cell_type": "code",
   "execution_count": 72,
   "id": "ff6dfe0d-05d3-4af1-ad9c-f27881263358",
   "metadata": {
    "tags": []
   },
   "outputs": [
    {
     "data": {
      "text/plain": [
       "      OA            White_British    Low_Occupancy      Unemployed    \n",
       " Length:749         Min.   : 7.882   Min.   : 0.000   Min.   : 0.000  \n",
       " Class :character   1st Qu.:36.195   1st Qu.: 5.987   1st Qu.: 2.510  \n",
       " Mode  :character   Median :44.590   Median : 9.969   Median : 4.186  \n",
       "                    Mean   :44.895   Mean   :11.549   Mean   : 4.520  \n",
       "                    3rd Qu.:54.545   3rd Qu.:16.061   3rd Qu.: 6.116  \n",
       "                    Max.   :78.035   Max.   :64.286   Max.   :18.623  \n",
       "                    NA's   :77       NA's   :71       NA's   :72      \n",
       " Qualification  \n",
       " Min.   :11.64  \n",
       " 1st Qu.:36.43  \n",
       " Median :55.51  \n",
       " Mean   :51.45  \n",
       " 3rd Qu.:66.23  \n",
       " Max.   :88.07  \n",
       " NA's   :80     "
      ]
     },
     "metadata": {},
     "output_type": "display_data"
    }
   ],
   "source": [
    "# 查看一下这个新的数据的summary\n",
    "summary(data.mis)"
   ]
  },
  {
   "cell_type": "code",
   "execution_count": 73,
   "id": "6f085214-b287-49c8-b917-e16f7a501ba2",
   "metadata": {
    "tags": []
   },
   "outputs": [
    {
     "data": {
      "text/html": [
       "<table class=\"dataframe\">\n",
       "<caption>A data.frame: 6 × 4</caption>\n",
       "<thead>\n",
       "\t<tr><th></th><th scope=col>White_British</th><th scope=col>Low_Occupancy</th><th scope=col>Unemployed</th><th scope=col>Qualification</th></tr>\n",
       "\t<tr><th></th><th scope=col>&lt;dbl&gt;</th><th scope=col>&lt;dbl&gt;</th><th scope=col>&lt;dbl&gt;</th><th scope=col>&lt;dbl&gt;</th></tr>\n",
       "</thead>\n",
       "<tbody>\n",
       "\t<tr><th scope=row>1</th><td>42.35669</td><td>6.2937063</td><td>1.893939</td><td>73.62637</td></tr>\n",
       "\t<tr><th scope=row>2</th><td>47.20000</td><td>5.9322034</td><td>2.688172</td><td>69.90291</td></tr>\n",
       "\t<tr><th scope=row>3</th><td>40.67797</td><td>2.9126214</td><td>1.212121</td><td>67.58242</td></tr>\n",
       "\t<tr><th scope=row>4</th><td>49.66216</td><td>0.9259259</td><td>2.803738</td><td>60.77586</td></tr>\n",
       "\t<tr><th scope=row>5</th><td>51.13636</td><td>2.0000000</td><td>3.816794</td><td>      NA</td></tr>\n",
       "\t<tr><th scope=row>6</th><td>41.41791</td><td>3.9325843</td><td>3.846154</td><td>74.20635</td></tr>\n",
       "</tbody>\n",
       "</table>\n"
      ],
      "text/latex": [
       "A data.frame: 6 × 4\n",
       "\\begin{tabular}{r|llll}\n",
       "  & White\\_British & Low\\_Occupancy & Unemployed & Qualification\\\\\n",
       "  & <dbl> & <dbl> & <dbl> & <dbl>\\\\\n",
       "\\hline\n",
       "\t1 & 42.35669 & 6.2937063 & 1.893939 & 73.62637\\\\\n",
       "\t2 & 47.20000 & 5.9322034 & 2.688172 & 69.90291\\\\\n",
       "\t3 & 40.67797 & 2.9126214 & 1.212121 & 67.58242\\\\\n",
       "\t4 & 49.66216 & 0.9259259 & 2.803738 & 60.77586\\\\\n",
       "\t5 & 51.13636 & 2.0000000 & 3.816794 &       NA\\\\\n",
       "\t6 & 41.41791 & 3.9325843 & 3.846154 & 74.20635\\\\\n",
       "\\end{tabular}\n"
      ],
      "text/markdown": [
       "\n",
       "A data.frame: 6 × 4\n",
       "\n",
       "| <!--/--> | White_British &lt;dbl&gt; | Low_Occupancy &lt;dbl&gt; | Unemployed &lt;dbl&gt; | Qualification &lt;dbl&gt; |\n",
       "|---|---|---|---|---|\n",
       "| 1 | 42.35669 | 6.2937063 | 1.893939 | 73.62637 |\n",
       "| 2 | 47.20000 | 5.9322034 | 2.688172 | 69.90291 |\n",
       "| 3 | 40.67797 | 2.9126214 | 1.212121 | 67.58242 |\n",
       "| 4 | 49.66216 | 0.9259259 | 2.803738 | 60.77586 |\n",
       "| 5 | 51.13636 | 2.0000000 | 3.816794 |       NA |\n",
       "| 6 | 41.41791 | 3.9325843 | 3.846154 | 74.20635 |\n",
       "\n"
      ],
      "text/plain": [
       "  White_British Low_Occupancy Unemployed Qualification\n",
       "1 42.35669      6.2937063     1.893939   73.62637     \n",
       "2 47.20000      5.9322034     2.688172   69.90291     \n",
       "3 40.67797      2.9126214     1.212121   67.58242     \n",
       "4 49.66216      0.9259259     2.803738   60.77586     \n",
       "5 51.13636      2.0000000     3.816794         NA     \n",
       "6 41.41791      3.9325843     3.846154   74.20635     "
      ]
     },
     "metadata": {},
     "output_type": "display_data"
    }
   ],
   "source": [
    "# 首先移除categorical Variable\n",
    "data.mis <- subset(data.mis, select = -c(OA))\n",
    "head(data.mis)"
   ]
  },
  {
   "cell_type": "code",
   "execution_count": 74,
   "id": "cfadebc7-f51b-4026-a6cd-43b3b20b75f1",
   "metadata": {
    "tags": []
   },
   "outputs": [
    {
     "name": "stderr",
     "output_type": "stream",
     "text": [
      "Warning message:\n",
      "\"package 'mice' is in use and will not be installed\"\n"
     ]
    }
   ],
   "source": [
    "# load library\n",
    "install.packages(\"mice\")\n",
    "library(mice)"
   ]
  },
  {
   "cell_type": "code",
   "execution_count": 75,
   "id": "6c85d925-26ef-4489-b726-23192811b7d9",
   "metadata": {
    "tags": []
   },
   "outputs": [
    {
     "data": {
      "text/html": [
       "<table class=\"dataframe\">\n",
       "<caption>A matrix: 15 × 5 of type dbl</caption>\n",
       "<thead>\n",
       "\t<tr><th></th><th scope=col>Low_Occupancy</th><th scope=col>Unemployed</th><th scope=col>White_British</th><th scope=col>Qualification</th><th scope=col></th></tr>\n",
       "</thead>\n",
       "<tbody>\n",
       "\t<tr><th scope=row>498</th><td> 1</td><td> 1</td><td> 1</td><td> 1</td><td>  0</td></tr>\n",
       "\t<tr><th scope=row>54</th><td> 1</td><td> 1</td><td> 1</td><td> 0</td><td>  1</td></tr>\n",
       "\t<tr><th scope=row>59</th><td> 1</td><td> 1</td><td> 0</td><td> 1</td><td>  1</td></tr>\n",
       "\t<tr><th scope=row>6</th><td> 1</td><td> 1</td><td> 0</td><td> 0</td><td>  2</td></tr>\n",
       "\t<tr><th scope=row>46</th><td> 1</td><td> 0</td><td> 1</td><td> 1</td><td>  1</td></tr>\n",
       "\t<tr><th scope=row>10</th><td> 1</td><td> 0</td><td> 1</td><td> 0</td><td>  2</td></tr>\n",
       "\t<tr><th scope=row>5</th><td> 1</td><td> 0</td><td> 0</td><td> 1</td><td>  2</td></tr>\n",
       "\t<tr><th scope=row>48</th><td> 0</td><td> 1</td><td> 1</td><td> 1</td><td>  1</td></tr>\n",
       "\t<tr><th scope=row>7</th><td> 0</td><td> 1</td><td> 1</td><td> 0</td><td>  2</td></tr>\n",
       "\t<tr><th scope=row>4</th><td> 0</td><td> 1</td><td> 0</td><td> 1</td><td>  2</td></tr>\n",
       "\t<tr><th scope=row>1</th><td> 0</td><td> 1</td><td> 0</td><td> 0</td><td>  3</td></tr>\n",
       "\t<tr><th scope=row>7</th><td> 0</td><td> 0</td><td> 1</td><td> 1</td><td>  2</td></tr>\n",
       "\t<tr><th scope=row>2</th><td> 0</td><td> 0</td><td> 1</td><td> 0</td><td>  3</td></tr>\n",
       "\t<tr><th scope=row>2</th><td> 0</td><td> 0</td><td> 0</td><td> 1</td><td>  3</td></tr>\n",
       "\t<tr><th scope=row></th><td>71</td><td>72</td><td>77</td><td>80</td><td>300</td></tr>\n",
       "</tbody>\n",
       "</table>\n"
      ],
      "text/latex": [
       "A matrix: 15 × 5 of type dbl\n",
       "\\begin{tabular}{r|lllll}\n",
       "  & Low\\_Occupancy & Unemployed & White\\_British & Qualification & \\\\\n",
       "\\hline\n",
       "\t498 &  1 &  1 &  1 &  1 &   0\\\\\n",
       "\t54 &  1 &  1 &  1 &  0 &   1\\\\\n",
       "\t59 &  1 &  1 &  0 &  1 &   1\\\\\n",
       "\t6 &  1 &  1 &  0 &  0 &   2\\\\\n",
       "\t46 &  1 &  0 &  1 &  1 &   1\\\\\n",
       "\t10 &  1 &  0 &  1 &  0 &   2\\\\\n",
       "\t5 &  1 &  0 &  0 &  1 &   2\\\\\n",
       "\t48 &  0 &  1 &  1 &  1 &   1\\\\\n",
       "\t7 &  0 &  1 &  1 &  0 &   2\\\\\n",
       "\t4 &  0 &  1 &  0 &  1 &   2\\\\\n",
       "\t1 &  0 &  1 &  0 &  0 &   3\\\\\n",
       "\t7 &  0 &  0 &  1 &  1 &   2\\\\\n",
       "\t2 &  0 &  0 &  1 &  0 &   3\\\\\n",
       "\t2 &  0 &  0 &  0 &  1 &   3\\\\\n",
       "\t & 71 & 72 & 77 & 80 & 300\\\\\n",
       "\\end{tabular}\n"
      ],
      "text/markdown": [
       "\n",
       "A matrix: 15 × 5 of type dbl\n",
       "\n",
       "| <!--/--> | Low_Occupancy | Unemployed | White_British | Qualification | <!----> |\n",
       "|---|---|---|---|---|---|\n",
       "| 498 |  1 |  1 |  1 |  1 |   0 |\n",
       "| 54 |  1 |  1 |  1 |  0 |   1 |\n",
       "| 59 |  1 |  1 |  0 |  1 |   1 |\n",
       "| 6 |  1 |  1 |  0 |  0 |   2 |\n",
       "| 46 |  1 |  0 |  1 |  1 |   1 |\n",
       "| 10 |  1 |  0 |  1 |  0 |   2 |\n",
       "| 5 |  1 |  0 |  0 |  1 |   2 |\n",
       "| 48 |  0 |  1 |  1 |  1 |   1 |\n",
       "| 7 |  0 |  1 |  1 |  0 |   2 |\n",
       "| 4 |  0 |  1 |  0 |  1 |   2 |\n",
       "| 1 |  0 |  1 |  0 |  0 |   3 |\n",
       "| 7 |  0 |  0 |  1 |  1 |   2 |\n",
       "| 2 |  0 |  0 |  1 |  0 |   3 |\n",
       "| 2 |  0 |  0 |  0 |  1 |   3 |\n",
       "| <!----> | 71 | 72 | 77 | 80 | 300 |\n",
       "\n"
      ],
      "text/plain": [
       "    Low_Occupancy Unemployed White_British Qualification    \n",
       "498  1             1          1             1              0\n",
       "54   1             1          1             0              1\n",
       "59   1             1          0             1              1\n",
       "6    1             1          0             0              2\n",
       "46   1             0          1             1              1\n",
       "10   1             0          1             0              2\n",
       "5    1             0          0             1              2\n",
       "48   0             1          1             1              1\n",
       "7    0             1          1             0              2\n",
       "4    0             1          0             1              2\n",
       "1    0             1          0             0              3\n",
       "7    0             0          1             1              2\n",
       "2    0             0          1             0              3\n",
       "2    0             0          0             1              3\n",
       "    71            72         77            80            300"
      ]
     },
     "metadata": {},
     "output_type": "display_data"
    },
    {
     "data": {
      "image/png": "[encoded data removed]",
      "text/plain": [
       "plot without title"
      ]
     },
     "metadata": {
      "image/png": {
       "height": 420,
       "width": 420
      }
     },
     "output_type": "display_data"
    }
   ],
   "source": [
    "# Explore missing values\n",
    "md.pattern(data.mis, rotate.names = TRUE)"
   ]
  },
  {
   "cell_type": "code",
   "execution_count": 76,
   "id": "9cc836b8-ae79-4420-9b78-3901e326f7f2",
   "metadata": {
    "tags": []
   },
   "outputs": [
    {
     "name": "stderr",
     "output_type": "stream",
     "text": [
      "Warning message:\n",
      "\"package 'VIM' is in use and will not be installed\"\n"
     ]
    }
   ],
   "source": [
    "install.packages(\"VIM\")\n",
    "library(\"VIM\")"
   ]
  },
  {
   "cell_type": "code",
   "execution_count": 77,
   "id": "0f1ed20a-27ae-4007-a4e7-3d4f11be937d",
   "metadata": {
    "tags": []
   },
   "outputs": [
    {
     "name": "stdout",
     "output_type": "stream",
     "text": [
      "\n",
      " Variables sorted by number of missings: \n",
      "      Variable      Count\n",
      " Qualification 0.10680908\n",
      " White_British 0.10280374\n",
      "    Unemployed 0.09612817\n",
      " Low_Occupancy 0.09479306\n"
     ]
    },
    {
     "data": {
      "image/png": "[encoded data removed]",
      "text/plain": [
       "plot without title"
      ]
     },
     "metadata": {
      "image/png": {
       "height": 420,
       "width": 420
      }
     },
     "output_type": "display_data"
    }
   ],
   "source": [
    "missing.plot <- aggr(data.mis, col=c(\"navyblue\", \"yellow\"),\n",
    "numbers = TRUE, sortVars = TRUE,\n",
    "lables=names(data.mis), cex.axis=.6,\n",
    "gap=3, ylab=c(\"Missing data\", \"Pattern\"))"
   ]
  },
  {
   "cell_type": "code",
   "execution_count": 78,
   "id": "54615506-9017-4c6d-91c1-ae89164f4b12",
   "metadata": {
    "tags": []
   },
   "outputs": [
    {
     "name": "stdout",
     "output_type": "stream",
     "text": [
      "\n",
      " iter imp variable\n",
      "  1   1  White_British  Low_Occupancy  Unemployed  Qualification\n",
      "  1   2  White_British  Low_Occupancy  Unemployed  Qualification\n",
      "  1   3  White_British  Low_Occupancy  Unemployed  Qualification\n",
      "  2   1  White_British  Low_Occupancy  Unemployed  Qualification\n",
      "  2   2  White_British  Low_Occupancy  Unemployed  Qualification\n",
      "  2   3  White_British  Low_Occupancy  Unemployed  Qualification\n",
      "  3   1  White_British  Low_Occupancy  Unemployed  Qualification\n",
      "  3   2  White_British  Low_Occupancy  Unemployed  Qualification\n",
      "  3   3  White_British  Low_Occupancy  Unemployed  Qualification\n",
      "  4   1  White_British  Low_Occupancy  Unemployed  Qualification\n",
      "  4   2  White_British  Low_Occupancy  Unemployed  Qualification\n",
      "  4   3  White_British  Low_Occupancy  Unemployed  Qualification\n",
      "  5   1  White_British  Low_Occupancy  Unemployed  Qualification\n",
      "  5   2  White_British  Low_Occupancy  Unemployed  Qualification\n",
      "  5   3  White_British  Low_Occupancy  Unemployed  Qualification\n",
      "  6   1  White_British  Low_Occupancy  Unemployed  Qualification\n",
      "  6   2  White_British  Low_Occupancy  Unemployed  Qualification\n",
      "  6   3  White_British  Low_Occupancy  Unemployed  Qualification\n",
      "  7   1  White_British  Low_Occupancy  Unemployed  Qualification\n",
      "  7   2  White_British  Low_Occupancy  Unemployed  Qualification\n",
      "  7   3  White_British  Low_Occupancy  Unemployed  Qualification\n",
      "  8   1  White_British  Low_Occupancy  Unemployed  Qualification\n",
      "  8   2  White_British  Low_Occupancy  Unemployed  Qualification\n",
      "  8   3  White_British  Low_Occupancy  Unemployed  Qualification\n",
      "  9   1  White_British  Low_Occupancy  Unemployed  Qualification\n",
      "  9   2  White_British  Low_Occupancy  Unemployed  Qualification\n",
      "  9   3  White_British  Low_Occupancy  Unemployed  Qualification\n",
      "  10   1  White_British  Low_Occupancy  Unemployed  Qualification\n",
      "  10   2  White_British  Low_Occupancy  Unemployed  Qualification\n",
      "  10   3  White_British  Low_Occupancy  Unemployed  Qualification\n",
      "  11   1  White_British  Low_Occupancy  Unemployed  Qualification\n",
      "  11   2  White_British  Low_Occupancy  Unemployed  Qualification\n",
      "  11   3  White_British  Low_Occupancy  Unemployed  Qualification\n",
      "  12   1  White_British  Low_Occupancy  Unemployed  Qualification\n",
      "  12   2  White_British  Low_Occupancy  Unemployed  Qualification\n",
      "  12   3  White_British  Low_Occupancy  Unemployed  Qualification\n",
      "  13   1  White_British  Low_Occupancy  Unemployed  Qualification\n",
      "  13   2  White_British  Low_Occupancy  Unemployed  Qualification\n",
      "  13   3  White_British  Low_Occupancy  Unemployed  Qualification\n",
      "  14   1  White_British  Low_Occupancy  Unemployed  Qualification\n",
      "  14   2  White_British  Low_Occupancy  Unemployed  Qualification\n",
      "  14   3  White_British  Low_Occupancy  Unemployed  Qualification\n",
      "  15   1  White_British  Low_Occupancy  Unemployed  Qualification\n",
      "  15   2  White_British  Low_Occupancy  Unemployed  Qualification\n",
      "  15   3  White_British  Low_Occupancy  Unemployed  Qualification\n",
      "  16   1  White_British  Low_Occupancy  Unemployed  Qualification\n",
      "  16   2  White_British  Low_Occupancy  Unemployed  Qualification\n",
      "  16   3  White_British  Low_Occupancy  Unemployed  Qualification\n",
      "  17   1  White_British  Low_Occupancy  Unemployed  Qualification\n",
      "  17   2  White_British  Low_Occupancy  Unemployed  Qualification\n",
      "  17   3  White_British  Low_Occupancy  Unemployed  Qualification\n",
      "  18   1  White_British  Low_Occupancy  Unemployed  Qualification\n",
      "  18   2  White_British  Low_Occupancy  Unemployed  Qualification\n",
      "  18   3  White_British  Low_Occupancy  Unemployed  Qualification\n",
      "  19   1  White_British  Low_Occupancy  Unemployed  Qualification\n",
      "  19   2  White_British  Low_Occupancy  Unemployed  Qualification\n",
      "  19   3  White_British  Low_Occupancy  Unemployed  Qualification\n",
      "  20   1  White_British  Low_Occupancy  Unemployed  Qualification\n",
      "  20   2  White_British  Low_Occupancy  Unemployed  Qualification\n",
      "  20   3  White_British  Low_Occupancy  Unemployed  Qualification\n",
      "  21   1  White_British  Low_Occupancy  Unemployed  Qualification\n",
      "  21   2  White_British  Low_Occupancy  Unemployed  Qualification\n",
      "  21   3  White_British  Low_Occupancy  Unemployed  Qualification\n",
      "  22   1  White_British  Low_Occupancy  Unemployed  Qualification\n",
      "  22   2  White_British  Low_Occupancy  Unemployed  Qualification\n",
      "  22   3  White_British  Low_Occupancy  Unemployed  Qualification\n",
      "  23   1  White_British  Low_Occupancy  Unemployed  Qualification\n",
      "  23   2  White_British  Low_Occupancy  Unemployed  Qualification\n",
      "  23   3  White_British  Low_Occupancy  Unemployed  Qualification\n",
      "  24   1  White_British  Low_Occupancy  Unemployed  Qualification\n",
      "  24   2  White_British  Low_Occupancy  Unemployed  Qualification\n",
      "  24   3  White_British  Low_Occupancy  Unemployed  Qualification\n",
      "  25   1  White_British  Low_Occupancy  Unemployed  Qualification\n",
      "  25   2  White_British  Low_Occupancy  Unemployed  Qualification\n",
      "  25   3  White_British  Low_Occupancy  Unemployed  Qualification\n",
      "  26   1  White_British  Low_Occupancy  Unemployed  Qualification\n",
      "  26   2  White_British  Low_Occupancy  Unemployed  Qualification\n",
      "  26   3  White_British  Low_Occupancy  Unemployed  Qualification\n",
      "  27   1  White_British  Low_Occupancy  Unemployed  Qualification\n",
      "  27   2  White_British  Low_Occupancy  Unemployed  Qualification\n",
      "  27   3  White_British  Low_Occupancy  Unemployed  Qualification\n",
      "  28   1  White_British  Low_Occupancy  Unemployed  Qualification\n",
      "  28   2  White_British  Low_Occupancy  Unemployed  Qualification\n",
      "  28   3  White_British  Low_Occupancy  Unemployed  Qualification\n",
      "  29   1  White_British  Low_Occupancy  Unemployed  Qualification\n",
      "  29   2  White_British  Low_Occupancy  Unemployed  Qualification\n",
      "  29   3  White_British  Low_Occupancy  Unemployed  Qualification\n",
      "  30   1  White_British  Low_Occupancy  Unemployed  Qualification\n",
      "  30   2  White_British  Low_Occupancy  Unemployed  Qualification\n",
      "  30   3  White_British  Low_Occupancy  Unemployed  Qualification\n",
      "  31   1  White_British  Low_Occupancy  Unemployed  Qualification\n",
      "  31   2  White_British  Low_Occupancy  Unemployed  Qualification\n",
      "  31   3  White_British  Low_Occupancy  Unemployed  Qualification\n",
      "  32   1  White_British  Low_Occupancy  Unemployed  Qualification\n",
      "  32   2  White_British  Low_Occupancy  Unemployed  Qualification\n",
      "  32   3  White_British  Low_Occupancy  Unemployed  Qualification\n",
      "  33   1  White_British  Low_Occupancy  Unemployed  Qualification\n",
      "  33   2  White_British  Low_Occupancy  Unemployed  Qualification\n",
      "  33   3  White_British  Low_Occupancy  Unemployed  Qualification\n",
      "  34   1  White_British  Low_Occupancy  Unemployed  Qualification\n",
      "  34   2  White_British  Low_Occupancy  Unemployed  Qualification\n",
      "  34   3  White_British  Low_Occupancy  Unemployed  Qualification\n",
      "  35   1  White_British  Low_Occupancy  Unemployed  Qualification\n",
      "  35   2  White_British  Low_Occupancy  Unemployed  Qualification\n",
      "  35   3  White_British  Low_Occupancy  Unemployed  Qualification\n",
      "  36   1  White_British  Low_Occupancy  Unemployed  Qualification\n",
      "  36   2  White_British  Low_Occupancy  Unemployed  Qualification\n",
      "  36   3  White_British  Low_Occupancy  Unemployed  Qualification\n",
      "  37   1  White_British  Low_Occupancy  Unemployed  Qualification\n",
      "  37   2  White_British  Low_Occupancy  Unemployed  Qualification\n",
      "  37   3  White_British  Low_Occupancy  Unemployed  Qualification\n",
      "  38   1  White_British  Low_Occupancy  Unemployed  Qualification\n",
      "  38   2  White_British  Low_Occupancy  Unemployed  Qualification\n",
      "  38   3  White_British  Low_Occupancy  Unemployed  Qualification\n",
      "  39   1  White_British  Low_Occupancy  Unemployed  Qualification\n",
      "  39   2  White_British  Low_Occupancy  Unemployed  Qualification\n",
      "  39   3  White_British  Low_Occupancy  Unemployed  Qualification\n",
      "  40   1  White_British  Low_Occupancy  Unemployed  Qualification\n",
      "  40   2  White_British  Low_Occupancy  Unemployed  Qualification\n",
      "  40   3  White_British  Low_Occupancy  Unemployed  Qualification\n",
      "  41   1  White_British  Low_Occupancy  Unemployed  Qualification\n",
      "  41   2  White_British  Low_Occupancy  Unemployed  Qualification\n",
      "  41   3  White_British  Low_Occupancy  Unemployed  Qualification\n",
      "  42   1  White_British  Low_Occupancy  Unemployed  Qualification\n",
      "  42   2  White_British  Low_Occupancy  Unemployed  Qualification\n",
      "  42   3  White_British  Low_Occupancy  Unemployed  Qualification\n",
      "  43   1  White_British  Low_Occupancy  Unemployed  Qualification\n",
      "  43   2  White_British  Low_Occupancy  Unemployed  Qualification\n",
      "  43   3  White_British  Low_Occupancy  Unemployed  Qualification\n",
      "  44   1  White_British  Low_Occupancy  Unemployed  Qualification\n",
      "  44   2  White_British  Low_Occupancy  Unemployed  Qualification\n",
      "  44   3  White_British  Low_Occupancy  Unemployed  Qualification\n",
      "  45   1  White_British  Low_Occupancy  Unemployed  Qualification\n",
      "  45   2  White_British  Low_Occupancy  Unemployed  Qualification\n",
      "  45   3  White_British  Low_Occupancy  Unemployed  Qualification\n",
      "  46   1  White_British  Low_Occupancy  Unemployed  Qualification\n",
      "  46   2  White_British  Low_Occupancy  Unemployed  Qualification\n",
      "  46   3  White_British  Low_Occupancy  Unemployed  Qualification\n",
      "  47   1  White_British  Low_Occupancy  Unemployed  Qualification\n",
      "  47   2  White_British  Low_Occupancy  Unemployed  Qualification\n",
      "  47   3  White_British  Low_Occupancy  Unemployed  Qualification\n",
      "  48   1  White_British  Low_Occupancy  Unemployed  Qualification\n",
      "  48   2  White_British  Low_Occupancy  Unemployed  Qualification\n",
      "  48   3  White_British  Low_Occupancy  Unemployed  Qualification\n",
      "  49   1  White_British  Low_Occupancy  Unemployed  Qualification\n",
      "  49   2  White_British  Low_Occupancy  Unemployed  Qualification\n",
      "  49   3  White_British  Low_Occupancy  Unemployed  Qualification\n",
      "  50   1  White_British  Low_Occupancy  Unemployed  Qualification\n",
      "  50   2  White_British  Low_Occupancy  Unemployed  Qualification\n",
      "  50   3  White_British  Low_Occupancy  Unemployed  Qualification\n",
      "Class: mids\n",
      "Number of multiple imputations:  3 \n",
      "Imputation methods:\n",
      "White_British Low_Occupancy    Unemployed Qualification \n",
      "        \"pmm\"         \"pmm\"         \"pmm\"         \"pmm\" \n",
      "PredictorMatrix:\n",
      "              White_British Low_Occupancy Unemployed Qualification\n",
      "White_British             0             1          1             1\n",
      "Low_Occupancy             1             0          1             1\n",
      "Unemployed                1             1          0             1\n",
      "Qualification             1             1          1             0\n"
     ]
    }
   ],
   "source": [
    "# impute 这些 missing values\n",
    "data.imputed <- mice(data.mis, m = 3, maxit = 50, method = 'pmm',\n",
    "                    seed = 500)\n",
    "\n",
    "summary(data.imputed)"
   ]
  },
  {
   "cell_type": "markdown",
   "id": "65cd3017-91f0-4406-9422-d23707754a89",
   "metadata": {},
   "source": [
    "这是对参数的讲解：\n",
    "\n",
    "1. data.mis：这是包含缺失值的原始数据集。\n",
    "2. m：指定进行多重插补的次数（imputations）。在这种情况下，设置为3意味着将进行3次插补。\n",
    "3. maxit：指定每个插补迭代的最大迭代次数。这是一个控制收敛性的参数，当达到最大迭代次数时，迭代过程将停止。\n",
    "4. method：指定用于插补缺失值的方法。在这里，选择了'pmm'，它表示使用预测匹配方法（predictive mean matching）进行插补。预测匹配方法通过从观测到的非缺失值中选择一个最相似的值来估计缺失值。\n",
    "5. seed：设置随机种子，以确保结果的可重复性。通过设置相同的种子，可以获得相同的插补结果。"
   ]
  },
  {
   "cell_type": "code",
   "execution_count": 79,
   "id": "a09e2749-94d8-4e8c-b787-a8c9f20213fb",
   "metadata": {
    "tags": []
   },
   "outputs": [
    {
     "data": {
      "text/html": [
       "<table class=\"dataframe\">\n",
       "<caption>A data.frame: 72 × 3</caption>\n",
       "<thead>\n",
       "\t<tr><th></th><th scope=col>1</th><th scope=col>2</th><th scope=col>3</th></tr>\n",
       "\t<tr><th></th><th scope=col>&lt;dbl&gt;</th><th scope=col>&lt;dbl&gt;</th><th scope=col>&lt;dbl&gt;</th></tr>\n",
       "</thead>\n",
       "<tbody>\n",
       "\t<tr><th scope=row>24</th><td>4.7872340</td><td>1.1278195</td><td>0.0000000</td></tr>\n",
       "\t<tr><th scope=row>26</th><td>0.9090909</td><td>1.5564202</td><td>3.0864198</td></tr>\n",
       "\t<tr><th scope=row>36</th><td>0.9523810</td><td>1.0204082</td><td>2.8985507</td></tr>\n",
       "\t<tr><th scope=row>59</th><td>6.1170213</td><td>4.5751634</td><td>3.5190616</td></tr>\n",
       "\t<tr><th scope=row>83</th><td>4.6979866</td><td>3.8626609</td><td>3.2863850</td></tr>\n",
       "\t<tr><th scope=row>91</th><td>2.4630542</td><td>4.1666667</td><td>6.0498221</td></tr>\n",
       "\t<tr><th scope=row>92</th><td>3.9568345</td><td>5.2631579</td><td>3.7735849</td></tr>\n",
       "\t<tr><th scope=row>104</th><td>3.6496350</td><td>5.4607509</td><td>3.8626609</td></tr>\n",
       "\t<tr><th scope=row>154</th><td>1.5544041</td><td>2.4154589</td><td>4.2168675</td></tr>\n",
       "\t<tr><th scope=row>155</th><td>3.4482759</td><td>3.8461538</td><td>0.9389671</td></tr>\n",
       "\t<tr><th scope=row>164</th><td>3.5242291</td><td>7.3891626</td><td>8.6956522</td></tr>\n",
       "\t<tr><th scope=row>171</th><td>4.2553191</td><td>6.5088757</td><td>6.3829787</td></tr>\n",
       "\t<tr><th scope=row>173</th><td>1.6638935</td><td>4.8484848</td><td>5.5776892</td></tr>\n",
       "\t<tr><th scope=row>188</th><td>6.7164179</td><td>3.8674033</td><td>1.4084507</td></tr>\n",
       "\t<tr><th scope=row>189</th><td>4.9844237</td><td>2.8985507</td><td>5.1401869</td></tr>\n",
       "\t<tr><th scope=row>192</th><td>2.4822695</td><td>2.0100503</td><td>5.9090909</td></tr>\n",
       "\t<tr><th scope=row>205</th><td>4.0247678</td><td>2.8662420</td><td>0.4201681</td></tr>\n",
       "\t<tr><th scope=row>222</th><td>1.5625000</td><td>3.6144578</td><td>5.0000000</td></tr>\n",
       "\t<tr><th scope=row>231</th><td>3.9080460</td><td>5.6768559</td><td>4.0909091</td></tr>\n",
       "\t<tr><th scope=row>232</th><td>1.6483516</td><td>2.5125628</td><td>2.1008403</td></tr>\n",
       "\t<tr><th scope=row>235</th><td>7.1428571</td><td>7.4074074</td><td>6.3559322</td></tr>\n",
       "\t<tr><th scope=row>238</th><td>2.1739130</td><td>2.6785714</td><td>4.7101449</td></tr>\n",
       "\t<tr><th scope=row>242</th><td>4.0955631</td><td>4.1580042</td><td>6.5743945</td></tr>\n",
       "\t<tr><th scope=row>245</th><td>1.5037594</td><td>2.0560748</td><td>3.9812646</td></tr>\n",
       "\t<tr><th scope=row>268</th><td>2.6086957</td><td>0.3533569</td><td>2.1390374</td></tr>\n",
       "\t<tr><th scope=row>285</th><td>2.2026432</td><td>3.8461538</td><td>4.6218487</td></tr>\n",
       "\t<tr><th scope=row>287</th><td>3.3175355</td><td>4.3750000</td><td>2.7842227</td></tr>\n",
       "\t<tr><th scope=row>288</th><td>2.9197080</td><td>4.0485830</td><td>3.4090909</td></tr>\n",
       "\t<tr><th scope=row>291</th><td>0.4329004</td><td>4.2253521</td><td>2.0833333</td></tr>\n",
       "\t<tr><th scope=row>297</th><td>4.2452830</td><td>0.6666667</td><td>2.0512821</td></tr>\n",
       "\t<tr><th scope=row>⋮</th><td>⋮</td><td>⋮</td><td>⋮</td></tr>\n",
       "\t<tr><th scope=row>417</th><td> 2.3923445</td><td> 3.351955</td><td> 3.3195021</td></tr>\n",
       "\t<tr><th scope=row>450</th><td> 2.0100503</td><td> 5.357143</td><td> 5.5776892</td></tr>\n",
       "\t<tr><th scope=row>474</th><td> 7.1005917</td><td> 7.476636</td><td> 7.6923077</td></tr>\n",
       "\t<tr><th scope=row>479</th><td> 5.2631579</td><td> 2.777778</td><td> 5.2044610</td></tr>\n",
       "\t<tr><th scope=row>485</th><td> 3.5000000</td><td> 2.127660</td><td> 5.9090909</td></tr>\n",
       "\t<tr><th scope=row>489</th><td> 6.4516129</td><td> 2.608696</td><td> 4.2253521</td></tr>\n",
       "\t<tr><th scope=row>491</th><td> 2.1929825</td><td> 2.205882</td><td> 2.4822695</td></tr>\n",
       "\t<tr><th scope=row>501</th><td> 5.7777778</td><td> 8.333333</td><td> 6.8292683</td></tr>\n",
       "\t<tr><th scope=row>511</th><td> 6.9444444</td><td> 8.936170</td><td> 8.8000000</td></tr>\n",
       "\t<tr><th scope=row>523</th><td> 8.3720930</td><td> 5.228758</td><td> 3.0612245</td></tr>\n",
       "\t<tr><th scope=row>527</th><td> 5.5299539</td><td> 5.050505</td><td> 7.3593074</td></tr>\n",
       "\t<tr><th scope=row>541</th><td> 6.3025210</td><td> 4.761905</td><td> 9.8214286</td></tr>\n",
       "\t<tr><th scope=row>545</th><td> 7.9470199</td><td> 6.985294</td><td> 6.1904762</td></tr>\n",
       "\t<tr><th scope=row>555</th><td> 4.2216359</td><td>10.266160</td><td> 7.8341014</td></tr>\n",
       "\t<tr><th scope=row>565</th><td>14.7540984</td><td> 6.217617</td><td> 7.3170732</td></tr>\n",
       "\t<tr><th scope=row>567</th><td> 4.6762590</td><td> 0.000000</td><td> 4.2424242</td></tr>\n",
       "\t<tr><th scope=row>571</th><td> 4.3750000</td><td> 4.195804</td><td> 1.5789474</td></tr>\n",
       "\t<tr><th scope=row>576</th><td> 2.8985507</td><td> 4.188482</td><td> 4.3010753</td></tr>\n",
       "\t<tr><th scope=row>578</th><td> 3.8167939</td><td> 1.984127</td><td> 1.2903226</td></tr>\n",
       "\t<tr><th scope=row>588</th><td> 6.8292683</td><td> 8.196721</td><td> 2.9220779</td></tr>\n",
       "\t<tr><th scope=row>595</th><td> 7.4468085</td><td> 8.653846</td><td> 9.8214286</td></tr>\n",
       "\t<tr><th scope=row>617</th><td> 5.2631579</td><td> 2.051282</td><td> 2.5882353</td></tr>\n",
       "\t<tr><th scope=row>620</th><td> 6.8825911</td><td> 4.385965</td><td>10.3960396</td></tr>\n",
       "\t<tr><th scope=row>635</th><td> 4.3902439</td><td> 3.500000</td><td> 2.5423729</td></tr>\n",
       "\t<tr><th scope=row>637</th><td> 2.0618557</td><td> 2.542373</td><td> 2.1739130</td></tr>\n",
       "\t<tr><th scope=row>698</th><td> 7.5117371</td><td> 6.217617</td><td> 4.4843049</td></tr>\n",
       "\t<tr><th scope=row>716</th><td> 3.7974684</td><td> 4.390244</td><td> 0.9389671</td></tr>\n",
       "\t<tr><th scope=row>727</th><td> 1.4925373</td><td> 2.538071</td><td> 1.7482517</td></tr>\n",
       "\t<tr><th scope=row>740</th><td> 0.5649718</td><td> 2.482270</td><td> 3.0120482</td></tr>\n",
       "\t<tr><th scope=row>749</th><td> 9.1803279</td><td> 3.686636</td><td> 2.2222222</td></tr>\n",
       "</tbody>\n",
       "</table>\n"
      ],
      "text/latex": [
       "A data.frame: 72 × 3\n",
       "\\begin{tabular}{r|lll}\n",
       "  & 1 & 2 & 3\\\\\n",
       "  & <dbl> & <dbl> & <dbl>\\\\\n",
       "\\hline\n",
       "\t24 & 4.7872340 & 1.1278195 & 0.0000000\\\\\n",
       "\t26 & 0.9090909 & 1.5564202 & 3.0864198\\\\\n",
       "\t36 & 0.9523810 & 1.0204082 & 2.8985507\\\\\n",
       "\t59 & 6.1170213 & 4.5751634 & 3.5190616\\\\\n",
       "\t83 & 4.6979866 & 3.8626609 & 3.2863850\\\\\n",
       "\t91 & 2.4630542 & 4.1666667 & 6.0498221\\\\\n",
       "\t92 & 3.9568345 & 5.2631579 & 3.7735849\\\\\n",
       "\t104 & 3.6496350 & 5.4607509 & 3.8626609\\\\\n",
       "\t154 & 1.5544041 & 2.4154589 & 4.2168675\\\\\n",
       "\t155 & 3.4482759 & 3.8461538 & 0.9389671\\\\\n",
       "\t164 & 3.5242291 & 7.3891626 & 8.6956522\\\\\n",
       "\t171 & 4.2553191 & 6.5088757 & 6.3829787\\\\\n",
       "\t173 & 1.6638935 & 4.8484848 & 5.5776892\\\\\n",
       "\t188 & 6.7164179 & 3.8674033 & 1.4084507\\\\\n",
       "\t189 & 4.9844237 & 2.8985507 & 5.1401869\\\\\n",
       "\t192 & 2.4822695 & 2.0100503 & 5.9090909\\\\\n",
       "\t205 & 4.0247678 & 2.8662420 & 0.4201681\\\\\n",
       "\t222 & 1.5625000 & 3.6144578 & 5.0000000\\\\\n",
       "\t231 & 3.9080460 & 5.6768559 & 4.0909091\\\\\n",
       "\t232 & 1.6483516 & 2.5125628 & 2.1008403\\\\\n",
       "\t235 & 7.1428571 & 7.4074074 & 6.3559322\\\\\n",
       "\t238 & 2.1739130 & 2.6785714 & 4.7101449\\\\\n",
       "\t242 & 4.0955631 & 4.1580042 & 6.5743945\\\\\n",
       "\t245 & 1.5037594 & 2.0560748 & 3.9812646\\\\\n",
       "\t268 & 2.6086957 & 0.3533569 & 2.1390374\\\\\n",
       "\t285 & 2.2026432 & 3.8461538 & 4.6218487\\\\\n",
       "\t287 & 3.3175355 & 4.3750000 & 2.7842227\\\\\n",
       "\t288 & 2.9197080 & 4.0485830 & 3.4090909\\\\\n",
       "\t291 & 0.4329004 & 4.2253521 & 2.0833333\\\\\n",
       "\t297 & 4.2452830 & 0.6666667 & 2.0512821\\\\\n",
       "\t⋮ & ⋮ & ⋮ & ⋮\\\\\n",
       "\t417 &  2.3923445 &  3.351955 &  3.3195021\\\\\n",
       "\t450 &  2.0100503 &  5.357143 &  5.5776892\\\\\n",
       "\t474 &  7.1005917 &  7.476636 &  7.6923077\\\\\n",
       "\t479 &  5.2631579 &  2.777778 &  5.2044610\\\\\n",
       "\t485 &  3.5000000 &  2.127660 &  5.9090909\\\\\n",
       "\t489 &  6.4516129 &  2.608696 &  4.2253521\\\\\n",
       "\t491 &  2.1929825 &  2.205882 &  2.4822695\\\\\n",
       "\t501 &  5.7777778 &  8.333333 &  6.8292683\\\\\n",
       "\t511 &  6.9444444 &  8.936170 &  8.8000000\\\\\n",
       "\t523 &  8.3720930 &  5.228758 &  3.0612245\\\\\n",
       "\t527 &  5.5299539 &  5.050505 &  7.3593074\\\\\n",
       "\t541 &  6.3025210 &  4.761905 &  9.8214286\\\\\n",
       "\t545 &  7.9470199 &  6.985294 &  6.1904762\\\\\n",
       "\t555 &  4.2216359 & 10.266160 &  7.8341014\\\\\n",
       "\t565 & 14.7540984 &  6.217617 &  7.3170732\\\\\n",
       "\t567 &  4.6762590 &  0.000000 &  4.2424242\\\\\n",
       "\t571 &  4.3750000 &  4.195804 &  1.5789474\\\\\n",
       "\t576 &  2.8985507 &  4.188482 &  4.3010753\\\\\n",
       "\t578 &  3.8167939 &  1.984127 &  1.2903226\\\\\n",
       "\t588 &  6.8292683 &  8.196721 &  2.9220779\\\\\n",
       "\t595 &  7.4468085 &  8.653846 &  9.8214286\\\\\n",
       "\t617 &  5.2631579 &  2.051282 &  2.5882353\\\\\n",
       "\t620 &  6.8825911 &  4.385965 & 10.3960396\\\\\n",
       "\t635 &  4.3902439 &  3.500000 &  2.5423729\\\\\n",
       "\t637 &  2.0618557 &  2.542373 &  2.1739130\\\\\n",
       "\t698 &  7.5117371 &  6.217617 &  4.4843049\\\\\n",
       "\t716 &  3.7974684 &  4.390244 &  0.9389671\\\\\n",
       "\t727 &  1.4925373 &  2.538071 &  1.7482517\\\\\n",
       "\t740 &  0.5649718 &  2.482270 &  3.0120482\\\\\n",
       "\t749 &  9.1803279 &  3.686636 &  2.2222222\\\\\n",
       "\\end{tabular}\n"
      ],
      "text/markdown": [
       "\n",
       "A data.frame: 72 × 3\n",
       "\n",
       "| <!--/--> | 1 &lt;dbl&gt; | 2 &lt;dbl&gt; | 3 &lt;dbl&gt; |\n",
       "|---|---|---|---|\n",
       "| 24 | 4.7872340 | 1.1278195 | 0.0000000 |\n",
       "| 26 | 0.9090909 | 1.5564202 | 3.0864198 |\n",
       "| 36 | 0.9523810 | 1.0204082 | 2.8985507 |\n",
       "| 59 | 6.1170213 | 4.5751634 | 3.5190616 |\n",
       "| 83 | 4.6979866 | 3.8626609 | 3.2863850 |\n",
       "| 91 | 2.4630542 | 4.1666667 | 6.0498221 |\n",
       "| 92 | 3.9568345 | 5.2631579 | 3.7735849 |\n",
       "| 104 | 3.6496350 | 5.4607509 | 3.8626609 |\n",
       "| 154 | 1.5544041 | 2.4154589 | 4.2168675 |\n",
       "| 155 | 3.4482759 | 3.8461538 | 0.9389671 |\n",
       "| 164 | 3.5242291 | 7.3891626 | 8.6956522 |\n",
       "| 171 | 4.2553191 | 6.5088757 | 6.3829787 |\n",
       "| 173 | 1.6638935 | 4.8484848 | 5.5776892 |\n",
       "| 188 | 6.7164179 | 3.8674033 | 1.4084507 |\n",
       "| 189 | 4.9844237 | 2.8985507 | 5.1401869 |\n",
       "| 192 | 2.4822695 | 2.0100503 | 5.9090909 |\n",
       "| 205 | 4.0247678 | 2.8662420 | 0.4201681 |\n",
       "| 222 | 1.5625000 | 3.6144578 | 5.0000000 |\n",
       "| 231 | 3.9080460 | 5.6768559 | 4.0909091 |\n",
       "| 232 | 1.6483516 | 2.5125628 | 2.1008403 |\n",
       "| 235 | 7.1428571 | 7.4074074 | 6.3559322 |\n",
       "| 238 | 2.1739130 | 2.6785714 | 4.7101449 |\n",
       "| 242 | 4.0955631 | 4.1580042 | 6.5743945 |\n",
       "| 245 | 1.5037594 | 2.0560748 | 3.9812646 |\n",
       "| 268 | 2.6086957 | 0.3533569 | 2.1390374 |\n",
       "| 285 | 2.2026432 | 3.8461538 | 4.6218487 |\n",
       "| 287 | 3.3175355 | 4.3750000 | 2.7842227 |\n",
       "| 288 | 2.9197080 | 4.0485830 | 3.4090909 |\n",
       "| 291 | 0.4329004 | 4.2253521 | 2.0833333 |\n",
       "| 297 | 4.2452830 | 0.6666667 | 2.0512821 |\n",
       "| ⋮ | ⋮ | ⋮ | ⋮ |\n",
       "| 417 |  2.3923445 |  3.351955 |  3.3195021 |\n",
       "| 450 |  2.0100503 |  5.357143 |  5.5776892 |\n",
       "| 474 |  7.1005917 |  7.476636 |  7.6923077 |\n",
       "| 479 |  5.2631579 |  2.777778 |  5.2044610 |\n",
       "| 485 |  3.5000000 |  2.127660 |  5.9090909 |\n",
       "| 489 |  6.4516129 |  2.608696 |  4.2253521 |\n",
       "| 491 |  2.1929825 |  2.205882 |  2.4822695 |\n",
       "| 501 |  5.7777778 |  8.333333 |  6.8292683 |\n",
       "| 511 |  6.9444444 |  8.936170 |  8.8000000 |\n",
       "| 523 |  8.3720930 |  5.228758 |  3.0612245 |\n",
       "| 527 |  5.5299539 |  5.050505 |  7.3593074 |\n",
       "| 541 |  6.3025210 |  4.761905 |  9.8214286 |\n",
       "| 545 |  7.9470199 |  6.985294 |  6.1904762 |\n",
       "| 555 |  4.2216359 | 10.266160 |  7.8341014 |\n",
       "| 565 | 14.7540984 |  6.217617 |  7.3170732 |\n",
       "| 567 |  4.6762590 |  0.000000 |  4.2424242 |\n",
       "| 571 |  4.3750000 |  4.195804 |  1.5789474 |\n",
       "| 576 |  2.8985507 |  4.188482 |  4.3010753 |\n",
       "| 578 |  3.8167939 |  1.984127 |  1.2903226 |\n",
       "| 588 |  6.8292683 |  8.196721 |  2.9220779 |\n",
       "| 595 |  7.4468085 |  8.653846 |  9.8214286 |\n",
       "| 617 |  5.2631579 |  2.051282 |  2.5882353 |\n",
       "| 620 |  6.8825911 |  4.385965 | 10.3960396 |\n",
       "| 635 |  4.3902439 |  3.500000 |  2.5423729 |\n",
       "| 637 |  2.0618557 |  2.542373 |  2.1739130 |\n",
       "| 698 |  7.5117371 |  6.217617 |  4.4843049 |\n",
       "| 716 |  3.7974684 |  4.390244 |  0.9389671 |\n",
       "| 727 |  1.4925373 |  2.538071 |  1.7482517 |\n",
       "| 740 |  0.5649718 |  2.482270 |  3.0120482 |\n",
       "| 749 |  9.1803279 |  3.686636 |  2.2222222 |\n",
       "\n"
      ],
      "text/plain": [
       "    1          2         3         \n",
       "24  4.7872340  1.1278195 0.0000000 \n",
       "26  0.9090909  1.5564202 3.0864198 \n",
       "36  0.9523810  1.0204082 2.8985507 \n",
       "59  6.1170213  4.5751634 3.5190616 \n",
       "83  4.6979866  3.8626609 3.2863850 \n",
       "91  2.4630542  4.1666667 6.0498221 \n",
       "92  3.9568345  5.2631579 3.7735849 \n",
       "104 3.6496350  5.4607509 3.8626609 \n",
       "154 1.5544041  2.4154589 4.2168675 \n",
       "155 3.4482759  3.8461538 0.9389671 \n",
       "164 3.5242291  7.3891626 8.6956522 \n",
       "171 4.2553191  6.5088757 6.3829787 \n",
       "173 1.6638935  4.8484848 5.5776892 \n",
       "188 6.7164179  3.8674033 1.4084507 \n",
       "189 4.9844237  2.8985507 5.1401869 \n",
       "192 2.4822695  2.0100503 5.9090909 \n",
       "205 4.0247678  2.8662420 0.4201681 \n",
       "222 1.5625000  3.6144578 5.0000000 \n",
       "231 3.9080460  5.6768559 4.0909091 \n",
       "232 1.6483516  2.5125628 2.1008403 \n",
       "235 7.1428571  7.4074074 6.3559322 \n",
       "238 2.1739130  2.6785714 4.7101449 \n",
       "242 4.0955631  4.1580042 6.5743945 \n",
       "245 1.5037594  2.0560748 3.9812646 \n",
       "268 2.6086957  0.3533569 2.1390374 \n",
       "285 2.2026432  3.8461538 4.6218487 \n",
       "287 3.3175355  4.3750000 2.7842227 \n",
       "288 2.9197080  4.0485830 3.4090909 \n",
       "291 0.4329004  4.2253521 2.0833333 \n",
       "297 4.2452830  0.6666667 2.0512821 \n",
       "⋮   ⋮          ⋮         ⋮         \n",
       "417  2.3923445  3.351955  3.3195021\n",
       "450  2.0100503  5.357143  5.5776892\n",
       "474  7.1005917  7.476636  7.6923077\n",
       "479  5.2631579  2.777778  5.2044610\n",
       "485  3.5000000  2.127660  5.9090909\n",
       "489  6.4516129  2.608696  4.2253521\n",
       "491  2.1929825  2.205882  2.4822695\n",
       "501  5.7777778  8.333333  6.8292683\n",
       "511  6.9444444  8.936170  8.8000000\n",
       "523  8.3720930  5.228758  3.0612245\n",
       "527  5.5299539  5.050505  7.3593074\n",
       "541  6.3025210  4.761905  9.8214286\n",
       "545  7.9470199  6.985294  6.1904762\n",
       "555  4.2216359 10.266160  7.8341014\n",
       "565 14.7540984  6.217617  7.3170732\n",
       "567  4.6762590  0.000000  4.2424242\n",
       "571  4.3750000  4.195804  1.5789474\n",
       "576  2.8985507  4.188482  4.3010753\n",
       "578  3.8167939  1.984127  1.2903226\n",
       "588  6.8292683  8.196721  2.9220779\n",
       "595  7.4468085  8.653846  9.8214286\n",
       "617  5.2631579  2.051282  2.5882353\n",
       "620  6.8825911  4.385965 10.3960396\n",
       "635  4.3902439  3.500000  2.5423729\n",
       "637  2.0618557  2.542373  2.1739130\n",
       "698  7.5117371  6.217617  4.4843049\n",
       "716  3.7974684  4.390244  0.9389671\n",
       "727  1.4925373  2.538071  1.7482517\n",
       "740  0.5649718  2.482270  3.0120482\n",
       "749  9.1803279  3.686636  2.2222222"
      ]
     },
     "metadata": {},
     "output_type": "display_data"
    }
   ],
   "source": [
    "# Explore imputed values\n",
    "data.imputed$imp$Unemployed"
   ]
  },
  {
   "cell_type": "code",
   "execution_count": 80,
   "id": "df7c2d26-e4d8-4b33-b847-7e7f3d4d9ba2",
   "metadata": {
    "tags": []
   },
   "outputs": [
    {
     "data": {
      "text/html": [
       "<table class=\"dataframe\">\n",
       "<caption>A data.frame: 6 × 4</caption>\n",
       "<thead>\n",
       "\t<tr><th></th><th scope=col>White_British</th><th scope=col>Low_Occupancy</th><th scope=col>Unemployed</th><th scope=col>Qualification</th></tr>\n",
       "\t<tr><th></th><th scope=col>&lt;dbl&gt;</th><th scope=col>&lt;dbl&gt;</th><th scope=col>&lt;dbl&gt;</th><th scope=col>&lt;dbl&gt;</th></tr>\n",
       "</thead>\n",
       "<tbody>\n",
       "\t<tr><th scope=row>1</th><td>42.35669</td><td>6.2937063</td><td>1.893939</td><td>73.62637</td></tr>\n",
       "\t<tr><th scope=row>2</th><td>47.20000</td><td>5.9322034</td><td>2.688172</td><td>69.90291</td></tr>\n",
       "\t<tr><th scope=row>3</th><td>40.67797</td><td>2.9126214</td><td>1.212121</td><td>67.58242</td></tr>\n",
       "\t<tr><th scope=row>4</th><td>49.66216</td><td>0.9259259</td><td>2.803738</td><td>60.77586</td></tr>\n",
       "\t<tr><th scope=row>5</th><td>51.13636</td><td>2.0000000</td><td>3.816794</td><td>72.32143</td></tr>\n",
       "\t<tr><th scope=row>6</th><td>41.41791</td><td>3.9325843</td><td>3.846154</td><td>74.20635</td></tr>\n",
       "</tbody>\n",
       "</table>\n"
      ],
      "text/latex": [
       "A data.frame: 6 × 4\n",
       "\\begin{tabular}{r|llll}\n",
       "  & White\\_British & Low\\_Occupancy & Unemployed & Qualification\\\\\n",
       "  & <dbl> & <dbl> & <dbl> & <dbl>\\\\\n",
       "\\hline\n",
       "\t1 & 42.35669 & 6.2937063 & 1.893939 & 73.62637\\\\\n",
       "\t2 & 47.20000 & 5.9322034 & 2.688172 & 69.90291\\\\\n",
       "\t3 & 40.67797 & 2.9126214 & 1.212121 & 67.58242\\\\\n",
       "\t4 & 49.66216 & 0.9259259 & 2.803738 & 60.77586\\\\\n",
       "\t5 & 51.13636 & 2.0000000 & 3.816794 & 72.32143\\\\\n",
       "\t6 & 41.41791 & 3.9325843 & 3.846154 & 74.20635\\\\\n",
       "\\end{tabular}\n"
      ],
      "text/markdown": [
       "\n",
       "A data.frame: 6 × 4\n",
       "\n",
       "| <!--/--> | White_British &lt;dbl&gt; | Low_Occupancy &lt;dbl&gt; | Unemployed &lt;dbl&gt; | Qualification &lt;dbl&gt; |\n",
       "|---|---|---|---|---|\n",
       "| 1 | 42.35669 | 6.2937063 | 1.893939 | 73.62637 |\n",
       "| 2 | 47.20000 | 5.9322034 | 2.688172 | 69.90291 |\n",
       "| 3 | 40.67797 | 2.9126214 | 1.212121 | 67.58242 |\n",
       "| 4 | 49.66216 | 0.9259259 | 2.803738 | 60.77586 |\n",
       "| 5 | 51.13636 | 2.0000000 | 3.816794 | 72.32143 |\n",
       "| 6 | 41.41791 | 3.9325843 | 3.846154 | 74.20635 |\n",
       "\n"
      ],
      "text/plain": [
       "  White_British Low_Occupancy Unemployed Qualification\n",
       "1 42.35669      6.2937063     1.893939   73.62637     \n",
       "2 47.20000      5.9322034     2.688172   69.90291     \n",
       "3 40.67797      2.9126214     1.212121   67.58242     \n",
       "4 49.66216      0.9259259     2.803738   60.77586     \n",
       "5 51.13636      2.0000000     3.816794   72.32143     \n",
       "6 41.41791      3.9325843     3.846154   74.20635     "
      ]
     },
     "metadata": {},
     "output_type": "display_data"
    }
   ],
   "source": [
    "# select second complete dataset\n",
    "data.complete <- complete(data.imputed, 2)\n",
    "head(data.complete)"
   ]
  },
  {
   "cell_type": "markdown",
   "id": "3245db55-643c-4261-82b7-0b687be1b9a8",
   "metadata": {},
   "source": [
    "# Feature Selection"
   ]
  },
  {
   "cell_type": "code",
   "execution_count": 81,
   "id": "300974f5-694e-4d0e-b6d8-cca92f05a85c",
   "metadata": {
    "tags": []
   },
   "outputs": [
    {
     "name": "stderr",
     "output_type": "stream",
     "text": [
      "Warning message:\n",
      "\"package 'mlr3' is in use and will not be installed\"\n"
     ]
    }
   ],
   "source": [
    "install.packages(\"mlr3\")"
   ]
  },
  {
   "cell_type": "code",
   "execution_count": 82,
   "id": "72444807-641e-4655-908c-9603ed334c09",
   "metadata": {
    "tags": []
   },
   "outputs": [
    {
     "name": "stderr",
     "output_type": "stream",
     "text": [
      "Warning message:\n",
      "\"package 'mlr3filters' is in use and will not be installed\"\n",
      "Warning message:\n",
      "\"package 'mlr3learners' is in use and will not be installed\"\n"
     ]
    }
   ],
   "source": [
    "install.packages(\"mlr3filters\")\n",
    "install.packages(\"mlr3learners\")"
   ]
  },
  {
   "cell_type": "code",
   "execution_count": 83,
   "id": "031b918e-d061-4b2d-a1c1-7a32d553bbc3",
   "metadata": {
    "tags": []
   },
   "outputs": [
    {
     "name": "stderr",
     "output_type": "stream",
     "text": [
      "Warning message:\n",
      "\"package 'FSelectorRcpp' is in use and will not be installed\"\n"
     ]
    }
   ],
   "source": [
    "install.packages(\"FSelectorRcpp\")"
   ]
  },
  {
   "cell_type": "code",
   "execution_count": 84,
   "id": "db42646a-5bd5-40f8-8dc9-fb344a5e5f46",
   "metadata": {
    "tags": []
   },
   "outputs": [],
   "source": [
    "set.seed(999)  # 将随机种子设置为999\n",
    "library(mlr3)\n",
    "library(mlr3filters)\n",
    "library(mlr3learners)\n",
    "library(FSelectorRcpp)"
   ]
  },
  {
   "cell_type": "code",
   "execution_count": 85,
   "id": "f446edfa-3786-4d4b-8436-9461331e1630",
   "metadata": {
    "tags": []
   },
   "outputs": [
    {
     "data": {
      "text/html": [
       "<table class=\"dataframe\">\n",
       "<caption>A data.table: 4 × 2</caption>\n",
       "<thead>\n",
       "\t<tr><th scope=col>feature</th><th scope=col>score</th></tr>\n",
       "\t<tr><th scope=col>&lt;chr&gt;</th><th scope=col>&lt;dbl&gt;</th></tr>\n",
       "</thead>\n",
       "<tbody>\n",
       "\t<tr><td>Petal.Width </td><td>0.9554360</td></tr>\n",
       "\t<tr><td>Petal.Length</td><td>0.9402853</td></tr>\n",
       "\t<tr><td>Sepal.Length</td><td>0.4521286</td></tr>\n",
       "\t<tr><td>Sepal.Width </td><td>0.2672750</td></tr>\n",
       "</tbody>\n",
       "</table>\n"
      ],
      "text/latex": [
       "A data.table: 4 × 2\n",
       "\\begin{tabular}{ll}\n",
       " feature & score\\\\\n",
       " <chr> & <dbl>\\\\\n",
       "\\hline\n",
       "\t Petal.Width  & 0.9554360\\\\\n",
       "\t Petal.Length & 0.9402853\\\\\n",
       "\t Sepal.Length & 0.4521286\\\\\n",
       "\t Sepal.Width  & 0.2672750\\\\\n",
       "\\end{tabular}\n"
      ],
      "text/markdown": [
       "\n",
       "A data.table: 4 × 2\n",
       "\n",
       "| feature &lt;chr&gt; | score &lt;dbl&gt; |\n",
       "|---|---|\n",
       "| Petal.Width  | 0.9554360 |\n",
       "| Petal.Length | 0.9402853 |\n",
       "| Sepal.Length | 0.4521286 |\n",
       "| Sepal.Width  | 0.2672750 |\n",
       "\n"
      ],
      "text/plain": [
       "  feature      score    \n",
       "1 Petal.Width  0.9554360\n",
       "2 Petal.Length 0.9402853\n",
       "3 Sepal.Length 0.4521286\n",
       "4 Sepal.Width  0.2672750"
      ]
     },
     "metadata": {},
     "output_type": "display_data"
    }
   ],
   "source": [
    "filter.importance = flt(\"information_gain\") # Creating a new filter\n",
    "iris.task <- tsk(\"iris\") # Creating a Task() object from the Iris dataset\n",
    "iris.feature.importance <- filter.importance$calculate(iris.task)\n",
    "as.data.table(iris.feature.importance)"
   ]
  },
  {
   "cell_type": "markdown",
   "id": "0a680a61-a380-464a-8b4f-7ee2a470c834",
   "metadata": {},
   "source": [
    "上面的代码是使用R语言进行特征选择的示例代码。下面是对每一行代码的解释：\n",
    "\n",
    "1. filter.importance = flt(\"information_gain\")：这行代码创建了一个新的特征选择过滤器对象，并使用\"information_gain\"作为特征选择方法。\"information_gain\"（信息增益）是一种常用的特征选择指标，用于衡量特征对目标变量的信息贡献程度。\n",
    "2. iris.task <- tsk(\"iris\")：这行代码创建了一个Task对象，用于定义特征选择任务的数据集。在这个例子中，使用经典的鸢尾花数据集\"Iris\"作为示例数据集。\n",
    "3. iris.feature.importance <- filter.importance$calculate(iris.task)：这行代码调用特征选择过滤器对象的calculate方法，对给定的数据集进行特征选择。这将返回一个包含特征重要性的结果对象，表示每个特征的重要性分数。\n",
    "4. as.data.table(iris.feature.importance)：这行代码将特征重要性的结果对象转换为数据框（data frame）或数据表（data table）的形式，以便更方便地进行查看和进一步的分析。"
   ]
  },
  {
   "cell_type": "markdown",
   "id": "6d4be845-8b4b-4506-a313-154935ddaab5",
   "metadata": {},
   "source": [
    "从结果来看，Petal.Width和Petal.Length有着极高的预测力，而Sepal.Length和Sepal.Width有着降低预测里，Sepal.Length的预测里相对较高。"
   ]
  },
  {
   "cell_type": "code",
   "execution_count": 86,
   "id": "dbdd8445-33c2-42d3-8284-8ea825e69d6b",
   "metadata": {
    "tags": []
   },
   "outputs": [
    {
     "name": "stderr",
     "output_type": "stream",
     "text": [
      "Warning message:\n",
      "\"package 'mlr3viz' is in use and will not be installed\"\n"
     ]
    }
   ],
   "source": [
    "install.packages(\"mlr3viz\")\n",
    "library(\"mlr3viz\")"
   ]
  },
  {
   "cell_type": "code",
   "execution_count": 87,
   "id": "2c630a70-bbc4-47b9-9462-efc793da4fba",
   "metadata": {
    "tags": []
   },
   "outputs": [
    {
     "data": {
      "image/png": "[encoded data removed]",
      "text/plain": [
       "plot without title"
      ]
     },
     "metadata": {
      "image/png": {
       "height": 420,
       "width": 420
      }
     },
     "output_type": "display_data"
    }
   ],
   "source": [
    "autoplot(iris.feature.importance)"
   ]
  },
  {
   "cell_type": "code",
   "execution_count": 88,
   "id": "4d5305b6-5bfe-4ed2-8cbe-d1eda49de364",
   "metadata": {
    "tags": []
   },
   "outputs": [
    {
     "name": "stderr",
     "output_type": "stream",
     "text": [
      "Warning message:\n",
      "\"package 'mlr3pipelines' is in use and will not be installed\"\n"
     ]
    }
   ],
   "source": [
    "install.packages(\"mlr3pipelines\")\n",
    "library(\"mlr3pipelines\")"
   ]
  },
  {
   "cell_type": "code",
   "execution_count": 91,
   "id": "56d8947f-de78-463d-8aca-4e4f6dcb33aa",
   "metadata": {
    "tags": []
   },
   "outputs": [
    {
     "data": {
      "text/html": [
       "<style>\n",
       ".list-inline {list-style: none; margin:0; padding: 0}\n",
       ".list-inline>li {display: inline-block}\n",
       ".list-inline>li:not(:last-child)::after {content: \"\\00b7\"; padding: 0 .5ex}\n",
       "</style>\n",
       "<ol class=list-inline><li>'Petal.Length'</li><li>'Petal.Width'</li><li>'Sepal.Length'</li></ol>\n"
      ],
      "text/latex": [
       "\\begin{enumerate*}\n",
       "\\item 'Petal.Length'\n",
       "\\item 'Petal.Width'\n",
       "\\item 'Sepal.Length'\n",
       "\\end{enumerate*}\n"
      ],
      "text/markdown": [
       "1. 'Petal.Length'\n",
       "2. 'Petal.Width'\n",
       "3. 'Sepal.Length'\n",
       "\n",
       "\n"
      ],
      "text/plain": [
       "[1] \"Petal.Length\" \"Petal.Width\"  \"Sepal.Length\""
      ]
     },
     "metadata": {},
     "output_type": "display_data"
    }
   ],
   "source": [
    "po = po(\"filter\", filter.importance, filter.nfeat=3)\n",
    "filtered.task = po$train(list(iris.task))[[1]]\n",
    "filtered.task$feature_names"
   ]
  },
  {
   "cell_type": "markdown",
   "id": "4d3927fb-9a82-43d0-95de-c7b4bbbf3c2d",
   "metadata": {},
   "source": [
    "上述代码：\n",
    "```\n",
    "1. po = po(\"filter\", filter.importance, filter.nfeat=3)：这行代码创建了一个PipeOp（管道操作）对象，用于定义特征选择后的任务过滤操作。在这里，使用了\"filter\"作为操作类型，filter.importance作为特征选择过滤器对象，并通过filter.nfeat=3参数指定最终选择的特征数量为3个。\n",
    "2. filtered.task = po$train(list(iris.task))[[1]]：这行代码通过对原始iris.task进行特征选择过滤操作，创建了一个经过特征选择后的新任务对象filtered.task。这里使用了train方法来应用管道操作，它接受一个包含输入任务的列表，并返回一个经过管道操作后的任务列表。由于我们只有一个输入任务，因此使用[[1]]提取出经过特征选择后的任务对象。\n",
    "3. filtered.task$feature_names：这行代码获取经过特征选择后的任务对象filtered.task中的特征名称。它返回一个包含经过特征选择后的特征名称的向量。\n",
    "```"
   ]
  },
  {
   "cell_type": "code",
   "execution_count": 92,
   "id": "e1fbddc3-5d33-4560-937a-d4a8eafeaa74",
   "metadata": {
    "tags": []
   },
   "outputs": [
    {
     "data": {
      "text/html": [
       "<table class=\"dataframe\">\n",
       "<caption>A data.frame: 6 × 3</caption>\n",
       "<thead>\n",
       "\t<tr><th></th><th scope=col>Petal.Length</th><th scope=col>Petal.Width</th><th scope=col>Sepal.Length</th></tr>\n",
       "\t<tr><th></th><th scope=col>&lt;dbl&gt;</th><th scope=col>&lt;dbl&gt;</th><th scope=col>&lt;dbl&gt;</th></tr>\n",
       "</thead>\n",
       "<tbody>\n",
       "\t<tr><th scope=row>1</th><td>1.4</td><td>0.2</td><td>5.1</td></tr>\n",
       "\t<tr><th scope=row>2</th><td>1.4</td><td>0.2</td><td>4.9</td></tr>\n",
       "\t<tr><th scope=row>3</th><td>1.3</td><td>0.2</td><td>4.7</td></tr>\n",
       "\t<tr><th scope=row>4</th><td>1.5</td><td>0.2</td><td>4.6</td></tr>\n",
       "\t<tr><th scope=row>5</th><td>1.4</td><td>0.2</td><td>5.0</td></tr>\n",
       "\t<tr><th scope=row>6</th><td>1.7</td><td>0.4</td><td>5.4</td></tr>\n",
       "</tbody>\n",
       "</table>\n"
      ],
      "text/latex": [
       "A data.frame: 6 × 3\n",
       "\\begin{tabular}{r|lll}\n",
       "  & Petal.Length & Petal.Width & Sepal.Length\\\\\n",
       "  & <dbl> & <dbl> & <dbl>\\\\\n",
       "\\hline\n",
       "\t1 & 1.4 & 0.2 & 5.1\\\\\n",
       "\t2 & 1.4 & 0.2 & 4.9\\\\\n",
       "\t3 & 1.3 & 0.2 & 4.7\\\\\n",
       "\t4 & 1.5 & 0.2 & 4.6\\\\\n",
       "\t5 & 1.4 & 0.2 & 5.0\\\\\n",
       "\t6 & 1.7 & 0.4 & 5.4\\\\\n",
       "\\end{tabular}\n"
      ],
      "text/markdown": [
       "\n",
       "A data.frame: 6 × 3\n",
       "\n",
       "| <!--/--> | Petal.Length &lt;dbl&gt; | Petal.Width &lt;dbl&gt; | Sepal.Length &lt;dbl&gt; |\n",
       "|---|---|---|---|\n",
       "| 1 | 1.4 | 0.2 | 5.1 |\n",
       "| 2 | 1.4 | 0.2 | 4.9 |\n",
       "| 3 | 1.3 | 0.2 | 4.7 |\n",
       "| 4 | 1.5 | 0.2 | 4.6 |\n",
       "| 5 | 1.4 | 0.2 | 5.0 |\n",
       "| 6 | 1.7 | 0.4 | 5.4 |\n",
       "\n"
      ],
      "text/plain": [
       "  Petal.Length Petal.Width Sepal.Length\n",
       "1 1.4          0.2         5.1         \n",
       "2 1.4          0.2         4.9         \n",
       "3 1.3          0.2         4.7         \n",
       "4 1.5          0.2         4.6         \n",
       "5 1.4          0.2         5.0         \n",
       "6 1.7          0.4         5.4         "
      ]
     },
     "metadata": {},
     "output_type": "display_data"
    }
   ],
   "source": [
    "iris.filtered = subset(iris, select = filtered.task$feature_names)\n",
    "head(iris.filtered)"
   ]
  },
  {
   "cell_type": "markdown",
   "id": "61e0e4c4-803a-4ca8-888e-a502fc47881e",
   "metadata": {},
   "source": [
    "# Correlation Analysis"
   ]
  },
  {
   "cell_type": "code",
   "execution_count": 94,
   "id": "9ccc36f5-3e05-4be1-b165-d910bfbe2906",
   "metadata": {
    "tags": []
   },
   "outputs": [
    {
     "name": "stderr",
     "output_type": "stream",
     "text": [
      "Installing package into 'C:/Users/yejiu/AppData/Local/R/win-library/4.3'\n",
      "(as 'lib' is unspecified)\n",
      "\n",
      "also installing the dependency 'reshape'\n",
      "\n",
      "\n"
     ]
    },
    {
     "name": "stdout",
     "output_type": "stream",
     "text": [
      "package 'reshape' successfully unpacked and MD5 sums checked\n",
      "package 'GGally' successfully unpacked and MD5 sums checked\n",
      "\n",
      "The downloaded binary packages are in\n",
      "\tC:\\Users\\yejiu\\AppData\\Local\\Temp\\RtmpCoR7LW\\downloaded_packages\n"
     ]
    },
    {
     "name": "stderr",
     "output_type": "stream",
     "text": [
      "Loading required package: ggplot2\n",
      "\n",
      "Registered S3 method overwritten by 'GGally':\n",
      "  method from   \n",
      "  +.gg   ggplot2\n",
      "\n"
     ]
    }
   ],
   "source": [
    "install.packages(\"GGally\")\n",
    "library(\"GGally\")"
   ]
  },
  {
   "cell_type": "code",
   "execution_count": 95,
   "id": "5704a865-fa31-4a2c-999b-c437d2260f7c",
   "metadata": {
    "tags": []
   },
   "outputs": [
    {
     "data": {
      "image/png": "[encoded data removed]",
      "text/plain": [
       "plot without title"
      ]
     },
     "metadata": {
      "image/png": {
       "height": 420,
       "width": 420
      }
     },
     "output_type": "display_data"
    }
   ],
   "source": [
    "# Assess the distribution and correlation of variables in Iris dataset\n",
    "ggpairs(iris, columns = 2:4, ggplot2::aes(colour=Species))"
   ]
  }
 ],
 "metadata": {
  "kernelspec": {
   "display_name": "R",
   "language": "R",
   "name": "ir"
  },
  "language_info": {
   "codemirror_mode": "r",
   "file_extension": ".r",
   "mimetype": "text/x-r-source",
   "name": "R",
   "pygments_lexer": "r",
   "version": "4.3.0"
  }
 },
 "nbformat": 4,
 "nbformat_minor": 5
}
