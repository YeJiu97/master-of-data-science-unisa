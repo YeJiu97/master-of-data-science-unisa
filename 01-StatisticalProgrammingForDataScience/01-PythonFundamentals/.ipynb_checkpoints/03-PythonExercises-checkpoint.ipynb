{
 "cells": [
  {
   "cell_type": "markdown",
   "id": "59300c5b-94ee-428a-ac5f-7cd0899e10e1",
   "metadata": {},
   "source": [
    "## 01-Exercises"
   ]
  },
  {
   "cell_type": "markdown",
   "id": "4a0578ae-fb20-4e96-8323-e417188f6b45",
   "metadata": {},
   "source": [
    "1. 输出Hello World："
   ]
  },
  {
   "cell_type": "code",
   "execution_count": 1,
   "id": "5d97d0d3-5662-4371-8389-107c23eec287",
   "metadata": {},
   "outputs": [
    {
     "name": "stdout",
     "output_type": "stream",
     "text": [
      "Hello World\n"
     ]
    }
   ],
   "source": [
    "print(\"Hello World\")"
   ]
  },
  {
   "cell_type": "markdown",
   "id": "2231d9c2-4e3a-490a-8e70-9eda3bec3135",
   "metadata": {},
   "source": [
    "2. 输入名字，并且问好："
   ]
  },
  {
   "cell_type": "code",
   "execution_count": 2,
   "id": "fc133117-cb88-47e3-8947-dd245293d6da",
   "metadata": {},
   "outputs": [
    {
     "name": "stdin",
     "output_type": "stream",
     "text": [
      "Please enter your name here: Job Smith\n"
     ]
    },
    {
     "name": "stdout",
     "output_type": "stream",
     "text": [
      "Hello Job Smith\n"
     ]
    }
   ],
   "source": [
    "name = input(\"Please enter your name here:\")\n",
    "\n",
    "print(\"Hello\", name)"
   ]
  },
  {
   "cell_type": "markdown",
   "id": "1590c156-bf0d-4177-96b9-b93b5d69816e",
   "metadata": {},
   "source": [
    "3. 输入x和y的值，并且尝试<,>和=进行比较，将比较的值赋值给res，将res打印出来："
   ]
  },
  {
   "cell_type": "code",
   "execution_count": 3,
   "id": "75201db0-f6d8-493c-9018-832ca64ae3ef",
   "metadata": {},
   "outputs": [
    {
     "name": "stdin",
     "output_type": "stream",
     "text": [
      "Please enter the value of x: 10\n",
      "Please enter the value of y: 20\n"
     ]
    },
    {
     "name": "stdout",
     "output_type": "stream",
     "text": [
      "False\n"
     ]
    }
   ],
   "source": [
    "x = int(input(\"Please enter the value of x:\"))\n",
    "y = int(input(\"Please enter the value of y:\"))\n",
    "\n",
    "res = x > y\n",
    "\n",
    "print(res)"
   ]
  },
  {
   "cell_type": "markdown",
   "id": "f65de7ea-bfd4-4da0-b484-b7035036ac51",
   "metadata": {},
   "source": [
    "4. 判断一个数字是否在0~20之间（包括0和20）："
   ]
  },
  {
   "cell_type": "code",
   "execution_count": 5,
   "id": "05c14a81-df6f-4a9f-ae78-4dfc056b9595",
   "metadata": {},
   "outputs": [
    {
     "name": "stdin",
     "output_type": "stream",
     "text": [
      "Please enter a number here:  20\n"
     ]
    },
    {
     "name": "stdout",
     "output_type": "stream",
     "text": [
      "Yes\n"
     ]
    }
   ],
   "source": [
    "num = int(input(\"Please enter a number here: \"))\n",
    "\n",
    "if num in range(0, 21):\n",
    "    print(\"Yes\")\n",
    "else:\n",
    "    print(\"No\")"
   ]
  },
  {
   "cell_type": "markdown",
   "id": "709e5496-713c-4c6d-921f-6584e1fe928d",
   "metadata": {},
   "source": [
    "5. 和4相反，判断是否不在0~20之间（包括0和20）："
   ]
  },
  {
   "cell_type": "code",
   "execution_count": 6,
   "id": "f4ec624b-e99d-4f38-8ef6-f05005220a2d",
   "metadata": {},
   "outputs": [
    {
     "name": "stdin",
     "output_type": "stream",
     "text": [
      "Please enter a number here:  21\n"
     ]
    },
    {
     "name": "stdout",
     "output_type": "stream",
     "text": [
      "Yes\n"
     ]
    }
   ],
   "source": [
    "num = int(input(\"Please enter a number here: \"))\n",
    "\n",
    "if num not in range(0, 20):\n",
    "    print(\"Yes\")\n",
    "else:\n",
    "    print(\"No\")"
   ]
  },
  {
   "cell_type": "markdown",
   "id": "b89c0540-70e6-4a71-b381-f2ee67cc7b80",
   "metadata": {},
   "source": [
    "6. 输入三个数字作为三条边的长度，判断这三条边是否能够组成一个三角形："
   ]
  },
  {
   "cell_type": "code",
   "execution_count": 9,
   "id": "3f155c1a-2ceb-4fcd-9cbb-9b898fa96f1b",
   "metadata": {},
   "outputs": [
    {
     "name": "stdin",
     "output_type": "stream",
     "text": [
      "Please enter the length of len_1： 10\n",
      "Please enter the length of len_2 15\n",
      "Please enter the length of len_3 20\n"
     ]
    },
    {
     "name": "stdout",
     "output_type": "stream",
     "text": [
      "Yes\n"
     ]
    }
   ],
   "source": [
    "len_1 = int(input(\"Please enter the length of len_1：\"))\n",
    "len_2 = int(input(\"Please enter the length of len_2\"))\n",
    "len_3 = int(input(\"Please enter the length of len_3\"))\n",
    "\n",
    "if len_1 + len_2 > len_3 and len_1 + len_3 > len_2 and len_2 + len_3 > len_1:\n",
    "    print(\"Yes\")\n",
    "else:\n",
    "    print(\"No\")"
   ]
  },
  {
   "cell_type": "markdown",
   "id": "39fa961a-faa9-40ba-970a-ca4d15800cd3",
   "metadata": {},
   "source": [
    "7. 在判断是否能够形成三角形的基础上判定斯否是等边三角形："
   ]
  },
  {
   "cell_type": "code",
   "execution_count": 10,
   "id": "37204ee4-d236-4b9b-b368-53becd3ca4b9",
   "metadata": {},
   "outputs": [
    {
     "name": "stdin",
     "output_type": "stream",
     "text": [
      "Please enter the length of len_1： 10\n",
      "Please enter the length of len_2 10\n",
      "Please enter the length of len_3 10\n"
     ]
    },
    {
     "name": "stdout",
     "output_type": "stream",
     "text": [
      "Yes\n"
     ]
    }
   ],
   "source": [
    "len_1 = int(input(\"Please enter the length of len_1：\"))\n",
    "len_2 = int(input(\"Please enter the length of len_2\"))\n",
    "len_3 = int(input(\"Please enter the length of len_3\"))\n",
    "\n",
    "if len_1 + len_2 > len_3 and len_1 + len_3 > len_2 and len_2 + len_3 > len_1:\n",
    "    if len_1 == len_2 and len_1 == len_3:\n",
    "        print(\"Yes\")\n",
    "else:\n",
    "    print(\"No\")"
   ]
  },
  {
   "cell_type": "markdown",
   "id": "41116e24-46d4-46fb-b1f0-b9b2ddb46225",
   "metadata": {},
   "source": [
    "8. 在判断是否能够形成三角形的基础上判断是否能够形成等腰三角形："
   ]
  },
  {
   "cell_type": "code",
   "execution_count": 14,
   "id": "7c85538e-adf2-4e57-b250-aeca4c4c2fa7",
   "metadata": {},
   "outputs": [
    {
     "name": "stdin",
     "output_type": "stream",
     "text": [
      "Please enter the length of len_1： 10\n",
      "Please enter the length of len_2 10\n",
      "Please enter the length of len_3 15\n"
     ]
    },
    {
     "name": "stdout",
     "output_type": "stream",
     "text": [
      "Yes\n"
     ]
    }
   ],
   "source": [
    "len_1 = int(input(\"Please enter the length of len_1：\"))\n",
    "len_2 = int(input(\"Please enter the length of len_2\"))\n",
    "len_3 = int(input(\"Please enter the length of len_3\"))\n",
    "\n",
    "if len_1 + len_2 > len_3 and len_1 + len_3 > len_2 and len_2 + len_3 > len_1:\n",
    "    if len_1 == len_2 or len_1 == len_3 or len_2 == len_3:\n",
    "        print(\"Yes\")\n",
    "else:\n",
    "    print(\"No\")"
   ]
  },
  {
   "cell_type": "markdown",
   "id": "f40a8467-45fe-4157-9bd5-566accae1b99",
   "metadata": {},
   "source": [
    "9. 随机生成一个1~10之间的数字："
   ]
  },
  {
   "cell_type": "code",
   "execution_count": 37,
   "id": "aff38ce9-b94c-407f-b87e-0b978c236757",
   "metadata": {},
   "outputs": [
    {
     "name": "stdout",
     "output_type": "stream",
     "text": [
      "2\n"
     ]
    }
   ],
   "source": [
    "import random\n",
    "\n",
    "res = random.randint(0, 10)  # 10是被包括进来的\n",
    "\n",
    "print(res)"
   ]
  },
  {
   "cell_type": "markdown",
   "id": "29b50507-d2ef-450d-8f28-04e8cebf6078",
   "metadata": {},
   "source": [
    "10. 基于问题9，让用户先输入一个数字，然后比较用户输入的数字和随机生成的数字是否相同："
   ]
  },
  {
   "cell_type": "code",
   "execution_count": 38,
   "id": "229374cc-b1fc-4a64-b1e0-e917ded8d316",
   "metadata": {},
   "outputs": [
    {
     "name": "stdin",
     "output_type": "stream",
     "text": [
      "Please guess a number between 0 and 10:  5\n"
     ]
    },
    {
     "name": "stdout",
     "output_type": "stream",
     "text": [
      "Yes, you are right!\n"
     ]
    }
   ],
   "source": [
    "user_guess = int(input(\"Please guess a number between 0 and 10: \"))\n",
    "res = random.randint(0, 10)\n",
    "\n",
    "if user_guess == res:\n",
    "    print(\"Yes, you are right!\")\n",
    "else:\n",
    "    print(\"Sorry, you are woring!\")"
   ]
  },
  {
   "cell_type": "markdown",
   "id": "62b5a783-41d0-4b4a-af4d-a10aa227906c",
   "metadata": {},
   "source": [
    "11. 基于问题10，让用户有三次机会进行输入，而不是只有一次机会："
   ]
  },
  {
   "cell_type": "code",
   "execution_count": 40,
   "id": "07bd0a80-0601-4643-91eb-a3d564ed526e",
   "metadata": {},
   "outputs": [
    {
     "name": "stdin",
     "output_type": "stream",
     "text": [
      "Please guess a number between 0 and 10:  5\n"
     ]
    },
    {
     "name": "stdout",
     "output_type": "stream",
     "text": [
      "Sorry, you are woring!\n"
     ]
    },
    {
     "name": "stdin",
     "output_type": "stream",
     "text": [
      "Please guess a number between 0 and 10:  8\n"
     ]
    },
    {
     "name": "stdout",
     "output_type": "stream",
     "text": [
      "Sorry, you are woring!\n"
     ]
    },
    {
     "name": "stdin",
     "output_type": "stream",
     "text": [
      "Please guess a number between 0 and 10:  6\n"
     ]
    },
    {
     "name": "stdout",
     "output_type": "stream",
     "text": [
      "Sorry, you are woring!\n"
     ]
    }
   ],
   "source": [
    "res = random.randint(0, 10)\n",
    "count = 3\n",
    "\n",
    "while count:\n",
    "    user_guess = int(input(\"Please guess a number between 0 and 10: \"))\n",
    "    if user_guess == res:\n",
    "        print(\"Yes, you are right!\")\n",
    "        break\n",
    "    else:\n",
    "        print(\"Sorry, you are woring!\")\n",
    "        count = count - 1"
   ]
  },
  {
   "cell_type": "markdown",
   "id": "93508411-3a07-4212-833a-2e094fabbe21",
   "metadata": {},
   "source": [
    "12. 基于问题11，用户除了有三次机会能够输入意外，每次输入都会给出用户输入的数字和随机生成的数字的比较结果："
   ]
  },
  {
   "cell_type": "code",
   "execution_count": 44,
   "id": "1d423a74-2f86-4b87-b2ee-05a3c2aa7dbd",
   "metadata": {},
   "outputs": [
    {
     "name": "stdin",
     "output_type": "stream",
     "text": [
      "Please guess a number between 0 and 10:  5\n"
     ]
    },
    {
     "name": "stdout",
     "output_type": "stream",
     "text": [
      "Sorry, you are woring!\n",
      "Your number is low\n"
     ]
    },
    {
     "name": "stdin",
     "output_type": "stream",
     "text": [
      "Please guess a number between 0 and 10:  8\n"
     ]
    },
    {
     "name": "stdout",
     "output_type": "stream",
     "text": [
      "Sorry, you are woring!\n",
      "Your number is low\n"
     ]
    },
    {
     "name": "stdin",
     "output_type": "stream",
     "text": [
      "Please guess a number between 0 and 10:  9\n"
     ]
    },
    {
     "name": "stdout",
     "output_type": "stream",
     "text": [
      "Yes, you are right!\n",
      "The right number is:  9\n"
     ]
    }
   ],
   "source": [
    "res = random.randint(0, 10)\n",
    "count = 3\n",
    "\n",
    "while count:\n",
    "    user_guess = int(input(\"Please guess a number between 0 and 10: \"))\n",
    "    if user_guess == res:\n",
    "        print(\"Yes, you are right!\")\n",
    "        break\n",
    "    else:\n",
    "        print(\"Sorry, you are woring!\")\n",
    "        if user_guess > res:\n",
    "            print(\"Your number is high\")\n",
    "        elif user_guess < res:\n",
    "            print(\"Your number is low\")\n",
    "        count = count - 1\n",
    "print(\"The right number is: \", res)"
   ]
  },
  {
   "cell_type": "markdown",
   "id": "eee1e791-5f19-495a-a3df-34dba461c105",
   "metadata": {},
   "source": [
    "## 02-Exercises"
   ]
  },
  {
   "cell_type": "markdown",
   "id": "b7649988-2955-4078-ade3-c8360e30a91b",
   "metadata": {},
   "source": [
    "1. 使用for循环打印1~10（包括）之间的数字："
   ]
  },
  {
   "cell_type": "code",
   "execution_count": 45,
   "id": "a3da67c2-38e1-432d-9f5b-9c7920dc58f5",
   "metadata": {},
   "outputs": [
    {
     "name": "stdout",
     "output_type": "stream",
     "text": [
      "0\n",
      "1\n",
      "2\n",
      "3\n",
      "4\n",
      "5\n",
      "6\n",
      "7\n",
      "8\n",
      "9\n",
      "10\n"
     ]
    }
   ],
   "source": [
    "for i in range(0, 11):\n",
    "    print(i)"
   ]
  },
  {
   "cell_type": "markdown",
   "id": "4facc78b-a468-41c6-993c-4f0ef5ae09fa",
   "metadata": {},
   "source": [
    "2. 使用while循环打印1~10之间的数字:"
   ]
  },
  {
   "cell_type": "code",
   "execution_count": 47,
   "id": "eaa9544d-93fa-4438-a28c-d01fda8dafbe",
   "metadata": {},
   "outputs": [
    {
     "name": "stdout",
     "output_type": "stream",
     "text": [
      "10\n",
      "9\n",
      "8\n",
      "7\n",
      "6\n",
      "5\n",
      "4\n",
      "3\n",
      "2\n",
      "1\n"
     ]
    }
   ],
   "source": [
    "i = 10\n",
    "while i > 0:\n",
    "    print(i)\n",
    "    i -= 1"
   ]
  },
  {
   "cell_type": "markdown",
   "id": "8ceb7c71-005a-414f-809c-078d17be561e",
   "metadata": {},
   "source": [
    "3. 将一周的每日打印出来："
   ]
  },
  {
   "cell_type": "code",
   "execution_count": 49,
   "id": "328b3c0c-83c6-4144-a028-784c70085297",
   "metadata": {},
   "outputs": [
    {
     "name": "stdout",
     "output_type": "stream",
     "text": [
      "Today is Monday \n",
      "Today is Tuesday \n",
      "Today is Wednesday \n",
      "Today is Thursday \n",
      "Today is Friday \n",
      "Today is Saturday \n",
      "Today is Sunday \n",
      "The week is over ...you can go home now!\n"
     ]
    }
   ],
   "source": [
    "days_of_week = ['Monday','Tuesday','Wednesday','Thursday','Friday','Saturday','Sunday']\n",
    "num_days = len(days_of_week)\n",
    "i = 0 # access the first day of the week!\n",
    "while (i < num_days):\n",
    " print(\"Today is %s \" % days_of_week[i])\n",
    " i += 1\n",
    "\n",
    "print(\"The week is over ...you can go home now!\")"
   ]
  },
  {
   "cell_type": "markdown",
   "id": "85b52726-d64a-4991-a197-8cf55be3d940",
   "metadata": {},
   "source": [
    "4. 让用户一次性输入5个数字，并且给出平均值："
   ]
  },
  {
   "cell_type": "code",
   "execution_count": 52,
   "id": "d6bbb034-53a9-42c7-abe9-bb140877ec91",
   "metadata": {},
   "outputs": [
    {
     "name": "stdin",
     "output_type": "stream",
     "text": [
      "Please enter at least 5 numbers each separated by a comma:  1,2,3,4,5\n"
     ]
    },
    {
     "name": "stdout",
     "output_type": "stream",
     "text": [
      "3.0\n"
     ]
    }
   ],
   "source": [
    "nums = eval(input(\"Please enter at least 5 numbers each separated by a comma: \"))\n",
    "\n",
    "sum_num = 0\n",
    "for num in nums:\n",
    "    sum_num += num\n",
    "\n",
    "print(sum_num / len(nums))"
   ]
  },
  {
   "cell_type": "markdown",
   "id": "619936f2-4af1-49c3-8393-437ea7c41852",
   "metadata": {},
   "source": [
    "5. 求取standard deviation："
   ]
  },
  {
   "cell_type": "code",
   "execution_count": 55,
   "id": "b4661116-42ce-496d-8ff6-0fb72ddeb7be",
   "metadata": {},
   "outputs": [
    {
     "name": "stdout",
     "output_type": "stream",
     "text": [
      "Standard Deviation of sample is 1.5811388300841898 \n"
     ]
    }
   ],
   "source": [
    "# Python code to demonstrate stdev() function\n",
    "\n",
    "# importing Statistics module\n",
    "import statistics\n",
    "\n",
    "# creating a simple data - set\n",
    "sample = [1, 2, 3, 4, 5]\n",
    "\n",
    "# Prints standard deviation\n",
    "# xbar is set to default value of 1\n",
    "print(\"Standard Deviation of sample is % s \" % (statistics.stdev(sample)))"
   ]
  }
 ],
 "metadata": {
  "kernelspec": {
   "display_name": "Python 3 (ipykernel)",
   "language": "python",
   "name": "python3"
  },
  "language_info": {
   "codemirror_mode": {
    "name": "ipython",
    "version": 3
   },
   "file_extension": ".py",
   "mimetype": "text/x-python",
   "name": "python",
   "nbconvert_exporter": "python",
   "pygments_lexer": "ipython3",
   "version": "3.10.5"
  }
 },
 "nbformat": 4,
 "nbformat_minor": 5
}
