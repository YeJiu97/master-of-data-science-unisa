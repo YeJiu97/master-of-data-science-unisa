{
 "cells": [
  {
   "cell_type": "markdown",
   "id": "151e21b7-258e-4ff0-a3ed-ed6c0dc1f5b7",
   "metadata": {},
   "source": [
    "## open() 与 close()"
   ]
  },
  {
   "cell_type": "markdown",
   "id": "2e2637df-9dca-46b1-a885-0b5a33a8eebb",
   "metadata": {},
   "source": [
    "Python使用open()方法来打开一个文件，并且返回文件对象。\n",
    "\n",
    "如果文件无法被打开，则会返回OSError作为错误返回值。\n",
    "\n",
    "open()打开文件之后需要确保关闭文件对象，也就是调用close()方法。\n",
    "\n",
    "通常来讲，open()函数中有两个参数：\n",
    "1. fileName\n",
    "2. mode\n",
    "\n",
    "fileName是文件的名称，而mode则是模式。"
   ]
  },
  {
   "cell_type": "code",
   "execution_count": 9,
   "id": "237edbf7-2a00-479e-9bac-bc541229305b",
   "metadata": {},
   "outputs": [],
   "source": [
    "# 使用open来进行打开\n",
    "test = open(\"test.txt\", \"w\")\n",
    "\n",
    "# 使用write来进行输入\n",
    "test.write(\"It is a test file for Python File\\n\")\n",
    "test.write(\"It is the second line\")\n",
    "\n",
    "# 使用close来进行关闭\n",
    "test.close()"
   ]
  },
  {
   "cell_type": "code",
   "execution_count": 17,
   "id": "dc4d6941-9f89-4823-8636-161cacc6cfe9",
   "metadata": {},
   "outputs": [
    {
     "name": "stdout",
     "output_type": "stream",
     "text": [
      "It is a test file for Python File\n",
      "\n",
      "['It is the second line']\n"
     ]
    }
   ],
   "source": [
    "test = open(\"test.txt\", \"r\")\n",
    "\n",
    "line_one = test.readline()\n",
    "print(line_one)\n",
    "\n",
    "line_two = test.readlines()\n",
    "print(line_two)\n",
    "\n",
    "test.close()"
   ]
  },
  {
   "cell_type": "code",
   "execution_count": 20,
   "id": "879af942-d2e8-4da4-bdd2-50a7d3765061",
   "metadata": {},
   "outputs": [],
   "source": [
    "with open(\"test.txt\", encoding=\"utf-8\", mode=\"a\") as file:\n",
    "    file.write(\"\\nIt is the third line\")\n",
    "    file.close()"
   ]
  },
  {
   "cell_type": "markdown",
   "id": "94b0d13f-4451-4b9a-b71e-502151ff5e95",
   "metadata": {},
   "source": [
    "## CSV 文件"
   ]
  },
  {
   "cell_type": "markdown",
   "id": "837c298f-ec46-4626-8807-0af442cb402d",
   "metadata": {},
   "source": [
    "写入 CSV 文件我们借助 Python 的内置库 csv，生成一个 csvwriter 对象，可以选择一行一行写入，也可以选择一次写入多行。"
   ]
  },
  {
   "cell_type": "code",
   "execution_count": 23,
   "id": "8a1b8aae-3a3f-427a-982f-faf4bf11f149",
   "metadata": {},
   "outputs": [],
   "source": [
    "import csv   # 首先导入csv模块\n",
    "\n",
    "# 给出标题\n",
    "fields = ['名字', '职位', '工龄', '评分']\n",
    "\n",
    "# 使用[]来创建数组\n",
    "rows = [[\"小红\", \"CEO\", \"2\", \"9.9\"],\n",
    "    [\"小蓝\", \"Boss\", \"3\", \"9.5\"],\n",
    "    [\"小红\", \"Manager\", \"3.4\", \"9.0\"],\n",
    "    [\"小白\", \"Worker\", \"4.5\", \"9.2\"]]\n",
    "\n",
    "# 写入到csv文件中\n",
    "with open('employees.csv', 'w') as csvfile:\n",
    "  # 创建一个csv writer 对象\n",
    "  csvwriter = csv.writer(csvfile)\n",
    "  # 一次写一行\n",
    "  csvwriter.writerow(fields)\n",
    "  # 一次写入多行\n",
    "  csvwriter.writerows(rows)"
   ]
  },
  {
   "cell_type": "markdown",
   "id": "43f87f8b-d9bc-4a37-9e0e-756832f9433d",
   "metadata": {},
   "source": [
    "读取 CSV 文件我们借助 Python 的 csv 内置库，生成一个 csvreader 对象。\n",
    "\n",
    "我们在之前的代码之后加入一段代码，最终："
   ]
  },
  {
   "cell_type": "code",
   "execution_count": 24,
   "id": "c01b3023-8451-40e1-aaee-9ce5abfd26b1",
   "metadata": {},
   "outputs": [
    {
     "name": "stdout",
     "output_type": "stream",
     "text": [
      "[['Name', 'Branch', 'Year', 'CGPA'], [], ['Nikhil', 'COE', '2', '9.0'], [], ['Sanchit', 'COE', '2', '9.1'], [], ['Aditya', 'IT', '2', '9.3'], [], ['Sagar', 'SE', '1', '9.5'], [], ['Prateek', 'MCE', '3', '7.8'], [], ['Sahil', 'EP', '2', '9.1'], []]\n"
     ]
    }
   ],
   "source": [
    "import csv\n",
    "  \n",
    "fields = ['Name', 'Branch', 'Year', 'CGPA']\n",
    "  \n",
    "rows = [ ['Nikhil', 'COE', '2', '9.0'],\n",
    "         ['Sanchit', 'COE', '2', '9.1'],\n",
    "         ['Aditya', 'IT', '2', '9.3'],\n",
    "         ['Sagar', 'SE', '1', '9.5'],\n",
    "         ['Prateek', 'MCE', '3', '7.8'],\n",
    "         ['Sahil', 'EP', '2', '9.1']]\n",
    " \n",
    "  \n",
    "# writing to csv file\n",
    "with open('demo.csv', 'w') as csvfile:\n",
    "    # 创建一个 csv writer 对象\n",
    "    csvwriter = csv.writer(csvfile)\n",
    "    # 一次写一行\n",
    "    csvwriter.writerow(fields)\n",
    "    # 一次写入多行\n",
    "    csvwriter.writerows(rows)\n",
    "\n",
    "with open('demo.csv','r') as csvfile:\n",
    "    csvreader=csv.reader(csvfile)\n",
    "    print(list(csvreader))"
   ]
  }
 ],
 "metadata": {
  "kernelspec": {
   "display_name": "Python 3 (ipykernel)",
   "language": "python",
   "name": "python3"
  },
  "language_info": {
   "codemirror_mode": {
    "name": "ipython",
    "version": 3
   },
   "file_extension": ".py",
   "mimetype": "text/x-python",
   "name": "python",
   "nbconvert_exporter": "python",
   "pygments_lexer": "ipython3",
   "version": "3.10.5"
  }
 },
 "nbformat": 4,
 "nbformat_minor": 5
}
