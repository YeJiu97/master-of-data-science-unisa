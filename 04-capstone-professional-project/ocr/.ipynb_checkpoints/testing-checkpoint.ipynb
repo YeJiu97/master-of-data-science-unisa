{
 "cells": [
  {
   "cell_type": "markdown",
   "id": "a73123a7-5e10-467e-a760-861779352ce8",
   "metadata": {},
   "source": [
    "# keras ocr"
   ]
  },
  {
   "cell_type": "code",
   "execution_count": null,
   "id": "42f6f628-8fcb-4f06-8cc6-678ec4f1cbd0",
   "metadata": {},
   "outputs": [],
   "source": [
    "import keras_ocr"
   ]
  },
  {
   "cell_type": "code",
   "execution_count": null,
   "id": "0f9d7c5d-1a73-40db-9b7e-690d6d775e17",
   "metadata": {},
   "outputs": [],
   "source": [
    "from matplotlib import pyplot as plt"
   ]
  },
  {
   "cell_type": "code",
   "execution_count": null,
   "id": "c515e834-a3c6-49c4-a0db-85b6358a4bc2",
   "metadata": {},
   "outputs": [],
   "source": [
    "images = [\n",
    "   keras_ocr.tools.read(url) for url in [\n",
    "       'https://raw.githubusercontent.com/Thangasami/OCR-/main/number/1.jpg',\n",
    "       'https://raw.githubusercontent.com/Thangasami/OCR-/main/number/2.jpg',\n",
    "       'https://raw.githubusercontent.com/Thangasami/OCR-/main/number/3.jpg',\n",
    "       'https://raw.githubusercontent.com/Thangasami/OCR-/main/number/4.jpg',\n",
    "       'https://raw.githubusercontent.com/Thangasami/OCR-/main/number/5.jpg',\n",
    "       #'https://raw.githubusercontent.com/Thangasami/OCR-/main/number/6.jpg',\n",
    "       #'https://raw.githubusercontent.com/Thangasami/OCR-/main/number/7.jpg',\n",
    "       #'https://raw.githubusercontent.com/Thangasami/OCR-/main/number/8.jpg',\n",
    "       #'https://raw.githubusercontent.com/Thangasami/OCR-/main/number/9.jpg',\n",
    "       #'https://raw.githubusercontent.com/Thangasami/OCR-/main/number/10.jpg'\n",
    "   ]\n",
    "]"
   ]
  },
  {
   "cell_type": "code",
   "execution_count": null,
   "id": "2974c629-3674-4dcc-bb8b-f4c66c6e51d6",
   "metadata": {},
   "outputs": [],
   "source": [
    "pipeline = keras_ocr.pipeline.Pipeline()"
   ]
  },
  {
   "cell_type": "code",
   "execution_count": null,
   "id": "ee838cee-c49e-4768-a3b0-da6e7155cd8d",
   "metadata": {},
   "outputs": [],
   "source": [
    "prediction_groups = pipeline.recognize(images)"
   ]
  },
  {
   "cell_type": "code",
   "execution_count": null,
   "id": "f07ae255-7a31-440d-9ae6-6626b52418b0",
   "metadata": {},
   "outputs": [],
   "source": [
    "fig, axs = plt.subplots(nrows = len(images), figsize = (20, 20))\n",
    "\n",
    "for axs, image, prediction in zip(axs, images, prediction_groups):\n",
    "    keras_ocr.tools.drawAnnotations(image=image, prediction=predictions, ax = ax)"
   ]
  },
  {
   "cell_type": "code",
   "execution_count": null,
   "id": "3b58a67c-cb15-498d-a37f-9ebf2103a70b",
   "metadata": {},
   "outputs": [],
   "source": [
    "x max = 0\n",
    "temp str = \"\n",
    "myfile = open(\"my_file.txt\",\"a+\")\n",
    "for i in prediction groups[0]:\n",
    "    x_max_local = i[1][:,].max()if x max local > x max:x max = x max localtemp str = temp str + \"\" + i[e].ljust(15)else:\n",
    "x max = 0temp_str = temp str + \" n\"myfile.write(temp str)print(temp str)temp str = \"u\n",
    "myfile.close()"
   ]
  }
 ],
 "metadata": {
  "kernelspec": {
   "display_name": "Python 3 (ipykernel)",
   "language": "python",
   "name": "python3"
  },
  "language_info": {
   "codemirror_mode": {
    "name": "ipython",
    "version": 3
   },
   "file_extension": ".py",
   "mimetype": "text/x-python",
   "name": "python",
   "nbconvert_exporter": "python",
   "pygments_lexer": "ipython3",
   "version": "3.10.11"
  }
 },
 "nbformat": 4,
 "nbformat_minor": 5
}
