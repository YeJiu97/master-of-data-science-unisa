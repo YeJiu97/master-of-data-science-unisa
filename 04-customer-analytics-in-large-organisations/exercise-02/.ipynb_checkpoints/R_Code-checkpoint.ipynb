{
 "cells": [
  {
   "cell_type": "markdown",
   "id": "8ac78bd5-3892-49ec-a84d-070f24a88a8b",
   "metadata": {},
   "source": [
    "# 导入数据集"
   ]
  },
  {
   "cell_type": "code",
   "execution_count": 1,
   "id": "837ebb72-bc65-4cc4-9494-7539064da421",
   "metadata": {},
   "outputs": [
    {
     "data": {
      "text/html": [
       "<table class=\"dataframe\">\n",
       "<caption>A data.frame: 6 × 4</caption>\n",
       "<thead>\n",
       "\t<tr><th></th><th scope=col>Sale_Date</th><th scope=col>Quantity_Sold</th><th scope=col>UniSA_Receipt_No1</th><th scope=col>Commodity_Name</th></tr>\n",
       "\t<tr><th></th><th scope=col>&lt;chr&gt;</th><th scope=col>&lt;dbl&gt;</th><th scope=col>&lt;dbl&gt;</th><th scope=col>&lt;chr&gt;</th></tr>\n",
       "</thead>\n",
       "<tbody>\n",
       "\t<tr><th scope=row>1</th><td>2013-01-02</td><td>1</td><td>444066</td><td>ICE CREAMS AND ICE CONFECTIONS</td></tr>\n",
       "\t<tr><th scope=row>2</th><td>2013-01-02</td><td>1</td><td>444066</td><td>ICE CREAMS AND ICE CONFECTIONS</td></tr>\n",
       "\t<tr><th scope=row>3</th><td>2013-01-02</td><td>1</td><td>444066</td><td>ICE CREAMS AND ICE CONFECTIONS</td></tr>\n",
       "\t<tr><th scope=row>4</th><td>2013-01-02</td><td>1</td><td>341581</td><td>ICE CREAMS AND ICE CONFECTIONS</td></tr>\n",
       "\t<tr><th scope=row>5</th><td>2013-01-02</td><td>1</td><td>358237</td><td>ICE CREAMS AND ICE CONFECTIONS</td></tr>\n",
       "\t<tr><th scope=row>6</th><td>2013-01-02</td><td>1</td><td>444710</td><td>ICE CREAMS AND ICE CONFECTIONS</td></tr>\n",
       "</tbody>\n",
       "</table>\n"
      ],
      "text/latex": [
       "A data.frame: 6 × 4\n",
       "\\begin{tabular}{r|llll}\n",
       "  & Sale\\_Date & Quantity\\_Sold & UniSA\\_Receipt\\_No1 & Commodity\\_Name\\\\\n",
       "  & <chr> & <dbl> & <dbl> & <chr>\\\\\n",
       "\\hline\n",
       "\t1 & 2013-01-02 & 1 & 444066 & ICE CREAMS AND ICE CONFECTIONS\\\\\n",
       "\t2 & 2013-01-02 & 1 & 444066 & ICE CREAMS AND ICE CONFECTIONS\\\\\n",
       "\t3 & 2013-01-02 & 1 & 444066 & ICE CREAMS AND ICE CONFECTIONS\\\\\n",
       "\t4 & 2013-01-02 & 1 & 341581 & ICE CREAMS AND ICE CONFECTIONS\\\\\n",
       "\t5 & 2013-01-02 & 1 & 358237 & ICE CREAMS AND ICE CONFECTIONS\\\\\n",
       "\t6 & 2013-01-02 & 1 & 444710 & ICE CREAMS AND ICE CONFECTIONS\\\\\n",
       "\\end{tabular}\n"
      ],
      "text/markdown": [
       "\n",
       "A data.frame: 6 × 4\n",
       "\n",
       "| <!--/--> | Sale_Date &lt;chr&gt; | Quantity_Sold &lt;dbl&gt; | UniSA_Receipt_No1 &lt;dbl&gt; | Commodity_Name &lt;chr&gt; |\n",
       "|---|---|---|---|---|\n",
       "| 1 | 2013-01-02 | 1 | 444066 | ICE CREAMS AND ICE CONFECTIONS |\n",
       "| 2 | 2013-01-02 | 1 | 444066 | ICE CREAMS AND ICE CONFECTIONS |\n",
       "| 3 | 2013-01-02 | 1 | 444066 | ICE CREAMS AND ICE CONFECTIONS |\n",
       "| 4 | 2013-01-02 | 1 | 341581 | ICE CREAMS AND ICE CONFECTIONS |\n",
       "| 5 | 2013-01-02 | 1 | 358237 | ICE CREAMS AND ICE CONFECTIONS |\n",
       "| 6 | 2013-01-02 | 1 | 444710 | ICE CREAMS AND ICE CONFECTIONS |\n",
       "\n"
      ],
      "text/plain": [
       "  Sale_Date  Quantity_Sold UniSA_Receipt_No1 Commodity_Name                \n",
       "1 2013-01-02 1             444066            ICE CREAMS AND ICE CONFECTIONS\n",
       "2 2013-01-02 1             444066            ICE CREAMS AND ICE CONFECTIONS\n",
       "3 2013-01-02 1             444066            ICE CREAMS AND ICE CONFECTIONS\n",
       "4 2013-01-02 1             341581            ICE CREAMS AND ICE CONFECTIONS\n",
       "5 2013-01-02 1             358237            ICE CREAMS AND ICE CONFECTIONS\n",
       "6 2013-01-02 1             444710            ICE CREAMS AND ICE CONFECTIONS"
      ]
     },
     "metadata": {},
     "output_type": "display_data"
    }
   ],
   "source": [
    "# 导入数据集\n",
    "df <- read.csv('./output/df_ice_cream_all.csv')\n",
    "\n",
    "# 显示数据集的前几行\n",
    "head(df)"
   ]
  },
  {
   "cell_type": "markdown",
   "id": "34ba91c1-2270-447d-8226-d5cf04d1ee20",
   "metadata": {},
   "source": [
    "# Question #01"
   ]
  },
  {
   "cell_type": "code",
   "execution_count": 6,
   "id": "530bcfe3-3706-485e-9dfb-2e775d56709b",
   "metadata": {},
   "outputs": [
    {
     "data": {
      "text/html": [
       "<table class=\"dataframe\">\n",
       "<caption>A data.frame: 6 × 4</caption>\n",
       "<thead>\n",
       "\t<tr><th></th><th scope=col>Sale_Date</th><th scope=col>Daily_Sales_Items</th><th scope=col>Daily_Customers</th><th scope=col>Sales_Per_Customer_Per_Visit</th></tr>\n",
       "\t<tr><th></th><th scope=col>&lt;date&gt;</th><th scope=col>&lt;dbl&gt;</th><th scope=col>&lt;int&gt;</th><th scope=col>&lt;dbl&gt;</th></tr>\n",
       "</thead>\n",
       "<tbody>\n",
       "\t<tr><th scope=row>1</th><td>2013-01-02</td><td>443</td><td>326</td><td>1.358896</td></tr>\n",
       "\t<tr><th scope=row>2</th><td>2013-01-03</td><td>493</td><td>361</td><td>1.365651</td></tr>\n",
       "\t<tr><th scope=row>3</th><td>2013-01-04</td><td>585</td><td>397</td><td>1.473552</td></tr>\n",
       "\t<tr><th scope=row>4</th><td>2013-01-05</td><td>433</td><td>325</td><td>1.332308</td></tr>\n",
       "\t<tr><th scope=row>5</th><td>2013-01-06</td><td>227</td><td>176</td><td>1.289773</td></tr>\n",
       "\t<tr><th scope=row>6</th><td>2013-01-07</td><td>387</td><td>280</td><td>1.382143</td></tr>\n",
       "</tbody>\n",
       "</table>\n"
      ],
      "text/latex": [
       "A data.frame: 6 × 4\n",
       "\\begin{tabular}{r|llll}\n",
       "  & Sale\\_Date & Daily\\_Sales\\_Items & Daily\\_Customers & Sales\\_Per\\_Customer\\_Per\\_Visit\\\\\n",
       "  & <date> & <dbl> & <int> & <dbl>\\\\\n",
       "\\hline\n",
       "\t1 & 2013-01-02 & 443 & 326 & 1.358896\\\\\n",
       "\t2 & 2013-01-03 & 493 & 361 & 1.365651\\\\\n",
       "\t3 & 2013-01-04 & 585 & 397 & 1.473552\\\\\n",
       "\t4 & 2013-01-05 & 433 & 325 & 1.332308\\\\\n",
       "\t5 & 2013-01-06 & 227 & 176 & 1.289773\\\\\n",
       "\t6 & 2013-01-07 & 387 & 280 & 1.382143\\\\\n",
       "\\end{tabular}\n"
      ],
      "text/markdown": [
       "\n",
       "A data.frame: 6 × 4\n",
       "\n",
       "| <!--/--> | Sale_Date &lt;date&gt; | Daily_Sales_Items &lt;dbl&gt; | Daily_Customers &lt;int&gt; | Sales_Per_Customer_Per_Visit &lt;dbl&gt; |\n",
       "|---|---|---|---|---|\n",
       "| 1 | 2013-01-02 | 443 | 326 | 1.358896 |\n",
       "| 2 | 2013-01-03 | 493 | 361 | 1.365651 |\n",
       "| 3 | 2013-01-04 | 585 | 397 | 1.473552 |\n",
       "| 4 | 2013-01-05 | 433 | 325 | 1.332308 |\n",
       "| 5 | 2013-01-06 | 227 | 176 | 1.289773 |\n",
       "| 6 | 2013-01-07 | 387 | 280 | 1.382143 |\n",
       "\n"
      ],
      "text/plain": [
       "  Sale_Date  Daily_Sales_Items Daily_Customers Sales_Per_Customer_Per_Visit\n",
       "1 2013-01-02 443               326             1.358896                    \n",
       "2 2013-01-03 493               361             1.365651                    \n",
       "3 2013-01-04 585               397             1.473552                    \n",
       "4 2013-01-05 433               325             1.332308                    \n",
       "5 2013-01-06 227               176             1.289773                    \n",
       "6 2013-01-07 387               280             1.382143                    "
      ]
     },
     "metadata": {},
     "output_type": "display_data"
    }
   ],
   "source": [
    "library(dplyr)\n",
    "\n",
    "# 计算每日 ice cream 销售数量\n",
    "daily_sales <- df %>%\n",
    "  group_by(Sale_Date) %>%\n",
    "  summarise(Daily_Sales_Items = sum(Quantity_Sold))\n",
    "\n",
    "# 计算每日购买 ice cream 的顾客数量\n",
    "daily_customers <- df %>%\n",
    "  distinct(Sale_Date, UniSA_Receipt_No1) %>%\n",
    "  group_by(Sale_Date) %>%\n",
    "  summarise(Daily_Customers = n())\n",
    "\n",
    "# 合并每日销售数量和每日顾客数量\n",
    "daily_stats <- merge(daily_sales, daily_customers, by = \"Sale_Date\")\n",
    "\n",
    "# 计算每次顾客购买 ice cream 的平均销售数量\n",
    "daily_stats$Sales_Per_Customer_Per_Visit <- daily_stats$Daily_Sales_Items / daily_stats$Daily_Customers\n",
    "\n",
    "# 显示前几行数据\n",
    "head(daily_stats)"
   ]
  },
  {
   "cell_type": "code",
   "execution_count": 10,
   "id": "2487507e-182c-4f55-bc2b-b9eb1a4899c4",
   "metadata": {},
   "outputs": [
    {
     "data": {
      "text/plain": [
       "   Sale_Date          Daily_Sales_Items Daily_Customers\n",
       " Min.   :2013-01-02   Min.   : 81.0     Min.   : 71.0  \n",
       " 1st Qu.:2013-09-28   1st Qu.:197.0     1st Qu.:153.0  \n",
       " Median :2014-06-26   Median :261.0     Median :198.0  \n",
       " Mean   :2014-06-29   Mean   :288.5     Mean   :213.3  \n",
       " 3rd Qu.:2015-04-06   3rd Qu.:350.0     3rd Qu.:257.0  \n",
       " Max.   :2015-12-31   Max.   :907.0     Max.   :658.0  \n",
       " Sales_Per_Customer_Per_Visit\n",
       " Min.   :1.094               \n",
       " 1st Qu.:1.266               \n",
       " Median :1.324               \n",
       " Mean   :1.334               \n",
       " 3rd Qu.:1.387               \n",
       " Max.   :1.810               "
      ]
     },
     "metadata": {},
     "output_type": "display_data"
    }
   ],
   "source": [
    "summary(daily_stats)"
   ]
  },
  {
   "cell_type": "code",
   "execution_count": 11,
   "id": "6c5ccda7-d854-403f-80da-86526253110f",
   "metadata": {},
   "outputs": [
    {
     "name": "stdout",
     "output_type": "stream",
     "text": [
      "Average daily ice cream sales (in items): 288.4529 \n",
      "Average daily number of customers buying ice cream: 213.2842 \n",
      "Average sales of ice cream per customer per visit: 1.333713 \n"
     ]
    }
   ],
   "source": [
    "# 计算每日 ice cream 销售数量的平均值\n",
    "average_daily_sales <- mean(daily_stats$Daily_Sales_Items)\n",
    "\n",
    "# 计算每日购买 ice cream 的顾客数量的平均值\n",
    "average_daily_customers <- mean(daily_stats$Daily_Customers)\n",
    "\n",
    "# 计算每次顾客购买 ice cream 的平均销售数量的平均值\n",
    "average_sales_per_customer_per_visit <- mean(daily_stats$Sales_Per_Customer_Per_Visit)\n",
    "\n",
    "# 输出结果\n",
    "cat(\"Average daily ice cream sales (in items):\", average_daily_sales, \"\\n\")\n",
    "cat(\"Average daily number of customers buying ice cream:\", average_daily_customers, \"\\n\")\n",
    "cat(\"Average sales of ice cream per customer per visit:\", average_sales_per_customer_per_visit, \"\\n\")"
   ]
  },
  {
   "cell_type": "markdown",
   "id": "1d25e433-e018-4f80-96c2-adfba48cd880",
   "metadata": {},
   "source": [
    "可视化："
   ]
  },
  {
   "cell_type": "code",
   "execution_count": 14,
   "id": "d33d96bc-9db7-40d5-83ce-588095f0c027",
   "metadata": {},
   "outputs": [
    {
     "data": {
      "image/png": "[encoded data removed]",
      "text/plain": [
       "plot without title"
      ]
     },
     "metadata": {
      "image/png": {
       "height": 420,
       "width": 420
      }
     },
     "output_type": "display_data"
    },
    {
     "data": {
      "image/png": "[encoded data removed]",
      "text/plain": [
       "plot without title"
      ]
     },
     "metadata": {
      "image/png": {
       "height": 420,
       "width": 420
      }
     },
     "output_type": "display_data"
    },
    {
     "data": {
      "image/png": "[encoded data removed]",
      "text/plain": [
       "plot without title"
      ]
     },
     "metadata": {
      "image/png": {
       "height": 420,
       "width": 420
      }
     },
     "output_type": "display_data"
    }
   ],
   "source": [
    "# 导入必要的包\n",
    "library(ggplot2)\n",
    "\n",
    "# 创建直方图\n",
    "ggplot(daily_stats, aes(x = Daily_Sales_Items)) +\n",
    "  geom_histogram(bins = 30, fill = 'skyblue', color = 'black') +\n",
    "  labs(title = 'Distribution of Total Quantity Sold', x = 'Total Quantity Sold', y = 'Frequency')\n",
    "\n",
    "ggplot(daily_stats, aes(x = Daily_Customers)) +\n",
    "  geom_histogram(bins = 30, fill = 'lightgreen', color = 'black') +\n",
    "  labs(title = 'Distribution of Number of Customers', x = 'Number of Customers', y = 'Frequency')\n",
    "\n",
    "ggplot(daily_stats, aes(x = Sales_Per_Customer_Per_Visit)) +\n",
    "  geom_histogram(bins = 30, fill = 'salmon', color = 'black') +\n",
    "  labs(title = 'Distribution of Average Sales per Customer', x = 'Average Sales per Customer', y = 'Frequency')"
   ]
  },
  {
   "cell_type": "markdown",
   "id": "08de82d9-015d-46ad-b061-4d5b3659edb6",
   "metadata": {},
   "source": [
    "# Question #02"
   ]
  },
  {
   "cell_type": "code",
   "execution_count": 18,
   "id": "c3643c36-21de-43f0-90c8-141132f84bf3",
   "metadata": {},
   "outputs": [
    {
     "name": "stdout",
     "output_type": "stream",
     "text": [
      "5% probability quantile: 134 \n",
      "1% probability quantile: 106.72 \n",
      "95% probability quantile: 533 \n",
      "99% probability quantile: 722.4 \n"
     ]
    }
   ],
   "source": [
    "# 计算每日 ice cream 销售数量的分位数\n",
    "p_5 <- quantile(daily_stats$Daily_Sales_Items, probs = 0.05)\n",
    "p_1 <- quantile(daily_stats$Daily_Sales_Items, probs = 0.01)\n",
    "p_95 <- quantile(daily_stats$Daily_Sales_Items, probs = 0.95)\n",
    "p_99 <- quantile(daily_stats$Daily_Sales_Items, probs = 0.99)\n",
    "\n",
    "# 显示结果\n",
    "cat(\"5% probability quantile:\", p_5, \"\\n\")\n",
    "cat(\"1% probability quantile:\", p_1, \"\\n\")\n",
    "cat(\"95% probability quantile:\", p_95, \"\\n\")\n",
    "cat(\"99% probability quantile:\", p_99, \"\\n\")"
   ]
  },
  {
   "cell_type": "code",
   "execution_count": 19,
   "id": "6a078474-aa3c-421e-93b9-eaa35aaa51ad",
   "metadata": {},
   "outputs": [
    {
     "data": {
      "image/png": "[encoded data removed]",
      "text/plain": [
       "plot without title"
      ]
     },
     "metadata": {
      "image/png": {
       "height": 420,
       "width": 420
      }
     },
     "output_type": "display_data"
    }
   ],
   "source": [
    "# 创建箱线图\n",
    "ggplot(daily_stats, aes(y = Daily_Sales_Items)) +\n",
    "  geom_boxplot(fill = 'lightblue') +\n",
    "  geom_hline(yintercept = c(p_5, p_1, p_95, p_99), col = c('red', 'blue', 'green', 'purple'), linetype = 'dashed') +\n",
    "  labs(title = 'Distribution of Daily Ice Cream Sales Quantity',\n",
    "       y = 'Daily Sales Quantity') +\n",
    "  scale_y_continuous(breaks = seq(0, max(daily_stats$Daily_Sales_Items), by = 500)) +\n",
    "  theme_minimal()"
   ]
  },
  {
   "cell_type": "code",
   "execution_count": 26,
   "id": "ffdfb67d-089f-4b53-ac92-e61a1b97e90b",
   "metadata": {},
   "outputs": [
    {
     "data": {
      "image/png": "[encoded data removed]",
      "text/plain": [
       "plot without title"
      ]
     },
     "metadata": {
      "image/png": {
       "height": 420,
       "width": 420
      }
     },
     "output_type": "display_data"
    }
   ],
   "source": [
    "# 创建直方图\n",
    "ggplot(daily_stats, aes(x = Daily_Sales_Items)) +\n",
    "  geom_histogram(bins = 30, fill = 'skyblue', color = 'black') +\n",
    "  labs(title = 'Distribution of Daily Ice Cream Sales with Risk Percentiles',\n",
    "       x = 'Daily Ice Cream Sales',\n",
    "       y = 'Frequency') +\n",
    "  # 添加分位数的线\n",
    "  geom_vline(xintercept = p_5, color = 'red', linetype = 'dashed', size = 1, alpha = 0.8) +\n",
    "  geom_vline(xintercept = p_1, color = 'purple', linetype = 'dashed', size = 1, alpha = 0.8) +\n",
    "  geom_vline(xintercept = p_95, color = 'green', linetype = 'dashed', size = 1, alpha = 0.8) +\n",
    "  geom_vline(xintercept = p_99, color = 'orange', linetype = 'dashed', size = 1, alpha = 0.8) +\n",
    "  # 添加分位数的标签和数字\n",
    "  annotate(\"text\", x = p_5, y = Inf, label = \"5% Percentile\", vjust = 1.5, hjust = 0, color = \"red\") +\n",
    "  annotate(\"text\", x = p_1, y = Inf, label = \"1% Percentile\", vjust = 1.5, hjust = 0, color = \"purple\") +\n",
    "  annotate(\"text\", x = p_95, y = Inf, label = \"95% Percentile\", vjust = 1.5, hjust = 0, color = \"green\") +\n",
    "  annotate(\"text\", x = p_99, y = Inf, label = \"99% Percentile\", vjust = 1.5, hjust = 0, color = \"orange\") +\n",
    "  scale_x_continuous(breaks = seq(0, max(daily_stats$Daily_Sales_Items), by = 500)) +\n",
    "  theme_minimal() +\n",
    "  theme(legend.position = 'none')"
   ]
  },
  {
   "cell_type": "code",
   "execution_count": null,
   "id": "95dfc1d2-1dec-46bd-8f91-7d8902cb6416",
   "metadata": {},
   "outputs": [],
   "source": []
  }
 ],
 "metadata": {
  "kernelspec": {
   "display_name": "R",
   "language": "R",
   "name": "ir"
  },
  "language_info": {
   "codemirror_mode": "r",
   "file_extension": ".r",
   "mimetype": "text/x-r-source",
   "name": "R",
   "pygments_lexer": "r",
   "version": "4.3.3"
  }
 },
 "nbformat": 4,
 "nbformat_minor": 5
}
