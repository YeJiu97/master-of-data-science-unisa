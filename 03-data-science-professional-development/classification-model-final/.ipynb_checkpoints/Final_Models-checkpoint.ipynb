{
 "cells": [
  {
   "cell_type": "markdown",
   "id": "0e76b6a6-b88f-46ea-a1f8-ff1dc46d6b45",
   "metadata": {},
   "source": [
    "# Import Data Set and Deal with Data Set"
   ]
  },
  {
   "cell_type": "markdown",
   "id": "53538057-1680-4555-b193-4583df8a36ca",
   "metadata": {},
   "source": [
    "**Step 1: First import the datase**"
   ]
  },
  {
   "cell_type": "code",
   "execution_count": 1,
   "id": "b26f0d5f-3e5a-45f9-8ad0-3eb50e10b062",
   "metadata": {},
   "outputs": [],
   "source": [
    "import pandas as pd\n",
    "\n",
    "file_path = \"melb_housing_filtered3.csv\"\n",
    "\n",
    "data = pd.read_csv(file_path)"
   ]
  },
  {
   "cell_type": "markdown",
   "id": "8b910ce6-1a69-4ad4-910d-8d65d9cef0e3",
   "metadata": {},
   "source": [
    "This data set has removed outliers. Here we modify the representation format of ADDRESS, and then remove DATE, YEARBUILT, LATTITUDE and LONGTITUDE:"
   ]
  },
  {
   "cell_type": "markdown",
   "id": "b31b35fd-0133-4201-bf44-30a035ed98f3",
   "metadata": {},
   "source": [
    "**Step 2: Delete some irrelevant or no longer necessary columns**"
   ]
  },
  {
   "cell_type": "code",
   "execution_count": 2,
   "id": "c2ab57e3-7419-4309-bf54-a9770832ed9b",
   "metadata": {},
   "outputs": [],
   "source": [
    "data['ADDRESS'] = data['ADDRESS'].str.split().str[-2:].str.join(' ')\n",
    "# 删除\"DATE\"和\"YEARBUILT\"列\n",
    "data.drop(columns=['DATE', 'YEARBUILT', 'LATTITUDE', 'LONGTITUDE'], inplace=True)"
   ]
  },
  {
   "cell_type": "markdown",
   "id": "395702a0-f6f7-41fe-8238-542b0e267dc3",
   "metadata": {},
   "source": [
    "Since price_by_area is obtained through LANDSIZE, BUILDGAR and PRICE, these three columns are also removed here:"
   ]
  },
  {
   "cell_type": "code",
   "execution_count": 3,
   "id": "4d4bed9b-2f78-406a-a19d-334dd633ab96",
   "metadata": {},
   "outputs": [],
   "source": [
    "data.drop(columns=['LANDSIZE', 'PRICE', 'BUILDINGAR', 'LANDSIZE'], inplace=True)"
   ]
  },
  {
   "cell_type": "code",
   "execution_count": 4,
   "id": "4233db88-9248-4827-ac96-58b6df25822b",
   "metadata": {},
   "outputs": [],
   "source": [
    "data.drop(columns=['PROPERTYCO'], inplace = True)"
   ]
  },
  {
   "cell_type": "markdown",
   "id": "0075869a-8b59-402b-9b65-0a8906ea5200",
   "metadata": {},
   "source": [
    "**Step 4: Divide into multiple sub-datasets according to type**"
   ]
  },
  {
   "cell_type": "code",
   "execution_count": 5,
   "id": "3aa327d5-f952-427d-9d61-9ea2305ea958",
   "metadata": {},
   "outputs": [
    {
     "name": "stdout",
     "output_type": "stream",
     "text": [
      "h    4046\n",
      "u    1414\n",
      "t     571\n",
      "Name: TYPE, dtype: int64\n"
     ]
    }
   ],
   "source": [
    "type_counts = data['TYPE'].value_counts()\n",
    "print(type_counts)"
   ]
  },
  {
   "cell_type": "code",
   "execution_count": 6,
   "id": "ebf47574-7b22-4dfa-86a2-96e82e6a0a4e",
   "metadata": {},
   "outputs": [],
   "source": [
    "# Use groupby to group data according to the \"TYPE\" column\n",
    "grouped = data.groupby('TYPE')\n",
    "\n",
    "#Create a dictionary to store different types of sub-datasets\n",
    "sub_datasets = {}\n",
    "\n",
    "# Loop through each group and store it in a dictionary\n",
    "for group_name, group_data in grouped:\n",
    "     sub_datasets[group_name] = group_data\n",
    "\n",
    "# Now you can access different types of subdatasets, for example:\n",
    "house_data = sub_datasets['h'] # Get sub-datasets of type \"house\"\n",
    "unit_data = sub_datasets['u'] # Get the sub-dataset of type \"unit\"\n",
    "townhouse_data = sub_datasets['t'] # Get sub-datasets of type \"townhouse\""
   ]
  },
  {
   "cell_type": "markdown",
   "id": "506cd99d-a944-4380-a7ec-ceaf9779df3e",
   "metadata": {},
   "source": [
    "Drop 'Type' from each dataset:"
   ]
  },
  {
   "cell_type": "code",
   "execution_count": 7,
   "id": "88888817-bdbf-4e25-ac81-4dd372d318f8",
   "metadata": {},
   "outputs": [],
   "source": [
    "# Remove the \"TYPE\" column from the \"house\" type subdataset\n",
    "house_data = sub_datasets['h'].drop(columns=['TYPE'])\n",
    "\n",
    "# Remove the \"TYPE\" column from the \"unit\" type subdataset\n",
    "unit_data = sub_datasets['u'].drop(columns=['TYPE'])\n",
    "\n",
    "# Remove the \"TYPE\" column from the \"townhouse\" type subdataset\n",
    "townhouse_data = sub_datasets['t'].drop(columns=['TYPE'])"
   ]
  },
  {
   "cell_type": "markdown",
   "id": "7078a545-0e0c-4549-b7c7-417488921f11",
   "metadata": {},
   "source": [
    "# Features Selection"
   ]
  },
  {
   "cell_type": "markdown",
   "id": "354929be-9860-40e4-b89d-8acc28e56ca8",
   "metadata": {},
   "source": [
    "**Step 3: Perform correlation analysis on category variables in each sub-dataset.**"
   ]
  },
  {
   "cell_type": "code",
   "execution_count": 8,
   "id": "8707b3a8-1794-4ed7-a657-c9b39e3b9097",
   "metadata": {},
   "outputs": [],
   "source": [
    "# List of column names\n",
    "category_columns = ['SUBURB', 'ADDRESS', 'METHOD', 'SELLERG', 'COUNCILARE', 'REGIONNAME', 'POSTCODE', \"AREANUM\"]\n",
    "\n",
    "# Change columns to category type in each subdataset\n",
    "for dataset in [house_data, unit_data, townhouse_data]:\n",
    "     dataset[category_columns] = dataset[category_columns].astype('category')"
   ]
  },
  {
   "cell_type": "code",
   "execution_count": 9,
   "id": "e81811af-3ba4-42c8-ac58-a2445a60755f",
   "metadata": {},
   "outputs": [],
   "source": [
    "# Extract \"category\" data from \"house_data\"\n",
    "house_data_category = house_data.select_dtypes(include='category')\n",
    "\n",
    "# Extract \"category\" data from \"unit_data\"\n",
    "unit_data_category = unit_data.select_dtypes(include='category')\n",
    "\n",
    "# Extract \"category\" data from \"townhouse_data\"\n",
    "townhouse_data_category = townhouse_data.select_dtypes(include='category')"
   ]
  },
  {
   "cell_type": "markdown",
   "id": "7124bdca-d879-4050-9fe6-8cc68b09fc34",
   "metadata": {},
   "source": [
    "house_data_category"
   ]
  },
  {
   "cell_type": "code",
   "execution_count": 10,
   "id": "afb4e86f-0d8a-4222-b3b9-68df52aaa8fe",
   "metadata": {},
   "outputs": [
    {
     "name": "stdout",
     "output_type": "stream",
     "text": [
      "              SUBURB   ADDRESS    METHOD   SELLERG  POSTCODE COUNCILARE  \\\n",
      "SUBURB           1.0  0.497127  0.154173  0.338493  0.987244   0.953814   \n",
      "ADDRESS     0.497127       1.0       0.0  0.285704  0.490121   0.492935   \n",
      "METHOD      0.154173       0.0       1.0  0.116533  0.150429   0.142439   \n",
      "SELLERG     0.338493  0.285704  0.116533       1.0  0.310035   0.446842   \n",
      "POSTCODE    0.987244  0.490121  0.150429  0.310035       1.0   0.947228   \n",
      "COUNCILARE  0.953814  0.492935  0.142439  0.446842  0.947228        1.0   \n",
      "REGIONNAME  0.965989  0.528214   0.11071  0.527918   0.93845    0.80243   \n",
      "AREANUM     0.965893  0.455298  0.092873  0.496796  0.952599   0.743758   \n",
      "\n",
      "           REGIONNAME   AREANUM  \n",
      "SUBURB       0.965989  0.965893  \n",
      "ADDRESS      0.528214  0.455298  \n",
      "METHOD        0.11071  0.092873  \n",
      "SELLERG      0.527918  0.496796  \n",
      "POSTCODE      0.93845  0.952599  \n",
      "COUNCILARE    0.80243  0.743758  \n",
      "REGIONNAME        1.0  0.495689  \n",
      "AREANUM      0.495689       1.0  \n"
     ]
    }
   ],
   "source": [
    "import pandas as pd\n",
    "from scipy.stats import chi2_contingency\n",
    "import numpy as np\n",
    "\n",
    "# Create an empty correlation matrix\n",
    "correlation_matrix = pd.DataFrame(index=house_data_category.columns, columns=house_data_category.columns)\n",
    "\n",
    "# Loop to calculate Cramér's V and populate the correlation matrix\n",
    "for col1 in house_data_category.columns:\n",
    "     for col2 in house_data_category.columns:\n",
    "         if col1 == col2:\n",
    "             correlation_matrix.loc[col1, col2] = 1.0\n",
    "         else:\n",
    "             #Create contingency table\n",
    "             contingency_table = pd.crosstab(house_data_category[col1], house_data_category[col2])\n",
    "             chi2, _, _, _ = chi2_contingency(contingency_table)\n",
    "             n = contingency_table.sum().sum()\n",
    "             phi2 = chi2/n\n",
    "             r, k = contingency_table.shape\n",
    "             phi2corr = max(0, phi2 - ((k-1)*(r-1))/(n-1))\n",
    "             rcorr = r - ((r-1)**2)/(n-1)\n",
    "             kcorr = k - ((k-1)**2)/(n-1)\n",
    "             correlation_matrix.loc[col1, col2] = np.sqrt(phi2corr / min((kcorr-1), (rcorr-1)))\n",
    "\n",
    "# Display correlation matrix\n",
    "print(correlation_matrix)"
   ]
  },
  {
   "cell_type": "markdown",
   "id": "83b377ef-ed78-452b-a4fb-6630f39bf8a1",
   "metadata": {},
   "source": [
    "The results show that there is a significant correlation between \"SUBURB\", \"COUNCILARE\", \"POSTCODE\", \"REGIONNAME\" and \"AREANUM\"."
   ]
  },
  {
   "cell_type": "code",
   "execution_count": 11,
   "id": "264e16ed-8d68-4eb7-8200-01b2927de929",
   "metadata": {},
   "outputs": [
    {
     "name": "stdout",
     "output_type": "stream",
     "text": [
      "Number of different values:\n",
      "SUBURB: 278\n",
      "REGIONNAME: 8\n",
      "COUNCILARE: 31\n",
      "POSTCODE 180\n",
      "AREANUM 9\n"
     ]
    }
   ],
   "source": [
    "# Count the number of distinct values in the \"SUBURB\" column\n",
    "suburb_count = house_data_category['SUBURB'].nunique()\n",
    "\n",
    "# Count the number of distinct values in the \"REGIONNAME\" column\n",
    "regionname_count = house_data_category['REGIONNAME'].nunique()\n",
    "\n",
    "# Count the number of distinct values in the \"COUNCILARE\" column\n",
    "councilare_count = house_data_category['COUNCILARE'].nunique()\n",
    "\n",
    "# POSTCODE\n",
    "postcode_count = house_data_category['POSTCODE'].nunique()\n",
    "\n",
    "# AREANUM\n",
    "areanum_count =  house_data_category['AREANUM'].nunique()\n",
    "\n",
    "print(\"Number of different values:\")\n",
    "print(\"SUBURB:\", suburb_count)\n",
    "print(\"REGIONNAME:\", regionname_count)\n",
    "print(\"COUNCILARE:\", councilare_count)\n",
    "print('POSTCODE', postcode_count)\n",
    "print('AREANUM', areanum_count)"
   ]
  },
  {
   "cell_type": "markdown",
   "id": "292d37ab-08c3-493b-8909-7108f5ccbc53",
   "metadata": {},
   "source": [
    "Since the number of regionnames is minimal, retaining regionnames can simplify the model as much as possible."
   ]
  },
  {
   "cell_type": "code",
   "execution_count": 12,
   "id": "140b6070-08dc-473e-8714-d4af9399ac9e",
   "metadata": {},
   "outputs": [],
   "source": [
    "# Remove \"SUBURB\" and \"COUNCILARE\" columns from \"house_data\"\n",
    "house_data = house_data.drop(columns=['SUBURB', 'COUNCILARE', \"POSTCODE\", \"AREANUM\"])"
   ]
  },
  {
   "cell_type": "markdown",
   "id": "1d52c4cb-da5b-4c91-a723-26fe40b042b0",
   "metadata": {},
   "source": [
    "uni_data_category"
   ]
  },
  {
   "cell_type": "code",
   "execution_count": 13,
   "id": "cf572558-1b49-4690-ac59-4610ec1b6172",
   "metadata": {},
   "outputs": [
    {
     "name": "stdout",
     "output_type": "stream",
     "text": [
      "              SUBURB   ADDRESS    METHOD   SELLERG  POSTCODE COUNCILARE  \\\n",
      "SUBURB           1.0  0.575663       0.0  0.333368  0.983192   0.933239   \n",
      "ADDRESS     0.575663       1.0       0.0   0.20278  0.571421   0.571494   \n",
      "METHOD           0.0       0.0       1.0  0.272646       0.0   0.104342   \n",
      "SELLERG     0.333368   0.20278  0.272646       1.0  0.312916   0.453384   \n",
      "POSTCODE    0.983192  0.571421       0.0  0.312916       1.0   0.936739   \n",
      "COUNCILARE  0.933239  0.571494  0.104342  0.453384  0.936739        1.0   \n",
      "REGIONNAME  0.941092  0.477135  0.061019  0.490735  0.947839   0.836458   \n",
      "AREANUM     0.942096  0.581031  0.070077  0.474101  0.923936   0.705238   \n",
      "\n",
      "           REGIONNAME   AREANUM  \n",
      "SUBURB       0.941092  0.942096  \n",
      "ADDRESS      0.477135  0.581031  \n",
      "METHOD       0.061019  0.070077  \n",
      "SELLERG      0.490735  0.474101  \n",
      "POSTCODE     0.947839  0.923936  \n",
      "COUNCILARE   0.836458  0.705238  \n",
      "REGIONNAME        1.0  0.501009  \n",
      "AREANUM      0.501009       1.0  \n"
     ]
    }
   ],
   "source": [
    "import pandas as pd\n",
    "from scipy.stats import chi2_contingency\n",
    "import numpy as np\n",
    "\n",
    "# Create an empty correlation matrix\n",
    "correlation_matrix = pd.DataFrame(index=unit_data_category.columns, columns=unit_data_category.columns)\n",
    "\n",
    "# Loop to calculate Cramér's V and populate the correlation matrix\n",
    "for col1 in unit_data_category.columns:\n",
    "     for col2 in unit_data_category.columns:\n",
    "         if col1 == col2:\n",
    "             correlation_matrix.loc[col1, col2] = 1.0\n",
    "         else:\n",
    "             #Create contingency table\n",
    "             contingency_table = pd.crosstab(unit_data_category[col1], unit_data_category[col2])\n",
    "             chi2, _, _, _ = chi2_contingency(contingency_table)\n",
    "             n = contingency_table.sum().sum()\n",
    "             phi2 = chi2/n\n",
    "             r, k = contingency_table.shape\n",
    "             phi2corr = max(0, phi2 - ((k-1)*(r-1))/(n-1))\n",
    "             rcorr = r - ((r-1)**2)/(n-1)\n",
    "             kcorr = k - ((k-1)**2)/(n-1)\n",
    "             correlation_matrix.loc[col1, col2] = np.sqrt(phi2corr / min((kcorr-1), (rcorr-1)))\n",
    "\n",
    "# Display correlation matrix\n",
    "print(correlation_matrix)"
   ]
  },
  {
   "cell_type": "code",
   "execution_count": 14,
   "id": "d9a6b459-3d99-48ac-b278-830be18470ce",
   "metadata": {},
   "outputs": [
    {
     "name": "stdout",
     "output_type": "stream",
     "text": [
      "Number of different values:\n",
      "SUBURB: 167\n",
      "REGIONNAME: 6\n",
      "COUNCILARE: 25\n",
      "POSTCODE 124\n",
      "AREANUM 9\n"
     ]
    }
   ],
   "source": [
    "# Count the number of distinct values in the \"SUBURB\" column\n",
    "suburb_count = unit_data_category['SUBURB'].nunique()\n",
    "\n",
    "# Count the number of distinct values in the \"REGIONNAME\" column\n",
    "regionname_count = unit_data_category['REGIONNAME'].nunique()\n",
    "\n",
    "# Count the number of distinct values in the \"COUNCILARE\" column\n",
    "councilare_count = unit_data_category['COUNCILARE'].nunique()\n",
    "\n",
    "# POSTCODE\n",
    "postcode_count = unit_data_category['POSTCODE'].nunique()\n",
    "\n",
    "# AREANUM\n",
    "areanum_count =  unit_data_category['AREANUM'].nunique()\n",
    "\n",
    "print(\"Number of different values:\")\n",
    "print(\"SUBURB:\", suburb_count)\n",
    "print(\"REGIONNAME:\", regionname_count)\n",
    "print(\"COUNCILARE:\", councilare_count)\n",
    "print('POSTCODE', postcode_count)\n",
    "print('AREANUM', areanum_count)"
   ]
  },
  {
   "cell_type": "markdown",
   "id": "211a3b10-1510-4278-8ba5-f562d2044ba6",
   "metadata": {},
   "source": [
    "Based on approximate results and for the same reason, 'SUBURB', 'COUNCILARE', \"POSTCODE\" and \"AREANUM\" will be removed here."
   ]
  },
  {
   "cell_type": "code",
   "execution_count": 15,
   "id": "df967bc6-bb5b-4c64-8429-1c67fb234be6",
   "metadata": {},
   "outputs": [],
   "source": [
    "unit_data = unit_data.drop(columns=['SUBURB', 'COUNCILARE', \"POSTCODE\", \"AREANUM\"])"
   ]
  },
  {
   "cell_type": "markdown",
   "id": "0428911e-a76c-4757-a689-2aaf7149b358",
   "metadata": {},
   "source": [
    "townhouse_data"
   ]
  },
  {
   "cell_type": "code",
   "execution_count": 16,
   "id": "bf979431-078c-49f6-81aa-3cd47a3b8f65",
   "metadata": {},
   "outputs": [
    {
     "name": "stdout",
     "output_type": "stream",
     "text": [
      "              SUBURB   ADDRESS    METHOD   SELLERG  POSTCODE COUNCILARE  \\\n",
      "SUBURB           1.0  0.407445  0.061491  0.322014  0.963942   0.870939   \n",
      "ADDRESS     0.407445       1.0  0.199242       0.0  0.359566   0.303751   \n",
      "METHOD      0.061491  0.199242       1.0  0.172361  0.125534   0.114664   \n",
      "SELLERG     0.322014       0.0  0.172361       1.0  0.348698   0.464822   \n",
      "POSTCODE    0.963942  0.359566  0.125534  0.348698       1.0   0.889515   \n",
      "COUNCILARE  0.870939  0.303751  0.114664  0.464822  0.889515        1.0   \n",
      "REGIONNAME  0.874653   0.36218  0.072982  0.542211  0.903454   0.905855   \n",
      "AREANUM      0.87698  0.333915   0.10387  0.486385  0.854178   0.716266   \n",
      "\n",
      "           REGIONNAME   AREANUM  \n",
      "SUBURB       0.874653   0.87698  \n",
      "ADDRESS       0.36218  0.333915  \n",
      "METHOD       0.072982   0.10387  \n",
      "SELLERG      0.542211  0.486385  \n",
      "POSTCODE     0.903454  0.854178  \n",
      "COUNCILARE   0.905855  0.716266  \n",
      "REGIONNAME        1.0  0.677166  \n",
      "AREANUM      0.677166       1.0  \n"
     ]
    }
   ],
   "source": [
    "import pandas as pd\n",
    "from scipy.stats import chi2_contingency\n",
    "import numpy as np\n",
    "\n",
    "# Create an empty correlation matrix\n",
    "correlation_matrix = pd.DataFrame(index=townhouse_data_category.columns, columns=townhouse_data_category.columns)\n",
    "\n",
    "# Loop to calculate Cramér's V and populate the correlation matrix\n",
    "for col1 in townhouse_data_category.columns:\n",
    "     for col2 in townhouse_data_category.columns:\n",
    "         if col1 == col2:\n",
    "             correlation_matrix.loc[col1, col2] = 1.0\n",
    "         else:\n",
    "             #Create contingency table\n",
    "             contingency_table = pd.crosstab(townhouse_data_category[col1], townhouse_data_category[col2])\n",
    "             chi2, _, _, _ = chi2_contingency(contingency_table)\n",
    "             n = contingency_table.sum().sum()\n",
    "             phi2 = chi2/n\n",
    "             r, k = contingency_table.shape\n",
    "             phi2corr = max(0, phi2 - ((k-1)*(r-1))/(n-1))\n",
    "             rcorr = r - ((r-1)**2)/(n-1)\n",
    "             kcorr = k - ((k-1)**2)/(n-1)\n",
    "             correlation_matrix.loc[col1, col2] = np.sqrt(phi2corr / min((kcorr-1), (rcorr-1)))\n",
    "\n",
    "# Display correlation matrix\n",
    "print(correlation_matrix)"
   ]
  },
  {
   "cell_type": "code",
   "execution_count": 17,
   "id": "77690d60-05ce-48ab-ab2e-0a613650ec7d",
   "metadata": {},
   "outputs": [
    {
     "name": "stdout",
     "output_type": "stream",
     "text": [
      "Number of different values:\n",
      "SUBURB: 138\n",
      "REGIONNAME: 5\n",
      "COUNCILARE: 23\n",
      "POSTCODE 105\n",
      "AREANUM 8\n"
     ]
    }
   ],
   "source": [
    "# Count the number of distinct values in the \"SUBURB\" column\n",
    "suburb_count = townhouse_data_category['SUBURB'].nunique()\n",
    "\n",
    "# Count the number of distinct values in the \"REGIONNAME\" column\n",
    "regionname_count = townhouse_data_category['REGIONNAME'].nunique()\n",
    "\n",
    "# Count the number of distinct values in the \"COUNCILARE\" column\n",
    "councilare_count = townhouse_data_category['COUNCILARE'].nunique()\n",
    "\n",
    "# POSTCODE\n",
    "postcode_count = townhouse_data_category['POSTCODE'].nunique()\n",
    "\n",
    "# AREANUM\n",
    "areanum_count =  townhouse_data_category['AREANUM'].nunique()\n",
    "\n",
    "print(\"Number of different values:\")\n",
    "print(\"SUBURB:\", suburb_count)\n",
    "print(\"REGIONNAME:\", regionname_count)\n",
    "print(\"COUNCILARE:\", councilare_count)\n",
    "print('POSTCODE', postcode_count)\n",
    "print('AREANUM', areanum_count)"
   ]
  },
  {
   "cell_type": "markdown",
   "id": "e3a92328-f7c8-44f5-a3e6-a273e95d1689",
   "metadata": {},
   "source": [
    "Based on approximate results and for the same reason, 'SUBURB', 'COUNCILARE', \"POSTCODE\" amd \"AREANUM\" will be removed here."
   ]
  },
  {
   "cell_type": "code",
   "execution_count": 18,
   "id": "6b3a5975-ea71-4afa-9e41-1eff232c569b",
   "metadata": {},
   "outputs": [],
   "source": [
    "townhouse_data_category = townhouse_data_category.drop(columns=['SUBURB', 'COUNCILARE', \"POSTCODE\", \"AREANUM\"])"
   ]
  },
  {
   "cell_type": "markdown",
   "id": "25aa0dc8-cdbb-4ad1-b3c0-e4b0355a31c5",
   "metadata": {},
   "source": [
    "**step 4: Perform correlation analysis on category variables in each sub-dataset.**"
   ]
  },
  {
   "cell_type": "code",
   "execution_count": 19,
   "id": "31ecaccb-21dc-4ada-8f09-4feb921cbefd",
   "metadata": {},
   "outputs": [],
   "source": [
    "# Extract integer and floating point data from \"house_data\"\n",
    "house_data_num = house_data.select_dtypes(include=['int64', 'float64'])\n",
    "\n",
    "# Extract integer and floating point data from \"unit_data\"\n",
    "unit_data_num = unit_data.select_dtypes(include=['int64', 'float64'])\n",
    "\n",
    "# Extract integer and floating point data from \"townhouse_data\"\n",
    "townhouse_data_num = townhouse_data.select_dtypes(include=['int64', 'float64'])\n",
    "\n",
    "# Exclude \"price_by_area\" column from \"house_data\"\n",
    "house_data_num = house_data_num.drop(columns=['price_by_area'])\n",
    "\n",
    "# Exclude \"price_by_area\" column from \"unit_data\"\n",
    "unit_data_num = unit_data_num.drop(columns=['price_by_area'])\n",
    "\n",
    "# Exclude \"price_by_area\" column from \"townhouse_data\"\n",
    "townhouse_data_num = townhouse_data_num.drop(columns=['price_by_area'])"
   ]
  },
  {
   "cell_type": "markdown",
   "id": "fcc510b4-c9f0-4a0e-91f6-2f98cd7eff2a",
   "metadata": {},
   "source": [
    "house_data"
   ]
  },
  {
   "cell_type": "code",
   "execution_count": 20,
   "id": "f4488379-7d4b-4463-9821-aa609ebbf49b",
   "metadata": {},
   "outputs": [
    {
     "data": {
      "image/png": "[encoded data removed]",
      "text/plain": [
       "<Figure size 1200x800 with 2 Axes>"
      ]
     },
     "metadata": {},
     "output_type": "display_data"
    }
   ],
   "source": [
    "import pandas as pd\n",
    "import seaborn as sns\n",
    "import matplotlib.pyplot as plt\n",
    "\n",
    "# Calculate correlation matrix\n",
    "correlation_matrix = house_data_num.corr()\n",
    "\n",
    "# Visualize the correlation matrix using heatmaps\n",
    "plt.figure(figsize=(12, 8))\n",
    "sns.heatmap(correlation_matrix, annot=True, cmap='coolwarm', fmt=\".2f\")\n",
    "plt.title(\"Correlation Heatmap for house_data_num\")\n",
    "plt.show()"
   ]
  },
  {
   "cell_type": "markdown",
   "id": "d254c2e4-3748-4b59-abd9-39754c6445ac",
   "metadata": {},
   "source": [
    "From the visual results, there is a high or moderate positive correlation between ROOMS and BEDROOM2 and BATHROOM. Here we choose to remove BEDROOM2 and BATHROOM."
   ]
  },
  {
   "cell_type": "code",
   "execution_count": 21,
   "id": "0ca53b94-679c-4e60-b772-33d5ae79968a",
   "metadata": {},
   "outputs": [],
   "source": [
    "# Remove the \"BEDROOM2\" and \"BATHROOM\" columns from \"house_data\"\n",
    "house_data = house_data.drop(columns=['BEDROOM2', 'BATHROOM'])"
   ]
  },
  {
   "cell_type": "markdown",
   "id": "46dc94b2-b575-44b7-bb00-6f4680095f39",
   "metadata": {},
   "source": [
    "unit_data"
   ]
  },
  {
   "cell_type": "code",
   "execution_count": 22,
   "id": "711367df-da0f-490c-b11b-0ddc1a18318f",
   "metadata": {},
   "outputs": [
    {
     "data": {
      "image/png": "[encoded data removed]",
      "text/plain": [
       "<Figure size 1200x800 with 2 Axes>"
      ]
     },
     "metadata": {},
     "output_type": "display_data"
    }
   ],
   "source": [
    "import pandas as pd\n",
    "import seaborn as sns\n",
    "import matplotlib.pyplot as plt\n",
    "\n",
    "# Calculate correlation matrix\n",
    "correlation_matrix = unit_data_num.corr()\n",
    "\n",
    "# Visualize the correlation matrix using heatmaps\n",
    "plt.figure(figsize=(12, 8))\n",
    "sns.heatmap(correlation_matrix, annot=True, cmap='coolwarm', fmt=\".2f\")\n",
    "plt.title(\"Correlation Heatmap for unit_data_num\")\n",
    "plt.show()"
   ]
  },
  {
   "cell_type": "markdown",
   "id": "f032a714-f1ac-45c7-a570-aa8b776bfdfb",
   "metadata": {},
   "source": [
    "It can be found that for Unit type data, there is no obvious positive correlation between ROOM2 and BATHROOM.\r\n",
    "\r\n",
    "So only \"BEDROOM2\" is removed here."
   ]
  },
  {
   "cell_type": "code",
   "execution_count": 23,
   "id": "e3b6ae7a-2032-4555-8765-865d51ac233a",
   "metadata": {},
   "outputs": [],
   "source": [
    "# Remove the \"BEDROOM2\" and \"BATHROOM\" columns from \"house_data\"\n",
    "unit_data = unit_data.drop(columns=['BEDROOM2'])"
   ]
  },
  {
   "cell_type": "markdown",
   "id": "9b186150-44c8-4700-9cd5-a4d6a51fbfd8",
   "metadata": {},
   "source": [
    "townhouse_data"
   ]
  },
  {
   "cell_type": "code",
   "execution_count": 24,
   "id": "06aebdfc-643d-453f-b835-5ce7b4956bb0",
   "metadata": {},
   "outputs": [
    {
     "data": {
      "image/png": "[encoded data removed]",
      "text/plain": [
       "<Figure size 1200x800 with 2 Axes>"
      ]
     },
     "metadata": {},
     "output_type": "display_data"
    }
   ],
   "source": [
    "import pandas as pd\n",
    "import seaborn as sns\n",
    "import matplotlib.pyplot as plt\n",
    "\n",
    "# Calculate correlation matrix\n",
    "correlation_matrix = townhouse_data_num.corr()\n",
    "\n",
    "# Visualize the correlation matrix using heatmaps\n",
    "plt.figure(figsize=(12, 8))\n",
    "sns.heatmap(correlation_matrix, annot=True, cmap='coolwarm', fmt=\".2f\")\n",
    "plt.title(\"Correlation Heatmap for townhouse_data_num\")\n",
    "plt.show()"
   ]
  },
  {
   "cell_type": "markdown",
   "id": "03c39150-e7ca-4668-87b4-d37bff59058f",
   "metadata": {},
   "source": [
    "The correlations shown by the numerical variables of TOWNHOUSE and HOUSE are basically close."
   ]
  },
  {
   "cell_type": "code",
   "execution_count": 25,
   "id": "3373b895-4063-4ab9-b53b-b2c4f3490d4e",
   "metadata": {},
   "outputs": [],
   "source": [
    "# Remove the \"BEDROOM2\" and \"BATHROOM\" columns from \"house_data\"\n",
    "townhouse_data = townhouse_data.drop(columns=['BEDROOM2', 'BATHROOM'])"
   ]
  },
  {
   "cell_type": "markdown",
   "id": "a069a04e-6821-4485-81ac-ae8b2fd37807",
   "metadata": {},
   "source": [
    "# Models Building"
   ]
  },
  {
   "cell_type": "markdown",
   "id": "06d701f5-2400-47dc-a72a-383fd00f18c3",
   "metadata": {},
   "source": [
    "## Generate new variables as target variable"
   ]
  },
  {
   "cell_type": "markdown",
   "id": "600ad22c-eb48-4a28-a303-c91f09c8211c",
   "metadata": {},
   "source": [
    "**house_data**"
   ]
  },
  {
   "cell_type": "code",
   "execution_count": 26,
   "id": "8136e10b-6ab2-4f5f-a74e-c5594d8ef01f",
   "metadata": {},
   "outputs": [
    {
     "data": {
      "image/png": "[encoded data removed]",
      "text/plain": [
       "<Figure size 1000x600 with 1 Axes>"
      ]
     },
     "metadata": {},
     "output_type": "display_data"
    }
   ],
   "source": [
    "import seaborn as sns\n",
    "import matplotlib.pyplot as plt\n",
    "\n",
    "plt.figure(figsize=(10, 6))\n",
    "sns.histplot(house_data['price_by_area'], kde=True, color='b')\n",
    "plt.title(\"Distribution of 'price_by_area' in house_data\")\n",
    "plt.xlabel(\"Price by Area\")\n",
    "plt.ylabel(\"Frequency\")\n",
    "plt.show()"
   ]
  },
  {
   "cell_type": "code",
   "execution_count": 27,
   "id": "f0cc52f2-e87a-474d-b10d-12ba4c8b56c8",
   "metadata": {
    "scrolled": true
   },
   "outputs": [],
   "source": [
    "import numpy as np\n",
    "import pandas as pd\n",
    "\n",
    "\n",
    "# 1. 计算平均值和标准差\n",
    "mean_price = house_data['price_by_area'].mean()\n",
    "std_price = house_data['price_by_area'].std()\n",
    "\n",
    "# 2. 计算上下限\n",
    "lower_limit = mean_price - 3 * std_price\n",
    "upper_limit = mean_price + 3 * std_price\n",
    "\n",
    "# 3. 使用上下限来识别和移除异常值\n",
    "house_data = house_data[(house_data['price_by_area'] >= lower_limit) & (house_data['price_by_area'] <= upper_limit)]"
   ]
  },
  {
   "cell_type": "code",
   "execution_count": 28,
   "id": "70a6bfdd-6207-47ce-aec0-3e1da9ff38e2",
   "metadata": {},
   "outputs": [
    {
     "data": {
      "image/png": "[encoded data removed]",
      "text/plain": [
       "<Figure size 1000x600 with 1 Axes>"
      ]
     },
     "metadata": {},
     "output_type": "display_data"
    }
   ],
   "source": [
    "import seaborn as sns\n",
    "import matplotlib.pyplot as plt\n",
    "\n",
    "plt.figure(figsize=(10, 6))\n",
    "sns.histplot(house_data['price_by_area'], kde=True, color='b')\n",
    "plt.title(\"Distribution of 'price_by_area' in house_data\")\n",
    "plt.xlabel(\"Price by Area\")\n",
    "plt.ylabel(\"Frequency\")\n",
    "plt.show()"
   ]
  },
  {
   "cell_type": "code",
   "execution_count": 29,
   "id": "066d9cf6-79ac-44d8-8e70-7d6902e33767",
   "metadata": {},
   "outputs": [],
   "source": [
    "import pandas as pd\n",
    "\n",
    "# Define price range rules with intervals of 2000\n",
    "price_bins = range(0, int(house_data['price_by_area'].max()) + 2000, 2000)\n",
    "price_labels = [f'{start}-{end}' for start, end in zip(price_bins[:-1], price_bins[1:])]\n",
    "\n",
    "# Use the cut function to map \"price_by_area\" to the interval\n",
    "house_data['price_by_area_interval'] = pd.cut(house_data['price_by_area'], bins=price_bins, labels=price_labels, right=False)\n",
    "\n",
    "# Convert the result to a category of string type\n",
    "house_data['price_by_area_interval'] = house_data['price_by_area_interval'].astype('category')"
   ]
  },
  {
   "cell_type": "code",
   "execution_count": 30,
   "id": "32978893-3a9f-4c8e-b6e2-a017637b287a",
   "metadata": {},
   "outputs": [
    {
     "name": "stdout",
     "output_type": "stream",
     "text": [
      "0-2000         1633\n",
      "2000-4000      1434\n",
      "4000-6000       511\n",
      "6000-8000       214\n",
      "8000-10000      113\n",
      "10000-12000      51\n",
      "Name: price_by_area_interval, dtype: int64\n"
     ]
    }
   ],
   "source": [
    "# Calculate the frequency of different types in the \"price_by_area_interval\" column\n",
    "frequency = house_data['price_by_area_interval'].value_counts()\n",
    "\n",
    "#Print frequency results\n",
    "print(frequency)"
   ]
  },
  {
   "cell_type": "markdown",
   "id": "6e94f829-7e26-4e2c-8c71-a13758af9589",
   "metadata": {},
   "source": [
    "**unit_data**"
   ]
  },
  {
   "cell_type": "code",
   "execution_count": 31,
   "id": "5ae74f5b-1895-4be9-99a8-beb1b7d4534b",
   "metadata": {},
   "outputs": [
    {
     "data": {
      "image/png": "[encoded data removed]",
      "text/plain": [
       "<Figure size 1000x600 with 1 Axes>"
      ]
     },
     "metadata": {},
     "output_type": "display_data"
    }
   ],
   "source": [
    "import seaborn as sns\n",
    "import matplotlib.pyplot as plt\n",
    "\n",
    "plt.figure(figsize=(10, 6))\n",
    "sns.histplot(unit_data['price_by_area'], kde=True, color='b')\n",
    "plt.title(\"Distribution of 'price_by_area' in unit_data\")\n",
    "plt.xlabel(\"Price by Area\")\n",
    "plt.ylabel(\"Frequency\")\n",
    "plt.show()"
   ]
  },
  {
   "cell_type": "code",
   "execution_count": 32,
   "id": "85fe66d7-ef6f-4ffa-8655-8a298af67049",
   "metadata": {},
   "outputs": [],
   "source": [
    "import numpy as np\n",
    "import pandas as pd\n",
    "\n",
    "\n",
    "# 1. 计算平均值和标准差\n",
    "mean_price = unit_data['price_by_area'].mean()\n",
    "std_price = unit_data['price_by_area'].std()\n",
    "\n",
    "# 2. 计算上下限\n",
    "lower_limit = mean_price - 3 * std_price\n",
    "upper_limit = mean_price + 3 * std_price\n",
    "\n",
    "# 3. 使用上下限来识别和移除异常值\n",
    "unit_data = unit_data[(unit_data['price_by_area'] >= lower_limit) & (unit_data['price_by_area'] <= upper_limit)]"
   ]
  },
  {
   "cell_type": "code",
   "execution_count": 33,
   "id": "f961c6bc-2ec3-43b0-96f0-65c4150dae3f",
   "metadata": {},
   "outputs": [
    {
     "data": {
      "image/png": "[encoded data removed]",
      "text/plain": [
       "<Figure size 1000x600 with 1 Axes>"
      ]
     },
     "metadata": {},
     "output_type": "display_data"
    }
   ],
   "source": [
    "import seaborn as sns\n",
    "import matplotlib.pyplot as plt\n",
    "\n",
    "plt.figure(figsize=(10, 6))\n",
    "sns.histplot(unit_data['price_by_area'], kde=True, color='b')\n",
    "plt.title(\"Distribution of 'price_by_area' in unit_data\")\n",
    "plt.xlabel(\"Price by Area\")\n",
    "plt.ylabel(\"Frequency\")\n",
    "plt.show()"
   ]
  },
  {
   "cell_type": "code",
   "execution_count": 34,
   "id": "6404a172-415d-4e4f-9d30-27c8f6fec70e",
   "metadata": {},
   "outputs": [],
   "source": [
    "import pandas as pd\n",
    "\n",
    "# Define price range rules\n",
    "price_bins = [2000, 4000, 6000, 8000, 10000, 12500]  # 修改间隔\n",
    "price_labels = ['2000-4000', '4000-6000', '6000-8000', '8000-10000', '10000-12500']  # 修改标签\n",
    "\n",
    "# Use the cut function to map \"price_by_area\" to the interval\n",
    "unit_data['price_by_area_interval'] = pd.cut(unit_data['price_by_area'], bins=price_bins, labels=price_labels, right=False)\n",
    "\n",
    "# Convert the result to a category of string type\n",
    "unit_data['price_by_area_interval'] = unit_data['price_by_area_interval'].astype('category')"
   ]
  },
  {
   "cell_type": "code",
   "execution_count": 35,
   "id": "e7015ab1-62b8-4995-baf8-b848dc239259",
   "metadata": {},
   "outputs": [
    {
     "name": "stdout",
     "output_type": "stream",
     "text": [
      "6000-8000      606\n",
      "8000-10000     436\n",
      "4000-6000      243\n",
      "10000-12500    101\n",
      "2000-4000       20\n",
      "Name: price_by_area_interval, dtype: int64\n"
     ]
    }
   ],
   "source": [
    "# Calculate the frequency of different types in the \"price_by_area_interval\" column\n",
    "frequency = unit_data['price_by_area_interval'].value_counts()\n",
    "\n",
    "#Print frequency results\n",
    "print(frequency)"
   ]
  },
  {
   "cell_type": "markdown",
   "id": "5e7262fb-1d92-4af9-9547-4a01637e1d3b",
   "metadata": {},
   "source": [
    "**townhouse_data**"
   ]
  },
  {
   "cell_type": "code",
   "execution_count": 36,
   "id": "f657f5dc-f3a7-428f-b870-264310e16ebc",
   "metadata": {},
   "outputs": [
    {
     "data": {
      "image/png": "[encoded data removed]",
      "text/plain": [
       "<Figure size 1000x600 with 1 Axes>"
      ]
     },
     "metadata": {},
     "output_type": "display_data"
    }
   ],
   "source": [
    "import seaborn as sns\n",
    "import matplotlib.pyplot as plt\n",
    "\n",
    "plt.figure(figsize=(10, 6))\n",
    "sns.histplot(townhouse_data['price_by_area'], kde=True, color='b')\n",
    "plt.title(\"Distribution of 'price_by_area' in townhouse_data\")\n",
    "plt.xlabel(\"Price by Area\")\n",
    "plt.ylabel(\"Frequency\")\n",
    "plt.show()"
   ]
  },
  {
   "cell_type": "code",
   "execution_count": 37,
   "id": "c365b572-2da8-4164-93bb-bf39347793af",
   "metadata": {},
   "outputs": [],
   "source": [
    "import numpy as np\n",
    "import pandas as pd\n",
    "\n",
    "\n",
    "# 1. 计算平均值和标准差\n",
    "mean_price = townhouse_data['price_by_area'].mean()\n",
    "std_price = townhouse_data['price_by_area'].std()\n",
    "\n",
    "# 2. 计算上下限\n",
    "lower_limit = mean_price - 3 * std_price\n",
    "upper_limit = mean_price + 3 * std_price\n",
    "\n",
    "# 3. 使用上下限来识别和移除异常值\n",
    "townhouse_data = townhouse_data[(townhouse_data['price_by_area'] >= lower_limit) & (townhouse_data['price_by_area'] <= upper_limit)]"
   ]
  },
  {
   "cell_type": "code",
   "execution_count": 38,
   "id": "473ba27f-7b6d-4699-92d6-27179d5d5cba",
   "metadata": {},
   "outputs": [
    {
     "data": {
      "image/png": "[encoded data removed]",
      "text/plain": [
       "<Figure size 1000x600 with 1 Axes>"
      ]
     },
     "metadata": {},
     "output_type": "display_data"
    }
   ],
   "source": [
    "import seaborn as sns\n",
    "import matplotlib.pyplot as plt\n",
    "\n",
    "plt.figure(figsize=(10, 6))\n",
    "sns.histplot(townhouse_data['price_by_area'], kde=True, color='b')\n",
    "plt.title(\"Distribution of 'price_by_area' in townhouse_data\")\n",
    "plt.xlabel(\"Price by Area\")\n",
    "plt.ylabel(\"Frequency\")\n",
    "plt.show()"
   ]
  },
  {
   "cell_type": "code",
   "execution_count": 39,
   "id": "514cd212-eb4a-41b3-be2f-db5dd24718f5",
   "metadata": {},
   "outputs": [],
   "source": [
    "import pandas as pd\n",
    "\n",
    "price_bins = [0, 2000, 4000, 6000, 8000, 10000, 12000, float('inf')]\n",
    "\n",
    "price_labels = ['0-2000', '2000-4000', '4000-6000', '6000-8000', '8000-10000', '10000-12000', '12000-14000']\n",
    "\n",
    "townhouse_data['price_by_area_interval'] = pd.cut(townhouse_data['price_by_area'], bins=price_bins, labels=price_labels, right=False)\n",
    "\n",
    "townhouse_data['price_by_area_interval'] = townhouse_data['price_by_area_interval'].astype('category')\n"
   ]
  },
  {
   "cell_type": "code",
   "execution_count": 40,
   "id": "445f2569-2516-4fee-9295-f0f1ab153b75",
   "metadata": {},
   "outputs": [
    {
     "name": "stdout",
     "output_type": "stream",
     "text": [
      "2000-4000      239\n",
      "4000-6000      181\n",
      "6000-8000       55\n",
      "0-2000          45\n",
      "8000-10000      23\n",
      "10000-12000     12\n",
      "12000-14000      1\n",
      "Name: price_by_area_interval, dtype: int64\n"
     ]
    }
   ],
   "source": [
    "# Calculate the frequency of different types in the \"price_by_area_interval\" column\n",
    "frequency = townhouse_data['price_by_area_interval'].value_counts()\n",
    "\n",
    "#Print frequency results\n",
    "print(frequency)"
   ]
  },
  {
   "cell_type": "markdown",
   "id": "5fb862e3-d262-4fa1-8e8f-6e4d6e2acab4",
   "metadata": {},
   "source": [
    "drop all price_by_area"
   ]
  },
  {
   "cell_type": "code",
   "execution_count": 41,
   "id": "e0c9a0f4-329c-47c8-8782-907ddf21b546",
   "metadata": {},
   "outputs": [],
   "source": [
    "# Remove the \"price_by_area\" column from \"house_data\"\n",
    "house_data = house_data.drop(columns=['price_by_area'])\n",
    "\n",
    "# Remove the \"price_by_area\" column from \"unit_data\"\n",
    "unit_data = unit_data.drop(columns=['price_by_area'])\n",
    "\n",
    "# Remove the \"price_by_area\" column from \"townhouse_data\"\n",
    "townhouse_data = townhouse_data.drop(columns=['price_by_area'])"
   ]
  },
  {
   "cell_type": "markdown",
   "id": "575e9eb8-4dbc-4fbe-8ce2-24ea8e263468",
   "metadata": {},
   "source": [
    "## One-hot encoding"
   ]
  },
  {
   "cell_type": "code",
   "execution_count": 42,
   "id": "f875ca43-49f9-4c74-8835-a206e8271ccf",
   "metadata": {},
   "outputs": [],
   "source": [
    "# Perform one-hot encoding on categorical data in \"house_data\", except \"price_by_area_interval\"\n",
    "house_data = pd.get_dummies(house_data, columns=[col for col in house_data.columns if house_data[col].dtype.name == 'category' and col != 'price_by_area_interval'])\n",
    "\n",
    "# Perform one-hot encoding on categorical data in \"unit_data\", except \"price_by_area_interval\"\n",
    "unit_data = pd.get_dummies(unit_data, columns=[col for col in unit_data.columns if unit_data[col].dtype.name == 'category' and col != 'price_by_area_interval'])\n",
    "\n",
    "# Perform one-hot encoding on categorical data in \"townhouse_data\", except \"price_by_area_interval\"\n",
    "townhouse_data = pd.get_dummies(townhouse_data, columns=[col for col in townhouse_data.columns if townhouse_data[col].dtype.name == 'category' and col != 'price_by_area_interval'])"
   ]
  },
  {
   "cell_type": "markdown",
   "id": "70e2a2ae-5ca4-4ebf-a7e1-7f1d9903a736",
   "metadata": {},
   "source": [
    "## Models Building"
   ]
  },
  {
   "cell_type": "markdown",
   "id": "c0153e8f-31fb-4a50-8b90-b30f32ef4ba0",
   "metadata": {},
   "source": [
    "#### house data"
   ]
  },
  {
   "cell_type": "markdown",
   "id": "a8155e99-b924-4182-a643-9213d35abf5c",
   "metadata": {},
   "source": [
    "random forest models"
   ]
  },
  {
   "cell_type": "code",
   "execution_count": 43,
   "id": "3ad32ee9-994c-4c78-93ad-592d910ad7b1",
   "metadata": {},
   "outputs": [
    {
     "name": "stdout",
     "output_type": "stream",
     "text": [
      "Model 1 - Accuracy: 0.58\n",
      "Model 2 - Accuracy: 0.61\n",
      "Model 3 - Accuracy: 0.65\n",
      "Model 4 - Accuracy: 0.58\n",
      "Model 5 - Accuracy: 0.59\n",
      "Model 6 - Accuracy: 0.67\n",
      "Model 7 - Accuracy: 0.66\n",
      "Model 8 - Accuracy: 0.66\n"
     ]
    }
   ],
   "source": [
    "from sklearn.ensemble import RandomForestClassifier\n",
    "from sklearn.model_selection import train_test_split\n",
    "from sklearn.metrics import accuracy_score\n",
    "\n",
    "X = house_data.drop(columns=['price_by_area_interval'])\n",
    "y = house_data['price_by_area_interval']\n",
    "\n",
    "params_combinations = [\n",
    "    {'n_estimators': 100, 'max_depth': 10, 'min_samples_split': 2, 'random_state': 42},\n",
    "\n",
    "    {'n_estimators': 100, 'max_depth': 20, 'min_samples_split': 2, 'random_state': 42},\n",
    "    {'n_estimators': 100, 'max_depth': 50, 'min_samples_split': 2, 'random_state': 42},\n",
    "\n",
    "    {'n_estimators': 500, 'max_depth': 10, 'min_samples_split': 2, 'random_state': 42},\n",
    "    {'n_estimators': 1000, 'max_depth': 10, 'min_samples_split': 2, 'random_state': 42},\n",
    "    \n",
    "    {'n_estimators': 100, 'max_depth': None, 'min_samples_split': 2, 'random_state': 42},\n",
    "    {'n_estimators': 200, 'max_depth': None, 'min_samples_split': 2, 'random_state': 42},\n",
    "    {'n_estimators': 100, 'max_depth': None, 'min_samples_split': 4, 'random_state': 42}\n",
    "]\n",
    "\n",
    "models = []\n",
    "for params in params_combinations:\n",
    "    model = RandomForestClassifier(**params)\n",
    "    X_train, X_test, y_train, y_test = train_test_split(X, y, test_size=0.2, random_state=42)\n",
    "    model.fit(X_train, y_train)\n",
    "    y_pred = model.predict(X_test)\n",
    "    accuracy = accuracy_score(y_test, y_pred)\n",
    "    models.append((model, accuracy))\n",
    "\n",
    "for i, (model, accuracy) in enumerate(models):\n",
    "    print(f\"Model {i + 1} - Accuracy: {accuracy:.2f}\")"
   ]
  },
  {
   "cell_type": "markdown",
   "id": "b89d7f5b-e20a-46d5-a0ae-e65f08246042",
   "metadata": {},
   "source": [
    "svm models"
   ]
  },
  {
   "cell_type": "code",
   "execution_count": 44,
   "id": "9ffab72b-4d15-4be6-bb73-35b91c67b5e5",
   "metadata": {},
   "outputs": [
    {
     "name": "stdout",
     "output_type": "stream",
     "text": [
      "SVM Model 1 - Parameters: {'C': 0.1, 'break_ties': False, 'cache_size': 200, 'class_weight': None, 'coef0': 0.0, 'decision_function_shape': 'ovr', 'degree': 3, 'gamma': 'scale', 'kernel': 'rbf', 'max_iter': -1, 'probability': False, 'random_state': 42, 'shrinking': True, 'tol': 0.001, 'verbose': False} - Accuracy: 0.60\n",
      "SVM Model 2 - Parameters: {'C': 1.0, 'break_ties': False, 'cache_size': 200, 'class_weight': None, 'coef0': 0.0, 'decision_function_shape': 'ovr', 'degree': 3, 'gamma': 'scale', 'kernel': 'rbf', 'max_iter': -1, 'probability': False, 'random_state': 42, 'shrinking': True, 'tol': 0.001, 'verbose': False} - Accuracy: 0.65\n",
      "SVM Model 3 - Parameters: {'C': 0.01, 'break_ties': False, 'cache_size': 200, 'class_weight': None, 'coef0': 0.0, 'decision_function_shape': 'ovr', 'degree': 3, 'gamma': 'scale', 'kernel': 'rbf', 'max_iter': -1, 'probability': False, 'random_state': 42, 'shrinking': True, 'tol': 0.001, 'verbose': False} - Accuracy: 0.58\n",
      "SVM Model 4 - Parameters: {'C': 0.1, 'break_ties': False, 'cache_size': 200, 'class_weight': None, 'coef0': 0.0, 'decision_function_shape': 'ovr', 'degree': 3, 'gamma': 0.1, 'kernel': 'rbf', 'max_iter': -1, 'probability': False, 'random_state': 42, 'shrinking': True, 'tol': 0.001, 'verbose': False} - Accuracy: 0.65\n",
      "SVM Model 5 - Parameters: {'C': 0.1, 'break_ties': False, 'cache_size': 200, 'class_weight': None, 'coef0': 0.0, 'decision_function_shape': 'ovr', 'degree': 3, 'gamma': 0.01, 'kernel': 'rbf', 'max_iter': -1, 'probability': False, 'random_state': 42, 'shrinking': True, 'tol': 0.001, 'verbose': False} - Accuracy: 0.60\n",
      "SVM Model 6 - Parameters: {'C': 0.1, 'break_ties': False, 'cache_size': 200, 'class_weight': None, 'coef0': 0.0, 'decision_function_shape': 'ovr', 'degree': 3, 'gamma': 0.01, 'kernel': 'rbf', 'max_iter': -1, 'probability': False, 'random_state': 42, 'shrinking': True, 'tol': 0.001, 'verbose': False} - Accuracy: 0.60\n",
      "SVM Model 7 - Parameters: {'C': 1.0, 'break_ties': False, 'cache_size': 200, 'class_weight': None, 'coef0': 0.0, 'decision_function_shape': 'ovr', 'degree': 3, 'gamma': 0.1, 'kernel': 'rbf', 'max_iter': -1, 'probability': False, 'random_state': 42, 'shrinking': True, 'tol': 0.001, 'verbose': False} - Accuracy: 0.66\n",
      "SVM Model 8 - Parameters: {'C': 1.0, 'break_ties': False, 'cache_size': 200, 'class_weight': None, 'coef0': 0.0, 'decision_function_shape': 'ovr', 'degree': 3, 'gamma': 0.01, 'kernel': 'rbf', 'max_iter': -1, 'probability': False, 'random_state': 42, 'shrinking': True, 'tol': 0.001, 'verbose': False} - Accuracy: 0.66\n",
      "SVM Model 9 - Parameters: {'C': 1.0, 'break_ties': False, 'cache_size': 200, 'class_weight': None, 'coef0': 0.0, 'decision_function_shape': 'ovr', 'degree': 3, 'gamma': 0.001, 'kernel': 'rbf', 'max_iter': -1, 'probability': False, 'random_state': 42, 'shrinking': True, 'tol': 0.001, 'verbose': False} - Accuracy: 0.61\n",
      "SVM Model 10 - Parameters: {'C': 10.0, 'break_ties': False, 'cache_size': 200, 'class_weight': None, 'coef0': 0.0, 'decision_function_shape': 'ovr', 'degree': 3, 'gamma': 0.1, 'kernel': 'rbf', 'max_iter': -1, 'probability': False, 'random_state': 42, 'shrinking': True, 'tol': 0.001, 'verbose': False} - Accuracy: 0.64\n",
      "SVM Model 11 - Parameters: {'C': 10.0, 'break_ties': False, 'cache_size': 200, 'class_weight': None, 'coef0': 0.0, 'decision_function_shape': 'ovr', 'degree': 3, 'gamma': 0.01, 'kernel': 'rbf', 'max_iter': -1, 'probability': False, 'random_state': 42, 'shrinking': True, 'tol': 0.001, 'verbose': False} - Accuracy: 0.68\n"
     ]
    }
   ],
   "source": [
    "from sklearn.svm import SVC\n",
    "from sklearn.model_selection import train_test_split\n",
    "from sklearn.metrics import accuracy_score\n",
    "\n",
    "# Prepare features and target variables\n",
    "X = house_data.drop(columns=['price_by_area_interval'])\n",
    "y = house_data['price_by_area_interval']\n",
    "\n",
    "# Define different RBF kernel SVM parameter combinations\n",
    "rbf_svm_param_combinations = [\n",
    "    {'C': 0.1, 'kernel': 'rbf', 'gamma': 'scale', 'random_state': 42},\n",
    "    {'C': 1.0, 'kernel': 'rbf', 'gamma': 'scale', 'random_state': 42},\n",
    "    {'C': 0.01, 'kernel': 'rbf', 'gamma': 'scale', 'random_state': 42},\n",
    "    \n",
    "    {'C': 0.1, 'kernel': 'rbf', 'gamma': 0.1, 'random_state': 42},\n",
    "    {'C': 0.1, 'kernel': 'rbf', 'gamma': 0.01, 'random_state': 42},\n",
    "    {'C': 0.1, 'kernel': 'rbf', 'gamma': 0.01, 'random_state': 42},\n",
    "    \n",
    "    {'C': 1.0, 'kernel': 'rbf', 'gamma': 0.1, 'random_state': 42},\n",
    "    {'C': 1.0, 'kernel': 'rbf', 'gamma': 0.01, 'random_state': 42},\n",
    "    {'C': 1.0, 'kernel': 'rbf', 'gamma': 0.001, 'random_state': 42},\n",
    "\n",
    "    {'C': 10.0, 'kernel': 'rbf', 'gamma': 0.1, 'random_state': 42},\n",
    "    {'C': 10.0, 'kernel': 'rbf', 'gamma': 0.01, 'random_state': 42}\n",
    "]\n",
    "\n",
    "#Train and evaluate different RBF kernel SVM models\n",
    "svm_models = []\n",
    "for params in rbf_svm_param_combinations:\n",
    "     model = SVC(**params)\n",
    "     X_train, X_test, y_train, y_test = train_test_split(X, y, test_size=0.2, random_state=42)\n",
    "     model.fit(X_train, y_train)\n",
    "     y_pred = model.predict(X_test)\n",
    "     accuracy = accuracy_score(y_test, y_pred)\n",
    "     svm_models.append((model, accuracy))\n",
    "\n",
    "#Print the accuracy of the SVM model\n",
    "for i, (model, accuracy) in enumerate(svm_models):\n",
    "     print(f\"SVM Model {i + 1} - Parameters: {model.get_params()} - Accuracy: {accuracy:.2f}\")"
   ]
  },
  {
   "cell_type": "markdown",
   "id": "b53e6c01-f9a5-4d22-8f29-816623ab8298",
   "metadata": {},
   "source": [
    "ANN Models"
   ]
  },
  {
   "cell_type": "code",
   "execution_count": 45,
   "id": "59d3c12e-31f0-4de3-b50a-0efa879acd0f",
   "metadata": {},
   "outputs": [
    {
     "name": "stdout",
     "output_type": "stream",
     "text": [
      "Epoch 1/20\n",
      "80/80 [==============================] - 3s 14ms/step - loss: 1.3202 - accuracy: 0.4500 - val_loss: 1.0042 - val_accuracy: 0.5355\n",
      "Epoch 2/20\n",
      "80/80 [==============================] - 1s 8ms/step - loss: 0.9628 - accuracy: 0.6025 - val_loss: 0.8819 - val_accuracy: 0.6430\n",
      "Epoch 3/20\n",
      "80/80 [==============================] - 1s 9ms/step - loss: 0.8622 - accuracy: 0.6531 - val_loss: 0.8386 - val_accuracy: 0.6572\n",
      "Epoch 4/20\n",
      "80/80 [==============================] - 1s 10ms/step - loss: 0.7849 - accuracy: 0.6883 - val_loss: 0.8325 - val_accuracy: 0.6619\n",
      "Epoch 5/20\n",
      "80/80 [==============================] - 1s 9ms/step - loss: 0.7001 - accuracy: 0.7404 - val_loss: 0.8280 - val_accuracy: 0.6367\n",
      "Epoch 6/20\n",
      "80/80 [==============================] - 1s 11ms/step - loss: 0.6174 - accuracy: 0.7783 - val_loss: 0.8393 - val_accuracy: 0.6619\n",
      "Epoch 7/20\n",
      "80/80 [==============================] - 1s 8ms/step - loss: 0.5236 - accuracy: 0.8250 - val_loss: 0.8556 - val_accuracy: 0.6398\n",
      "Epoch 8/20\n",
      "80/80 [==============================] - 1s 9ms/step - loss: 0.4616 - accuracy: 0.8404 - val_loss: 0.9061 - val_accuracy: 0.6240\n",
      "Epoch 9/20\n",
      "80/80 [==============================] - 1s 9ms/step - loss: 0.3943 - accuracy: 0.8672 - val_loss: 0.9251 - val_accuracy: 0.6303\n",
      "Epoch 10/20\n",
      "80/80 [==============================] - 1s 9ms/step - loss: 0.3481 - accuracy: 0.8858 - val_loss: 0.9799 - val_accuracy: 0.6209\n",
      "Epoch 11/20\n",
      "80/80 [==============================] - 1s 8ms/step - loss: 0.3031 - accuracy: 0.8973 - val_loss: 1.0093 - val_accuracy: 0.6240\n",
      "Epoch 12/20\n",
      "80/80 [==============================] - 1s 8ms/step - loss: 0.2729 - accuracy: 0.9072 - val_loss: 1.0760 - val_accuracy: 0.6019\n",
      "Epoch 13/20\n",
      "80/80 [==============================] - 1s 8ms/step - loss: 0.2477 - accuracy: 0.9052 - val_loss: 1.0961 - val_accuracy: 0.5893\n",
      "Epoch 14/20\n",
      "80/80 [==============================] - 1s 8ms/step - loss: 0.2276 - accuracy: 0.9198 - val_loss: 1.1563 - val_accuracy: 0.5893\n",
      "Epoch 15/20\n",
      "80/80 [==============================] - 1s 9ms/step - loss: 0.2097 - accuracy: 0.9226 - val_loss: 1.1611 - val_accuracy: 0.6082\n",
      "Epoch 16/20\n",
      "80/80 [==============================] - 1s 8ms/step - loss: 0.1928 - accuracy: 0.9281 - val_loss: 1.1959 - val_accuracy: 0.6051\n",
      "Epoch 17/20\n",
      "80/80 [==============================] - 1s 8ms/step - loss: 0.1767 - accuracy: 0.9384 - val_loss: 1.2555 - val_accuracy: 0.5972\n",
      "Epoch 18/20\n",
      "80/80 [==============================] - 1s 7ms/step - loss: 0.1638 - accuracy: 0.9388 - val_loss: 1.2949 - val_accuracy: 0.6051\n",
      "Epoch 19/20\n",
      "80/80 [==============================] - 1s 9ms/step - loss: 0.1601 - accuracy: 0.9384 - val_loss: 1.3594 - val_accuracy: 0.5845\n",
      "Epoch 20/20\n",
      "80/80 [==============================] - 1s 9ms/step - loss: 0.1487 - accuracy: 0.9471 - val_loss: 1.3587 - val_accuracy: 0.5861\n",
      "25/25 [==============================] - 0s 4ms/step\n",
      "Epoch 1/20\n",
      "80/80 [==============================] - 3s 17ms/step - loss: 1.1808 - accuracy: 0.5365 - val_loss: 0.8918 - val_accuracy: 0.6477\n",
      "Epoch 2/20\n",
      "80/80 [==============================] - 1s 14ms/step - loss: 0.8966 - accuracy: 0.6377 - val_loss: 0.8368 - val_accuracy: 0.6951\n",
      "Epoch 3/20\n",
      "80/80 [==============================] - 1s 16ms/step - loss: 0.8085 - accuracy: 0.6823 - val_loss: 0.8120 - val_accuracy: 0.6856\n",
      "Epoch 4/20\n",
      "80/80 [==============================] - 1s 14ms/step - loss: 0.7098 - accuracy: 0.7290 - val_loss: 0.8209 - val_accuracy: 0.6682\n",
      "Epoch 5/20\n",
      "80/80 [==============================] - 1s 13ms/step - loss: 0.6177 - accuracy: 0.7712 - val_loss: 0.9086 - val_accuracy: 0.6003\n",
      "Epoch 6/20\n",
      "80/80 [==============================] - 1s 14ms/step - loss: 0.5142 - accuracy: 0.8242 - val_loss: 0.8907 - val_accuracy: 0.6193\n",
      "Epoch 7/20\n",
      "80/80 [==============================] - 1s 14ms/step - loss: 0.4207 - accuracy: 0.8593 - val_loss: 0.9090 - val_accuracy: 0.6177\n",
      "Epoch 8/20\n",
      "80/80 [==============================] - 1s 13ms/step - loss: 0.3547 - accuracy: 0.8838 - val_loss: 0.9808 - val_accuracy: 0.6145\n",
      "Epoch 9/20\n",
      "80/80 [==============================] - 1s 13ms/step - loss: 0.3055 - accuracy: 0.8945 - val_loss: 1.0255 - val_accuracy: 0.6066\n",
      "Epoch 10/20\n",
      "80/80 [==============================] - 1s 14ms/step - loss: 0.2623 - accuracy: 0.9000 - val_loss: 1.1070 - val_accuracy: 0.6161\n",
      "Epoch 11/20\n",
      "80/80 [==============================] - 1s 15ms/step - loss: 0.2252 - accuracy: 0.9182 - val_loss: 1.1075 - val_accuracy: 0.6035\n",
      "Epoch 12/20\n",
      "80/80 [==============================] - 1s 15ms/step - loss: 0.1981 - accuracy: 0.9245 - val_loss: 1.2187 - val_accuracy: 0.5893\n",
      "Epoch 13/20\n",
      "80/80 [==============================] - 1s 15ms/step - loss: 0.1910 - accuracy: 0.9289 - val_loss: 1.2371 - val_accuracy: 0.5956\n",
      "Epoch 14/20\n",
      "80/80 [==============================] - 1s 15ms/step - loss: 0.1578 - accuracy: 0.9415 - val_loss: 1.2738 - val_accuracy: 0.6098\n",
      "Epoch 15/20\n",
      "80/80 [==============================] - 1s 14ms/step - loss: 0.1432 - accuracy: 0.9471 - val_loss: 1.3773 - val_accuracy: 0.5577\n",
      "Epoch 16/20\n",
      "80/80 [==============================] - 1s 17ms/step - loss: 0.1320 - accuracy: 0.9502 - val_loss: 1.3572 - val_accuracy: 0.5893\n",
      "Epoch 17/20\n",
      "80/80 [==============================] - 1s 15ms/step - loss: 0.1259 - accuracy: 0.9546 - val_loss: 1.4144 - val_accuracy: 0.5987\n",
      "Epoch 18/20\n",
      "80/80 [==============================] - 1s 13ms/step - loss: 0.1136 - accuracy: 0.9561 - val_loss: 1.4404 - val_accuracy: 0.6177\n",
      "Epoch 19/20\n",
      "80/80 [==============================] - 1s 14ms/step - loss: 0.1092 - accuracy: 0.9565 - val_loss: 1.7696 - val_accuracy: 0.5340\n",
      "Epoch 20/20\n",
      "80/80 [==============================] - 1s 13ms/step - loss: 0.1085 - accuracy: 0.9573 - val_loss: 1.5484 - val_accuracy: 0.5671\n",
      "25/25 [==============================] - 0s 4ms/step\n",
      "Epoch 1/10\n",
      "40/40 [==============================] - 2s 21ms/step - loss: 1.2812 - accuracy: 0.4749 - val_loss: 0.9941 - val_accuracy: 0.6461\n",
      "Epoch 2/10\n",
      "40/40 [==============================] - 1s 15ms/step - loss: 0.9802 - accuracy: 0.6120 - val_loss: 0.8778 - val_accuracy: 0.6540\n",
      "Epoch 3/10\n",
      "40/40 [==============================] - 1s 15ms/step - loss: 0.8582 - accuracy: 0.6551 - val_loss: 0.8452 - val_accuracy: 0.6635\n",
      "Epoch 4/10\n",
      "40/40 [==============================] - 1s 17ms/step - loss: 0.7736 - accuracy: 0.6966 - val_loss: 0.8446 - val_accuracy: 0.6746\n",
      "Epoch 5/10\n",
      "40/40 [==============================] - 1s 16ms/step - loss: 0.6948 - accuracy: 0.7408 - val_loss: 0.8127 - val_accuracy: 0.6746\n",
      "Epoch 6/10\n",
      "40/40 [==============================] - 1s 17ms/step - loss: 0.5964 - accuracy: 0.7914 - val_loss: 0.8281 - val_accuracy: 0.6619\n",
      "Epoch 7/10\n",
      "40/40 [==============================] - 1s 16ms/step - loss: 0.5097 - accuracy: 0.8293 - val_loss: 0.8768 - val_accuracy: 0.6256\n",
      "Epoch 8/10\n",
      "40/40 [==============================] - 1s 17ms/step - loss: 0.4413 - accuracy: 0.8593 - val_loss: 0.8797 - val_accuracy: 0.6272\n",
      "Epoch 9/10\n",
      "40/40 [==============================] - 1s 15ms/step - loss: 0.3780 - accuracy: 0.8834 - val_loss: 0.9293 - val_accuracy: 0.6224\n",
      "Epoch 10/10\n",
      "40/40 [==============================] - 1s 17ms/step - loss: 0.3318 - accuracy: 0.8882 - val_loss: 0.9789 - val_accuracy: 0.6177\n",
      "25/25 [==============================] - 0s 4ms/step\n",
      "Epoch 1/30\n",
      "159/159 [==============================] - 4s 15ms/step - loss: 1.0609 - accuracy: 0.5476 - val_loss: 0.8660 - val_accuracy: 0.6588\n",
      "Epoch 2/30\n",
      "159/159 [==============================] - 2s 10ms/step - loss: 0.8578 - accuracy: 0.6543 - val_loss: 0.8114 - val_accuracy: 0.6793\n",
      "Epoch 3/30\n",
      "159/159 [==============================] - 2s 12ms/step - loss: 0.7487 - accuracy: 0.7076 - val_loss: 0.8104 - val_accuracy: 0.6746\n",
      "Epoch 4/30\n",
      "159/159 [==============================] - 2s 11ms/step - loss: 0.6371 - accuracy: 0.7661 - val_loss: 0.8271 - val_accuracy: 0.6588\n",
      "Epoch 5/30\n",
      "159/159 [==============================] - 2s 12ms/step - loss: 0.5002 - accuracy: 0.8214 - val_loss: 0.8828 - val_accuracy: 0.6177\n",
      "Epoch 6/30\n",
      "159/159 [==============================] - 2s 12ms/step - loss: 0.3905 - accuracy: 0.8657 - val_loss: 0.9377 - val_accuracy: 0.6035\n",
      "Epoch 7/30\n",
      "159/159 [==============================] - 2s 12ms/step - loss: 0.3113 - accuracy: 0.8953 - val_loss: 1.0147 - val_accuracy: 0.6035\n",
      "Epoch 8/30\n",
      "159/159 [==============================] - 2s 13ms/step - loss: 0.2574 - accuracy: 0.9064 - val_loss: 1.1097 - val_accuracy: 0.6066\n",
      "Epoch 9/30\n",
      "159/159 [==============================] - 2s 12ms/step - loss: 0.2208 - accuracy: 0.9151 - val_loss: 1.1372 - val_accuracy: 0.5861\n",
      "Epoch 10/30\n",
      "159/159 [==============================] - 2s 12ms/step - loss: 0.1765 - accuracy: 0.9344 - val_loss: 1.2117 - val_accuracy: 0.5972\n",
      "Epoch 11/30\n",
      "159/159 [==============================] - 2s 15ms/step - loss: 0.1569 - accuracy: 0.9411 - val_loss: 1.2824 - val_accuracy: 0.6003\n",
      "Epoch 12/30\n",
      "159/159 [==============================] - 2s 13ms/step - loss: 0.1457 - accuracy: 0.9451 - val_loss: 1.3215 - val_accuracy: 0.5861\n",
      "Epoch 13/30\n",
      "159/159 [==============================] - 2s 12ms/step - loss: 0.1232 - accuracy: 0.9522 - val_loss: 1.3826 - val_accuracy: 0.5893\n",
      "Epoch 14/30\n",
      "159/159 [==============================] - 2s 13ms/step - loss: 0.1164 - accuracy: 0.9573 - val_loss: 1.4222 - val_accuracy: 0.5766\n",
      "Epoch 15/30\n",
      "159/159 [==============================] - 2s 12ms/step - loss: 0.0966 - accuracy: 0.9613 - val_loss: 1.4884 - val_accuracy: 0.5814\n",
      "Epoch 16/30\n",
      "159/159 [==============================] - 2s 11ms/step - loss: 0.0856 - accuracy: 0.9680 - val_loss: 1.5198 - val_accuracy: 0.5814\n",
      "Epoch 17/30\n",
      "159/159 [==============================] - 2s 11ms/step - loss: 0.0779 - accuracy: 0.9700 - val_loss: 1.6610 - val_accuracy: 0.5719\n",
      "Epoch 18/30\n",
      "159/159 [==============================] - 2s 11ms/step - loss: 0.0731 - accuracy: 0.9716 - val_loss: 1.7126 - val_accuracy: 0.5750\n",
      "Epoch 19/30\n",
      "159/159 [==============================] - 2s 11ms/step - loss: 0.0750 - accuracy: 0.9708 - val_loss: 1.6747 - val_accuracy: 0.5814\n",
      "Epoch 20/30\n",
      "159/159 [==============================] - 2s 13ms/step - loss: 0.0710 - accuracy: 0.9723 - val_loss: 1.7312 - val_accuracy: 0.5766\n",
      "Epoch 21/30\n",
      "159/159 [==============================] - 2s 12ms/step - loss: 0.0577 - accuracy: 0.9751 - val_loss: 1.7344 - val_accuracy: 0.5735\n",
      "Epoch 22/30\n",
      "159/159 [==============================] - 2s 13ms/step - loss: 0.0570 - accuracy: 0.9783 - val_loss: 1.7784 - val_accuracy: 0.5814\n",
      "Epoch 23/30\n",
      "159/159 [==============================] - 2s 12ms/step - loss: 0.0546 - accuracy: 0.9771 - val_loss: 1.8438 - val_accuracy: 0.5703\n",
      "Epoch 24/30\n",
      "159/159 [==============================] - 2s 13ms/step - loss: 0.0452 - accuracy: 0.9830 - val_loss: 1.8807 - val_accuracy: 0.5671\n",
      "Epoch 25/30\n",
      "159/159 [==============================] - 2s 12ms/step - loss: 0.0400 - accuracy: 0.9870 - val_loss: 2.1570 - val_accuracy: 0.5213\n",
      "Epoch 26/30\n",
      "159/159 [==============================] - 2s 13ms/step - loss: 0.0438 - accuracy: 0.9850 - val_loss: 2.0266 - val_accuracy: 0.5577\n",
      "Epoch 27/30\n",
      "159/159 [==============================] - 2s 13ms/step - loss: 0.0373 - accuracy: 0.9866 - val_loss: 2.1358 - val_accuracy: 0.5766\n",
      "Epoch 28/30\n",
      "159/159 [==============================] - 2s 11ms/step - loss: 0.0379 - accuracy: 0.9854 - val_loss: 1.9989 - val_accuracy: 0.5766\n",
      "Epoch 29/30\n",
      "159/159 [==============================] - 2s 10ms/step - loss: 0.0369 - accuracy: 0.9870 - val_loss: 2.0346 - val_accuracy: 0.5814\n",
      "Epoch 30/30\n",
      "159/159 [==============================] - 1s 9ms/step - loss: 0.0493 - accuracy: 0.9810 - val_loss: 2.0816 - val_accuracy: 0.5608\n",
      "25/25 [==============================] - 0s 3ms/step\n",
      "Epoch 1/20\n",
      "80/80 [==============================] - 2s 14ms/step - loss: 1.1516 - accuracy: 0.5227 - val_loss: 0.9437 - val_accuracy: 0.5893\n",
      "Epoch 2/20\n",
      "80/80 [==============================] - 1s 10ms/step - loss: 0.9073 - accuracy: 0.6266 - val_loss: 0.8467 - val_accuracy: 0.6761\n",
      "Epoch 3/20\n",
      "80/80 [==============================] - 1s 11ms/step - loss: 0.8023 - accuracy: 0.6914 - val_loss: 0.8204 - val_accuracy: 0.6682\n",
      "Epoch 4/20\n",
      "80/80 [==============================] - 1s 10ms/step - loss: 0.7141 - accuracy: 0.7294 - val_loss: 0.8286 - val_accuracy: 0.6746\n",
      "Epoch 5/20\n",
      "80/80 [==============================] - 1s 11ms/step - loss: 0.5986 - accuracy: 0.7882 - val_loss: 0.9737 - val_accuracy: 0.6035\n",
      "Epoch 6/20\n",
      "80/80 [==============================] - 1s 9ms/step - loss: 0.5057 - accuracy: 0.8309 - val_loss: 0.8794 - val_accuracy: 0.6177\n",
      "Epoch 7/20\n",
      "80/80 [==============================] - 1s 11ms/step - loss: 0.4175 - accuracy: 0.8586 - val_loss: 0.9546 - val_accuracy: 0.6098\n",
      "Epoch 8/20\n",
      "80/80 [==============================] - 1s 10ms/step - loss: 0.3564 - accuracy: 0.8838 - val_loss: 0.9797 - val_accuracy: 0.6082\n",
      "Epoch 9/20\n",
      "80/80 [==============================] - 1s 10ms/step - loss: 0.3128 - accuracy: 0.8906 - val_loss: 1.0981 - val_accuracy: 0.5893\n",
      "Epoch 10/20\n",
      "80/80 [==============================] - 1s 10ms/step - loss: 0.2683 - accuracy: 0.9052 - val_loss: 1.1097 - val_accuracy: 0.5987\n",
      "Epoch 11/20\n",
      "80/80 [==============================] - 1s 12ms/step - loss: 0.2390 - accuracy: 0.9166 - val_loss: 1.3488 - val_accuracy: 0.5735\n",
      "Epoch 12/20\n",
      "80/80 [==============================] - 1s 10ms/step - loss: 0.2156 - accuracy: 0.9190 - val_loss: 1.2056 - val_accuracy: 0.5861\n",
      "Epoch 13/20\n",
      "80/80 [==============================] - 1s 10ms/step - loss: 0.1840 - accuracy: 0.9344 - val_loss: 1.2664 - val_accuracy: 0.5972\n",
      "Epoch 14/20\n",
      "80/80 [==============================] - 1s 10ms/step - loss: 0.1709 - accuracy: 0.9372 - val_loss: 1.3947 - val_accuracy: 0.5861\n",
      "Epoch 15/20\n",
      "80/80 [==============================] - 1s 10ms/step - loss: 0.1520 - accuracy: 0.9459 - val_loss: 1.3446 - val_accuracy: 0.5972\n",
      "Epoch 16/20\n",
      "80/80 [==============================] - 1s 10ms/step - loss: 0.1308 - accuracy: 0.9565 - val_loss: 1.4450 - val_accuracy: 0.5782\n",
      "Epoch 17/20\n",
      "80/80 [==============================] - 1s 10ms/step - loss: 0.1175 - accuracy: 0.9585 - val_loss: 1.4683 - val_accuracy: 0.5624\n",
      "Epoch 18/20\n",
      "80/80 [==============================] - 1s 10ms/step - loss: 0.1096 - accuracy: 0.9577 - val_loss: 1.5110 - val_accuracy: 0.5877\n",
      "Epoch 19/20\n",
      "80/80 [==============================] - 1s 10ms/step - loss: 0.1001 - accuracy: 0.9640 - val_loss: 1.5969 - val_accuracy: 0.5434\n",
      "Epoch 20/20\n",
      "80/80 [==============================] - 1s 9ms/step - loss: 0.1028 - accuracy: 0.9617 - val_loss: 1.6760 - val_accuracy: 0.5624\n",
      "25/25 [==============================] - 0s 3ms/step\n",
      "Epoch 1/20\n",
      "80/80 [==============================] - 2s 12ms/step - loss: 1.1231 - accuracy: 0.5207 - val_loss: 0.9135 - val_accuracy: 0.6351\n",
      "Epoch 2/20\n",
      "80/80 [==============================] - 1s 10ms/step - loss: 0.9014 - accuracy: 0.6274 - val_loss: 0.8371 - val_accuracy: 0.6746\n",
      "Epoch 3/20\n",
      "80/80 [==============================] - 1s 10ms/step - loss: 0.7975 - accuracy: 0.6863 - val_loss: 0.8183 - val_accuracy: 0.6809\n",
      "Epoch 4/20\n",
      "80/80 [==============================] - 1s 10ms/step - loss: 0.7042 - accuracy: 0.7325 - val_loss: 0.8118 - val_accuracy: 0.6588\n",
      "Epoch 5/20\n",
      "80/80 [==============================] - 1s 10ms/step - loss: 0.5948 - accuracy: 0.7863 - val_loss: 0.8378 - val_accuracy: 0.6461\n",
      "Epoch 6/20\n",
      "80/80 [==============================] - 1s 10ms/step - loss: 0.4874 - accuracy: 0.8416 - val_loss: 0.8874 - val_accuracy: 0.6367\n",
      "Epoch 7/20\n",
      "80/80 [==============================] - 1s 9ms/step - loss: 0.4068 - accuracy: 0.8712 - val_loss: 0.9558 - val_accuracy: 0.5940\n",
      "Epoch 8/20\n",
      "80/80 [==============================] - 1s 12ms/step - loss: 0.3558 - accuracy: 0.8795 - val_loss: 1.0343 - val_accuracy: 0.6019\n",
      "Epoch 9/20\n",
      "80/80 [==============================] - 2s 20ms/step - loss: 0.3104 - accuracy: 0.8937 - val_loss: 0.9982 - val_accuracy: 0.6130\n",
      "Epoch 10/20\n",
      "80/80 [==============================] - 2s 19ms/step - loss: 0.2580 - accuracy: 0.9028 - val_loss: 1.1589 - val_accuracy: 0.5861\n",
      "Epoch 11/20\n",
      "80/80 [==============================] - 2s 20ms/step - loss: 0.2340 - accuracy: 0.9115 - val_loss: 1.2615 - val_accuracy: 0.5877\n",
      "Epoch 12/20\n",
      "80/80 [==============================] - 1s 18ms/step - loss: 0.1985 - accuracy: 0.9237 - val_loss: 1.1805 - val_accuracy: 0.6161\n",
      "Epoch 13/20\n",
      "80/80 [==============================] - 1s 17ms/step - loss: 0.1696 - accuracy: 0.9364 - val_loss: 1.1998 - val_accuracy: 0.6066\n",
      "Epoch 14/20\n",
      "80/80 [==============================] - 2s 20ms/step - loss: 0.1574 - accuracy: 0.9360 - val_loss: 1.2895 - val_accuracy: 0.6098\n",
      "Epoch 15/20\n",
      "80/80 [==============================] - 2s 21ms/step - loss: 0.1414 - accuracy: 0.9451 - val_loss: 1.2977 - val_accuracy: 0.6035\n",
      "Epoch 16/20\n",
      "80/80 [==============================] - 1s 16ms/step - loss: 0.1332 - accuracy: 0.9518 - val_loss: 1.3905 - val_accuracy: 0.6066\n",
      "Epoch 17/20\n",
      "80/80 [==============================] - 1s 15ms/step - loss: 0.1375 - accuracy: 0.9498 - val_loss: 1.4008 - val_accuracy: 0.5798\n",
      "Epoch 18/20\n",
      "80/80 [==============================] - 1s 15ms/step - loss: 0.1117 - accuracy: 0.9617 - val_loss: 1.3821 - val_accuracy: 0.6193\n",
      "Epoch 19/20\n",
      "80/80 [==============================] - 1s 15ms/step - loss: 0.0978 - accuracy: 0.9668 - val_loss: 1.4265 - val_accuracy: 0.6209\n",
      "Epoch 20/20\n",
      "80/80 [==============================] - 1s 16ms/step - loss: 0.1069 - accuracy: 0.9573 - val_loss: 1.5575 - val_accuracy: 0.5640\n",
      "25/25 [==============================] - 0s 4ms/step\n",
      "    Model Name                                         Parameters  Accuracy\n",
      "0  ann_model_1  {'hidden_layer_1': 64, 'hidden_layer_2': 32, '...  0.599747\n",
      "1  ann_model_2  {'hidden_layer_1': 128, 'hidden_layer_2': 64, ...  0.570707\n",
      "2  ann_model_3  {'hidden_layer_1': 128, 'hidden_layer_2': 64, ...  0.642677\n",
      "3  ann_model_4  {'hidden_layer_1': 128, 'hidden_layer_2': 64, ...  0.560606\n",
      "4  ann_model_5  {'hidden_layer_1': 128, 'hidden_layer_2': 64, ...  0.556818\n",
      "5  ann_model_6  {'hidden_layer_1': 128, 'hidden_layer_2': 64, ...  0.588384\n"
     ]
    }
   ],
   "source": [
    "import pandas as pd\n",
    "import numpy as np\n",
    "from sklearn.model_selection import train_test_split\n",
    "from tensorflow import keras\n",
    "from tensorflow.keras import layers\n",
    "from tensorflow.keras.utils import to_categorical\n",
    "from sklearn.metrics import accuracy_score\n",
    "\n",
    "# Define feature variables (X) and target variables (y)\n",
    "X = house_data.drop(columns=['price_by_area_interval'])\n",
    "y = house_data['price_by_area_interval']\n",
    "\n",
    "# Encode multi-category target variables into integer labels\n",
    "label_mapping = {label: idx for idx, label in enumerate(y.unique())}\n",
    "y_encoded = y.map(label_mapping)\n",
    "\n",
    "# Divide the data set into training set and test set\n",
    "X_train, X_test, y_train, y_test = train_test_split(X, y_encoded, test_size=0.2, random_state=42)\n",
    "\n",
    "# Convert integer labels to one-hot encoding\n",
    "y_train_one_hot = to_categorical(y_train)\n",
    "y_test_one_hot = to_categorical(y_test)\n",
    "\n",
    "# Parameter combinations for ANN\n",
    "param_combinations = [\n",
    "    {'hidden_layer_1': 64, 'hidden_layer_2': 32, 'hidden_layer_3': 16, 'epochs': 20, 'batch_size': 32},\n",
    "    {'hidden_layer_1': 128, 'hidden_layer_2': 64, 'hidden_layer_3': 32, 'epochs': 20, 'batch_size': 32},\n",
    "    {'hidden_layer_1': 128, 'hidden_layer_2': 64, 'epochs': 10, 'batch_size': 64},\n",
    "    {'hidden_layer_1': 128, 'hidden_layer_2': 64, 'epochs': 30, 'batch_size': 16},\n",
    "    {'hidden_layer_1': 128, 'hidden_layer_2': 64, 'epochs': 20, 'batch_size': 32, 'optimizer': 'adam', 'learning_rate': 0.001},\n",
    "    {'hidden_layer_1': 128, 'hidden_layer_2': 64, 'epochs': 20, 'batch_size': 32, 'optimizer': 'sgd', 'learning_rate': 0.01}\n",
    "]\n",
    "\n",
    "# Create a DataFrame to store model results\n",
    "results_df = pd.DataFrame(columns=['Model Name', 'Parameters', 'Accuracy'])\n",
    "\n",
    "# Create and train multiple ANN models\n",
    "for i, params in enumerate(param_combinations):\n",
    "    model_name = f\"ann_model_{i+1}\"\n",
    "    model = keras.Sequential()\n",
    "    model.add(layers.Input(shape=(X_train.shape[1],)))\n",
    "    model.add(layers.Dense(params['hidden_layer_1'], activation='relu'))\n",
    "    model.add(layers.Dense(params['hidden_layer_2'], activation='relu'))\n",
    "    model.add(layers.Dense(len(label_mapping), activation='softmax'))\n",
    "    \n",
    "    model.compile(optimizer='adam', loss='categorical_crossentropy', metrics=['accuracy'])\n",
    "    \n",
    "    model.fit(X_train, y_train_one_hot, epochs=params['epochs'], batch_size=params['batch_size'], validation_split=0.2)\n",
    "    \n",
    "    y_pred_one_hot = model.predict(X_test)\n",
    "    y_pred = np.argmax(y_pred_one_hot, axis=1)\n",
    "    \n",
    "    accuracy = accuracy_score(y_test, y_pred)\n",
    "    \n",
    "    # Append results to DataFrame\n",
    "    results_df = results_df.append({\n",
    "        'Model Name': model_name,\n",
    "        'Parameters': params,\n",
    "        'Accuracy': accuracy\n",
    "    }, ignore_index=True)\n",
    "\n",
    "# Output results\n",
    "print(results_df)"
   ]
  },
  {
   "cell_type": "markdown",
   "id": "3afb748f-8e14-4f0d-8094-68958bf16097",
   "metadata": {},
   "source": [
    "Naive Bayesracy: {accuracy:.2f}\")\r\n"
   ]
  },
  {
   "cell_type": "code",
   "execution_count": 46,
   "id": "59d548c2-c50a-4593-9de1-4f67cb339060",
   "metadata": {},
   "outputs": [
    {
     "name": "stdout",
     "output_type": "stream",
     "text": [
      "Accuracy: 0.60\n"
     ]
    }
   ],
   "source": [
    "import pandas as pd\n",
    "from sklearn.model_selection import train_test_split\n",
    "from sklearn.naive_bayes import MultinomialNB\n",
    "from sklearn.metrics import accuracy_score\n",
    "\n",
    "# Define feature variables (X) and target variables (y)\n",
    "X = house_data.drop(columns=['price_by_area_interval'])\n",
    "y = house_data['price_by_area_interval']\n",
    "\n",
    "# Divide the data set into training set and test set\n",
    "X_train, X_test, y_train, y_test = train_test_split(X, y, test_size=0.2, random_state=42)\n",
    "\n",
    "# Create and train a Multinomial Naive Bayes classifier\n",
    "naive_bayes_model = MultinomialNB()\n",
    "naive_bayes_model.fit(X_train, y_train)\n",
    "\n",
    "# Predict on the test set\n",
    "y_pred = naive_bayes_model.predict(X_test)\n",
    "\n",
    "# Calculate accuracy\n",
    "accuracy = accuracy_score(y_test, y_pred)\n",
    "\n",
    "# Output accuracy\n",
    "print(f\"Accuracy: {accuracy:.2f}\")"
   ]
  },
  {
   "cell_type": "code",
   "execution_count": 47,
   "id": "9f3ee531-8b2b-4ac1-8274-b446be08c4bf",
   "metadata": {},
   "outputs": [
    {
     "name": "stdout",
     "output_type": "stream",
     "text": [
      "Accuracy: 0.28\n"
     ]
    }
   ],
   "source": [
    "import pandas as pd\n",
    "from sklearn.model_selection import train_test_split\n",
    "from sklearn.naive_bayes import GaussianNB\n",
    "from sklearn.metrics import accuracy_score\n",
    "\n",
    "# Define feature variables (X) and target variables (y)\n",
    "X = house_data.drop(columns=['price_by_area_interval'])\n",
    "y = house_data['price_by_area_interval']\n",
    "\n",
    "# Divide the data set into training set and test set\n",
    "X_train, X_test, y_train, y_test = train_test_split(X, y, test_size=0.2, random_state=42)\n",
    "\n",
    "# Create and train a Gaussian Naive Bayes classifier\n",
    "naive_bayes_model = GaussianNB()\n",
    "naive_bayes_model.fit(X_train, y_train)\n",
    "\n",
    "# Predict on the test set\n",
    "y_pred = naive_bayes_model.predict(X_test)\n",
    "\n",
    "# Calculate accuracy\n",
    "accuracy = accuracy_score(y_test, y_pred)\n",
    "\n",
    "# Output accuracy\n",
    "print(f\"Accuracy: {accuracy:.2f}\")"
   ]
  },
  {
   "cell_type": "markdown",
   "id": "99039af1-13df-497d-8b53-da673777289c",
   "metadata": {},
   "source": [
    "### unit data"
   ]
  },
  {
   "cell_type": "markdown",
   "id": "20833b73-0abc-4da1-a309-578cd19bbcd1",
   "metadata": {},
   "source": [
    "random forest"
   ]
  },
  {
   "cell_type": "code",
   "execution_count": 49,
   "id": "42797346-965b-4f97-8b8b-70bb70d7f422",
   "metadata": {},
   "outputs": [],
   "source": [
    "unit_data.dropna(inplace=True)"
   ]
  },
  {
   "cell_type": "code",
   "execution_count": 50,
   "id": "8682b30b-9021-4390-9a58-f356d1769621",
   "metadata": {},
   "outputs": [
    {
     "name": "stdout",
     "output_type": "stream",
     "text": [
      "Model 1 - Accuracy: 0.44\n",
      "Model 2 - Accuracy: 0.44\n",
      "Model 3 - Accuracy: 0.45\n",
      "Model 4 - Accuracy: 0.45\n",
      "Model 5 - Accuracy: 0.45\n",
      "Model 6 - Accuracy: 0.51\n",
      "Model 7 - Accuracy: 0.54\n",
      "Model 8 - Accuracy: 0.55\n",
      "Model 9 - Accuracy: 0.56\n",
      "Model 10 - Accuracy: 0.51\n",
      "Model 11 - Accuracy: 0.56\n",
      "Model 12 - Accuracy: 0.56\n",
      "Model 13 - Accuracy: 0.56\n",
      "Model 14 - Accuracy: 0.56\n"
     ]
    }
   ],
   "source": [
    "from sklearn.ensemble import RandomForestClassifier\n",
    "from sklearn.model_selection import train_test_split\n",
    "from sklearn.metrics import accuracy_score\n",
    "\n",
    "X = unit_data.drop(columns=['price_by_area_interval'])\n",
    "y = unit_data['price_by_area_interval']\n",
    "\n",
    "params_combinations = [\n",
    "    {'n_estimators': 100, 'max_depth': 10, 'random_state': 42},\n",
    "    \n",
    "    {'n_estimators': 200, 'max_depth': 10,'min_samples_split': 2,  'random_state': 42},\n",
    "    {'n_estimators': 300, 'max_depth': 10, 'min_samples_split': 2, 'random_state': 42},\n",
    "    {'n_estimators': 400, 'max_depth': 10, 'min_samples_split': 2, 'random_state': 42},\n",
    "    {'n_estimators': 500, 'max_depth': 10, 'min_samples_split': 2, 'random_state': 42},\n",
    "\n",
    "    {'n_estimators': 100, 'max_depth': 20, 'min_samples_split': 4, 'random_state': 42},\n",
    "    {'n_estimators': 100, 'max_depth': 30, 'min_samples_split': 4, 'random_state': 42},\n",
    "    {'n_estimators': 100, 'max_depth': 40, 'min_samples_split': 4, 'random_state': 42},\n",
    "    {'n_estimators': 100, 'max_depth': 50, 'min_samples_split': 4, 'random_state': 42},\n",
    "\n",
    "    {'n_estimators': 200, 'max_depth': 20, 'min_samples_split': 4, 'random_state': 42},\n",
    "    {'n_estimators': 300, 'max_depth': 30, 'min_samples_split': 4, 'random_state': 42},\n",
    "    {'n_estimators': 400, 'max_depth': 40, 'min_samples_split': 4, 'random_state': 42},\n",
    "\n",
    "    {'n_estimators': 500, 'max_depth': 50, 'min_samples_split': 6, 'random_state': 42},\n",
    "    {'n_estimators': 1000, 'max_depth': 100, 'min_samples_split': 6, 'random_state': 42},\n",
    "]\n",
    "\n",
    "models = []\n",
    "for params in params_combinations:\n",
    "    model = RandomForestClassifier(**params)\n",
    "    X_train, X_test, y_train, y_test = train_test_split(X, y, test_size=0.2, random_state=42)\n",
    "    model.fit(X_train, y_train)\n",
    "    y_pred = model.predict(X_test)\n",
    "    accuracy = accuracy_score(y_test, y_pred)\n",
    "    models.append((model, accuracy))\n",
    "\n",
    "for i, (model, accuracy) in enumerate(models):\n",
    "    print(f\"Model {i + 1} - Accuracy: {accuracy:.2f}\")"
   ]
  },
  {
   "cell_type": "markdown",
   "id": "e67289f5-218e-4fa8-a846-3c6cb0593de3",
   "metadata": {},
   "source": [
    "SVM"
   ]
  },
  {
   "cell_type": "code",
   "execution_count": 51,
   "id": "aa4480e6-a122-478c-845f-58f5263ad292",
   "metadata": {},
   "outputs": [
    {
     "name": "stdout",
     "output_type": "stream",
     "text": [
      "SVM Model 1 - Parameters: {'C': 0.1, 'break_ties': False, 'cache_size': 200, 'class_weight': None, 'coef0': 0.0, 'decision_function_shape': 'ovr', 'degree': 3, 'gamma': 'scale', 'kernel': 'rbf', 'max_iter': -1, 'probability': False, 'random_state': 42, 'shrinking': True, 'tol': 0.001, 'verbose': False} - Accuracy: 0.43\n",
      "SVM Model 2 - Parameters: {'C': 1.0, 'break_ties': False, 'cache_size': 200, 'class_weight': None, 'coef0': 0.0, 'decision_function_shape': 'ovr', 'degree': 3, 'gamma': 'scale', 'kernel': 'rbf', 'max_iter': -1, 'probability': False, 'random_state': 42, 'shrinking': True, 'tol': 0.001, 'verbose': False} - Accuracy: 0.51\n",
      "SVM Model 3 - Parameters: {'C': 0.01, 'break_ties': False, 'cache_size': 200, 'class_weight': None, 'coef0': 0.0, 'decision_function_shape': 'ovr', 'degree': 3, 'gamma': 'scale', 'kernel': 'rbf', 'max_iter': -1, 'probability': False, 'random_state': 42, 'shrinking': True, 'tol': 0.001, 'verbose': False} - Accuracy: 0.43\n",
      "SVM Model 4 - Parameters: {'C': 0.1, 'break_ties': False, 'cache_size': 200, 'class_weight': None, 'coef0': 0.0, 'decision_function_shape': 'ovr', 'degree': 3, 'gamma': 0.1, 'kernel': 'rbf', 'max_iter': -1, 'probability': False, 'random_state': 42, 'shrinking': True, 'tol': 0.001, 'verbose': False} - Accuracy: 0.43\n",
      "SVM Model 5 - Parameters: {'C': 0.1, 'break_ties': False, 'cache_size': 200, 'class_weight': None, 'coef0': 0.0, 'decision_function_shape': 'ovr', 'degree': 3, 'gamma': 0.01, 'kernel': 'rbf', 'max_iter': -1, 'probability': False, 'random_state': 42, 'shrinking': True, 'tol': 0.001, 'verbose': False} - Accuracy: 0.43\n",
      "SVM Model 6 - Parameters: {'C': 0.1, 'break_ties': False, 'cache_size': 200, 'class_weight': None, 'coef0': 0.0, 'decision_function_shape': 'ovr', 'degree': 3, 'gamma': 0.01, 'kernel': 'rbf', 'max_iter': -1, 'probability': False, 'random_state': 42, 'shrinking': True, 'tol': 0.001, 'verbose': False} - Accuracy: 0.43\n",
      "SVM Model 7 - Parameters: {'C': 1.0, 'break_ties': False, 'cache_size': 200, 'class_weight': None, 'coef0': 0.0, 'decision_function_shape': 'ovr', 'degree': 3, 'gamma': 0.1, 'kernel': 'rbf', 'max_iter': -1, 'probability': False, 'random_state': 42, 'shrinking': True, 'tol': 0.001, 'verbose': False} - Accuracy: 0.56\n",
      "SVM Model 8 - Parameters: {'C': 1.0, 'break_ties': False, 'cache_size': 200, 'class_weight': None, 'coef0': 0.0, 'decision_function_shape': 'ovr', 'degree': 3, 'gamma': 0.01, 'kernel': 'rbf', 'max_iter': -1, 'probability': False, 'random_state': 42, 'shrinking': True, 'tol': 0.001, 'verbose': False} - Accuracy: 0.47\n",
      "SVM Model 9 - Parameters: {'C': 1.0, 'break_ties': False, 'cache_size': 200, 'class_weight': None, 'coef0': 0.0, 'decision_function_shape': 'ovr', 'degree': 3, 'gamma': 0.001, 'kernel': 'rbf', 'max_iter': -1, 'probability': False, 'random_state': 42, 'shrinking': True, 'tol': 0.001, 'verbose': False} - Accuracy: 0.43\n",
      "SVM Model 10 - Parameters: {'C': 10.0, 'break_ties': False, 'cache_size': 200, 'class_weight': None, 'coef0': 0.0, 'decision_function_shape': 'ovr', 'degree': 3, 'gamma': 0.1, 'kernel': 'rbf', 'max_iter': -1, 'probability': False, 'random_state': 42, 'shrinking': True, 'tol': 0.001, 'verbose': False} - Accuracy: 0.52\n",
      "SVM Model 11 - Parameters: {'C': 10.0, 'break_ties': False, 'cache_size': 200, 'class_weight': None, 'coef0': 0.0, 'decision_function_shape': 'ovr', 'degree': 3, 'gamma': 0.01, 'kernel': 'rbf', 'max_iter': -1, 'probability': False, 'random_state': 42, 'shrinking': True, 'tol': 0.001, 'verbose': False} - Accuracy: 0.57\n"
     ]
    }
   ],
   "source": [
    "from sklearn.svm import SVC\n",
    "from sklearn.model_selection import train_test_split\n",
    "from sklearn.metrics import accuracy_score\n",
    "\n",
    "# Prepare features and target variables\n",
    "X = unit_data.drop(columns=['price_by_area_interval'])\n",
    "y = unit_data['price_by_area_interval']\n",
    "\n",
    "# Define different RBF kernel SVM parameter combinations\n",
    "rbf_svm_param_combinations = [\n",
    "    {'C': 0.1, 'kernel': 'rbf', 'gamma': 'scale', 'random_state': 42},\n",
    "    {'C': 1.0, 'kernel': 'rbf', 'gamma': 'scale', 'random_state': 42},\n",
    "    {'C': 0.01, 'kernel': 'rbf', 'gamma': 'scale', 'random_state': 42},\n",
    "    \n",
    "    {'C': 0.1, 'kernel': 'rbf', 'gamma': 0.1, 'random_state': 42},\n",
    "    {'C': 0.1, 'kernel': 'rbf', 'gamma': 0.01, 'random_state': 42},\n",
    "    {'C': 0.1, 'kernel': 'rbf', 'gamma': 0.01, 'random_state': 42},\n",
    "    \n",
    "    {'C': 1.0, 'kernel': 'rbf', 'gamma': 0.1, 'random_state': 42},\n",
    "    {'C': 1.0, 'kernel': 'rbf', 'gamma': 0.01, 'random_state': 42},\n",
    "    {'C': 1.0, 'kernel': 'rbf', 'gamma': 0.001, 'random_state': 42},\n",
    "\n",
    "    {'C': 10.0, 'kernel': 'rbf', 'gamma': 0.1, 'random_state': 42},\n",
    "    {'C': 10.0, 'kernel': 'rbf', 'gamma': 0.01, 'random_state': 42}\n",
    "]\n",
    "\n",
    "# Train and evaluate different RBF kernel SVM models\n",
    "svm_models = []\n",
    "for params in rbf_svm_param_combinations:\n",
    "    model = SVC(**params)\n",
    "    X_train, X_test, y_train, y_test = train_test_split(X, y, test_size=0.2, random_state=42)\n",
    "    model.fit(X_train, y_train)\n",
    "    y_pred = model.predict(X_test)\n",
    "    accuracy = accuracy_score(y_test, y_pred)\n",
    "    svm_models.append((model, accuracy))\n",
    "\n",
    "# Print the accuracy of the SVM models\n",
    "for i, (model, accuracy) in enumerate(svm_models):\n",
    "    print(f\"SVM Model {i + 1} - Parameters: {model.get_params()} - Accuracy: {accuracy:.2f}\")"
   ]
  },
  {
   "cell_type": "markdown",
   "id": "7b25635d-1361-4124-90b7-d0769d52b877",
   "metadata": {},
   "source": [
    "ANN"
   ]
  },
  {
   "cell_type": "code",
   "execution_count": 52,
   "id": "32a30e82-b969-4677-a63f-71017b1bae27",
   "metadata": {},
   "outputs": [
    {
     "name": "stdout",
     "output_type": "stream",
     "text": [
      "Epoch 1/20\n",
      "29/29 [==============================] - 2s 28ms/step - loss: 1.4617 - accuracy: 0.4316 - val_loss: 1.4033 - val_accuracy: 0.3911\n",
      "Epoch 2/20\n",
      "29/29 [==============================] - 0s 13ms/step - loss: 1.3137 - accuracy: 0.4427 - val_loss: 1.3138 - val_accuracy: 0.4044\n",
      "Epoch 3/20\n",
      "29/29 [==============================] - 0s 11ms/step - loss: 1.2347 - accuracy: 0.4494 - val_loss: 1.2690 - val_accuracy: 0.4533\n",
      "Epoch 4/20\n",
      "29/29 [==============================] - 0s 11ms/step - loss: 1.1663 - accuracy: 0.5195 - val_loss: 1.2292 - val_accuracy: 0.4400\n",
      "Epoch 5/20\n",
      "29/29 [==============================] - 0s 12ms/step - loss: 1.1016 - accuracy: 0.5439 - val_loss: 1.1985 - val_accuracy: 0.4756\n",
      "Epoch 6/20\n",
      "29/29 [==============================] - 0s 10ms/step - loss: 1.0364 - accuracy: 0.5996 - val_loss: 1.1879 - val_accuracy: 0.4756\n",
      "Epoch 7/20\n",
      "29/29 [==============================] - 0s 11ms/step - loss: 0.9730 - accuracy: 0.6485 - val_loss: 1.1874 - val_accuracy: 0.4933\n",
      "Epoch 8/20\n",
      "29/29 [==============================] - 0s 12ms/step - loss: 0.9043 - accuracy: 0.6830 - val_loss: 1.1650 - val_accuracy: 0.4933\n",
      "Epoch 9/20\n",
      "29/29 [==============================] - 0s 11ms/step - loss: 0.8332 - accuracy: 0.7241 - val_loss: 1.1836 - val_accuracy: 0.4933\n",
      "Epoch 10/20\n",
      "29/29 [==============================] - 0s 10ms/step - loss: 0.7756 - accuracy: 0.7364 - val_loss: 1.2019 - val_accuracy: 0.4800\n",
      "Epoch 11/20\n",
      "29/29 [==============================] - 0s 9ms/step - loss: 0.6948 - accuracy: 0.7809 - val_loss: 1.2193 - val_accuracy: 0.4756\n",
      "Epoch 12/20\n",
      "29/29 [==============================] - 0s 10ms/step - loss: 0.6315 - accuracy: 0.8031 - val_loss: 1.2754 - val_accuracy: 0.4489\n",
      "Epoch 13/20\n",
      "29/29 [==============================] - 0s 10ms/step - loss: 0.5711 - accuracy: 0.8076 - val_loss: 1.2908 - val_accuracy: 0.4844\n",
      "Epoch 14/20\n",
      "29/29 [==============================] - 0s 9ms/step - loss: 0.5172 - accuracy: 0.8154 - val_loss: 1.3478 - val_accuracy: 0.4667\n",
      "Epoch 15/20\n",
      "29/29 [==============================] - 0s 10ms/step - loss: 0.4558 - accuracy: 0.8521 - val_loss: 1.3943 - val_accuracy: 0.4533\n",
      "Epoch 16/20\n",
      "29/29 [==============================] - 0s 13ms/step - loss: 0.4112 - accuracy: 0.8699 - val_loss: 1.4478 - val_accuracy: 0.4489\n",
      "Epoch 17/20\n",
      "29/29 [==============================] - 0s 10ms/step - loss: 0.3931 - accuracy: 0.8710 - val_loss: 1.4914 - val_accuracy: 0.4711\n",
      "Epoch 18/20\n",
      "29/29 [==============================] - 0s 10ms/step - loss: 0.3424 - accuracy: 0.8877 - val_loss: 1.5588 - val_accuracy: 0.4444\n",
      "Epoch 19/20\n",
      "29/29 [==============================] - 0s 10ms/step - loss: 0.3115 - accuracy: 0.9043 - val_loss: 1.6493 - val_accuracy: 0.4356\n",
      "Epoch 20/20\n",
      "29/29 [==============================] - 0s 11ms/step - loss: 0.2879 - accuracy: 0.9166 - val_loss: 1.6363 - val_accuracy: 0.4533\n",
      "9/9 [==============================] - 0s 6ms/step\n",
      "Epoch 1/20\n",
      "29/29 [==============================] - 2s 25ms/step - loss: 1.3425 - accuracy: 0.4327 - val_loss: 1.3204 - val_accuracy: 0.4044\n",
      "Epoch 2/20\n",
      "29/29 [==============================] - 0s 15ms/step - loss: 1.2148 - accuracy: 0.4505 - val_loss: 1.2857 - val_accuracy: 0.3822\n",
      "Epoch 3/20\n",
      "29/29 [==============================] - 0s 14ms/step - loss: 1.1259 - accuracy: 0.5295 - val_loss: 1.2204 - val_accuracy: 0.4622\n",
      "Epoch 4/20\n",
      "29/29 [==============================] - 0s 14ms/step - loss: 1.0350 - accuracy: 0.5818 - val_loss: 1.1724 - val_accuracy: 0.4711\n",
      "Epoch 5/20\n",
      "29/29 [==============================] - 0s 16ms/step - loss: 0.9662 - accuracy: 0.5918 - val_loss: 1.1641 - val_accuracy: 0.4889\n",
      "Epoch 6/20\n",
      "29/29 [==============================] - 0s 14ms/step - loss: 0.8606 - accuracy: 0.6819 - val_loss: 1.1505 - val_accuracy: 0.4844\n",
      "Epoch 7/20\n",
      "29/29 [==============================] - 0s 15ms/step - loss: 0.7604 - accuracy: 0.7364 - val_loss: 1.2243 - val_accuracy: 0.4533\n",
      "Epoch 8/20\n",
      "29/29 [==============================] - 0s 14ms/step - loss: 0.6698 - accuracy: 0.7631 - val_loss: 1.2635 - val_accuracy: 0.4444\n",
      "Epoch 9/20\n",
      "29/29 [==============================] - 0s 14ms/step - loss: 0.5641 - accuracy: 0.8109 - val_loss: 1.2297 - val_accuracy: 0.4756\n",
      "Epoch 10/20\n",
      "29/29 [==============================] - 0s 15ms/step - loss: 0.5186 - accuracy: 0.8287 - val_loss: 1.2796 - val_accuracy: 0.4844\n",
      "Epoch 11/20\n",
      "29/29 [==============================] - 0s 14ms/step - loss: 0.4174 - accuracy: 0.8676 - val_loss: 1.3286 - val_accuracy: 0.4489\n",
      "Epoch 12/20\n",
      "29/29 [==============================] - 0s 14ms/step - loss: 0.3441 - accuracy: 0.8821 - val_loss: 1.4225 - val_accuracy: 0.4622\n",
      "Epoch 13/20\n",
      "29/29 [==============================] - 0s 15ms/step - loss: 0.3086 - accuracy: 0.9110 - val_loss: 1.4571 - val_accuracy: 0.4356\n",
      "Epoch 14/20\n",
      "29/29 [==============================] - 0s 14ms/step - loss: 0.2688 - accuracy: 0.9110 - val_loss: 1.5326 - val_accuracy: 0.4444\n",
      "Epoch 15/20\n",
      "29/29 [==============================] - 0s 14ms/step - loss: 0.2306 - accuracy: 0.9255 - val_loss: 1.6134 - val_accuracy: 0.4400\n",
      "Epoch 16/20\n",
      "29/29 [==============================] - 0s 16ms/step - loss: 0.2000 - accuracy: 0.9433 - val_loss: 1.6829 - val_accuracy: 0.4400\n",
      "Epoch 17/20\n",
      "29/29 [==============================] - 0s 17ms/step - loss: 0.1843 - accuracy: 0.9499 - val_loss: 1.7329 - val_accuracy: 0.4400\n",
      "Epoch 18/20\n",
      "29/29 [==============================] - 0s 17ms/step - loss: 0.1681 - accuracy: 0.9533 - val_loss: 1.8014 - val_accuracy: 0.4267\n",
      "Epoch 19/20\n",
      "29/29 [==============================] - 0s 15ms/step - loss: 0.1436 - accuracy: 0.9655 - val_loss: 1.8651 - val_accuracy: 0.4489\n",
      "Epoch 20/20\n",
      "29/29 [==============================] - 0s 17ms/step - loss: 0.1317 - accuracy: 0.9689 - val_loss: 1.8781 - val_accuracy: 0.4178\n",
      "9/9 [==============================] - 0s 6ms/step\n",
      "Epoch 1/10\n",
      "15/15 [==============================] - 2s 41ms/step - loss: 1.3676 - accuracy: 0.4071 - val_loss: 1.3278 - val_accuracy: 0.3956\n",
      "Epoch 2/10\n",
      "15/15 [==============================] - 0s 18ms/step - loss: 1.2452 - accuracy: 0.4494 - val_loss: 1.2909 - val_accuracy: 0.4222\n",
      "Epoch 3/10\n",
      "15/15 [==============================] - 0s 17ms/step - loss: 1.1813 - accuracy: 0.5506 - val_loss: 1.2541 - val_accuracy: 0.4267\n",
      "Epoch 4/10\n",
      "15/15 [==============================] - 0s 22ms/step - loss: 1.1338 - accuracy: 0.5517 - val_loss: 1.2226 - val_accuracy: 0.4756\n",
      "Epoch 5/10\n",
      "15/15 [==============================] - 0s 18ms/step - loss: 1.0642 - accuracy: 0.5784 - val_loss: 1.2200 - val_accuracy: 0.4400\n",
      "Epoch 6/10\n",
      "15/15 [==============================] - 0s 19ms/step - loss: 1.0041 - accuracy: 0.6085 - val_loss: 1.1974 - val_accuracy: 0.4711\n",
      "Epoch 7/10\n",
      "15/15 [==============================] - 0s 18ms/step - loss: 0.9351 - accuracy: 0.6518 - val_loss: 1.1695 - val_accuracy: 0.4622\n",
      "Epoch 8/10\n",
      "15/15 [==============================] - 0s 22ms/step - loss: 0.8616 - accuracy: 0.7019 - val_loss: 1.1702 - val_accuracy: 0.4844\n",
      "Epoch 9/10\n",
      "15/15 [==============================] - 0s 18ms/step - loss: 0.8126 - accuracy: 0.7030 - val_loss: 1.1910 - val_accuracy: 0.4667\n",
      "Epoch 10/10\n",
      "15/15 [==============================] - 0s 19ms/step - loss: 0.7308 - accuracy: 0.7653 - val_loss: 1.2182 - val_accuracy: 0.4444\n",
      "9/9 [==============================] - 0s 5ms/step\n",
      "Epoch 1/30\n",
      "57/57 [==============================] - 3s 18ms/step - loss: 1.3101 - accuracy: 0.4372 - val_loss: 1.2891 - val_accuracy: 0.4356\n",
      "Epoch 2/30\n",
      "57/57 [==============================] - 1s 12ms/step - loss: 1.1669 - accuracy: 0.5128 - val_loss: 1.1900 - val_accuracy: 0.4844\n",
      "Epoch 3/30\n",
      "57/57 [==============================] - 1s 12ms/step - loss: 1.0629 - accuracy: 0.5506 - val_loss: 1.1689 - val_accuracy: 0.4667\n",
      "Epoch 4/30\n",
      "57/57 [==============================] - 1s 11ms/step - loss: 0.9342 - accuracy: 0.6429 - val_loss: 1.1355 - val_accuracy: 0.5067\n",
      "Epoch 5/30\n",
      "57/57 [==============================] - 1s 12ms/step - loss: 0.8102 - accuracy: 0.6952 - val_loss: 1.1434 - val_accuracy: 0.4889\n",
      "Epoch 6/30\n",
      "57/57 [==============================] - 1s 12ms/step - loss: 0.6877 - accuracy: 0.7486 - val_loss: 1.2407 - val_accuracy: 0.4489\n",
      "Epoch 7/30\n",
      "57/57 [==============================] - 1s 13ms/step - loss: 0.5472 - accuracy: 0.8065 - val_loss: 1.3060 - val_accuracy: 0.4356\n",
      "Epoch 8/30\n",
      "57/57 [==============================] - 1s 12ms/step - loss: 0.4507 - accuracy: 0.8509 - val_loss: 1.3665 - val_accuracy: 0.4667\n",
      "Epoch 9/30\n",
      "57/57 [==============================] - 1s 12ms/step - loss: 0.4071 - accuracy: 0.8643 - val_loss: 1.4970 - val_accuracy: 0.4578\n",
      "Epoch 10/30\n",
      "57/57 [==============================] - 1s 11ms/step - loss: 0.3262 - accuracy: 0.8899 - val_loss: 1.5723 - val_accuracy: 0.4133\n",
      "Epoch 11/30\n",
      "57/57 [==============================] - 1s 11ms/step - loss: 0.2630 - accuracy: 0.9088 - val_loss: 1.6704 - val_accuracy: 0.3822\n",
      "Epoch 12/30\n",
      "57/57 [==============================] - 1s 12ms/step - loss: 0.2221 - accuracy: 0.9232 - val_loss: 1.7513 - val_accuracy: 0.4267\n",
      "Epoch 13/30\n",
      "57/57 [==============================] - 1s 12ms/step - loss: 0.2013 - accuracy: 0.9244 - val_loss: 1.8616 - val_accuracy: 0.4000\n",
      "Epoch 14/30\n",
      "57/57 [==============================] - 1s 11ms/step - loss: 0.1751 - accuracy: 0.9499 - val_loss: 2.1026 - val_accuracy: 0.4133\n",
      "Epoch 15/30\n",
      "57/57 [==============================] - 1s 12ms/step - loss: 0.1648 - accuracy: 0.9477 - val_loss: 2.0998 - val_accuracy: 0.3911\n",
      "Epoch 16/30\n",
      "57/57 [==============================] - 1s 12ms/step - loss: 0.1270 - accuracy: 0.9633 - val_loss: 2.0253 - val_accuracy: 0.4133\n",
      "Epoch 17/30\n",
      "57/57 [==============================] - 1s 12ms/step - loss: 0.1155 - accuracy: 0.9677 - val_loss: 2.2126 - val_accuracy: 0.4089\n",
      "Epoch 18/30\n",
      "57/57 [==============================] - 1s 12ms/step - loss: 0.1110 - accuracy: 0.9677 - val_loss: 2.1893 - val_accuracy: 0.4044\n",
      "Epoch 19/30\n",
      "57/57 [==============================] - 1s 11ms/step - loss: 0.0987 - accuracy: 0.9677 - val_loss: 2.2273 - val_accuracy: 0.4089\n",
      "Epoch 20/30\n",
      "57/57 [==============================] - 1s 14ms/step - loss: 0.0973 - accuracy: 0.9677 - val_loss: 2.4227 - val_accuracy: 0.4000\n",
      "Epoch 21/30\n",
      "57/57 [==============================] - 1s 13ms/step - loss: 0.0736 - accuracy: 0.9822 - val_loss: 2.6746 - val_accuracy: 0.4089\n",
      "Epoch 22/30\n",
      "57/57 [==============================] - 1s 12ms/step - loss: 0.0965 - accuracy: 0.9700 - val_loss: 2.5537 - val_accuracy: 0.4044\n",
      "Epoch 23/30\n",
      "57/57 [==============================] - 1s 12ms/step - loss: 0.0619 - accuracy: 0.9844 - val_loss: 2.6522 - val_accuracy: 0.3822\n",
      "Epoch 24/30\n",
      "57/57 [==============================] - 1s 11ms/step - loss: 0.0606 - accuracy: 0.9822 - val_loss: 2.6384 - val_accuracy: 0.4222\n",
      "Epoch 25/30\n",
      "57/57 [==============================] - 1s 12ms/step - loss: 0.0540 - accuracy: 0.9844 - val_loss: 2.6981 - val_accuracy: 0.3956\n",
      "Epoch 26/30\n",
      "57/57 [==============================] - 1s 11ms/step - loss: 0.0405 - accuracy: 0.9944 - val_loss: 2.8042 - val_accuracy: 0.3778\n",
      "Epoch 27/30\n",
      "57/57 [==============================] - 1s 11ms/step - loss: 0.0424 - accuracy: 0.9911 - val_loss: 2.8150 - val_accuracy: 0.3733\n",
      "Epoch 28/30\n",
      "57/57 [==============================] - 1s 10ms/step - loss: 0.0467 - accuracy: 0.9867 - val_loss: 2.9068 - val_accuracy: 0.3689\n",
      "Epoch 29/30\n",
      "57/57 [==============================] - 1s 12ms/step - loss: 0.0407 - accuracy: 0.9933 - val_loss: 2.9662 - val_accuracy: 0.3956\n",
      "Epoch 30/30\n",
      "57/57 [==============================] - 1s 11ms/step - loss: 0.0420 - accuracy: 0.9844 - val_loss: 3.0880 - val_accuracy: 0.4000\n",
      "9/9 [==============================] - 0s 5ms/step\n",
      "Epoch 1/20\n",
      "29/29 [==============================] - 2s 23ms/step - loss: 1.3488 - accuracy: 0.4149 - val_loss: 1.3016 - val_accuracy: 0.4000\n",
      "Epoch 2/20\n",
      "29/29 [==============================] - 0s 12ms/step - loss: 1.2000 - accuracy: 0.4705 - val_loss: 1.2506 - val_accuracy: 0.4089\n",
      "Epoch 3/20\n",
      "29/29 [==============================] - 0s 14ms/step - loss: 1.1148 - accuracy: 0.5206 - val_loss: 1.2076 - val_accuracy: 0.4622\n",
      "Epoch 4/20\n",
      "29/29 [==============================] - 0s 13ms/step - loss: 1.0496 - accuracy: 0.5662 - val_loss: 1.1673 - val_accuracy: 0.4711\n",
      "Epoch 5/20\n",
      "29/29 [==============================] - 0s 13ms/step - loss: 0.9583 - accuracy: 0.6096 - val_loss: 1.1456 - val_accuracy: 0.5022\n",
      "Epoch 6/20\n",
      "29/29 [==============================] - 0s 14ms/step - loss: 0.8730 - accuracy: 0.6630 - val_loss: 1.1589 - val_accuracy: 0.4933\n",
      "Epoch 7/20\n",
      "29/29 [==============================] - 0s 12ms/step - loss: 0.8022 - accuracy: 0.6819 - val_loss: 1.1640 - val_accuracy: 0.5022\n",
      "Epoch 8/20\n",
      "29/29 [==============================] - 0s 13ms/step - loss: 0.7128 - accuracy: 0.7497 - val_loss: 1.1771 - val_accuracy: 0.5022\n",
      "Epoch 9/20\n",
      "29/29 [==============================] - 0s 15ms/step - loss: 0.5925 - accuracy: 0.7853 - val_loss: 1.2177 - val_accuracy: 0.4800\n",
      "Epoch 10/20\n",
      "29/29 [==============================] - 0s 14ms/step - loss: 0.5005 - accuracy: 0.8387 - val_loss: 1.3026 - val_accuracy: 0.4756\n",
      "Epoch 11/20\n",
      "29/29 [==============================] - 0s 15ms/step - loss: 0.4390 - accuracy: 0.8565 - val_loss: 1.3300 - val_accuracy: 0.4756\n",
      "Epoch 12/20\n",
      "29/29 [==============================] - 0s 13ms/step - loss: 0.3895 - accuracy: 0.8654 - val_loss: 1.4206 - val_accuracy: 0.4489\n",
      "Epoch 13/20\n",
      "29/29 [==============================] - 0s 13ms/step - loss: 0.3131 - accuracy: 0.9010 - val_loss: 1.4359 - val_accuracy: 0.4844\n",
      "Epoch 14/20\n",
      "29/29 [==============================] - 0s 15ms/step - loss: 0.2713 - accuracy: 0.9255 - val_loss: 1.5257 - val_accuracy: 0.4756\n",
      "Epoch 15/20\n",
      "29/29 [==============================] - 0s 12ms/step - loss: 0.2274 - accuracy: 0.9455 - val_loss: 1.6002 - val_accuracy: 0.4622\n",
      "Epoch 16/20\n",
      "29/29 [==============================] - 0s 15ms/step - loss: 0.2125 - accuracy: 0.9299 - val_loss: 1.6999 - val_accuracy: 0.4489\n",
      "Epoch 17/20\n",
      "29/29 [==============================] - 0s 12ms/step - loss: 0.1794 - accuracy: 0.9511 - val_loss: 1.7298 - val_accuracy: 0.4533\n",
      "Epoch 18/20\n",
      "29/29 [==============================] - 0s 12ms/step - loss: 0.1659 - accuracy: 0.9511 - val_loss: 1.8987 - val_accuracy: 0.4356\n",
      "Epoch 19/20\n",
      "29/29 [==============================] - 0s 13ms/step - loss: 0.1555 - accuracy: 0.9555 - val_loss: 1.8110 - val_accuracy: 0.4578\n",
      "Epoch 20/20\n",
      "29/29 [==============================] - 0s 13ms/step - loss: 0.1298 - accuracy: 0.9655 - val_loss: 1.8902 - val_accuracy: 0.4311\n",
      "9/9 [==============================] - 0s 5ms/step\n",
      "Epoch 1/20\n",
      "29/29 [==============================] - 2s 29ms/step - loss: 1.4397 - accuracy: 0.3771 - val_loss: 1.3451 - val_accuracy: 0.3911\n",
      "Epoch 2/20\n",
      "29/29 [==============================] - 0s 14ms/step - loss: 1.2480 - accuracy: 0.4828 - val_loss: 1.2816 - val_accuracy: 0.4044\n",
      "Epoch 3/20\n",
      "29/29 [==============================] - 0s 14ms/step - loss: 1.1649 - accuracy: 0.4939 - val_loss: 1.2233 - val_accuracy: 0.4400\n",
      "Epoch 4/20\n",
      "29/29 [==============================] - 0s 15ms/step - loss: 1.0790 - accuracy: 0.5539 - val_loss: 1.1825 - val_accuracy: 0.4711\n",
      "Epoch 5/20\n",
      "29/29 [==============================] - 1s 18ms/step - loss: 0.9943 - accuracy: 0.6196 - val_loss: 1.1477 - val_accuracy: 0.4978\n",
      "Epoch 6/20\n",
      "29/29 [==============================] - 0s 14ms/step - loss: 0.9092 - accuracy: 0.6607 - val_loss: 1.1502 - val_accuracy: 0.4978\n",
      "Epoch 7/20\n",
      "29/29 [==============================] - 0s 17ms/step - loss: 0.8189 - accuracy: 0.7108 - val_loss: 1.1646 - val_accuracy: 0.4756\n",
      "Epoch 8/20\n",
      "29/29 [==============================] - 0s 14ms/step - loss: 0.7091 - accuracy: 0.7553 - val_loss: 1.1924 - val_accuracy: 0.4800\n",
      "Epoch 9/20\n",
      "29/29 [==============================] - 0s 15ms/step - loss: 0.6161 - accuracy: 0.7853 - val_loss: 1.2349 - val_accuracy: 0.4711\n",
      "Epoch 10/20\n",
      "29/29 [==============================] - 0s 14ms/step - loss: 0.5248 - accuracy: 0.8242 - val_loss: 1.3370 - val_accuracy: 0.4533\n",
      "Epoch 11/20\n",
      "29/29 [==============================] - 0s 13ms/step - loss: 0.4619 - accuracy: 0.8565 - val_loss: 1.3601 - val_accuracy: 0.4711\n",
      "Epoch 12/20\n",
      "29/29 [==============================] - 0s 15ms/step - loss: 0.3903 - accuracy: 0.8676 - val_loss: 1.4111 - val_accuracy: 0.4489\n",
      "Epoch 13/20\n",
      "29/29 [==============================] - 0s 14ms/step - loss: 0.3357 - accuracy: 0.9032 - val_loss: 1.4958 - val_accuracy: 0.4444\n",
      "Epoch 14/20\n",
      "29/29 [==============================] - 0s 14ms/step - loss: 0.2855 - accuracy: 0.9021 - val_loss: 1.5422 - val_accuracy: 0.4400\n",
      "Epoch 15/20\n",
      "29/29 [==============================] - 0s 15ms/step - loss: 0.2562 - accuracy: 0.9232 - val_loss: 1.6324 - val_accuracy: 0.4267\n",
      "Epoch 16/20\n",
      "29/29 [==============================] - 0s 12ms/step - loss: 0.2371 - accuracy: 0.9299 - val_loss: 1.6843 - val_accuracy: 0.4489\n",
      "Epoch 17/20\n",
      "29/29 [==============================] - 0s 12ms/step - loss: 0.2042 - accuracy: 0.9333 - val_loss: 1.7836 - val_accuracy: 0.4311\n",
      "Epoch 18/20\n",
      "29/29 [==============================] - 0s 12ms/step - loss: 0.1850 - accuracy: 0.9466 - val_loss: 1.8506 - val_accuracy: 0.4267\n",
      "Epoch 19/20\n",
      "29/29 [==============================] - 0s 14ms/step - loss: 0.1795 - accuracy: 0.9410 - val_loss: 1.8588 - val_accuracy: 0.4400\n",
      "Epoch 20/20\n",
      "29/29 [==============================] - 0s 14ms/step - loss: 0.1642 - accuracy: 0.9488 - val_loss: 1.9065 - val_accuracy: 0.4444\n",
      "9/9 [==============================] - 0s 6ms/step\n",
      "    Model Name                                         Parameters  Accuracy\n",
      "0  ann_model_1  {'hidden_layer_1': 64, 'hidden_layer_2': 32, '...  0.503546\n",
      "1  ann_model_2  {'hidden_layer_1': 128, 'hidden_layer_2': 64, ...  0.450355\n",
      "2  ann_model_3  {'hidden_layer_1': 128, 'hidden_layer_2': 64, ...  0.514184\n",
      "3  ann_model_4  {'hidden_layer_1': 128, 'hidden_layer_2': 64, ...  0.492908\n",
      "4  ann_model_5  {'hidden_layer_1': 128, 'hidden_layer_2': 64, ...  0.457447\n",
      "5  ann_model_6  {'hidden_layer_1': 128, 'hidden_layer_2': 64, ...  0.478723\n"
     ]
    }
   ],
   "source": [
    "import pandas as pd\n",
    "import numpy as np\n",
    "from sklearn.model_selection import train_test_split\n",
    "from tensorflow import keras\n",
    "from tensorflow.keras import layers\n",
    "from tensorflow.keras.utils import to_categorical\n",
    "from sklearn.metrics import accuracy_score\n",
    "\n",
    "# Define feature variables (X) and target variables (y)\n",
    "X = unit_data.drop(columns=['price_by_area_interval'])\n",
    "y = unit_data['price_by_area_interval']\n",
    "\n",
    "# Encode multi-category target variables into integer labels\n",
    "label_mapping = {label: idx for idx, label in enumerate(y.unique())}\n",
    "y_encoded = y.map(label_mapping)\n",
    "\n",
    "# Divide the data set into training set and test set\n",
    "X_train, X_test, y_train, y_test = train_test_split(X, y_encoded, test_size=0.2, random_state=42)\n",
    "\n",
    "# Convert integer labels to one-hot encoding\n",
    "y_train_one_hot = to_categorical(y_train)\n",
    "y_test_one_hot = to_categorical(y_test)\n",
    "\n",
    "# Parameter combinations for ANN\n",
    "param_combinations = [\n",
    "    {'hidden_layer_1': 64, 'hidden_layer_2': 32, 'hidden_layer_3': 16, 'epochs': 20, 'batch_size': 32},\n",
    "    {'hidden_layer_1': 128, 'hidden_layer_2': 64, 'hidden_layer_3': 32, 'epochs': 20, 'batch_size': 32},\n",
    "    {'hidden_layer_1': 128, 'hidden_layer_2': 64, 'epochs': 10, 'batch_size': 64},\n",
    "    {'hidden_layer_1': 128, 'hidden_layer_2': 64, 'epochs': 30, 'batch_size': 16},\n",
    "    {'hidden_layer_1': 128, 'hidden_layer_2': 64, 'epochs': 20, 'batch_size': 32, 'optimizer': 'adam', 'learning_rate': 0.001},\n",
    "    {'hidden_layer_1': 128, 'hidden_layer_2': 64, 'epochs': 20, 'batch_size': 32, 'optimizer': 'sgd', 'learning_rate': 0.01}\n",
    "]\n",
    "\n",
    "# Create a DataFrame to store model results\n",
    "results_df = pd.DataFrame(columns=['Model Name', 'Parameters', 'Accuracy'])\n",
    "\n",
    "# Create and train multiple ANN models\n",
    "for i, params in enumerate(param_combinations):\n",
    "    model_name = f\"ann_model_{i+1}\"\n",
    "    model = keras.Sequential()\n",
    "    model.add(layers.Input(shape=(X_train.shape[1],)))\n",
    "    model.add(layers.Dense(params['hidden_layer_1'], activation='relu'))\n",
    "    model.add(layers.Dense(params['hidden_layer_2'], activation='relu'))\n",
    "    model.add(layers.Dense(len(label_mapping), activation='softmax'))\n",
    "    \n",
    "    model.compile(optimizer='adam', loss='categorical_crossentropy', metrics=['accuracy'])\n",
    "    \n",
    "    model.fit(X_train, y_train_one_hot, epochs=params['epochs'], batch_size=params['batch_size'], validation_split=0.2)\n",
    "    \n",
    "    y_pred_one_hot = model.predict(X_test)\n",
    "    y_pred = np.argmax(y_pred_one_hot, axis=1)\n",
    "    \n",
    "    accuracy = accuracy_score(y_test, y_pred)\n",
    "    \n",
    "    # Append results to DataFrame\n",
    "    results_df = results_df.append({\n",
    "        'Model Name': model_name,\n",
    "        'Parameters': params,\n",
    "        'Accuracy': accuracy\n",
    "    }, ignore_index=True)\n",
    "\n",
    "# Output results\n",
    "print(results_df)"
   ]
  },
  {
   "cell_type": "markdown",
   "id": "83493c25-ae63-43fd-a0d5-d4694def6f45",
   "metadata": {},
   "source": [
    "Bayes"
   ]
  },
  {
   "cell_type": "code",
   "execution_count": 53,
   "id": "44472b5a-2ada-4c99-b530-af4c0ca167e5",
   "metadata": {},
   "outputs": [
    {
     "name": "stdout",
     "output_type": "stream",
     "text": [
      "Naive Bayes Model 1 - Parameters: {'alpha': 1.0, 'class_prior': None, 'fit_prior': True} - Accuracy: 0.50\n",
      "Naive Bayes Model 2 - Parameters: {'alpha': 0.1, 'class_prior': None, 'fit_prior': True} - Accuracy: 0.46\n",
      "Naive Bayes Model 3 - Parameters: {'alpha': 0.01, 'class_prior': None, 'fit_prior': True} - Accuracy: 0.42\n",
      "Naive Bayes Model 4 - Parameters: {'alpha': 0.001, 'class_prior': None, 'fit_prior': True} - Accuracy: 0.41\n",
      "Naive Bayes Model 5 - Parameters: {'alpha': 0.0001, 'class_prior': None, 'fit_prior': True} - Accuracy: 0.42\n"
     ]
    }
   ],
   "source": [
    "from sklearn.naive_bayes import MultinomialNB\n",
    "from sklearn.model_selection import train_test_split\n",
    "from sklearn.metrics import accuracy_score\n",
    "\n",
    "# Prepare features and target variables\n",
    "X = unit_data.drop(columns=['price_by_area_interval'])\n",
    "y = unit_data['price_by_area_interval']\n",
    "\n",
    "# Define different Naive Bayes parameter combinations\n",
    "nb_param_combinations = [\n",
    "    {'alpha': 1.0},\n",
    "    {'alpha': 0.1},\n",
    "    {'alpha': 0.01},\n",
    "    {'alpha': 0.001},\n",
    "    {'alpha': 0.0001}\n",
    "]\n",
    "\n",
    "# Train and evaluate different Naive Bayes models\n",
    "nb_models = []\n",
    "for params in nb_param_combinations:\n",
    "    model = MultinomialNB(**params)\n",
    "    X_train, X_test, y_train, y_test = train_test_split(X, y, test_size=0.2, random_state=42)\n",
    "    model.fit(X_train, y_train)\n",
    "    y_pred = model.predict(X_test)\n",
    "    accuracy = accuracy_score(y_test, y_pred)\n",
    "    nb_models.append((model, accuracy))\n",
    "\n",
    "# Print the accuracy of the Naive Bayes models\n",
    "for i, (model, accuracy) in enumerate(nb_models):\n",
    "    print(f\"Naive Bayes Model {i + 1} - Parameters: {model.get_params()} - Accuracy: {accuracy:.2f}\")"
   ]
  },
  {
   "cell_type": "markdown",
   "id": "d4b93ddd-dfc2-4c00-bdbb-54ae15642e40",
   "metadata": {},
   "source": [
    "### townhouse data"
   ]
  },
  {
   "cell_type": "code",
   "execution_count": 54,
   "id": "d3dd9bab-d1a6-4ecc-9e3c-a14ebbc02735",
   "metadata": {},
   "outputs": [
    {
     "name": "stdout",
     "output_type": "stream",
     "text": [
      "Model 1 - Accuracy: 0.46\n",
      "Model 2 - Accuracy: 0.46\n",
      "Model 3 - Accuracy: 0.44\n",
      "Model 4 - Accuracy: 0.45\n",
      "Model 5 - Accuracy: 0.46\n",
      "Model 6 - Accuracy: 0.44\n",
      "Model 7 - Accuracy: 0.46\n",
      "Model 8 - Accuracy: 0.46\n",
      "Model 9 - Accuracy: 0.44\n",
      "Model 10 - Accuracy: 0.45\n",
      "Model 11 - Accuracy: 0.45\n",
      "Model 12 - Accuracy: 0.45\n",
      "Model 13 - Accuracy: 0.44\n",
      "Model 14 - Accuracy: 0.47\n"
     ]
    }
   ],
   "source": [
    "from sklearn.ensemble import RandomForestClassifier\n",
    "from sklearn.model_selection import train_test_split\n",
    "from sklearn.metrics import accuracy_score\n",
    "\n",
    "X = townhouse_data.drop(columns=['price_by_area_interval'])\n",
    "y = townhouse_data['price_by_area_interval']\n",
    "\n",
    "params_combinations = [\n",
    "    {'n_estimators': 100, 'max_depth': 10, 'random_state': 42},\n",
    "    \n",
    "    {'n_estimators': 200, 'max_depth': 10, 'min_samples_split': 2, 'random_state': 42},\n",
    "    {'n_estimators': 300, 'max_depth': 10, 'min_samples_split': 2, 'random_state': 42},\n",
    "    {'n_estimators': 400, 'max_depth': 10, 'min_samples_split': 2, 'random_state': 42},\n",
    "    {'n_estimators': 500, 'max_depth': 10, 'min_samples_split': 2, 'random_state': 42},\n",
    "\n",
    "    {'n_estimators': 100, 'max_depth': 20, 'min_samples_split': 4, 'random_state': 42},\n",
    "    {'n_estimators': 100, 'max_depth': 30, 'min_samples_split': 4, 'random_state': 42},\n",
    "    {'n_estimators': 100, 'max_depth': 40, 'min_samples_split': 4, 'random_state': 42},\n",
    "    {'n_estimators': 100, 'max_depth': 50, 'min_samples_split': 4, 'random_state': 42},\n",
    "\n",
    "    {'n_estimators': 200, 'max_depth': 20, 'min_samples_split': 4, 'random_state': 42},\n",
    "    {'n_estimators': 300, 'max_depth': 30, 'min_samples_split': 4, 'random_state': 42},\n",
    "    {'n_estimators': 400, 'max_depth': 40, 'min_samples_split': 4, 'random_state': 42},\n",
    "\n",
    "    {'n_estimators': 500, 'max_depth': 50, 'min_samples_split': 6, 'random_state': 42},\n",
    "    {'n_estimators': 1000, 'max_depth': 100, 'min_samples_split': 6, 'random_state': 42},\n",
    "]\n",
    "\n",
    "models = []\n",
    "for params in params_combinations:\n",
    "    model = RandomForestClassifier(**params)\n",
    "    X_train, X_test, y_train, y_test = train_test_split(X, y, test_size=0.2, random_state=42)\n",
    "    model.fit(X_train, y_train)\n",
    "    y_pred = model.predict(X_test)\n",
    "    accuracy = accuracy_score(y_test, y_pred)\n",
    "    models.append((model, accuracy))\n",
    "\n",
    "for i, (model, accuracy) in enumerate(models):\n",
    "    print(f\"Model {i + 1} - Accuracy: {accuracy:.2f}\")"
   ]
  },
  {
   "cell_type": "markdown",
   "id": "e4b6fda2-47a3-4d3e-a4ae-8ff296ff43da",
   "metadata": {},
   "source": [
    "**SVM**"
   ]
  },
  {
   "cell_type": "code",
   "execution_count": 55,
   "id": "98338e1a-836a-452d-bbfa-a3042d369e90",
   "metadata": {},
   "outputs": [
    {
     "name": "stdout",
     "output_type": "stream",
     "text": [
      "SVM Model 1 - Parameters: {'C': 0.1, 'break_ties': False, 'cache_size': 200, 'class_weight': None, 'coef0': 0.0, 'decision_function_shape': 'ovr', 'degree': 3, 'gamma': 'scale', 'kernel': 'rbf', 'max_iter': -1, 'probability': False, 'random_state': 42, 'shrinking': True, 'tol': 0.001, 'verbose': False} - Accuracy: 0.43\n",
      "SVM Model 2 - Parameters: {'C': 1.0, 'break_ties': False, 'cache_size': 200, 'class_weight': None, 'coef0': 0.0, 'decision_function_shape': 'ovr', 'degree': 3, 'gamma': 'scale', 'kernel': 'rbf', 'max_iter': -1, 'probability': False, 'random_state': 42, 'shrinking': True, 'tol': 0.001, 'verbose': False} - Accuracy: 0.49\n",
      "SVM Model 3 - Parameters: {'C': 0.01, 'break_ties': False, 'cache_size': 200, 'class_weight': None, 'coef0': 0.0, 'decision_function_shape': 'ovr', 'degree': 3, 'gamma': 'scale', 'kernel': 'rbf', 'max_iter': -1, 'probability': False, 'random_state': 42, 'shrinking': True, 'tol': 0.001, 'verbose': False} - Accuracy: 0.43\n",
      "SVM Model 4 - Parameters: {'C': 0.1, 'break_ties': False, 'cache_size': 200, 'class_weight': None, 'coef0': 0.0, 'decision_function_shape': 'ovr', 'degree': 3, 'gamma': 0.1, 'kernel': 'rbf', 'max_iter': -1, 'probability': False, 'random_state': 42, 'shrinking': True, 'tol': 0.001, 'verbose': False} - Accuracy: 0.43\n",
      "SVM Model 5 - Parameters: {'C': 0.1, 'break_ties': False, 'cache_size': 200, 'class_weight': None, 'coef0': 0.0, 'decision_function_shape': 'ovr', 'degree': 3, 'gamma': 0.01, 'kernel': 'rbf', 'max_iter': -1, 'probability': False, 'random_state': 42, 'shrinking': True, 'tol': 0.001, 'verbose': False} - Accuracy: 0.43\n",
      "SVM Model 6 - Parameters: {'C': 0.1, 'break_ties': False, 'cache_size': 200, 'class_weight': None, 'coef0': 0.0, 'decision_function_shape': 'ovr', 'degree': 3, 'gamma': 0.01, 'kernel': 'rbf', 'max_iter': -1, 'probability': False, 'random_state': 42, 'shrinking': True, 'tol': 0.001, 'verbose': False} - Accuracy: 0.43\n",
      "SVM Model 7 - Parameters: {'C': 1.0, 'break_ties': False, 'cache_size': 200, 'class_weight': None, 'coef0': 0.0, 'decision_function_shape': 'ovr', 'degree': 3, 'gamma': 0.1, 'kernel': 'rbf', 'max_iter': -1, 'probability': False, 'random_state': 42, 'shrinking': True, 'tol': 0.001, 'verbose': False} - Accuracy: 0.48\n",
      "SVM Model 8 - Parameters: {'C': 1.0, 'break_ties': False, 'cache_size': 200, 'class_weight': None, 'coef0': 0.0, 'decision_function_shape': 'ovr', 'degree': 3, 'gamma': 0.01, 'kernel': 'rbf', 'max_iter': -1, 'probability': False, 'random_state': 42, 'shrinking': True, 'tol': 0.001, 'verbose': False} - Accuracy: 0.49\n",
      "SVM Model 9 - Parameters: {'C': 1.0, 'break_ties': False, 'cache_size': 200, 'class_weight': None, 'coef0': 0.0, 'decision_function_shape': 'ovr', 'degree': 3, 'gamma': 0.001, 'kernel': 'rbf', 'max_iter': -1, 'probability': False, 'random_state': 42, 'shrinking': True, 'tol': 0.001, 'verbose': False} - Accuracy: 0.44\n",
      "SVM Model 10 - Parameters: {'C': 10.0, 'break_ties': False, 'cache_size': 200, 'class_weight': None, 'coef0': 0.0, 'decision_function_shape': 'ovr', 'degree': 3, 'gamma': 0.1, 'kernel': 'rbf', 'max_iter': -1, 'probability': False, 'random_state': 42, 'shrinking': True, 'tol': 0.001, 'verbose': False} - Accuracy: 0.46\n",
      "SVM Model 11 - Parameters: {'C': 10.0, 'break_ties': False, 'cache_size': 200, 'class_weight': None, 'coef0': 0.0, 'decision_function_shape': 'ovr', 'degree': 3, 'gamma': 0.01, 'kernel': 'rbf', 'max_iter': -1, 'probability': False, 'random_state': 42, 'shrinking': True, 'tol': 0.001, 'verbose': False} - Accuracy: 0.47\n"
     ]
    }
   ],
   "source": [
    "from sklearn.svm import SVC\n",
    "from sklearn.model_selection import train_test_split\n",
    "from sklearn.metrics import accuracy_score\n",
    "\n",
    "# Prepare features and target variables\n",
    "X = townhouse_data.drop(columns=['price_by_area_interval'])\n",
    "y = townhouse_data['price_by_area_interval']\n",
    "\n",
    "# Define different RBF kernel SVM parameter combinations\n",
    "rbf_svm_param_combinations = [\n",
    "    {'C': 0.1, 'kernel': 'rbf', 'gamma': 'scale', 'random_state': 42},\n",
    "    {'C': 1.0, 'kernel': 'rbf', 'gamma': 'scale', 'random_state': 42},\n",
    "    {'C': 0.01, 'kernel': 'rbf', 'gamma': 'scale', 'random_state': 42},\n",
    "    \n",
    "    {'C': 0.1, 'kernel': 'rbf', 'gamma': 0.1, 'random_state': 42},\n",
    "    {'C': 0.1, 'kernel': 'rbf', 'gamma': 0.01, 'random_state': 42},\n",
    "    {'C': 0.1, 'kernel': 'rbf', 'gamma': 0.01, 'random_state': 42},\n",
    "    \n",
    "    {'C': 1.0, 'kernel': 'rbf', 'gamma': 0.1, 'random_state': 42},\n",
    "    {'C': 1.0, 'kernel': 'rbf', 'gamma': 0.01, 'random_state': 42},\n",
    "    {'C': 1.0, 'kernel': 'rbf', 'gamma': 0.001, 'random_state': 42},\n",
    "\n",
    "    {'C': 10.0, 'kernel': 'rbf', 'gamma': 0.1, 'random_state': 42},\n",
    "    {'C': 10.0, 'kernel': 'rbf', 'gamma': 0.01, 'random_state': 42}\n",
    "]\n",
    "\n",
    "# Train and evaluate different RBF kernel SVM models\n",
    "svm_models = []\n",
    "for params in rbf_svm_param_combinations:\n",
    "    model = SVC(**params)\n",
    "    X_train, X_test, y_train, y_test = train_test_split(X, y, test_size=0.2, random_state=42)\n",
    "    model.fit(X_train, y_train)\n",
    "    y_pred = model.predict(X_test)\n",
    "    accuracy = accuracy_score(y_test, y_pred)\n",
    "    svm_models.append((model, accuracy))\n",
    "\n",
    "# Print the accuracy of the SVM models\n",
    "for i, (model, accuracy) in enumerate(svm_models):\n",
    "    print(f\"SVM Model {i + 1} - Parameters: {model.get_params()} - Accuracy: {accuracy:.2f}\")"
   ]
  },
  {
   "cell_type": "code",
   "execution_count": 56,
   "id": "464746cd-dbf6-4b46-9f7c-e42470b6176e",
   "metadata": {},
   "outputs": [
    {
     "name": "stdout",
     "output_type": "stream",
     "text": [
      "Epoch 1/20\n",
      "12/12 [==============================] - 2s 46ms/step - loss: 1.8170 - accuracy: 0.2620 - val_loss: 1.5906 - val_accuracy: 0.3034\n",
      "Epoch 2/20\n",
      "12/12 [==============================] - 0s 16ms/step - loss: 1.5161 - accuracy: 0.3803 - val_loss: 1.3652 - val_accuracy: 0.4944\n",
      "Epoch 3/20\n",
      "12/12 [==============================] - 0s 13ms/step - loss: 1.3584 - accuracy: 0.4761 - val_loss: 1.2902 - val_accuracy: 0.4831\n",
      "Epoch 4/20\n",
      "12/12 [==============================] - 0s 12ms/step - loss: 1.3033 - accuracy: 0.4535 - val_loss: 1.2758 - val_accuracy: 0.4831\n",
      "Epoch 5/20\n",
      "12/12 [==============================] - 0s 17ms/step - loss: 1.2345 - accuracy: 0.5070 - val_loss: 1.2771 - val_accuracy: 0.5730\n",
      "Epoch 6/20\n",
      "12/12 [==============================] - 0s 13ms/step - loss: 1.1901 - accuracy: 0.5549 - val_loss: 1.2677 - val_accuracy: 0.5843\n",
      "Epoch 7/20\n",
      "12/12 [==============================] - 0s 13ms/step - loss: 1.1311 - accuracy: 0.5493 - val_loss: 1.2542 - val_accuracy: 0.5730\n",
      "Epoch 8/20\n",
      "12/12 [==============================] - 0s 15ms/step - loss: 1.0792 - accuracy: 0.5775 - val_loss: 1.2424 - val_accuracy: 0.5730\n",
      "Epoch 9/20\n",
      "12/12 [==============================] - 0s 17ms/step - loss: 1.0203 - accuracy: 0.5944 - val_loss: 1.2471 - val_accuracy: 0.5618\n",
      "Epoch 10/20\n",
      "12/12 [==============================] - 0s 13ms/step - loss: 0.9624 - accuracy: 0.6366 - val_loss: 1.2463 - val_accuracy: 0.5618\n",
      "Epoch 11/20\n",
      "12/12 [==============================] - 0s 13ms/step - loss: 0.9008 - accuracy: 0.6761 - val_loss: 1.2588 - val_accuracy: 0.5506\n",
      "Epoch 12/20\n",
      "12/12 [==============================] - 0s 12ms/step - loss: 0.8410 - accuracy: 0.7239 - val_loss: 1.2557 - val_accuracy: 0.5618\n",
      "Epoch 13/20\n",
      "12/12 [==============================] - 0s 13ms/step - loss: 0.7873 - accuracy: 0.7437 - val_loss: 1.2793 - val_accuracy: 0.5393\n",
      "Epoch 14/20\n",
      "12/12 [==============================] - 0s 13ms/step - loss: 0.7268 - accuracy: 0.7915 - val_loss: 1.3038 - val_accuracy: 0.5056\n",
      "Epoch 15/20\n",
      "12/12 [==============================] - 0s 16ms/step - loss: 0.6785 - accuracy: 0.8028 - val_loss: 1.3150 - val_accuracy: 0.5056\n",
      "Epoch 16/20\n",
      "12/12 [==============================] - 0s 14ms/step - loss: 0.6218 - accuracy: 0.8028 - val_loss: 1.3263 - val_accuracy: 0.5056\n",
      "Epoch 17/20\n",
      "12/12 [==============================] - 0s 14ms/step - loss: 0.5640 - accuracy: 0.8535 - val_loss: 1.3532 - val_accuracy: 0.4944\n",
      "Epoch 18/20\n",
      "12/12 [==============================] - 0s 14ms/step - loss: 0.5125 - accuracy: 0.8930 - val_loss: 1.3680 - val_accuracy: 0.4607\n",
      "Epoch 19/20\n",
      "12/12 [==============================] - 0s 16ms/step - loss: 0.4652 - accuracy: 0.8986 - val_loss: 1.4098 - val_accuracy: 0.4719\n",
      "Epoch 20/20\n",
      "12/12 [==============================] - 0s 14ms/step - loss: 0.4186 - accuracy: 0.9296 - val_loss: 1.4258 - val_accuracy: 0.4607\n",
      "4/4 [==============================] - 0s 6ms/step\n",
      "Epoch 1/20\n",
      "12/12 [==============================] - 2s 49ms/step - loss: 1.6801 - accuracy: 0.3775 - val_loss: 1.3418 - val_accuracy: 0.4719\n",
      "Epoch 2/20\n",
      "12/12 [==============================] - 0s 15ms/step - loss: 1.3703 - accuracy: 0.4592 - val_loss: 1.2892 - val_accuracy: 0.5730\n",
      "Epoch 3/20\n",
      "12/12 [==============================] - 0s 14ms/step - loss: 1.2759 - accuracy: 0.5211 - val_loss: 1.2540 - val_accuracy: 0.5393\n",
      "Epoch 4/20\n",
      "12/12 [==============================] - 0s 15ms/step - loss: 1.2109 - accuracy: 0.5549 - val_loss: 1.2431 - val_accuracy: 0.5730\n",
      "Epoch 5/20\n",
      "12/12 [==============================] - 0s 15ms/step - loss: 1.1441 - accuracy: 0.5549 - val_loss: 1.2258 - val_accuracy: 0.5506\n",
      "Epoch 6/20\n",
      "12/12 [==============================] - 0s 18ms/step - loss: 1.0759 - accuracy: 0.5944 - val_loss: 1.2099 - val_accuracy: 0.5618\n",
      "Epoch 7/20\n",
      "12/12 [==============================] - 0s 14ms/step - loss: 1.0149 - accuracy: 0.6310 - val_loss: 1.2093 - val_accuracy: 0.5730\n",
      "Epoch 8/20\n",
      "12/12 [==============================] - 0s 15ms/step - loss: 0.9371 - accuracy: 0.6423 - val_loss: 1.2684 - val_accuracy: 0.5393\n",
      "Epoch 9/20\n",
      "12/12 [==============================] - 0s 14ms/step - loss: 0.8395 - accuracy: 0.7183 - val_loss: 1.2437 - val_accuracy: 0.5506\n",
      "Epoch 10/20\n",
      "12/12 [==============================] - 0s 15ms/step - loss: 0.7529 - accuracy: 0.7746 - val_loss: 1.2585 - val_accuracy: 0.5393\n",
      "Epoch 11/20\n",
      "12/12 [==============================] - 0s 15ms/step - loss: 0.6704 - accuracy: 0.7831 - val_loss: 1.3128 - val_accuracy: 0.4831\n",
      "Epoch 12/20\n",
      "12/12 [==============================] - 0s 17ms/step - loss: 0.5771 - accuracy: 0.8676 - val_loss: 1.3376 - val_accuracy: 0.4607\n",
      "Epoch 13/20\n",
      "12/12 [==============================] - 0s 14ms/step - loss: 0.4978 - accuracy: 0.8620 - val_loss: 1.3914 - val_accuracy: 0.4157\n",
      "Epoch 14/20\n",
      "12/12 [==============================] - 0s 15ms/step - loss: 0.4298 - accuracy: 0.9070 - val_loss: 1.4783 - val_accuracy: 0.4494\n",
      "Epoch 15/20\n",
      "12/12 [==============================] - 0s 15ms/step - loss: 0.3671 - accuracy: 0.9437 - val_loss: 1.4907 - val_accuracy: 0.4382\n",
      "Epoch 16/20\n",
      "12/12 [==============================] - 0s 14ms/step - loss: 0.3274 - accuracy: 0.9070 - val_loss: 1.6693 - val_accuracy: 0.3933\n",
      "Epoch 17/20\n",
      "12/12 [==============================] - 0s 15ms/step - loss: 0.2778 - accuracy: 0.9577 - val_loss: 1.5925 - val_accuracy: 0.4607\n",
      "Epoch 18/20\n",
      "12/12 [==============================] - 0s 17ms/step - loss: 0.2204 - accuracy: 0.9718 - val_loss: 1.6722 - val_accuracy: 0.4719\n",
      "Epoch 19/20\n",
      "12/12 [==============================] - 0s 15ms/step - loss: 0.2031 - accuracy: 0.9634 - val_loss: 1.6838 - val_accuracy: 0.4494\n",
      "Epoch 20/20\n",
      "12/12 [==============================] - 0s 15ms/step - loss: 0.1671 - accuracy: 0.9746 - val_loss: 1.7496 - val_accuracy: 0.4944\n",
      "4/4 [==============================] - 0s 5ms/step\n",
      "Epoch 1/10\n",
      "6/6 [==============================] - 2s 85ms/step - loss: 1.7678 - accuracy: 0.2930 - val_loss: 1.5185 - val_accuracy: 0.4719\n",
      "Epoch 2/10\n",
      "6/6 [==============================] - 0s 22ms/step - loss: 1.4928 - accuracy: 0.4310 - val_loss: 1.3593 - val_accuracy: 0.4719\n",
      "Epoch 3/10\n",
      "6/6 [==============================] - 0s 22ms/step - loss: 1.3759 - accuracy: 0.4338 - val_loss: 1.3082 - val_accuracy: 0.4719\n",
      "Epoch 4/10\n",
      "6/6 [==============================] - 0s 27ms/step - loss: 1.3114 - accuracy: 0.4563 - val_loss: 1.3014 - val_accuracy: 0.5056\n",
      "Epoch 5/10\n",
      "6/6 [==============================] - 0s 25ms/step - loss: 1.2624 - accuracy: 0.5324 - val_loss: 1.2834 - val_accuracy: 0.5056\n",
      "Epoch 6/10\n",
      "6/6 [==============================] - 0s 24ms/step - loss: 1.2083 - accuracy: 0.5155 - val_loss: 1.2710 - val_accuracy: 0.5393\n",
      "Epoch 7/10\n",
      "6/6 [==============================] - 0s 25ms/step - loss: 1.1589 - accuracy: 0.5437 - val_loss: 1.2546 - val_accuracy: 0.5618\n",
      "Epoch 8/10\n",
      "6/6 [==============================] - 0s 24ms/step - loss: 1.1143 - accuracy: 0.5831 - val_loss: 1.2449 - val_accuracy: 0.5506\n",
      "Epoch 9/10\n",
      "6/6 [==============================] - 0s 22ms/step - loss: 1.0524 - accuracy: 0.5718 - val_loss: 1.2247 - val_accuracy: 0.5506\n",
      "Epoch 10/10\n",
      "6/6 [==============================] - 0s 18ms/step - loss: 0.9994 - accuracy: 0.6225 - val_loss: 1.2513 - val_accuracy: 0.5056\n",
      "4/4 [==============================] - 0s 4ms/step\n",
      "Epoch 1/30\n",
      "23/23 [==============================] - 1s 18ms/step - loss: 1.6060 - accuracy: 0.3634 - val_loss: 1.3075 - val_accuracy: 0.5169\n",
      "Epoch 2/30\n",
      "23/23 [==============================] - 0s 8ms/step - loss: 1.3077 - accuracy: 0.4732 - val_loss: 1.2641 - val_accuracy: 0.5169\n",
      "Epoch 3/30\n",
      "23/23 [==============================] - 0s 9ms/step - loss: 1.2197 - accuracy: 0.5014 - val_loss: 1.2316 - val_accuracy: 0.5843\n",
      "Epoch 4/30\n",
      "23/23 [==============================] - 0s 8ms/step - loss: 1.1269 - accuracy: 0.5831 - val_loss: 1.2189 - val_accuracy: 0.5618\n",
      "Epoch 5/30\n",
      "23/23 [==============================] - 0s 9ms/step - loss: 1.0307 - accuracy: 0.6254 - val_loss: 1.2327 - val_accuracy: 0.5506\n",
      "Epoch 6/30\n",
      "23/23 [==============================] - 0s 9ms/step - loss: 0.9251 - accuracy: 0.6676 - val_loss: 1.2291 - val_accuracy: 0.5618\n",
      "Epoch 7/30\n",
      "23/23 [==============================] - 0s 9ms/step - loss: 0.8217 - accuracy: 0.7183 - val_loss: 1.2646 - val_accuracy: 0.5393\n",
      "Epoch 8/30\n",
      "23/23 [==============================] - 0s 9ms/step - loss: 0.7183 - accuracy: 0.7690 - val_loss: 1.2918 - val_accuracy: 0.5393\n",
      "Epoch 9/30\n",
      "23/23 [==============================] - 0s 9ms/step - loss: 0.5856 - accuracy: 0.8338 - val_loss: 1.3427 - val_accuracy: 0.5056\n",
      "Epoch 10/30\n",
      "23/23 [==============================] - 0s 11ms/step - loss: 0.5010 - accuracy: 0.8507 - val_loss: 1.3949 - val_accuracy: 0.5393\n",
      "Epoch 11/30\n",
      "23/23 [==============================] - 0s 11ms/step - loss: 0.4018 - accuracy: 0.9014 - val_loss: 1.4633 - val_accuracy: 0.4831\n",
      "Epoch 12/30\n",
      "23/23 [==============================] - 0s 11ms/step - loss: 0.3190 - accuracy: 0.9493 - val_loss: 1.6042 - val_accuracy: 0.4494\n",
      "Epoch 13/30\n",
      "23/23 [==============================] - 0s 11ms/step - loss: 0.2561 - accuracy: 0.9634 - val_loss: 1.5862 - val_accuracy: 0.4719\n",
      "Epoch 14/30\n",
      "23/23 [==============================] - 0s 12ms/step - loss: 0.1976 - accuracy: 0.9718 - val_loss: 1.6699 - val_accuracy: 0.4382\n",
      "Epoch 15/30\n",
      "23/23 [==============================] - 0s 10ms/step - loss: 0.1573 - accuracy: 0.9746 - val_loss: 1.8515 - val_accuracy: 0.4719\n",
      "Epoch 16/30\n",
      "23/23 [==============================] - 0s 12ms/step - loss: 0.1284 - accuracy: 0.9831 - val_loss: 1.8475 - val_accuracy: 0.4719\n",
      "Epoch 17/30\n",
      "23/23 [==============================] - 0s 15ms/step - loss: 0.1051 - accuracy: 0.9887 - val_loss: 1.9071 - val_accuracy: 0.4494\n",
      "Epoch 18/30\n",
      "23/23 [==============================] - 0s 13ms/step - loss: 0.0911 - accuracy: 0.9831 - val_loss: 1.9793 - val_accuracy: 0.4270\n",
      "Epoch 19/30\n",
      "23/23 [==============================] - 0s 13ms/step - loss: 0.0730 - accuracy: 0.9915 - val_loss: 2.1493 - val_accuracy: 0.4494\n",
      "Epoch 20/30\n",
      "23/23 [==============================] - 0s 12ms/step - loss: 0.0647 - accuracy: 0.9944 - val_loss: 2.0756 - val_accuracy: 0.4382\n",
      "Epoch 21/30\n",
      "23/23 [==============================] - 0s 18ms/step - loss: 0.0551 - accuracy: 0.9887 - val_loss: 2.1304 - val_accuracy: 0.4719\n",
      "Epoch 22/30\n",
      "23/23 [==============================] - 0s 14ms/step - loss: 0.0490 - accuracy: 0.9887 - val_loss: 2.2030 - val_accuracy: 0.4607\n",
      "Epoch 23/30\n",
      "23/23 [==============================] - 0s 12ms/step - loss: 0.0426 - accuracy: 0.9972 - val_loss: 2.3870 - val_accuracy: 0.4270\n",
      "Epoch 24/30\n",
      "23/23 [==============================] - 0s 15ms/step - loss: 0.0389 - accuracy: 0.9972 - val_loss: 2.2454 - val_accuracy: 0.4045\n",
      "Epoch 25/30\n",
      "23/23 [==============================] - 0s 12ms/step - loss: 0.0431 - accuracy: 0.9915 - val_loss: 2.2858 - val_accuracy: 0.4607\n",
      "Epoch 26/30\n",
      "23/23 [==============================] - 0s 13ms/step - loss: 0.0367 - accuracy: 0.9915 - val_loss: 2.3903 - val_accuracy: 0.4270\n",
      "Epoch 27/30\n",
      "23/23 [==============================] - 0s 12ms/step - loss: 0.0278 - accuracy: 0.9972 - val_loss: 2.3874 - val_accuracy: 0.4382\n",
      "Epoch 28/30\n",
      "23/23 [==============================] - 0s 14ms/step - loss: 0.0268 - accuracy: 0.9972 - val_loss: 2.4483 - val_accuracy: 0.4270\n",
      "Epoch 29/30\n",
      "23/23 [==============================] - 0s 13ms/step - loss: 0.0244 - accuracy: 0.9944 - val_loss: 2.5558 - val_accuracy: 0.4270\n",
      "Epoch 30/30\n",
      "23/23 [==============================] - 0s 14ms/step - loss: 0.0318 - accuracy: 0.9915 - val_loss: 2.4538 - val_accuracy: 0.4270\n",
      "4/4 [==============================] - 0s 6ms/step\n",
      "Epoch 1/20\n",
      "12/12 [==============================] - 2s 44ms/step - loss: 1.5869 - accuracy: 0.4085 - val_loss: 1.3257 - val_accuracy: 0.4719\n",
      "Epoch 2/20\n",
      "12/12 [==============================] - 0s 15ms/step - loss: 1.3805 - accuracy: 0.4394 - val_loss: 1.3106 - val_accuracy: 0.5169\n",
      "Epoch 3/20\n",
      "12/12 [==============================] - 0s 17ms/step - loss: 1.2981 - accuracy: 0.5324 - val_loss: 1.2585 - val_accuracy: 0.4944\n",
      "Epoch 4/20\n",
      "12/12 [==============================] - 0s 15ms/step - loss: 1.2367 - accuracy: 0.4817 - val_loss: 1.2677 - val_accuracy: 0.5393\n",
      "Epoch 5/20\n",
      "12/12 [==============================] - 0s 16ms/step - loss: 1.1696 - accuracy: 0.5662 - val_loss: 1.2418 - val_accuracy: 0.5506\n",
      "Epoch 6/20\n",
      "12/12 [==============================] - 0s 15ms/step - loss: 1.1127 - accuracy: 0.5690 - val_loss: 1.2236 - val_accuracy: 0.5618\n",
      "Epoch 7/20\n",
      "12/12 [==============================] - 0s 16ms/step - loss: 1.0473 - accuracy: 0.6254 - val_loss: 1.2360 - val_accuracy: 0.5618\n",
      "Epoch 8/20\n",
      "12/12 [==============================] - 0s 15ms/step - loss: 0.9590 - accuracy: 0.6451 - val_loss: 1.2365 - val_accuracy: 0.5393\n",
      "Epoch 9/20\n",
      "12/12 [==============================] - 0s 20ms/step - loss: 0.8677 - accuracy: 0.6845 - val_loss: 1.2385 - val_accuracy: 0.5169\n",
      "Epoch 10/20\n",
      "12/12 [==============================] - 0s 16ms/step - loss: 0.7786 - accuracy: 0.7408 - val_loss: 1.3046 - val_accuracy: 0.5056\n",
      "Epoch 11/20\n",
      "12/12 [==============================] - 0s 16ms/step - loss: 0.6956 - accuracy: 0.7690 - val_loss: 1.3066 - val_accuracy: 0.5281\n",
      "Epoch 12/20\n",
      "12/12 [==============================] - 0s 15ms/step - loss: 0.6024 - accuracy: 0.8592 - val_loss: 1.4247 - val_accuracy: 0.4494\n",
      "Epoch 13/20\n",
      "12/12 [==============================] - 0s 17ms/step - loss: 0.5309 - accuracy: 0.8225 - val_loss: 1.4142 - val_accuracy: 0.4944\n",
      "Epoch 14/20\n",
      "12/12 [==============================] - 0s 15ms/step - loss: 0.4649 - accuracy: 0.8817 - val_loss: 1.4597 - val_accuracy: 0.4831\n",
      "Epoch 15/20\n",
      "12/12 [==============================] - 0s 19ms/step - loss: 0.3870 - accuracy: 0.9099 - val_loss: 1.5524 - val_accuracy: 0.4719\n",
      "Epoch 16/20\n",
      "12/12 [==============================] - 0s 15ms/step - loss: 0.3216 - accuracy: 0.9465 - val_loss: 1.5344 - val_accuracy: 0.4719\n",
      "Epoch 17/20\n",
      "12/12 [==============================] - 0s 16ms/step - loss: 0.2652 - accuracy: 0.9465 - val_loss: 1.6702 - val_accuracy: 0.4157\n",
      "Epoch 18/20\n",
      "12/12 [==============================] - 0s 16ms/step - loss: 0.2166 - accuracy: 0.9718 - val_loss: 1.6644 - val_accuracy: 0.4607\n",
      "Epoch 19/20\n",
      "12/12 [==============================] - 0s 15ms/step - loss: 0.1817 - accuracy: 0.9803 - val_loss: 1.8150 - val_accuracy: 0.4270\n",
      "Epoch 20/20\n",
      "12/12 [==============================] - 0s 15ms/step - loss: 0.1586 - accuracy: 0.9859 - val_loss: 1.7913 - val_accuracy: 0.5056\n",
      "4/4 [==============================] - 0s 7ms/step\n",
      "Epoch 1/20\n",
      "12/12 [==============================] - 2s 90ms/step - loss: 1.6191 - accuracy: 0.4028 - val_loss: 1.3439 - val_accuracy: 0.4270\n",
      "Epoch 2/20\n",
      "12/12 [==============================] - 0s 15ms/step - loss: 1.3569 - accuracy: 0.4366 - val_loss: 1.2981 - val_accuracy: 0.4831\n",
      "Epoch 3/20\n",
      "12/12 [==============================] - 0s 15ms/step - loss: 1.2926 - accuracy: 0.4563 - val_loss: 1.2845 - val_accuracy: 0.4944\n",
      "Epoch 4/20\n",
      "12/12 [==============================] - 0s 15ms/step - loss: 1.2487 - accuracy: 0.4535 - val_loss: 1.2682 - val_accuracy: 0.4944\n",
      "Epoch 5/20\n",
      "12/12 [==============================] - 0s 16ms/step - loss: 1.1914 - accuracy: 0.5099 - val_loss: 1.2661 - val_accuracy: 0.5281\n",
      "Epoch 6/20\n",
      "12/12 [==============================] - 0s 21ms/step - loss: 1.1343 - accuracy: 0.6169 - val_loss: 1.2491 - val_accuracy: 0.5281\n",
      "Epoch 7/20\n",
      "12/12 [==============================] - 0s 17ms/step - loss: 1.0635 - accuracy: 0.6197 - val_loss: 1.2588 - val_accuracy: 0.5169\n",
      "Epoch 8/20\n",
      "12/12 [==============================] - 0s 18ms/step - loss: 0.9963 - accuracy: 0.6225 - val_loss: 1.2608 - val_accuracy: 0.4607\n",
      "Epoch 9/20\n",
      "12/12 [==============================] - 1s 47ms/step - loss: 0.9144 - accuracy: 0.6620 - val_loss: 1.2684 - val_accuracy: 0.4831\n",
      "Epoch 10/20\n",
      "12/12 [==============================] - 0s 23ms/step - loss: 0.8218 - accuracy: 0.7042 - val_loss: 1.2586 - val_accuracy: 0.5506\n",
      "Epoch 11/20\n",
      "12/12 [==============================] - 0s 18ms/step - loss: 0.7409 - accuracy: 0.7577 - val_loss: 1.3061 - val_accuracy: 0.4494\n",
      "Epoch 12/20\n",
      "12/12 [==============================] - 0s 17ms/step - loss: 0.6536 - accuracy: 0.8254 - val_loss: 1.3711 - val_accuracy: 0.4607\n",
      "Epoch 13/20\n",
      "12/12 [==============================] - 0s 30ms/step - loss: 0.5827 - accuracy: 0.8310 - val_loss: 1.3521 - val_accuracy: 0.4607\n",
      "Epoch 14/20\n",
      "12/12 [==============================] - 0s 21ms/step - loss: 0.5083 - accuracy: 0.8535 - val_loss: 1.4190 - val_accuracy: 0.4944\n",
      "Epoch 15/20\n",
      "12/12 [==============================] - 0s 17ms/step - loss: 0.4354 - accuracy: 0.9127 - val_loss: 1.5408 - val_accuracy: 0.4494\n",
      "Epoch 16/20\n",
      "12/12 [==============================] - 0s 16ms/step - loss: 0.3706 - accuracy: 0.9268 - val_loss: 1.5436 - val_accuracy: 0.4494\n",
      "Epoch 17/20\n",
      "12/12 [==============================] - 0s 17ms/step - loss: 0.3155 - accuracy: 0.9465 - val_loss: 1.5759 - val_accuracy: 0.4607\n",
      "Epoch 18/20\n",
      "12/12 [==============================] - 0s 26ms/step - loss: 0.2585 - accuracy: 0.9606 - val_loss: 1.6194 - val_accuracy: 0.4382\n",
      "Epoch 19/20\n",
      "12/12 [==============================] - 0s 25ms/step - loss: 0.2261 - accuracy: 0.9690 - val_loss: 1.6969 - val_accuracy: 0.4270\n",
      "Epoch 20/20\n",
      "12/12 [==============================] - 0s 18ms/step - loss: 0.1884 - accuracy: 0.9775 - val_loss: 1.7542 - val_accuracy: 0.4382\n",
      "4/4 [==============================] - 0s 5ms/step\n",
      "    Model Name                                         Parameters  Accuracy\n",
      "0  ann_model_1  {'hidden_layer_1': 64, 'hidden_layer_2': 32, '...  0.428571\n",
      "1  ann_model_2  {'hidden_layer_1': 128, 'hidden_layer_2': 64, ...  0.428571\n",
      "2  ann_model_3  {'hidden_layer_1': 128, 'hidden_layer_2': 64, ...  0.526786\n",
      "3  ann_model_4  {'hidden_layer_1': 128, 'hidden_layer_2': 64, ...  0.392857\n",
      "4  ann_model_5  {'hidden_layer_1': 128, 'hidden_layer_2': 64, ...  0.392857\n",
      "5  ann_model_6  {'hidden_layer_1': 128, 'hidden_layer_2': 64, ...  0.437500\n"
     ]
    }
   ],
   "source": [
    "import pandas as pd\n",
    "import numpy as np\n",
    "from sklearn.model_selection import train_test_split\n",
    "from tensorflow import keras\n",
    "from tensorflow.keras import layers\n",
    "from tensorflow.keras.utils import to_categorical\n",
    "from sklearn.metrics import accuracy_score\n",
    "\n",
    "# Prepare features and target variables\n",
    "X = townhouse_data.drop(columns=['price_by_area_interval'])\n",
    "y = townhouse_data['price_by_area_interval']\n",
    "\n",
    "# Encode multi-category target variables into integer labels\n",
    "label_mapping = {label: idx for idx, label in enumerate(y.unique())}\n",
    "y_encoded = y.map(label_mapping)\n",
    "\n",
    "# Divide the data set into training set and test set\n",
    "X_train, X_test, y_train, y_test = train_test_split(X, y_encoded, test_size=0.2, random_state=42)\n",
    "\n",
    "# Convert integer labels to one-hot encoding\n",
    "y_train_one_hot = to_categorical(y_train)\n",
    "y_test_one_hot = to_categorical(y_test)\n",
    "\n",
    "# Parameter combinations for ANN\n",
    "param_combinations = [\n",
    "    {'hidden_layer_1': 64, 'hidden_layer_2': 32, 'hidden_layer_3': 16, 'epochs': 20, 'batch_size': 32},\n",
    "    {'hidden_layer_1': 128, 'hidden_layer_2': 64, 'hidden_layer_3': 32, 'epochs': 20, 'batch_size': 32},\n",
    "    {'hidden_layer_1': 128, 'hidden_layer_2': 64, 'epochs': 10, 'batch_size': 64},\n",
    "    {'hidden_layer_1': 128, 'hidden_layer_2': 64, 'epochs': 30, 'batch_size': 16},\n",
    "    {'hidden_layer_1': 128, 'hidden_layer_2': 64, 'epochs': 20, 'batch_size': 32, 'optimizer': 'adam', 'learning_rate': 0.001},\n",
    "    {'hidden_layer_1': 128, 'hidden_layer_2': 64, 'epochs': 20, 'batch_size': 32, 'optimizer': 'sgd', 'learning_rate': 0.01}\n",
    "]\n",
    "\n",
    "# Create a DataFrame to store model results\n",
    "results_df = pd.DataFrame(columns=['Model Name', 'Parameters', 'Accuracy'])\n",
    "\n",
    "# Create and train multiple ANN models\n",
    "for i, params in enumerate(param_combinations):\n",
    "    model_name = f\"ann_model_{i+1}\"\n",
    "    model = keras.Sequential()\n",
    "    model.add(layers.Input(shape=(X_train.shape[1],)))\n",
    "    model.add(layers.Dense(params['hidden_layer_1'], activation='relu'))\n",
    "    model.add(layers.Dense(params['hidden_layer_2'], activation='relu'))\n",
    "    model.add(layers.Dense(len(label_mapping), activation='softmax'))\n",
    "    \n",
    "    model.compile(optimizer='adam', loss='categorical_crossentropy', metrics=['accuracy'])\n",
    "    \n",
    "    model.fit(X_train, y_train_one_hot, epochs=params['epochs'], batch_size=params['batch_size'], validation_split=0.2)\n",
    "    \n",
    "    y_pred_one_hot = model.predict(X_test)\n",
    "    y_pred = np.argmax(y_pred_one_hot, axis=1)\n",
    "    \n",
    "    accuracy = accuracy_score(y_test, y_pred)\n",
    "    \n",
    "    # Append results to DataFrame\n",
    "    results_df = results_df.append({\n",
    "        'Model Name': model_name,\n",
    "        'Parameters': params,\n",
    "        'Accuracy': accuracy\n",
    "    }, ignore_index=True)\n",
    "\n",
    "# Output results\n",
    "print(results_df)"
   ]
  },
  {
   "cell_type": "code",
   "execution_count": 57,
   "id": "5eb2f68e-ee94-4d2d-b1f7-80364ea101f5",
   "metadata": {},
   "outputs": [
    {
     "name": "stdout",
     "output_type": "stream",
     "text": [
      "Multinomial Naive Bayes Model 1 - Parameters: {'alpha': 1.0, 'class_prior': None, 'fit_prior': True} - Accuracy: 0.54\n",
      "Multinomial Naive Bayes Model 2 - Parameters: {'alpha': 0.1, 'class_prior': None, 'fit_prior': True} - Accuracy: 0.41\n",
      "Multinomial Naive Bayes Model 3 - Parameters: {'alpha': 0.01, 'class_prior': None, 'fit_prior': True} - Accuracy: 0.36\n",
      "Multinomial Naive Bayes Model 4 - Parameters: {'alpha': 0.001, 'class_prior': None, 'fit_prior': True} - Accuracy: 0.38\n"
     ]
    }
   ],
   "source": [
    "from sklearn.naive_bayes import MultinomialNB\n",
    "from sklearn.model_selection import train_test_split\n",
    "from sklearn.metrics import accuracy_score\n",
    "\n",
    "# Prepare features and target variables\n",
    "X = townhouse_data.drop(columns=['price_by_area_interval'])\n",
    "y = townhouse_data['price_by_area_interval']\n",
    "\n",
    "# Define different Multinomial Naive Bayes parameter combinations\n",
    "nb_param_combinations = [\n",
    "    {'alpha': 1.0},\n",
    "    {'alpha': 0.1},\n",
    "    {'alpha': 0.01},\n",
    "    {'alpha': 0.001},\n",
    "]\n",
    "\n",
    "# Train and evaluate different Multinomial Naive Bayes models\n",
    "nb_models = []\n",
    "for params in nb_param_combinations:\n",
    "    model = MultinomialNB(**params)\n",
    "    X_train, X_test, y_train, y_test = train_test_split(X, y, test_size=0.2, random_state=42)\n",
    "    model.fit(X_train, y_train)\n",
    "    y_pred = model.predict(X_test)\n",
    "    accuracy = accuracy_score(y_test, y_pred)\n",
    "    nb_models.append((model, accuracy))\n",
    "\n",
    "# Print the accuracy of the Multinomial Naive Bayes models\n",
    "for i, (model, accuracy) in enumerate(nb_models):\n",
    "    print(f\"Multinomial Naive Bayes Model {i + 1} - Parameters: {model.get_params()} - Accuracy: {accuracy:.2f}\")"
   ]
  }
 ],
 "metadata": {
  "kernelspec": {
   "display_name": "Python 3 (ipykernel)",
   "language": "python",
   "name": "python3"
  },
  "language_info": {
   "codemirror_mode": {
    "name": "ipython",
    "version": 3
   },
   "file_extension": ".py",
   "mimetype": "text/x-python",
   "name": "python",
   "nbconvert_exporter": "python",
   "pygments_lexer": "ipython3",
   "version": "3.10.9"
  }
 },
 "nbformat": 4,
 "nbformat_minor": 5
}
