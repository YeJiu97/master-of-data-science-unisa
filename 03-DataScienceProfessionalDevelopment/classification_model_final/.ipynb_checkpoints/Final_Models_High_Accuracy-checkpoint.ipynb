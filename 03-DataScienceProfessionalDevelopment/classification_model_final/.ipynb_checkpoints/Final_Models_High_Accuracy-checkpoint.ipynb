{
 "cells": [
  {
   "cell_type": "markdown",
   "id": "0e76b6a6-b88f-46ea-a1f8-ff1dc46d6b45",
   "metadata": {},
   "source": [
    "# Import Data Set and Deal with Data Set"
   ]
  },
  {
   "cell_type": "markdown",
   "id": "53538057-1680-4555-b193-4583df8a36ca",
   "metadata": {},
   "source": [
    "**Step 1: First import the datase**"
   ]
  },
  {
   "cell_type": "code",
   "execution_count": 1,
   "id": "b26f0d5f-3e5a-45f9-8ad0-3eb50e10b062",
   "metadata": {},
   "outputs": [],
   "source": [
    "import pandas as pd\n",
    "\n",
    "file_path = \"melb_housing_filtered3.csv\"\n",
    "\n",
    "data = pd.read_csv(file_path)"
   ]
  },
  {
   "cell_type": "markdown",
   "id": "8b910ce6-1a69-4ad4-910d-8d65d9cef0e3",
   "metadata": {},
   "source": [
    "This data set has removed outliers. Here we modify the representation format of ADDRESS, and then remove DATE, YEARBUILT, LATTITUDE and LONGTITUDE:"
   ]
  },
  {
   "cell_type": "markdown",
   "id": "b31b35fd-0133-4201-bf44-30a035ed98f3",
   "metadata": {},
   "source": [
    "**Step 2: Delete some irrelevant or no longer necessary columns**"
   ]
  },
  {
   "cell_type": "code",
   "execution_count": 2,
   "id": "c2ab57e3-7419-4309-bf54-a9770832ed9b",
   "metadata": {},
   "outputs": [],
   "source": [
    "data['ADDRESS'] = data['ADDRESS'].str.split().str[-2:].str.join(' ')\n",
    "# 删除\"DATE\"和\"YEARBUILT\"列\n",
    "data.drop(columns=['DATE', 'YEARBUILT', 'LATTITUDE', 'LONGTITUDE'], inplace=True)"
   ]
  },
  {
   "cell_type": "markdown",
   "id": "395702a0-f6f7-41fe-8238-542b0e267dc3",
   "metadata": {},
   "source": [
    "Since price_by_area is obtained through LANDSIZE, BUILDGAR and PRICE, these three columns are also removed here:"
   ]
  },
  {
   "cell_type": "code",
   "execution_count": 3,
   "id": "4d4bed9b-2f78-406a-a19d-334dd633ab96",
   "metadata": {},
   "outputs": [],
   "source": [
    "data.drop(columns=['LANDSIZE', 'PRICE', 'BUILDINGAR', 'LANDSIZE'], inplace=True)"
   ]
  },
  {
   "cell_type": "code",
   "execution_count": 4,
   "id": "4233db88-9248-4827-ac96-58b6df25822b",
   "metadata": {},
   "outputs": [],
   "source": [
    "data.drop(columns=['PROPERTYCO'], inplace = True)"
   ]
  },
  {
   "cell_type": "markdown",
   "id": "0075869a-8b59-402b-9b65-0a8906ea5200",
   "metadata": {},
   "source": [
    "**Step 4: Divide into multiple sub-datasets according to type**"
   ]
  },
  {
   "cell_type": "code",
   "execution_count": 5,
   "id": "3aa327d5-f952-427d-9d61-9ea2305ea958",
   "metadata": {},
   "outputs": [
    {
     "name": "stdout",
     "output_type": "stream",
     "text": [
      "h    4046\n",
      "u    1414\n",
      "t     571\n",
      "Name: TYPE, dtype: int64\n"
     ]
    }
   ],
   "source": [
    "type_counts = data['TYPE'].value_counts()\n",
    "print(type_counts)"
   ]
  },
  {
   "cell_type": "code",
   "execution_count": 6,
   "id": "ebf47574-7b22-4dfa-86a2-96e82e6a0a4e",
   "metadata": {},
   "outputs": [],
   "source": [
    "# Use groupby to group data according to the \"TYPE\" column\n",
    "grouped = data.groupby('TYPE')\n",
    "\n",
    "#Create a dictionary to store different types of sub-datasets\n",
    "sub_datasets = {}\n",
    "\n",
    "# Loop through each group and store it in a dictionary\n",
    "for group_name, group_data in grouped:\n",
    "     sub_datasets[group_name] = group_data\n",
    "\n",
    "# Now you can access different types of subdatasets, for example:\n",
    "house_data = sub_datasets['h'] # Get sub-datasets of type \"house\"\n",
    "unit_data = sub_datasets['u'] # Get the sub-dataset of type \"unit\"\n",
    "townhouse_data = sub_datasets['t'] # Get sub-datasets of type \"townhouse\""
   ]
  },
  {
   "cell_type": "markdown",
   "id": "506cd99d-a944-4380-a7ec-ceaf9779df3e",
   "metadata": {},
   "source": [
    "Drop 'Type' from each dataset:"
   ]
  },
  {
   "cell_type": "code",
   "execution_count": 7,
   "id": "88888817-bdbf-4e25-ac81-4dd372d318f8",
   "metadata": {},
   "outputs": [],
   "source": [
    "# Remove the \"TYPE\" column from the \"house\" type subdataset\n",
    "house_data = sub_datasets['h'].drop(columns=['TYPE'])\n",
    "\n",
    "# Remove the \"TYPE\" column from the \"unit\" type subdataset\n",
    "unit_data = sub_datasets['u'].drop(columns=['TYPE'])\n",
    "\n",
    "# Remove the \"TYPE\" column from the \"townhouse\" type subdataset\n",
    "townhouse_data = sub_datasets['t'].drop(columns=['TYPE'])"
   ]
  },
  {
   "cell_type": "markdown",
   "id": "7078a545-0e0c-4549-b7c7-417488921f11",
   "metadata": {},
   "source": [
    "# Features Selection"
   ]
  },
  {
   "cell_type": "markdown",
   "id": "354929be-9860-40e4-b89d-8acc28e56ca8",
   "metadata": {},
   "source": [
    "**Step 3: Perform correlation analysis on category variables in each sub-dataset.**"
   ]
  },
  {
   "cell_type": "code",
   "execution_count": 8,
   "id": "8707b3a8-1794-4ed7-a657-c9b39e3b9097",
   "metadata": {},
   "outputs": [],
   "source": [
    "# List of column names\n",
    "category_columns = ['SUBURB', 'ADDRESS', 'METHOD', 'SELLERG', 'COUNCILARE', 'REGIONNAME', 'POSTCODE', \"AREANUM\"]\n",
    "\n",
    "# Change columns to category type in each subdataset\n",
    "for dataset in [house_data, unit_data, townhouse_data]:\n",
    "     dataset[category_columns] = dataset[category_columns].astype('category')"
   ]
  },
  {
   "cell_type": "code",
   "execution_count": 9,
   "id": "e81811af-3ba4-42c8-ac58-a2445a60755f",
   "metadata": {},
   "outputs": [],
   "source": [
    "# Extract \"category\" data from \"house_data\"\n",
    "house_data_category = house_data.select_dtypes(include='category')\n",
    "\n",
    "# Extract \"category\" data from \"unit_data\"\n",
    "unit_data_category = unit_data.select_dtypes(include='category')\n",
    "\n",
    "# Extract \"category\" data from \"townhouse_data\"\n",
    "townhouse_data_category = townhouse_data.select_dtypes(include='category')"
   ]
  },
  {
   "cell_type": "markdown",
   "id": "7124bdca-d879-4050-9fe6-8cc68b09fc34",
   "metadata": {},
   "source": [
    "house_data_category"
   ]
  },
  {
   "cell_type": "code",
   "execution_count": 10,
   "id": "afb4e86f-0d8a-4222-b3b9-68df52aaa8fe",
   "metadata": {},
   "outputs": [
    {
     "name": "stdout",
     "output_type": "stream",
     "text": [
      "              SUBURB   ADDRESS    METHOD   SELLERG  POSTCODE COUNCILARE  \\\n",
      "SUBURB           1.0  0.497127  0.154173  0.338493  0.987244   0.953814   \n",
      "ADDRESS     0.497127       1.0       0.0  0.285704  0.490121   0.492935   \n",
      "METHOD      0.154173       0.0       1.0  0.116533  0.150429   0.142439   \n",
      "SELLERG     0.338493  0.285704  0.116533       1.0  0.310035   0.446842   \n",
      "POSTCODE    0.987244  0.490121  0.150429  0.310035       1.0   0.947228   \n",
      "COUNCILARE  0.953814  0.492935  0.142439  0.446842  0.947228        1.0   \n",
      "REGIONNAME  0.965989  0.528214   0.11071  0.527918   0.93845    0.80243   \n",
      "AREANUM     0.965893  0.455298  0.092873  0.496796  0.952599   0.743758   \n",
      "\n",
      "           REGIONNAME   AREANUM  \n",
      "SUBURB       0.965989  0.965893  \n",
      "ADDRESS      0.528214  0.455298  \n",
      "METHOD        0.11071  0.092873  \n",
      "SELLERG      0.527918  0.496796  \n",
      "POSTCODE      0.93845  0.952599  \n",
      "COUNCILARE    0.80243  0.743758  \n",
      "REGIONNAME        1.0  0.495689  \n",
      "AREANUM      0.495689       1.0  \n"
     ]
    }
   ],
   "source": [
    "import pandas as pd\n",
    "from scipy.stats import chi2_contingency\n",
    "import numpy as np\n",
    "\n",
    "# Create an empty correlation matrix\n",
    "correlation_matrix = pd.DataFrame(index=house_data_category.columns, columns=house_data_category.columns)\n",
    "\n",
    "# Loop to calculate Cramér's V and populate the correlation matrix\n",
    "for col1 in house_data_category.columns:\n",
    "     for col2 in house_data_category.columns:\n",
    "         if col1 == col2:\n",
    "             correlation_matrix.loc[col1, col2] = 1.0\n",
    "         else:\n",
    "             #Create contingency table\n",
    "             contingency_table = pd.crosstab(house_data_category[col1], house_data_category[col2])\n",
    "             chi2, _, _, _ = chi2_contingency(contingency_table)\n",
    "             n = contingency_table.sum().sum()\n",
    "             phi2 = chi2/n\n",
    "             r, k = contingency_table.shape\n",
    "             phi2corr = max(0, phi2 - ((k-1)*(r-1))/(n-1))\n",
    "             rcorr = r - ((r-1)**2)/(n-1)\n",
    "             kcorr = k - ((k-1)**2)/(n-1)\n",
    "             correlation_matrix.loc[col1, col2] = np.sqrt(phi2corr / min((kcorr-1), (rcorr-1)))\n",
    "\n",
    "# Display correlation matrix\n",
    "print(correlation_matrix)"
   ]
  },
  {
   "cell_type": "markdown",
   "id": "83b377ef-ed78-452b-a4fb-6630f39bf8a1",
   "metadata": {},
   "source": [
    "The results show that there is a significant correlation between \"SUBURB\", \"COUNCILARE\", \"POSTCODE\", \"REGIONNAME\" and \"AREANUM\"."
   ]
  },
  {
   "cell_type": "code",
   "execution_count": 11,
   "id": "264e16ed-8d68-4eb7-8200-01b2927de929",
   "metadata": {},
   "outputs": [
    {
     "name": "stdout",
     "output_type": "stream",
     "text": [
      "Number of different values:\n",
      "SUBURB: 278\n",
      "REGIONNAME: 8\n",
      "COUNCILARE: 31\n",
      "POSTCODE 180\n",
      "AREANUM 9\n"
     ]
    }
   ],
   "source": [
    "# Count the number of distinct values in the \"SUBURB\" column\n",
    "suburb_count = house_data_category['SUBURB'].nunique()\n",
    "\n",
    "# Count the number of distinct values in the \"REGIONNAME\" column\n",
    "regionname_count = house_data_category['REGIONNAME'].nunique()\n",
    "\n",
    "# Count the number of distinct values in the \"COUNCILARE\" column\n",
    "councilare_count = house_data_category['COUNCILARE'].nunique()\n",
    "\n",
    "# POSTCODE\n",
    "postcode_count = house_data_category['POSTCODE'].nunique()\n",
    "\n",
    "# AREANUM\n",
    "areanum_count =  house_data_category['AREANUM'].nunique()\n",
    "\n",
    "print(\"Number of different values:\")\n",
    "print(\"SUBURB:\", suburb_count)\n",
    "print(\"REGIONNAME:\", regionname_count)\n",
    "print(\"COUNCILARE:\", councilare_count)\n",
    "print('POSTCODE', postcode_count)\n",
    "print('AREANUM', areanum_count)"
   ]
  },
  {
   "cell_type": "markdown",
   "id": "292d37ab-08c3-493b-8909-7108f5ccbc53",
   "metadata": {},
   "source": [
    "Since the number of regionnames is minimal, retaining regionnames can simplify the model as much as possible."
   ]
  },
  {
   "cell_type": "code",
   "execution_count": 12,
   "id": "140b6070-08dc-473e-8714-d4af9399ac9e",
   "metadata": {},
   "outputs": [],
   "source": [
    "# Remove \"SUBURB\" and \"COUNCILARE\" columns from \"house_data\"\n",
    "house_data = house_data.drop(columns=['SUBURB', 'COUNCILARE', \"POSTCODE\", \"AREANUM\"])"
   ]
  },
  {
   "cell_type": "markdown",
   "id": "1d52c4cb-da5b-4c91-a723-26fe40b042b0",
   "metadata": {},
   "source": [
    "uni_data_category"
   ]
  },
  {
   "cell_type": "code",
   "execution_count": 13,
   "id": "cf572558-1b49-4690-ac59-4610ec1b6172",
   "metadata": {},
   "outputs": [
    {
     "name": "stdout",
     "output_type": "stream",
     "text": [
      "              SUBURB   ADDRESS    METHOD   SELLERG  POSTCODE COUNCILARE  \\\n",
      "SUBURB           1.0  0.575663       0.0  0.333368  0.983192   0.933239   \n",
      "ADDRESS     0.575663       1.0       0.0   0.20278  0.571421   0.571494   \n",
      "METHOD           0.0       0.0       1.0  0.272646       0.0   0.104342   \n",
      "SELLERG     0.333368   0.20278  0.272646       1.0  0.312916   0.453384   \n",
      "POSTCODE    0.983192  0.571421       0.0  0.312916       1.0   0.936739   \n",
      "COUNCILARE  0.933239  0.571494  0.104342  0.453384  0.936739        1.0   \n",
      "REGIONNAME  0.941092  0.477135  0.061019  0.490735  0.947839   0.836458   \n",
      "AREANUM     0.942096  0.581031  0.070077  0.474101  0.923936   0.705238   \n",
      "\n",
      "           REGIONNAME   AREANUM  \n",
      "SUBURB       0.941092  0.942096  \n",
      "ADDRESS      0.477135  0.581031  \n",
      "METHOD       0.061019  0.070077  \n",
      "SELLERG      0.490735  0.474101  \n",
      "POSTCODE     0.947839  0.923936  \n",
      "COUNCILARE   0.836458  0.705238  \n",
      "REGIONNAME        1.0  0.501009  \n",
      "AREANUM      0.501009       1.0  \n"
     ]
    }
   ],
   "source": [
    "import pandas as pd\n",
    "from scipy.stats import chi2_contingency\n",
    "import numpy as np\n",
    "\n",
    "# Create an empty correlation matrix\n",
    "correlation_matrix = pd.DataFrame(index=unit_data_category.columns, columns=unit_data_category.columns)\n",
    "\n",
    "# Loop to calculate Cramér's V and populate the correlation matrix\n",
    "for col1 in unit_data_category.columns:\n",
    "     for col2 in unit_data_category.columns:\n",
    "         if col1 == col2:\n",
    "             correlation_matrix.loc[col1, col2] = 1.0\n",
    "         else:\n",
    "             #Create contingency table\n",
    "             contingency_table = pd.crosstab(unit_data_category[col1], unit_data_category[col2])\n",
    "             chi2, _, _, _ = chi2_contingency(contingency_table)\n",
    "             n = contingency_table.sum().sum()\n",
    "             phi2 = chi2/n\n",
    "             r, k = contingency_table.shape\n",
    "             phi2corr = max(0, phi2 - ((k-1)*(r-1))/(n-1))\n",
    "             rcorr = r - ((r-1)**2)/(n-1)\n",
    "             kcorr = k - ((k-1)**2)/(n-1)\n",
    "             correlation_matrix.loc[col1, col2] = np.sqrt(phi2corr / min((kcorr-1), (rcorr-1)))\n",
    "\n",
    "# Display correlation matrix\n",
    "print(correlation_matrix)"
   ]
  },
  {
   "cell_type": "code",
   "execution_count": 14,
   "id": "d9a6b459-3d99-48ac-b278-830be18470ce",
   "metadata": {},
   "outputs": [
    {
     "name": "stdout",
     "output_type": "stream",
     "text": [
      "Number of different values:\n",
      "SUBURB: 167\n",
      "REGIONNAME: 6\n",
      "COUNCILARE: 25\n",
      "POSTCODE 124\n",
      "AREANUM 9\n"
     ]
    }
   ],
   "source": [
    "# Count the number of distinct values in the \"SUBURB\" column\n",
    "suburb_count = unit_data_category['SUBURB'].nunique()\n",
    "\n",
    "# Count the number of distinct values in the \"REGIONNAME\" column\n",
    "regionname_count = unit_data_category['REGIONNAME'].nunique()\n",
    "\n",
    "# Count the number of distinct values in the \"COUNCILARE\" column\n",
    "councilare_count = unit_data_category['COUNCILARE'].nunique()\n",
    "\n",
    "# POSTCODE\n",
    "postcode_count = unit_data_category['POSTCODE'].nunique()\n",
    "\n",
    "# AREANUM\n",
    "areanum_count =  unit_data_category['AREANUM'].nunique()\n",
    "\n",
    "print(\"Number of different values:\")\n",
    "print(\"SUBURB:\", suburb_count)\n",
    "print(\"REGIONNAME:\", regionname_count)\n",
    "print(\"COUNCILARE:\", councilare_count)\n",
    "print('POSTCODE', postcode_count)\n",
    "print('AREANUM', areanum_count)"
   ]
  },
  {
   "cell_type": "markdown",
   "id": "211a3b10-1510-4278-8ba5-f562d2044ba6",
   "metadata": {},
   "source": [
    "Based on approximate results and for the same reason, 'SUBURB', 'COUNCILARE', \"POSTCODE\" and \"AREANUM\" will be removed here."
   ]
  },
  {
   "cell_type": "code",
   "execution_count": 15,
   "id": "df967bc6-bb5b-4c64-8429-1c67fb234be6",
   "metadata": {},
   "outputs": [],
   "source": [
    "unit_data = unit_data.drop(columns=['SUBURB', 'COUNCILARE', \"POSTCODE\", \"AREANUM\"])"
   ]
  },
  {
   "cell_type": "markdown",
   "id": "0428911e-a76c-4757-a689-2aaf7149b358",
   "metadata": {},
   "source": [
    "townhouse_data"
   ]
  },
  {
   "cell_type": "code",
   "execution_count": 16,
   "id": "bf979431-078c-49f6-81aa-3cd47a3b8f65",
   "metadata": {},
   "outputs": [
    {
     "name": "stdout",
     "output_type": "stream",
     "text": [
      "              SUBURB   ADDRESS    METHOD   SELLERG  POSTCODE COUNCILARE  \\\n",
      "SUBURB           1.0  0.407445  0.061491  0.322014  0.963942   0.870939   \n",
      "ADDRESS     0.407445       1.0  0.199242       0.0  0.359566   0.303751   \n",
      "METHOD      0.061491  0.199242       1.0  0.172361  0.125534   0.114664   \n",
      "SELLERG     0.322014       0.0  0.172361       1.0  0.348698   0.464822   \n",
      "POSTCODE    0.963942  0.359566  0.125534  0.348698       1.0   0.889515   \n",
      "COUNCILARE  0.870939  0.303751  0.114664  0.464822  0.889515        1.0   \n",
      "REGIONNAME  0.874653   0.36218  0.072982  0.542211  0.903454   0.905855   \n",
      "AREANUM      0.87698  0.333915   0.10387  0.486385  0.854178   0.716266   \n",
      "\n",
      "           REGIONNAME   AREANUM  \n",
      "SUBURB       0.874653   0.87698  \n",
      "ADDRESS       0.36218  0.333915  \n",
      "METHOD       0.072982   0.10387  \n",
      "SELLERG      0.542211  0.486385  \n",
      "POSTCODE     0.903454  0.854178  \n",
      "COUNCILARE   0.905855  0.716266  \n",
      "REGIONNAME        1.0  0.677166  \n",
      "AREANUM      0.677166       1.0  \n"
     ]
    }
   ],
   "source": [
    "import pandas as pd\n",
    "from scipy.stats import chi2_contingency\n",
    "import numpy as np\n",
    "\n",
    "# Create an empty correlation matrix\n",
    "correlation_matrix = pd.DataFrame(index=townhouse_data_category.columns, columns=townhouse_data_category.columns)\n",
    "\n",
    "# Loop to calculate Cramér's V and populate the correlation matrix\n",
    "for col1 in townhouse_data_category.columns:\n",
    "     for col2 in townhouse_data_category.columns:\n",
    "         if col1 == col2:\n",
    "             correlation_matrix.loc[col1, col2] = 1.0\n",
    "         else:\n",
    "             #Create contingency table\n",
    "             contingency_table = pd.crosstab(townhouse_data_category[col1], townhouse_data_category[col2])\n",
    "             chi2, _, _, _ = chi2_contingency(contingency_table)\n",
    "             n = contingency_table.sum().sum()\n",
    "             phi2 = chi2/n\n",
    "             r, k = contingency_table.shape\n",
    "             phi2corr = max(0, phi2 - ((k-1)*(r-1))/(n-1))\n",
    "             rcorr = r - ((r-1)**2)/(n-1)\n",
    "             kcorr = k - ((k-1)**2)/(n-1)\n",
    "             correlation_matrix.loc[col1, col2] = np.sqrt(phi2corr / min((kcorr-1), (rcorr-1)))\n",
    "\n",
    "# Display correlation matrix\n",
    "print(correlation_matrix)"
   ]
  },
  {
   "cell_type": "code",
   "execution_count": 17,
   "id": "77690d60-05ce-48ab-ab2e-0a613650ec7d",
   "metadata": {},
   "outputs": [
    {
     "name": "stdout",
     "output_type": "stream",
     "text": [
      "Number of different values:\n",
      "SUBURB: 138\n",
      "REGIONNAME: 5\n",
      "COUNCILARE: 23\n",
      "POSTCODE 105\n",
      "AREANUM 8\n"
     ]
    }
   ],
   "source": [
    "# Count the number of distinct values in the \"SUBURB\" column\n",
    "suburb_count = townhouse_data_category['SUBURB'].nunique()\n",
    "\n",
    "# Count the number of distinct values in the \"REGIONNAME\" column\n",
    "regionname_count = townhouse_data_category['REGIONNAME'].nunique()\n",
    "\n",
    "# Count the number of distinct values in the \"COUNCILARE\" column\n",
    "councilare_count = townhouse_data_category['COUNCILARE'].nunique()\n",
    "\n",
    "# POSTCODE\n",
    "postcode_count = townhouse_data_category['POSTCODE'].nunique()\n",
    "\n",
    "# AREANUM\n",
    "areanum_count =  townhouse_data_category['AREANUM'].nunique()\n",
    "\n",
    "print(\"Number of different values:\")\n",
    "print(\"SUBURB:\", suburb_count)\n",
    "print(\"REGIONNAME:\", regionname_count)\n",
    "print(\"COUNCILARE:\", councilare_count)\n",
    "print('POSTCODE', postcode_count)\n",
    "print('AREANUM', areanum_count)"
   ]
  },
  {
   "cell_type": "markdown",
   "id": "e3a92328-f7c8-44f5-a3e6-a273e95d1689",
   "metadata": {},
   "source": [
    "Based on approximate results and for the same reason, 'SUBURB', 'COUNCILARE', \"POSTCODE\" amd \"AREANUM\" will be removed here."
   ]
  },
  {
   "cell_type": "code",
   "execution_count": 18,
   "id": "6b3a5975-ea71-4afa-9e41-1eff232c569b",
   "metadata": {},
   "outputs": [],
   "source": [
    "townhouse_data_category = townhouse_data_category.drop(columns=['SUBURB', 'COUNCILARE', \"POSTCODE\", \"AREANUM\"])"
   ]
  },
  {
   "cell_type": "markdown",
   "id": "25aa0dc8-cdbb-4ad1-b3c0-e4b0355a31c5",
   "metadata": {},
   "source": [
    "**step 4: Perform correlation analysis on category variables in each sub-dataset.**"
   ]
  },
  {
   "cell_type": "code",
   "execution_count": 19,
   "id": "31ecaccb-21dc-4ada-8f09-4feb921cbefd",
   "metadata": {},
   "outputs": [],
   "source": [
    "# Extract integer and floating point data from \"house_data\"\n",
    "house_data_num = house_data.select_dtypes(include=['int64', 'float64'])\n",
    "\n",
    "# Extract integer and floating point data from \"unit_data\"\n",
    "unit_data_num = unit_data.select_dtypes(include=['int64', 'float64'])\n",
    "\n",
    "# Extract integer and floating point data from \"townhouse_data\"\n",
    "townhouse_data_num = townhouse_data.select_dtypes(include=['int64', 'float64'])\n",
    "\n",
    "# Exclude \"price_by_area\" column from \"house_data\"\n",
    "house_data_num = house_data_num.drop(columns=['price_by_area'])\n",
    "\n",
    "# Exclude \"price_by_area\" column from \"unit_data\"\n",
    "unit_data_num = unit_data_num.drop(columns=['price_by_area'])\n",
    "\n",
    "# Exclude \"price_by_area\" column from \"townhouse_data\"\n",
    "townhouse_data_num = townhouse_data_num.drop(columns=['price_by_area'])"
   ]
  },
  {
   "cell_type": "markdown",
   "id": "fcc510b4-c9f0-4a0e-91f6-2f98cd7eff2a",
   "metadata": {},
   "source": [
    "house_data"
   ]
  },
  {
   "cell_type": "code",
   "execution_count": 20,
   "id": "f4488379-7d4b-4463-9821-aa609ebbf49b",
   "metadata": {},
   "outputs": [
    {
     "data": {
      "image/png": "[encoded data removed]",
      "text/plain": [
       "<Figure size 1200x800 with 2 Axes>"
      ]
     },
     "metadata": {},
     "output_type": "display_data"
    }
   ],
   "source": [
    "import pandas as pd\n",
    "import seaborn as sns\n",
    "import matplotlib.pyplot as plt\n",
    "\n",
    "# Calculate correlation matrix\n",
    "correlation_matrix = house_data_num.corr()\n",
    "\n",
    "# Visualize the correlation matrix using heatmaps\n",
    "plt.figure(figsize=(12, 8))\n",
    "sns.heatmap(correlation_matrix, annot=True, cmap='coolwarm', fmt=\".2f\")\n",
    "plt.title(\"Correlation Heatmap for house_data_num\")\n",
    "plt.show()"
   ]
  },
  {
   "cell_type": "markdown",
   "id": "d254c2e4-3748-4b59-abd9-39754c6445ac",
   "metadata": {},
   "source": [
    "From the visual results, there is a high or moderate positive correlation between ROOMS and BEDROOM2 and BATHROOM. Here we choose to remove BEDROOM2 and BATHROOM."
   ]
  },
  {
   "cell_type": "code",
   "execution_count": 21,
   "id": "0ca53b94-679c-4e60-b772-33d5ae79968a",
   "metadata": {},
   "outputs": [],
   "source": [
    "# Remove the \"BEDROOM2\" and \"BATHROOM\" columns from \"house_data\"\n",
    "house_data = house_data.drop(columns=['BEDROOM2', 'BATHROOM'])"
   ]
  },
  {
   "cell_type": "markdown",
   "id": "46dc94b2-b575-44b7-bb00-6f4680095f39",
   "metadata": {},
   "source": [
    "unit_data"
   ]
  },
  {
   "cell_type": "code",
   "execution_count": 22,
   "id": "711367df-da0f-490c-b11b-0ddc1a18318f",
   "metadata": {},
   "outputs": [
    {
     "data": {
      "image/png": "[encoded data removed]",
      "text/plain": [
       "<Figure size 1200x800 with 2 Axes>"
      ]
     },
     "metadata": {},
     "output_type": "display_data"
    }
   ],
   "source": [
    "import pandas as pd\n",
    "import seaborn as sns\n",
    "import matplotlib.pyplot as plt\n",
    "\n",
    "# Calculate correlation matrix\n",
    "correlation_matrix = unit_data_num.corr()\n",
    "\n",
    "# Visualize the correlation matrix using heatmaps\n",
    "plt.figure(figsize=(12, 8))\n",
    "sns.heatmap(correlation_matrix, annot=True, cmap='coolwarm', fmt=\".2f\")\n",
    "plt.title(\"Correlation Heatmap for house_data_num\")\n",
    "plt.show()"
   ]
  },
  {
   "cell_type": "markdown",
   "id": "f032a714-f1ac-45c7-a570-aa8b776bfdfb",
   "metadata": {},
   "source": [
    "It can be found that for Unit type data, there is no obvious positive correlation between ROOM2 and BATHROOM.\r\n",
    "\r\n",
    "So only \"BEDROOM2\" is removed here."
   ]
  },
  {
   "cell_type": "code",
   "execution_count": 23,
   "id": "e3b6ae7a-2032-4555-8765-865d51ac233a",
   "metadata": {},
   "outputs": [],
   "source": [
    "# Remove the \"BEDROOM2\" and \"BATHROOM\" columns from \"house_data\"\n",
    "unit_data = unit_data.drop(columns=['BEDROOM2'])"
   ]
  },
  {
   "cell_type": "markdown",
   "id": "9b186150-44c8-4700-9cd5-a4d6a51fbfd8",
   "metadata": {},
   "source": [
    "townhouse_data"
   ]
  },
  {
   "cell_type": "code",
   "execution_count": 24,
   "id": "06aebdfc-643d-453f-b835-5ce7b4956bb0",
   "metadata": {},
   "outputs": [
    {
     "data": {
      "image/png": "[encoded data removed]",
      "text/plain": [
       "<Figure size 1200x800 with 2 Axes>"
      ]
     },
     "metadata": {},
     "output_type": "display_data"
    }
   ],
   "source": [
    "import pandas as pd\n",
    "import seaborn as sns\n",
    "import matplotlib.pyplot as plt\n",
    "\n",
    "# Calculate correlation matrix\n",
    "correlation_matrix = townhouse_data_num.corr()\n",
    "\n",
    "# Visualize the correlation matrix using heatmaps\n",
    "plt.figure(figsize=(12, 8))\n",
    "sns.heatmap(correlation_matrix, annot=True, cmap='coolwarm', fmt=\".2f\")\n",
    "plt.title(\"Correlation Heatmap for house_data_num\")\n",
    "plt.show()"
   ]
  },
  {
   "cell_type": "markdown",
   "id": "03c39150-e7ca-4668-87b4-d37bff59058f",
   "metadata": {},
   "source": [
    "The correlations shown by the numerical variables of TOWNHOUSE and HOUSE are basically close."
   ]
  },
  {
   "cell_type": "code",
   "execution_count": 25,
   "id": "3373b895-4063-4ab9-b53b-b2c4f3490d4e",
   "metadata": {},
   "outputs": [],
   "source": [
    "# Remove the \"BEDROOM2\" and \"BATHROOM\" columns from \"house_data\"\n",
    "townhouse_data = townhouse_data.drop(columns=['BEDROOM2', 'BATHROOM'])"
   ]
  },
  {
   "cell_type": "markdown",
   "id": "a069a04e-6821-4485-81ac-ae8b2fd37807",
   "metadata": {},
   "source": [
    "# Models Building"
   ]
  },
  {
   "cell_type": "markdown",
   "id": "06d701f5-2400-47dc-a72a-383fd00f18c3",
   "metadata": {},
   "source": [
    "## Generate new variables as target variable"
   ]
  },
  {
   "cell_type": "markdown",
   "id": "600ad22c-eb48-4a28-a303-c91f09c8211c",
   "metadata": {},
   "source": [
    "house_data"
   ]
  },
  {
   "cell_type": "code",
   "execution_count": 26,
   "id": "8136e10b-6ab2-4f5f-a74e-c5594d8ef01f",
   "metadata": {},
   "outputs": [
    {
     "data": {
      "image/png": "[encoded data removed]",
      "text/plain": [
       "<Figure size 1000x600 with 1 Axes>"
      ]
     },
     "metadata": {},
     "output_type": "display_data"
    }
   ],
   "source": [
    "import seaborn as sns\n",
    "import matplotlib.pyplot as plt\n",
    "\n",
    "plt.figure(figsize=(10, 6))\n",
    "sns.histplot(house_data['price_by_area'], kde=True, color='b')\n",
    "plt.title(\"Distribution of 'price_by_area' in house_data\")\n",
    "plt.xlabel(\"Price by Area\")\n",
    "plt.ylabel(\"Frequency\")\n",
    "plt.show()"
   ]
  },
  {
   "cell_type": "code",
   "execution_count": 29,
   "id": "066d9cf6-79ac-44d8-8e70-7d6902e33767",
   "metadata": {},
   "outputs": [],
   "source": [
    "import pandas as pd\n",
    "\n",
    "#Define price range rules\n",
    "price_bins = [0, 2500, 5000, 7500, 10000, 12500, 15000, 20000, float('inf')]\n",
    "price_labels = ['0-2500', '2500-5000', '5000-7500', '7500-10000', '10000-12500', '12500-15000', '15000-20000', '20000+']\n",
    "\n",
    "# Use the cut function to map \"price_by_area\" to the interval\n",
    "house_data['price_by_area_interval'] = pd.cut(house_data['price_by_area'], bins=price_bins, labels=price_labels, right=False)\n",
    "\n",
    "#Convert the result to a category of string type\n",
    "house_data['price_by_area_interval'] = house_data['price_by_area_interval'].astype('category')"
   ]
  },
  {
   "cell_type": "code",
   "execution_count": 31,
   "id": "32978893-3a9f-4c8e-b6e2-a017637b287a",
   "metadata": {},
   "outputs": [
    {
     "name": "stdout",
     "output_type": "stream",
     "text": [
      "0-2500         2131\n",
      "2500-5000      1251\n",
      "5000-7500       363\n",
      "7500-10000      160\n",
      "10000-12500      84\n",
      "12500-15000      25\n",
      "15000-20000      22\n",
      "20000+           10\n",
      "Name: price_by_area_interval, dtype: int64\n"
     ]
    }
   ],
   "source": [
    "# Calculate the frequency of different types in the \"price_by_area_interval\" column\n",
    "frequency = house_data['price_by_area_interval'].value_counts()\n",
    "\n",
    "#Print frequency results\n",
    "print(frequency)"
   ]
  },
  {
   "cell_type": "markdown",
   "id": "6e94f829-7e26-4e2c-8c71-a13758af9589",
   "metadata": {},
   "source": [
    "unit_data"
   ]
  },
  {
   "cell_type": "code",
   "execution_count": 32,
   "id": "5ae74f5b-1895-4be9-99a8-beb1b7d4534b",
   "metadata": {},
   "outputs": [
    {
     "data": {
      "image/png": "[encoded data removed]",
      "text/plain": [
       "<Figure size 1000x600 with 1 Axes>"
      ]
     },
     "metadata": {},
     "output_type": "display_data"
    }
   ],
   "source": [
    "import seaborn as sns\n",
    "import matplotlib.pyplot as plt\n",
    "\n",
    "plt.figure(figsize=(10, 6))\n",
    "sns.histplot(unit_data['price_by_area'], kde=True, color='b')\n",
    "plt.title(\"Distribution of 'price_by_area' in unit_data\")\n",
    "plt.xlabel(\"Price by Area\")\n",
    "plt.ylabel(\"Frequency\")\n",
    "plt.show()"
   ]
  },
  {
   "cell_type": "code",
   "execution_count": 34,
   "id": "6404a172-415d-4e4f-9d30-27c8f6fec70e",
   "metadata": {},
   "outputs": [],
   "source": [
    "import pandas as pd\n",
    "\n",
    "#Define price range rules\n",
    "price_bins = [0, 2500, 5000, 10000, 15000, float('inf')]\n",
    "price_labels = ['0-2500', '2500-5000', '5000-10000', '10000-15000', '15000-20000']\n",
    "\n",
    "# Use the cut function to map \"price_by_area\" to the interval\n",
    "unit_data['price_by_area_interval'] = pd.cut(unit_data['price_by_area'], bins=price_bins, labels=price_labels, right=False)\n",
    "\n",
    "#Convert the result to a category of string type\n",
    "unit_data['price_by_area_interval'] = unit_data['price_by_area_interval'].astype('category')"
   ]
  },
  {
   "cell_type": "code",
   "execution_count": 35,
   "id": "e7015ab1-62b8-4995-baf8-b848dc239259",
   "metadata": {},
   "outputs": [
    {
     "name": "stdout",
     "output_type": "stream",
     "text": [
      "5000-10000     1209\n",
      "10000-15000     107\n",
      "2500-5000        92\n",
      "0-2500            5\n",
      "15000-20000       1\n",
      "Name: price_by_area_interval, dtype: int64\n"
     ]
    }
   ],
   "source": [
    "# Calculate the frequency of different types in the \"price_by_area_interval\" column\n",
    "frequency = unit_data['price_by_area_interval'].value_counts()\n",
    "\n",
    "#Print frequency results\n",
    "print(frequency)"
   ]
  },
  {
   "cell_type": "code",
   "execution_count": 36,
   "id": "e4f72a6b-d244-4583-a434-4fbb3f13732f",
   "metadata": {},
   "outputs": [],
   "source": [
    "# Filter out data excluding \"20000+\" and \"15000-20000\"\n",
    "unit_data = unit_data[~unit_data['price_by_area_interval'].isin(['20000+', '15000-20000'])]"
   ]
  },
  {
   "cell_type": "code",
   "execution_count": 37,
   "id": "0f039b28-8761-4fa0-8982-3b5878a8f356",
   "metadata": {},
   "outputs": [
    {
     "name": "stdout",
     "output_type": "stream",
     "text": [
      "5000-10000     1209\n",
      "10000-15000     107\n",
      "2500-5000        92\n",
      "0-2500            5\n",
      "15000-20000       0\n",
      "Name: price_by_area_interval, dtype: int64\n"
     ]
    }
   ],
   "source": [
    "# Calculate the frequency of different types in the \"price_by_area_interval\" column\n",
    "frequency = unit_data['price_by_area_interval'].value_counts()\n",
    "\n",
    "#Print frequency results\n",
    "print(frequency)"
   ]
  },
  {
   "cell_type": "markdown",
   "id": "5e7262fb-1d92-4af9-9547-4a01637e1d3b",
   "metadata": {},
   "source": [
    "townhouse_data"
   ]
  },
  {
   "cell_type": "code",
   "execution_count": 38,
   "id": "f657f5dc-f3a7-428f-b870-264310e16ebc",
   "metadata": {},
   "outputs": [
    {
     "data": {
      "image/png": "[encoded data removed]",
      "text/plain": [
       "<Figure size 1000x600 with 1 Axes>"
      ]
     },
     "metadata": {},
     "output_type": "display_data"
    }
   ],
   "source": [
    "import seaborn as sns\n",
    "import matplotlib.pyplot as plt\n",
    "\n",
    "plt.figure(figsize=(10, 6))\n",
    "sns.histplot(townhouse_data['price_by_area'], kde=True, color='b')\n",
    "plt.title(\"Distribution of 'price_by_area' in townhouse_data\")\n",
    "plt.xlabel(\"Price by Area\")\n",
    "plt.ylabel(\"Frequency\")\n",
    "plt.show()"
   ]
  },
  {
   "cell_type": "code",
   "execution_count": 41,
   "id": "514cd212-eb4a-41b3-be2f-db5dd24718f5",
   "metadata": {},
   "outputs": [],
   "source": [
    "# import pandas as pd\n",
    "\n",
    "# # Define the new price bins and labels\n",
    "# price_bins = [0, 4000, 8000, 12000, float('inf')]\n",
    "# price_labels = ['0-4000', '4000-8000', '8000-12000', '12000+']\n",
    "\n",
    "# # Assuming you have the 'townhouse_data' DataFrame\n",
    "# townhouse_data['price_by_area_interval'] = pd.cut(townhouse_data['price_by_area'], bins=price_bins, labels=price_labels, right=False)\n",
    "# townhouse_data['price_by_area_interval'] = townhouse_data['price_by_area_interval'].astype('category')\n",
    "\n",
    "\n",
    "import pandas as pd\n",
    "\n",
    "# Define the new price bins and labels\n",
    "price_bins = [0, 5000, 10000, 12000, float('inf')]\n",
    "price_labels = ['0-5000', '5000-10000', '10000-15000', '15000+']\n",
    "\n",
    "# Assuming you have the 'townhouse_data' DataFrame\n",
    "townhouse_data['price_by_area_interval'] = pd.cut(townhouse_data['price_by_area'], bins=price_bins, labels=price_labels, right=False)\n",
    "townhouse_data['price_by_area_interval'] = townhouse_data['price_by_area_interval'].astype('category')"
   ]
  },
  {
   "cell_type": "code",
   "execution_count": 42,
   "id": "445f2569-2516-4fee-9295-f0f1ab153b75",
   "metadata": {},
   "outputs": [
    {
     "name": "stdout",
     "output_type": "stream",
     "text": [
      "0-5000         384\n",
      "5000-10000     159\n",
      "15000+          16\n",
      "10000-15000     12\n",
      "Name: price_by_area_interval, dtype: int64\n"
     ]
    }
   ],
   "source": [
    "# Calculate the frequency of different types in the \"price_by_area_interval\" column\n",
    "frequency = townhouse_data['price_by_area_interval'].value_counts()\n",
    "\n",
    "#Print frequency results\n",
    "print(frequency)"
   ]
  },
  {
   "cell_type": "markdown",
   "id": "5fb862e3-d262-4fa1-8e8f-6e4d6e2acab4",
   "metadata": {},
   "source": [
    "drop all price_by_area"
   ]
  },
  {
   "cell_type": "code",
   "execution_count": 43,
   "id": "e0c9a0f4-329c-47c8-8782-907ddf21b546",
   "metadata": {},
   "outputs": [],
   "source": [
    "# Remove the \"price_by_area\" column from \"house_data\"\n",
    "house_data = house_data.drop(columns=['price_by_area'])\n",
    "\n",
    "# Remove the \"price_by_area\" column from \"unit_data\"\n",
    "unit_data = unit_data.drop(columns=['price_by_area'])\n",
    "\n",
    "# Remove the \"price_by_area\" column from \"townhouse_data\"\n",
    "townhouse_data = townhouse_data.drop(columns=['price_by_area'])"
   ]
  },
  {
   "cell_type": "markdown",
   "id": "575e9eb8-4dbc-4fbe-8ce2-24ea8e263468",
   "metadata": {},
   "source": [
    "## One-hot encoding"
   ]
  },
  {
   "cell_type": "code",
   "execution_count": 44,
   "id": "f875ca43-49f9-4c74-8835-a206e8271ccf",
   "metadata": {},
   "outputs": [],
   "source": [
    "# Perform one-hot encoding on categorical data in \"house_data\", except \"price_by_area_interval\"\n",
    "house_data = pd.get_dummies(house_data, columns=[col for col in house_data.columns if house_data[col].dtype.name == 'category' and col != 'price_by_area_interval'])\n",
    "\n",
    "# Perform one-hot encoding on categorical data in \"unit_data\", except \"price_by_area_interval\"\n",
    "unit_data = pd.get_dummies(unit_data, columns=[col for col in unit_data.columns if unit_data[col].dtype.name == 'category' and col != 'price_by_area_interval'])\n",
    "\n",
    "# Perform one-hot encoding on categorical data in \"townhouse_data\", except \"price_by_area_interval\"\n",
    "townhouse_data = pd.get_dummies(townhouse_data, columns=[col for col in townhouse_data.columns if townhouse_data[col].dtype.name == 'category' and col != 'price_by_area_interval'])"
   ]
  },
  {
   "cell_type": "markdown",
   "id": "70e2a2ae-5ca4-4ebf-a7e1-7f1d9903a736",
   "metadata": {},
   "source": [
    "## Models Building"
   ]
  },
  {
   "cell_type": "markdown",
   "id": "c0153e8f-31fb-4a50-8b90-b30f32ef4ba0",
   "metadata": {},
   "source": [
    "#### house data"
   ]
  },
  {
   "cell_type": "markdown",
   "id": "a8155e99-b924-4182-a643-9213d35abf5c",
   "metadata": {},
   "source": [
    "random forest models"
   ]
  },
  {
   "cell_type": "code",
   "execution_count": 45,
   "id": "3ad32ee9-994c-4c78-93ad-592d910ad7b1",
   "metadata": {},
   "outputs": [
    {
     "name": "stdout",
     "output_type": "stream",
     "text": [
      "Model 1 - Accuracy: 0.56\n",
      "Model 2 - Accuracy: 0.56\n",
      "Model 3 - Accuracy: 0.57\n",
      "Model 4 - Accuracy: 0.56\n",
      "Model 5 - Accuracy: 0.56\n",
      "Model 6 - Accuracy: 0.63\n",
      "Model 7 - Accuracy: 0.66\n",
      "Model 8 - Accuracy: 0.68\n",
      "Model 9 - Accuracy: 0.69\n",
      "Model 10 - Accuracy: 0.63\n",
      "Model 11 - Accuracy: 0.66\n",
      "Model 12 - Accuracy: 0.69\n",
      "Model 13 - Accuracy: 0.69\n",
      "Model 14 - Accuracy: 0.69\n"
     ]
    }
   ],
   "source": [
    "from sklearn.ensemble import RandomForestClassifier\n",
    "from sklearn.model_selection import train_test_split\n",
    "from sklearn.metrics import accuracy_score\n",
    "\n",
    "X = house_data.drop(columns=['price_by_area_interval'])\n",
    "y = house_data['price_by_area_interval']\n",
    "\n",
    "params_combinations = [\n",
    "    {'n_estimators': 100, 'max_depth': 10, 'random_state': 42},\n",
    "    \n",
    "    {'n_estimators': 200, 'max_depth': 10,'min_samples_split': 2,  'random_state': 42},\n",
    "    {'n_estimators': 300, 'max_depth': 10, 'min_samples_split': 2, 'random_state': 42},\n",
    "    {'n_estimators': 400, 'max_depth': 10, 'min_samples_split': 2, 'random_state': 42},\n",
    "    {'n_estimators': 500, 'max_depth': 10, 'min_samples_split': 2, 'random_state': 42},\n",
    "\n",
    "    {'n_estimators': 100, 'max_depth': 20, 'min_samples_split': 4, 'random_state': 42},\n",
    "    {'n_estimators': 100, 'max_depth': 30, 'min_samples_split': 4, 'random_state': 42},\n",
    "    {'n_estimators': 100, 'max_depth': 40, 'min_samples_split': 4, 'random_state': 42},\n",
    "    {'n_estimators': 100, 'max_depth': 50, 'min_samples_split': 4, 'random_state': 42},\n",
    "\n",
    "    {'n_estimators': 200, 'max_depth': 20, 'min_samples_split': 4, 'random_state': 42},\n",
    "    {'n_estimators': 300, 'max_depth': 30, 'min_samples_split': 4, 'random_state': 42},\n",
    "    {'n_estimators': 400, 'max_depth': 40, 'min_samples_split': 4, 'random_state': 42},\n",
    "\n",
    "    {'n_estimators': 500, 'max_depth': 50, 'min_samples_split': 6, 'random_state': 42},\n",
    "    {'n_estimators': 1000, 'max_depth': 100, 'min_samples_split': 6, 'random_state': 42},\n",
    "]\n",
    "\n",
    "models = []\n",
    "for params in params_combinations:\n",
    "    model = RandomForestClassifier(**params)\n",
    "    X_train, X_test, y_train, y_test = train_test_split(X, y, test_size=0.2, random_state=42)\n",
    "    model.fit(X_train, y_train)\n",
    "    y_pred = model.predict(X_test)\n",
    "    accuracy = accuracy_score(y_test, y_pred)\n",
    "    models.append((model, accuracy))\n",
    "\n",
    "for i, (model, accuracy) in enumerate(models):\n",
    "    print(f\"Model {i + 1} - Accuracy: {accuracy:.2f}\")"
   ]
  },
  {
   "cell_type": "markdown",
   "id": "b89d7f5b-e20a-46d5-a0ae-e65f08246042",
   "metadata": {},
   "source": [
    "svm models"
   ]
  },
  {
   "cell_type": "code",
   "execution_count": 46,
   "id": "9ffab72b-4d15-4be6-bb73-35b91c67b5e5",
   "metadata": {},
   "outputs": [
    {
     "name": "stdout",
     "output_type": "stream",
     "text": [
      "SVM Model 1 - Parameters: {'C': 0.1, 'break_ties': False, 'cache_size': 200, 'class_weight': None, 'coef0': 0.0, 'decision_function_shape': 'ovr', 'degree': 3, 'gamma': 'scale', 'kernel': 'rbf', 'max_iter': -1, 'probability': False, 'random_state': 42, 'shrinking': True, 'tol': 0.001, 'verbose': False} - Accuracy: 0.64\n",
      "SVM Model 2 - Parameters: {'C': 1.0, 'break_ties': False, 'cache_size': 200, 'class_weight': None, 'coef0': 0.0, 'decision_function_shape': 'ovr', 'degree': 3, 'gamma': 'scale', 'kernel': 'rbf', 'max_iter': -1, 'probability': False, 'random_state': 42, 'shrinking': True, 'tol': 0.001, 'verbose': False} - Accuracy: 0.71\n",
      "SVM Model 3 - Parameters: {'C': 0.01, 'break_ties': False, 'cache_size': 200, 'class_weight': None, 'coef0': 0.0, 'decision_function_shape': 'ovr', 'degree': 3, 'gamma': 'scale', 'kernel': 'rbf', 'max_iter': -1, 'probability': False, 'random_state': 42, 'shrinking': True, 'tol': 0.001, 'verbose': False} - Accuracy: 0.61\n",
      "SVM Model 4 - Parameters: {'C': 0.1, 'break_ties': False, 'cache_size': 200, 'class_weight': None, 'coef0': 0.0, 'decision_function_shape': 'ovr', 'degree': 3, 'gamma': 0.1, 'kernel': 'rbf', 'max_iter': -1, 'probability': False, 'random_state': 42, 'shrinking': True, 'tol': 0.001, 'verbose': False} - Accuracy: 0.70\n",
      "SVM Model 5 - Parameters: {'C': 0.1, 'break_ties': False, 'cache_size': 200, 'class_weight': None, 'coef0': 0.0, 'decision_function_shape': 'ovr', 'degree': 3, 'gamma': 0.01, 'kernel': 'rbf', 'max_iter': -1, 'probability': False, 'random_state': 42, 'shrinking': True, 'tol': 0.001, 'verbose': False} - Accuracy: 0.65\n",
      "SVM Model 6 - Parameters: {'C': 0.1, 'break_ties': False, 'cache_size': 200, 'class_weight': None, 'coef0': 0.0, 'decision_function_shape': 'ovr', 'degree': 3, 'gamma': 0.01, 'kernel': 'rbf', 'max_iter': -1, 'probability': False, 'random_state': 42, 'shrinking': True, 'tol': 0.001, 'verbose': False} - Accuracy: 0.65\n",
      "SVM Model 7 - Parameters: {'C': 1.0, 'break_ties': False, 'cache_size': 200, 'class_weight': None, 'coef0': 0.0, 'decision_function_shape': 'ovr', 'degree': 3, 'gamma': 0.1, 'kernel': 'rbf', 'max_iter': -1, 'probability': False, 'random_state': 42, 'shrinking': True, 'tol': 0.001, 'verbose': False} - Accuracy: 0.72\n",
      "SVM Model 8 - Parameters: {'C': 1.0, 'break_ties': False, 'cache_size': 200, 'class_weight': None, 'coef0': 0.0, 'decision_function_shape': 'ovr', 'degree': 3, 'gamma': 0.01, 'kernel': 'rbf', 'max_iter': -1, 'probability': False, 'random_state': 42, 'shrinking': True, 'tol': 0.001, 'verbose': False} - Accuracy: 0.71\n",
      "SVM Model 9 - Parameters: {'C': 1.0, 'break_ties': False, 'cache_size': 200, 'class_weight': None, 'coef0': 0.0, 'decision_function_shape': 'ovr', 'degree': 3, 'gamma': 0.001, 'kernel': 'rbf', 'max_iter': -1, 'probability': False, 'random_state': 42, 'shrinking': True, 'tol': 0.001, 'verbose': False} - Accuracy: 0.65\n",
      "SVM Model 10 - Parameters: {'C': 10.0, 'break_ties': False, 'cache_size': 200, 'class_weight': None, 'coef0': 0.0, 'decision_function_shape': 'ovr', 'degree': 3, 'gamma': 0.1, 'kernel': 'rbf', 'max_iter': -1, 'probability': False, 'random_state': 42, 'shrinking': True, 'tol': 0.001, 'verbose': False} - Accuracy: 0.69\n",
      "SVM Model 11 - Parameters: {'C': 10.0, 'break_ties': False, 'cache_size': 200, 'class_weight': None, 'coef0': 0.0, 'decision_function_shape': 'ovr', 'degree': 3, 'gamma': 0.01, 'kernel': 'rbf', 'max_iter': -1, 'probability': False, 'random_state': 42, 'shrinking': True, 'tol': 0.001, 'verbose': False} - Accuracy: 0.71\n"
     ]
    }
   ],
   "source": [
    "from sklearn.svm import SVC\n",
    "from sklearn.model_selection import train_test_split\n",
    "from sklearn.metrics import accuracy_score\n",
    "\n",
    "# Prepare features and target variables\n",
    "X = house_data.drop(columns=['price_by_area_interval'])\n",
    "y = house_data['price_by_area_interval']\n",
    "\n",
    "# Define different RBF kernel SVM parameter combinations\n",
    "rbf_svm_param_combinations = [\n",
    "    {'C': 0.1, 'kernel': 'rbf', 'gamma': 'scale', 'random_state': 42},\n",
    "    {'C': 1.0, 'kernel': 'rbf', 'gamma': 'scale', 'random_state': 42},\n",
    "    {'C': 0.01, 'kernel': 'rbf', 'gamma': 'scale', 'random_state': 42},\n",
    "    \n",
    "    {'C': 0.1, 'kernel': 'rbf', 'gamma': 0.1, 'random_state': 42},\n",
    "    {'C': 0.1, 'kernel': 'rbf', 'gamma': 0.01, 'random_state': 42},\n",
    "    {'C': 0.1, 'kernel': 'rbf', 'gamma': 0.01, 'random_state': 42},\n",
    "    \n",
    "    {'C': 1.0, 'kernel': 'rbf', 'gamma': 0.1, 'random_state': 42},\n",
    "    {'C': 1.0, 'kernel': 'rbf', 'gamma': 0.01, 'random_state': 42},\n",
    "    {'C': 1.0, 'kernel': 'rbf', 'gamma': 0.001, 'random_state': 42},\n",
    "\n",
    "    {'C': 10.0, 'kernel': 'rbf', 'gamma': 0.1, 'random_state': 42},\n",
    "    {'C': 10.0, 'kernel': 'rbf', 'gamma': 0.01, 'random_state': 42}\n",
    "]\n",
    "\n",
    "#Train and evaluate different RBF kernel SVM models\n",
    "svm_models = []\n",
    "for params in rbf_svm_param_combinations:\n",
    "     model = SVC(**params)\n",
    "     X_train, X_test, y_train, y_test = train_test_split(X, y, test_size=0.2, random_state=42)\n",
    "     model.fit(X_train, y_train)\n",
    "     y_pred = model.predict(X_test)\n",
    "     accuracy = accuracy_score(y_test, y_pred)\n",
    "     svm_models.append((model, accuracy))\n",
    "\n",
    "#Print the accuracy of the SVM model\n",
    "for i, (model, accuracy) in enumerate(svm_models):\n",
    "     print(f\"SVM Model {i + 1} - Parameters: {model.get_params()} - Accuracy: {accuracy:.2f}\")"
   ]
  },
  {
   "cell_type": "markdown",
   "id": "b53e6c01-f9a5-4d22-8f29-816623ab8298",
   "metadata": {},
   "source": [
    "ANN Models"
   ]
  },
  {
   "cell_type": "code",
   "execution_count": 47,
   "id": "59d3c12e-31f0-4de3-b50a-0efa879acd0f",
   "metadata": {},
   "outputs": [
    {
     "name": "stdout",
     "output_type": "stream",
     "text": [
      "Epoch 1/20\n",
      "81/81 [==============================] - 1s 6ms/step - loss: 1.3322 - accuracy: 0.4556 - val_loss: 0.8942 - val_accuracy: 0.6111\n",
      "Epoch 2/20\n",
      "81/81 [==============================] - 0s 4ms/step - loss: 0.8578 - accuracy: 0.6584 - val_loss: 0.8060 - val_accuracy: 0.6651\n",
      "Epoch 3/20\n",
      "81/81 [==============================] - 0s 4ms/step - loss: 0.7594 - accuracy: 0.7052 - val_loss: 0.7722 - val_accuracy: 0.6914\n",
      "Epoch 4/20\n",
      "81/81 [==============================] - 0s 4ms/step - loss: 0.6931 - accuracy: 0.7423 - val_loss: 0.7404 - val_accuracy: 0.7006\n",
      "Epoch 5/20\n",
      "81/81 [==============================] - 0s 4ms/step - loss: 0.6272 - accuracy: 0.7720 - val_loss: 0.7379 - val_accuracy: 0.7145\n",
      "Epoch 6/20\n",
      "81/81 [==============================] - 0s 4ms/step - loss: 0.5553 - accuracy: 0.8145 - val_loss: 0.7549 - val_accuracy: 0.6929\n",
      "Epoch 7/20\n",
      "81/81 [==============================] - 0s 4ms/step - loss: 0.4845 - accuracy: 0.8458 - val_loss: 0.7516 - val_accuracy: 0.6991\n",
      "Epoch 8/20\n",
      "81/81 [==============================] - 0s 5ms/step - loss: 0.4227 - accuracy: 0.8698 - val_loss: 0.7778 - val_accuracy: 0.7006\n",
      "Epoch 9/20\n",
      "81/81 [==============================] - 0s 4ms/step - loss: 0.3707 - accuracy: 0.8821 - val_loss: 0.8426 - val_accuracy: 0.6497\n",
      "Epoch 10/20\n",
      "81/81 [==============================] - 0s 4ms/step - loss: 0.3303 - accuracy: 0.8972 - val_loss: 0.8464 - val_accuracy: 0.6852\n",
      "Epoch 11/20\n",
      "81/81 [==============================] - 0s 4ms/step - loss: 0.2879 - accuracy: 0.9057 - val_loss: 0.9072 - val_accuracy: 0.6698\n",
      "Epoch 12/20\n",
      "81/81 [==============================] - 0s 4ms/step - loss: 0.2604 - accuracy: 0.9154 - val_loss: 0.9296 - val_accuracy: 0.6775\n",
      "Epoch 13/20\n",
      "81/81 [==============================] - 0s 4ms/step - loss: 0.2441 - accuracy: 0.9231 - val_loss: 1.0374 - val_accuracy: 0.6157\n",
      "Epoch 14/20\n",
      "81/81 [==============================] - 0s 4ms/step - loss: 0.2200 - accuracy: 0.9285 - val_loss: 0.9943 - val_accuracy: 0.6790\n",
      "Epoch 15/20\n",
      "81/81 [==============================] - 0s 4ms/step - loss: 0.2026 - accuracy: 0.9339 - val_loss: 1.0313 - val_accuracy: 0.6759\n",
      "Epoch 16/20\n",
      "81/81 [==============================] - 0s 4ms/step - loss: 0.1871 - accuracy: 0.9382 - val_loss: 1.0750 - val_accuracy: 0.6559\n",
      "Epoch 17/20\n",
      "81/81 [==============================] - 0s 4ms/step - loss: 0.1738 - accuracy: 0.9420 - val_loss: 1.0970 - val_accuracy: 0.6528\n",
      "Epoch 18/20\n",
      "81/81 [==============================] - 0s 4ms/step - loss: 0.1698 - accuracy: 0.9413 - val_loss: 1.1225 - val_accuracy: 0.6574\n",
      "Epoch 19/20\n",
      "81/81 [==============================] - 0s 4ms/step - loss: 0.1508 - accuracy: 0.9490 - val_loss: 1.1631 - val_accuracy: 0.6605\n",
      "Epoch 20/20\n",
      "81/81 [==============================] - 0s 4ms/step - loss: 0.1343 - accuracy: 0.9571 - val_loss: 1.2135 - val_accuracy: 0.6389\n",
      "26/26 [==============================] - 0s 2ms/step\n",
      "Epoch 1/20\n",
      "81/81 [==============================] - 1s 8ms/step - loss: 1.1129 - accuracy: 0.5750 - val_loss: 0.8435 - val_accuracy: 0.6620\n",
      "Epoch 2/20\n",
      "81/81 [==============================] - 1s 7ms/step - loss: 0.7953 - accuracy: 0.6812 - val_loss: 0.7601 - val_accuracy: 0.6775\n",
      "Epoch 3/20\n",
      "81/81 [==============================] - 1s 6ms/step - loss: 0.7017 - accuracy: 0.7318 - val_loss: 0.7246 - val_accuracy: 0.7068\n",
      "Epoch 4/20\n",
      "81/81 [==============================] - 1s 6ms/step - loss: 0.6206 - accuracy: 0.7732 - val_loss: 0.7213 - val_accuracy: 0.7068\n",
      "Epoch 5/20\n",
      "81/81 [==============================] - 1s 7ms/step - loss: 0.5282 - accuracy: 0.8203 - val_loss: 0.7525 - val_accuracy: 0.6883\n",
      "Epoch 6/20\n",
      "81/81 [==============================] - 1s 8ms/step - loss: 0.4304 - accuracy: 0.8628 - val_loss: 0.7932 - val_accuracy: 0.6728\n",
      "Epoch 7/20\n",
      "81/81 [==============================] - 1s 8ms/step - loss: 0.3772 - accuracy: 0.8783 - val_loss: 0.8289 - val_accuracy: 0.6744\n",
      "Epoch 8/20\n",
      "81/81 [==============================] - 1s 8ms/step - loss: 0.3063 - accuracy: 0.8964 - val_loss: 0.9002 - val_accuracy: 0.6528\n",
      "Epoch 9/20\n",
      "81/81 [==============================] - 1s 7ms/step - loss: 0.2621 - accuracy: 0.9127 - val_loss: 0.9474 - val_accuracy: 0.6466\n",
      "Epoch 10/20\n",
      "81/81 [==============================] - 1s 7ms/step - loss: 0.2213 - accuracy: 0.9204 - val_loss: 1.0119 - val_accuracy: 0.6466\n",
      "Epoch 11/20\n",
      "81/81 [==============================] - 1s 6ms/step - loss: 0.1981 - accuracy: 0.9324 - val_loss: 1.0388 - val_accuracy: 0.6528\n",
      "Epoch 12/20\n",
      "81/81 [==============================] - 1s 7ms/step - loss: 0.1719 - accuracy: 0.9389 - val_loss: 1.1205 - val_accuracy: 0.6497\n",
      "Epoch 13/20\n",
      "81/81 [==============================] - 1s 7ms/step - loss: 0.1584 - accuracy: 0.9432 - val_loss: 1.1967 - val_accuracy: 0.6373\n",
      "Epoch 14/20\n",
      "81/81 [==============================] - 1s 7ms/step - loss: 0.1557 - accuracy: 0.9428 - val_loss: 1.2035 - val_accuracy: 0.6343\n",
      "Epoch 15/20\n",
      "81/81 [==============================] - 1s 6ms/step - loss: 0.1303 - accuracy: 0.9525 - val_loss: 1.2475 - val_accuracy: 0.6451\n",
      "Epoch 16/20\n",
      "81/81 [==============================] - 1s 7ms/step - loss: 0.1219 - accuracy: 0.9548 - val_loss: 1.3188 - val_accuracy: 0.6219\n",
      "Epoch 17/20\n",
      "81/81 [==============================] - 1s 7ms/step - loss: 0.1086 - accuracy: 0.9571 - val_loss: 1.2930 - val_accuracy: 0.6435\n",
      "Epoch 18/20\n",
      "81/81 [==============================] - 1s 8ms/step - loss: 0.0886 - accuracy: 0.9695 - val_loss: 1.4200 - val_accuracy: 0.6019\n",
      "Epoch 19/20\n",
      "81/81 [==============================] - 1s 7ms/step - loss: 0.0863 - accuracy: 0.9710 - val_loss: 1.3881 - val_accuracy: 0.6451\n",
      "Epoch 20/20\n",
      "81/81 [==============================] - 1s 7ms/step - loss: 0.0900 - accuracy: 0.9668 - val_loss: 1.4437 - val_accuracy: 0.6188\n",
      "26/26 [==============================] - 0s 2ms/step\n",
      "Epoch 1/10\n",
      "41/41 [==============================] - 1s 11ms/step - loss: 1.2093 - accuracy: 0.4992 - val_loss: 0.9170 - val_accuracy: 0.5787\n",
      "Epoch 2/10\n",
      "41/41 [==============================] - 0s 7ms/step - loss: 0.8931 - accuracy: 0.6287 - val_loss: 0.8158 - val_accuracy: 0.6713\n",
      "Epoch 3/10\n",
      "41/41 [==============================] - 0s 7ms/step - loss: 0.7818 - accuracy: 0.6901 - val_loss: 0.7601 - val_accuracy: 0.6790\n",
      "Epoch 4/10\n",
      "41/41 [==============================] - 0s 7ms/step - loss: 0.7069 - accuracy: 0.7303 - val_loss: 0.7435 - val_accuracy: 0.6975\n",
      "Epoch 5/10\n",
      "41/41 [==============================] - 0s 8ms/step - loss: 0.6297 - accuracy: 0.7790 - val_loss: 0.7461 - val_accuracy: 0.7006\n",
      "Epoch 6/10\n",
      "41/41 [==============================] - 0s 8ms/step - loss: 0.5568 - accuracy: 0.8145 - val_loss: 0.7710 - val_accuracy: 0.6667\n",
      "Epoch 7/10\n",
      "41/41 [==============================] - 0s 7ms/step - loss: 0.4800 - accuracy: 0.8412 - val_loss: 0.7651 - val_accuracy: 0.6898\n",
      "Epoch 8/10\n",
      "41/41 [==============================] - 0s 8ms/step - loss: 0.4158 - accuracy: 0.8621 - val_loss: 0.8058 - val_accuracy: 0.6852\n",
      "Epoch 9/10\n",
      "41/41 [==============================] - 0s 7ms/step - loss: 0.3547 - accuracy: 0.8829 - val_loss: 0.8208 - val_accuracy: 0.6944\n",
      "Epoch 10/10\n",
      "41/41 [==============================] - 0s 7ms/step - loss: 0.3148 - accuracy: 0.9011 - val_loss: 0.9432 - val_accuracy: 0.6373\n",
      "26/26 [==============================] - 0s 1ms/step\n",
      "Epoch 1/30\n",
      "162/162 [==============================] - 2s 7ms/step - loss: 1.0336 - accuracy: 0.5811 - val_loss: 0.7949 - val_accuracy: 0.6559\n",
      "Epoch 2/30\n",
      "162/162 [==============================] - 1s 6ms/step - loss: 0.7740 - accuracy: 0.6955 - val_loss: 0.7358 - val_accuracy: 0.6944\n",
      "Epoch 3/30\n",
      "162/162 [==============================] - 1s 6ms/step - loss: 0.6695 - accuracy: 0.7608 - val_loss: 0.7406 - val_accuracy: 0.7006\n",
      "Epoch 4/30\n",
      "162/162 [==============================] - 1s 6ms/step - loss: 0.5581 - accuracy: 0.8033 - val_loss: 0.7494 - val_accuracy: 0.6867\n",
      "Epoch 5/30\n",
      "162/162 [==============================] - 1s 6ms/step - loss: 0.4686 - accuracy: 0.8385 - val_loss: 0.7928 - val_accuracy: 0.6898\n",
      "Epoch 6/30\n",
      "162/162 [==============================] - 1s 6ms/step - loss: 0.3824 - accuracy: 0.8702 - val_loss: 0.9523 - val_accuracy: 0.6235\n",
      "Epoch 7/30\n",
      "162/162 [==============================] - 1s 6ms/step - loss: 0.3137 - accuracy: 0.8903 - val_loss: 0.9028 - val_accuracy: 0.6728\n",
      "Epoch 8/30\n",
      "162/162 [==============================] - 1s 6ms/step - loss: 0.2559 - accuracy: 0.9146 - val_loss: 0.9730 - val_accuracy: 0.6543\n",
      "Epoch 9/30\n",
      "162/162 [==============================] - 1s 6ms/step - loss: 0.2149 - accuracy: 0.9247 - val_loss: 1.0285 - val_accuracy: 0.6528\n",
      "Epoch 10/30\n",
      "162/162 [==============================] - 1s 6ms/step - loss: 0.1875 - accuracy: 0.9328 - val_loss: 1.3177 - val_accuracy: 0.5710\n",
      "Epoch 11/30\n",
      "162/162 [==============================] - 1s 6ms/step - loss: 0.1692 - accuracy: 0.9389 - val_loss: 1.1480 - val_accuracy: 0.6806\n",
      "Epoch 12/30\n",
      "162/162 [==============================] - 1s 6ms/step - loss: 0.1447 - accuracy: 0.9474 - val_loss: 1.3587 - val_accuracy: 0.5802\n",
      "Epoch 13/30\n",
      "162/162 [==============================] - 1s 6ms/step - loss: 0.1306 - accuracy: 0.9540 - val_loss: 1.2514 - val_accuracy: 0.6389\n",
      "Epoch 14/30\n",
      "162/162 [==============================] - 1s 6ms/step - loss: 0.1266 - accuracy: 0.9544 - val_loss: 1.2749 - val_accuracy: 0.6420\n",
      "Epoch 15/30\n",
      "162/162 [==============================] - 1s 6ms/step - loss: 0.1050 - accuracy: 0.9617 - val_loss: 1.2956 - val_accuracy: 0.6605\n",
      "Epoch 16/30\n",
      "162/162 [==============================] - 1s 6ms/step - loss: 0.0872 - accuracy: 0.9710 - val_loss: 1.4449 - val_accuracy: 0.6142\n",
      "Epoch 17/30\n",
      "162/162 [==============================] - 1s 6ms/step - loss: 0.0809 - accuracy: 0.9710 - val_loss: 1.3900 - val_accuracy: 0.6574\n",
      "Epoch 18/30\n",
      "162/162 [==============================] - 1s 6ms/step - loss: 0.0759 - accuracy: 0.9718 - val_loss: 1.5319 - val_accuracy: 0.6065\n",
      "Epoch 19/30\n",
      "162/162 [==============================] - 1s 6ms/step - loss: 0.0697 - accuracy: 0.9722 - val_loss: 1.5762 - val_accuracy: 0.6358\n",
      "Epoch 20/30\n",
      "162/162 [==============================] - 1s 6ms/step - loss: 0.0621 - accuracy: 0.9795 - val_loss: 1.6689 - val_accuracy: 0.5787\n",
      "Epoch 21/30\n",
      "162/162 [==============================] - 1s 6ms/step - loss: 0.0562 - accuracy: 0.9780 - val_loss: 1.5422 - val_accuracy: 0.6512\n",
      "Epoch 22/30\n",
      "162/162 [==============================] - 1s 6ms/step - loss: 0.0501 - accuracy: 0.9822 - val_loss: 1.6343 - val_accuracy: 0.6281\n",
      "Epoch 23/30\n",
      "162/162 [==============================] - 1s 6ms/step - loss: 0.0446 - accuracy: 0.9830 - val_loss: 1.6342 - val_accuracy: 0.6404\n",
      "Epoch 24/30\n",
      "162/162 [==============================] - 1s 6ms/step - loss: 0.0454 - accuracy: 0.9842 - val_loss: 1.6164 - val_accuracy: 0.6358\n",
      "Epoch 25/30\n",
      "162/162 [==============================] - 1s 6ms/step - loss: 0.0401 - accuracy: 0.9857 - val_loss: 1.8649 - val_accuracy: 0.6034\n",
      "Epoch 26/30\n",
      "162/162 [==============================] - 1s 6ms/step - loss: 0.0373 - accuracy: 0.9861 - val_loss: 1.7547 - val_accuracy: 0.6528\n",
      "Epoch 27/30\n",
      "162/162 [==============================] - 1s 6ms/step - loss: 0.0382 - accuracy: 0.9869 - val_loss: 1.7028 - val_accuracy: 0.6481\n",
      "Epoch 28/30\n",
      "162/162 [==============================] - 1s 6ms/step - loss: 0.0339 - accuracy: 0.9888 - val_loss: 1.7492 - val_accuracy: 0.6435\n",
      "Epoch 29/30\n",
      "162/162 [==============================] - 1s 6ms/step - loss: 0.0321 - accuracy: 0.9888 - val_loss: 1.8750 - val_accuracy: 0.6034\n",
      "Epoch 30/30\n",
      "162/162 [==============================] - 1s 6ms/step - loss: 0.0289 - accuracy: 0.9903 - val_loss: 1.8480 - val_accuracy: 0.6389\n",
      "26/26 [==============================] - 0s 2ms/step\n",
      "Epoch 1/20\n",
      "81/81 [==============================] - 1s 8ms/step - loss: 1.0883 - accuracy: 0.5742 - val_loss: 0.8098 - val_accuracy: 0.6620\n",
      "Epoch 2/20\n",
      "81/81 [==============================] - 0s 6ms/step - loss: 0.7923 - accuracy: 0.6839 - val_loss: 0.7610 - val_accuracy: 0.6759\n",
      "Epoch 3/20\n",
      "81/81 [==============================] - 0s 6ms/step - loss: 0.7067 - accuracy: 0.7291 - val_loss: 0.7330 - val_accuracy: 0.6991\n",
      "Epoch 4/20\n",
      "81/81 [==============================] - 1s 6ms/step - loss: 0.6179 - accuracy: 0.7774 - val_loss: 0.7199 - val_accuracy: 0.7114\n",
      "Epoch 5/20\n",
      "81/81 [==============================] - 0s 6ms/step - loss: 0.5381 - accuracy: 0.8176 - val_loss: 0.7378 - val_accuracy: 0.6975\n",
      "Epoch 6/20\n",
      "81/81 [==============================] - 0s 6ms/step - loss: 0.4424 - accuracy: 0.8543 - val_loss: 0.8518 - val_accuracy: 0.6528\n",
      "Epoch 7/20\n",
      "81/81 [==============================] - 1s 6ms/step - loss: 0.3745 - accuracy: 0.8783 - val_loss: 0.7998 - val_accuracy: 0.7037\n",
      "Epoch 8/20\n",
      "81/81 [==============================] - 0s 6ms/step - loss: 0.3097 - accuracy: 0.8995 - val_loss: 0.8426 - val_accuracy: 0.6898\n",
      "Epoch 9/20\n",
      "81/81 [==============================] - 0s 6ms/step - loss: 0.2566 - accuracy: 0.9181 - val_loss: 0.9461 - val_accuracy: 0.6512\n",
      "Epoch 10/20\n",
      "81/81 [==============================] - 1s 7ms/step - loss: 0.2219 - accuracy: 0.9227 - val_loss: 0.9632 - val_accuracy: 0.6821\n",
      "Epoch 11/20\n",
      "81/81 [==============================] - 1s 6ms/step - loss: 0.1940 - accuracy: 0.9362 - val_loss: 1.0115 - val_accuracy: 0.6728\n",
      "Epoch 12/20\n",
      "81/81 [==============================] - 1s 6ms/step - loss: 0.1736 - accuracy: 0.9405 - val_loss: 1.0783 - val_accuracy: 0.6682\n",
      "Epoch 13/20\n",
      "81/81 [==============================] - 1s 6ms/step - loss: 0.1487 - accuracy: 0.9536 - val_loss: 1.1207 - val_accuracy: 0.6698\n",
      "Epoch 14/20\n",
      "81/81 [==============================] - 0s 6ms/step - loss: 0.1333 - accuracy: 0.9560 - val_loss: 1.1683 - val_accuracy: 0.6543\n",
      "Epoch 15/20\n",
      "81/81 [==============================] - 0s 6ms/step - loss: 0.1183 - accuracy: 0.9602 - val_loss: 1.1918 - val_accuracy: 0.6512\n",
      "Epoch 16/20\n",
      "81/81 [==============================] - 1s 6ms/step - loss: 0.1092 - accuracy: 0.9637 - val_loss: 1.2733 - val_accuracy: 0.6497\n",
      "Epoch 17/20\n",
      "81/81 [==============================] - 0s 6ms/step - loss: 0.0944 - accuracy: 0.9675 - val_loss: 1.4887 - val_accuracy: 0.6003\n",
      "Epoch 18/20\n",
      "81/81 [==============================] - 1s 7ms/step - loss: 0.0958 - accuracy: 0.9672 - val_loss: 1.3857 - val_accuracy: 0.6157\n",
      "Epoch 19/20\n",
      "81/81 [==============================] - 1s 6ms/step - loss: 0.0838 - accuracy: 0.9702 - val_loss: 1.3409 - val_accuracy: 0.6435\n",
      "Epoch 20/20\n",
      "81/81 [==============================] - 1s 6ms/step - loss: 0.0703 - accuracy: 0.9764 - val_loss: 1.4172 - val_accuracy: 0.6265\n",
      "26/26 [==============================] - 0s 2ms/step\n",
      "Epoch 1/20\n",
      "81/81 [==============================] - 1s 7ms/step - loss: 1.1035 - accuracy: 0.5781 - val_loss: 0.8292 - val_accuracy: 0.6651\n",
      "Epoch 2/20\n",
      "81/81 [==============================] - 1s 7ms/step - loss: 0.7907 - accuracy: 0.6874 - val_loss: 0.7508 - val_accuracy: 0.6914\n",
      "Epoch 3/20\n",
      "81/81 [==============================] - 0s 6ms/step - loss: 0.7012 - accuracy: 0.7384 - val_loss: 0.7312 - val_accuracy: 0.7052\n",
      "Epoch 4/20\n",
      "81/81 [==============================] - 1s 6ms/step - loss: 0.6309 - accuracy: 0.7709 - val_loss: 0.7262 - val_accuracy: 0.7083\n",
      "Epoch 5/20\n",
      "81/81 [==============================] - 1s 6ms/step - loss: 0.5433 - accuracy: 0.8153 - val_loss: 0.7405 - val_accuracy: 0.7022\n",
      "Epoch 6/20\n",
      "81/81 [==============================] - 0s 6ms/step - loss: 0.4511 - accuracy: 0.8509 - val_loss: 0.7721 - val_accuracy: 0.7130\n",
      "Epoch 7/20\n",
      "81/81 [==============================] - 0s 6ms/step - loss: 0.3875 - accuracy: 0.8744 - val_loss: 0.8478 - val_accuracy: 0.6651\n",
      "Epoch 8/20\n",
      "81/81 [==============================] - 0s 6ms/step - loss: 0.3240 - accuracy: 0.8937 - val_loss: 0.9372 - val_accuracy: 0.6528\n",
      "Epoch 9/20\n",
      "81/81 [==============================] - 0s 6ms/step - loss: 0.2863 - accuracy: 0.9034 - val_loss: 0.9160 - val_accuracy: 0.6821\n",
      "Epoch 10/20\n",
      "81/81 [==============================] - 0s 6ms/step - loss: 0.2391 - accuracy: 0.9173 - val_loss: 0.9788 - val_accuracy: 0.6775\n",
      "Epoch 11/20\n",
      "81/81 [==============================] - 1s 7ms/step - loss: 0.2185 - accuracy: 0.9192 - val_loss: 1.0285 - val_accuracy: 0.6497\n",
      "Epoch 12/20\n",
      "81/81 [==============================] - 1s 6ms/step - loss: 0.1938 - accuracy: 0.9328 - val_loss: 1.0746 - val_accuracy: 0.6605\n",
      "Epoch 13/20\n",
      "81/81 [==============================] - 0s 6ms/step - loss: 0.1782 - accuracy: 0.9320 - val_loss: 1.1228 - val_accuracy: 0.6404\n",
      "Epoch 14/20\n",
      "81/81 [==============================] - 1s 6ms/step - loss: 0.1628 - accuracy: 0.9382 - val_loss: 1.1476 - val_accuracy: 0.6574\n",
      "Epoch 15/20\n",
      "81/81 [==============================] - 0s 6ms/step - loss: 0.1417 - accuracy: 0.9474 - val_loss: 1.1942 - val_accuracy: 0.6512\n",
      "Epoch 16/20\n",
      "81/81 [==============================] - 1s 6ms/step - loss: 0.1247 - accuracy: 0.9544 - val_loss: 1.2932 - val_accuracy: 0.6389\n",
      "Epoch 17/20\n",
      "81/81 [==============================] - 1s 6ms/step - loss: 0.1242 - accuracy: 0.9509 - val_loss: 1.2657 - val_accuracy: 0.6636\n",
      "Epoch 18/20\n",
      "81/81 [==============================] - 1s 7ms/step - loss: 0.1232 - accuracy: 0.9517 - val_loss: 1.3991 - val_accuracy: 0.6296\n",
      "Epoch 19/20\n",
      "81/81 [==============================] - 1s 6ms/step - loss: 0.1018 - accuracy: 0.9629 - val_loss: 1.4874 - val_accuracy: 0.5988\n",
      "Epoch 20/20\n",
      "81/81 [==============================] - 1s 7ms/step - loss: 0.0999 - accuracy: 0.9610 - val_loss: 1.3644 - val_accuracy: 0.6559\n",
      "26/26 [==============================] - 0s 2ms/step\n",
      "    Model Name                                         Parameters  Accuracy\n",
      "0  ann_model_1  {'hidden_layer_1': 64, 'hidden_layer_2': 32, '...  0.614815\n",
      "1  ann_model_2  {'hidden_layer_1': 128, 'hidden_layer_2': 64, ...  0.604938\n",
      "2  ann_model_3  {'hidden_layer_1': 128, 'hidden_layer_2': 64, ...  0.614815\n",
      "3  ann_model_4  {'hidden_layer_1': 128, 'hidden_layer_2': 64, ...  0.613580\n",
      "4  ann_model_5  {'hidden_layer_1': 128, 'hidden_layer_2': 64, ...  0.611111\n",
      "5  ann_model_6  {'hidden_layer_1': 128, 'hidden_layer_2': 64, ...  0.622222\n"
     ]
    }
   ],
   "source": [
    "import pandas as pd\n",
    "import numpy as np\n",
    "from sklearn.model_selection import train_test_split\n",
    "from tensorflow import keras\n",
    "from tensorflow.keras import layers\n",
    "from tensorflow.keras.utils import to_categorical\n",
    "from sklearn.metrics import accuracy_score\n",
    "\n",
    "# Define feature variables (X) and target variables (y)\n",
    "X = house_data.drop(columns=['price_by_area_interval'])\n",
    "y = house_data['price_by_area_interval']\n",
    "\n",
    "# Encode multi-category target variables into integer labels\n",
    "label_mapping = {label: idx for idx, label in enumerate(y.unique())}\n",
    "y_encoded = y.map(label_mapping)\n",
    "\n",
    "# Divide the data set into training set and test set\n",
    "X_train, X_test, y_train, y_test = train_test_split(X, y_encoded, test_size=0.2, random_state=42)\n",
    "\n",
    "# Convert integer labels to one-hot encoding\n",
    "y_train_one_hot = to_categorical(y_train)\n",
    "y_test_one_hot = to_categorical(y_test)\n",
    "\n",
    "# Parameter combinations for ANN\n",
    "param_combinations = [\n",
    "    {'hidden_layer_1': 64, 'hidden_layer_2': 32, 'hidden_layer_3': 16, 'epochs': 20, 'batch_size': 32},\n",
    "    {'hidden_layer_1': 128, 'hidden_layer_2': 64, 'hidden_layer_3': 32, 'epochs': 20, 'batch_size': 32},\n",
    "    {'hidden_layer_1': 128, 'hidden_layer_2': 64, 'epochs': 10, 'batch_size': 64},\n",
    "    {'hidden_layer_1': 128, 'hidden_layer_2': 64, 'epochs': 30, 'batch_size': 16},\n",
    "    {'hidden_layer_1': 128, 'hidden_layer_2': 64, 'epochs': 20, 'batch_size': 32, 'optimizer': 'adam', 'learning_rate': 0.001},\n",
    "    {'hidden_layer_1': 128, 'hidden_layer_2': 64, 'epochs': 20, 'batch_size': 32, 'optimizer': 'sgd', 'learning_rate': 0.01}\n",
    "]\n",
    "\n",
    "# Create a DataFrame to store model results\n",
    "results_df = pd.DataFrame(columns=['Model Name', 'Parameters', 'Accuracy'])\n",
    "\n",
    "# Create and train multiple ANN models\n",
    "for i, params in enumerate(param_combinations):\n",
    "    model_name = f\"ann_model_{i+1}\"\n",
    "    model = keras.Sequential()\n",
    "    model.add(layers.Input(shape=(X_train.shape[1],)))\n",
    "    model.add(layers.Dense(params['hidden_layer_1'], activation='relu'))\n",
    "    model.add(layers.Dense(params['hidden_layer_2'], activation='relu'))\n",
    "    model.add(layers.Dense(len(label_mapping), activation='softmax'))\n",
    "    \n",
    "    model.compile(optimizer='adam', loss='categorical_crossentropy', metrics=['accuracy'])\n",
    "    \n",
    "    model.fit(X_train, y_train_one_hot, epochs=params['epochs'], batch_size=params['batch_size'], validation_split=0.2)\n",
    "    \n",
    "    y_pred_one_hot = model.predict(X_test)\n",
    "    y_pred = np.argmax(y_pred_one_hot, axis=1)\n",
    "    \n",
    "    accuracy = accuracy_score(y_test, y_pred)\n",
    "    \n",
    "    # Append results to DataFrame\n",
    "    results_df = results_df.append({\n",
    "        'Model Name': model_name,\n",
    "        'Parameters': params,\n",
    "        'Accuracy': accuracy\n",
    "    }, ignore_index=True)\n",
    "\n",
    "# Output results\n",
    "print(results_df)"
   ]
  },
  {
   "cell_type": "markdown",
   "id": "3afb748f-8e14-4f0d-8094-68958bf16097",
   "metadata": {},
   "source": [
    "Naive Bayesracy: {accuracy:.2f}\")\r\n"
   ]
  },
  {
   "cell_type": "code",
   "execution_count": 48,
   "id": "59d548c2-c50a-4593-9de1-4f67cb339060",
   "metadata": {},
   "outputs": [
    {
     "name": "stdout",
     "output_type": "stream",
     "text": [
      "Accuracy: 0.64\n"
     ]
    }
   ],
   "source": [
    "import pandas as pd\n",
    "from sklearn.model_selection import train_test_split\n",
    "from sklearn.naive_bayes import MultinomialNB\n",
    "from sklearn.metrics import accuracy_score\n",
    "\n",
    "# Define feature variables (X) and target variables (y)\n",
    "X = house_data.drop(columns=['price_by_area_interval'])\n",
    "y = house_data['price_by_area_interval']\n",
    "\n",
    "# Divide the data set into training set and test set\n",
    "X_train, X_test, y_train, y_test = train_test_split(X, y, test_size=0.2, random_state=42)\n",
    "\n",
    "# Create and train a Multinomial Naive Bayes classifier\n",
    "naive_bayes_model = MultinomialNB()\n",
    "naive_bayes_model.fit(X_train, y_train)\n",
    "\n",
    "# Predict on the test set\n",
    "y_pred = naive_bayes_model.predict(X_test)\n",
    "\n",
    "# Calculate accuracy\n",
    "accuracy = accuracy_score(y_test, y_pred)\n",
    "\n",
    "# Output accuracy\n",
    "print(f\"Accuracy: {accuracy:.2f}\")"
   ]
  },
  {
   "cell_type": "code",
   "execution_count": 49,
   "id": "9f3ee531-8b2b-4ac1-8274-b446be08c4bf",
   "metadata": {},
   "outputs": [
    {
     "name": "stdout",
     "output_type": "stream",
     "text": [
      "Accuracy: 0.30\n"
     ]
    }
   ],
   "source": [
    "import pandas as pd\n",
    "from sklearn.model_selection import train_test_split\n",
    "from sklearn.naive_bayes import GaussianNB\n",
    "from sklearn.metrics import accuracy_score\n",
    "\n",
    "# Define feature variables (X) and target variables (y)\n",
    "X = house_data.drop(columns=['price_by_area_interval'])\n",
    "y = house_data['price_by_area_interval']\n",
    "\n",
    "# Divide the data set into training set and test set\n",
    "X_train, X_test, y_train, y_test = train_test_split(X, y, test_size=0.2, random_state=42)\n",
    "\n",
    "# Create and train a Gaussian Naive Bayes classifier\n",
    "naive_bayes_model = GaussianNB()\n",
    "naive_bayes_model.fit(X_train, y_train)\n",
    "\n",
    "# Predict on the test set\n",
    "y_pred = naive_bayes_model.predict(X_test)\n",
    "\n",
    "# Calculate accuracy\n",
    "accuracy = accuracy_score(y_test, y_pred)\n",
    "\n",
    "# Output accuracy\n",
    "print(f\"Accuracy: {accuracy:.2f}\")"
   ]
  },
  {
   "cell_type": "markdown",
   "id": "99039af1-13df-497d-8b53-da673777289c",
   "metadata": {},
   "source": [
    "### unit data"
   ]
  },
  {
   "cell_type": "markdown",
   "id": "20833b73-0abc-4da1-a309-578cd19bbcd1",
   "metadata": {},
   "source": [
    "random forest"
   ]
  },
  {
   "cell_type": "code",
   "execution_count": 50,
   "id": "8682b30b-9021-4390-9a58-f356d1769621",
   "metadata": {},
   "outputs": [
    {
     "name": "stdout",
     "output_type": "stream",
     "text": [
      "Model 1 - Accuracy: 0.86\n",
      "Model 2 - Accuracy: 0.86\n",
      "Model 3 - Accuracy: 0.86\n",
      "Model 4 - Accuracy: 0.86\n",
      "Model 5 - Accuracy: 0.86\n",
      "Model 6 - Accuracy: 0.86\n",
      "Model 7 - Accuracy: 0.86\n",
      "Model 8 - Accuracy: 0.86\n",
      "Model 9 - Accuracy: 0.86\n",
      "Model 10 - Accuracy: 0.86\n",
      "Model 11 - Accuracy: 0.86\n",
      "Model 12 - Accuracy: 0.86\n",
      "Model 13 - Accuracy: 0.86\n",
      "Model 14 - Accuracy: 0.87\n"
     ]
    }
   ],
   "source": [
    "from sklearn.ensemble import RandomForestClassifier\n",
    "from sklearn.model_selection import train_test_split\n",
    "from sklearn.metrics import accuracy_score\n",
    "\n",
    "X = unit_data.drop(columns=['price_by_area_interval'])\n",
    "y = unit_data['price_by_area_interval']\n",
    "\n",
    "params_combinations = [\n",
    "    {'n_estimators': 100, 'max_depth': 10, 'random_state': 42},\n",
    "    \n",
    "    {'n_estimators': 200, 'max_depth': 10,'min_samples_split': 2,  'random_state': 42},\n",
    "    {'n_estimators': 300, 'max_depth': 10, 'min_samples_split': 2, 'random_state': 42},\n",
    "    {'n_estimators': 400, 'max_depth': 10, 'min_samples_split': 2, 'random_state': 42},\n",
    "    {'n_estimators': 500, 'max_depth': 10, 'min_samples_split': 2, 'random_state': 42},\n",
    "\n",
    "    {'n_estimators': 100, 'max_depth': 20, 'min_samples_split': 4, 'random_state': 42},\n",
    "    {'n_estimators': 100, 'max_depth': 30, 'min_samples_split': 4, 'random_state': 42},\n",
    "    {'n_estimators': 100, 'max_depth': 40, 'min_samples_split': 4, 'random_state': 42},\n",
    "    {'n_estimators': 100, 'max_depth': 50, 'min_samples_split': 4, 'random_state': 42},\n",
    "\n",
    "    {'n_estimators': 200, 'max_depth': 20, 'min_samples_split': 4, 'random_state': 42},\n",
    "    {'n_estimators': 300, 'max_depth': 30, 'min_samples_split': 4, 'random_state': 42},\n",
    "    {'n_estimators': 400, 'max_depth': 40, 'min_samples_split': 4, 'random_state': 42},\n",
    "\n",
    "    {'n_estimators': 500, 'max_depth': 50, 'min_samples_split': 6, 'random_state': 42},\n",
    "    {'n_estimators': 1000, 'max_depth': 100, 'min_samples_split': 6, 'random_state': 42},\n",
    "]\n",
    "\n",
    "models = []\n",
    "for params in params_combinations:\n",
    "    model = RandomForestClassifier(**params)\n",
    "    X_train, X_test, y_train, y_test = train_test_split(X, y, test_size=0.2, random_state=42)\n",
    "    model.fit(X_train, y_train)\n",
    "    y_pred = model.predict(X_test)\n",
    "    accuracy = accuracy_score(y_test, y_pred)\n",
    "    models.append((model, accuracy))\n",
    "\n",
    "for i, (model, accuracy) in enumerate(models):\n",
    "    print(f\"Model {i + 1} - Accuracy: {accuracy:.2f}\")"
   ]
  },
  {
   "cell_type": "markdown",
   "id": "e67289f5-218e-4fa8-a846-3c6cb0593de3",
   "metadata": {},
   "source": [
    "SVM"
   ]
  },
  {
   "cell_type": "code",
   "execution_count": 51,
   "id": "aa4480e6-a122-478c-845f-58f5263ad292",
   "metadata": {},
   "outputs": [
    {
     "name": "stdout",
     "output_type": "stream",
     "text": [
      "SVM Model 1 - Parameters: {'C': 0.1, 'break_ties': False, 'cache_size': 200, 'class_weight': None, 'coef0': 0.0, 'decision_function_shape': 'ovr', 'degree': 3, 'gamma': 'scale', 'kernel': 'rbf', 'max_iter': -1, 'probability': False, 'random_state': 42, 'shrinking': True, 'tol': 0.001, 'verbose': False} - Accuracy: 0.86\n",
      "SVM Model 2 - Parameters: {'C': 1.0, 'break_ties': False, 'cache_size': 200, 'class_weight': None, 'coef0': 0.0, 'decision_function_shape': 'ovr', 'degree': 3, 'gamma': 'scale', 'kernel': 'rbf', 'max_iter': -1, 'probability': False, 'random_state': 42, 'shrinking': True, 'tol': 0.001, 'verbose': False} - Accuracy: 0.85\n",
      "SVM Model 3 - Parameters: {'C': 0.01, 'break_ties': False, 'cache_size': 200, 'class_weight': None, 'coef0': 0.0, 'decision_function_shape': 'ovr', 'degree': 3, 'gamma': 'scale', 'kernel': 'rbf', 'max_iter': -1, 'probability': False, 'random_state': 42, 'shrinking': True, 'tol': 0.001, 'verbose': False} - Accuracy: 0.86\n",
      "SVM Model 4 - Parameters: {'C': 0.1, 'break_ties': False, 'cache_size': 200, 'class_weight': None, 'coef0': 0.0, 'decision_function_shape': 'ovr', 'degree': 3, 'gamma': 0.1, 'kernel': 'rbf', 'max_iter': -1, 'probability': False, 'random_state': 42, 'shrinking': True, 'tol': 0.001, 'verbose': False} - Accuracy: 0.86\n",
      "SVM Model 5 - Parameters: {'C': 0.1, 'break_ties': False, 'cache_size': 200, 'class_weight': None, 'coef0': 0.0, 'decision_function_shape': 'ovr', 'degree': 3, 'gamma': 0.01, 'kernel': 'rbf', 'max_iter': -1, 'probability': False, 'random_state': 42, 'shrinking': True, 'tol': 0.001, 'verbose': False} - Accuracy: 0.86\n",
      "SVM Model 6 - Parameters: {'C': 0.1, 'break_ties': False, 'cache_size': 200, 'class_weight': None, 'coef0': 0.0, 'decision_function_shape': 'ovr', 'degree': 3, 'gamma': 0.01, 'kernel': 'rbf', 'max_iter': -1, 'probability': False, 'random_state': 42, 'shrinking': True, 'tol': 0.001, 'verbose': False} - Accuracy: 0.86\n",
      "SVM Model 7 - Parameters: {'C': 1.0, 'break_ties': False, 'cache_size': 200, 'class_weight': None, 'coef0': 0.0, 'decision_function_shape': 'ovr', 'degree': 3, 'gamma': 0.1, 'kernel': 'rbf', 'max_iter': -1, 'probability': False, 'random_state': 42, 'shrinking': True, 'tol': 0.001, 'verbose': False} - Accuracy: 0.85\n",
      "SVM Model 8 - Parameters: {'C': 1.0, 'break_ties': False, 'cache_size': 200, 'class_weight': None, 'coef0': 0.0, 'decision_function_shape': 'ovr', 'degree': 3, 'gamma': 0.01, 'kernel': 'rbf', 'max_iter': -1, 'probability': False, 'random_state': 42, 'shrinking': True, 'tol': 0.001, 'verbose': False} - Accuracy: 0.85\n",
      "SVM Model 9 - Parameters: {'C': 1.0, 'break_ties': False, 'cache_size': 200, 'class_weight': None, 'coef0': 0.0, 'decision_function_shape': 'ovr', 'degree': 3, 'gamma': 0.001, 'kernel': 'rbf', 'max_iter': -1, 'probability': False, 'random_state': 42, 'shrinking': True, 'tol': 0.001, 'verbose': False} - Accuracy: 0.86\n",
      "SVM Model 10 - Parameters: {'C': 10.0, 'break_ties': False, 'cache_size': 200, 'class_weight': None, 'coef0': 0.0, 'decision_function_shape': 'ovr', 'degree': 3, 'gamma': 0.1, 'kernel': 'rbf', 'max_iter': -1, 'probability': False, 'random_state': 42, 'shrinking': True, 'tol': 0.001, 'verbose': False} - Accuracy: 0.84\n",
      "SVM Model 11 - Parameters: {'C': 10.0, 'break_ties': False, 'cache_size': 200, 'class_weight': None, 'coef0': 0.0, 'decision_function_shape': 'ovr', 'degree': 3, 'gamma': 0.01, 'kernel': 'rbf', 'max_iter': -1, 'probability': False, 'random_state': 42, 'shrinking': True, 'tol': 0.001, 'verbose': False} - Accuracy: 0.86\n"
     ]
    }
   ],
   "source": [
    "from sklearn.svm import SVC\n",
    "from sklearn.model_selection import train_test_split\n",
    "from sklearn.metrics import accuracy_score\n",
    "\n",
    "# Prepare features and target variables\n",
    "X = unit_data.drop(columns=['price_by_area_interval'])\n",
    "y = unit_data['price_by_area_interval']\n",
    "\n",
    "# Define different RBF kernel SVM parameter combinations\n",
    "rbf_svm_param_combinations = [\n",
    "    {'C': 0.1, 'kernel': 'rbf', 'gamma': 'scale', 'random_state': 42},\n",
    "    {'C': 1.0, 'kernel': 'rbf', 'gamma': 'scale', 'random_state': 42},\n",
    "    {'C': 0.01, 'kernel': 'rbf', 'gamma': 'scale', 'random_state': 42},\n",
    "    \n",
    "    {'C': 0.1, 'kernel': 'rbf', 'gamma': 0.1, 'random_state': 42},\n",
    "    {'C': 0.1, 'kernel': 'rbf', 'gamma': 0.01, 'random_state': 42},\n",
    "    {'C': 0.1, 'kernel': 'rbf', 'gamma': 0.01, 'random_state': 42},\n",
    "    \n",
    "    {'C': 1.0, 'kernel': 'rbf', 'gamma': 0.1, 'random_state': 42},\n",
    "    {'C': 1.0, 'kernel': 'rbf', 'gamma': 0.01, 'random_state': 42},\n",
    "    {'C': 1.0, 'kernel': 'rbf', 'gamma': 0.001, 'random_state': 42},\n",
    "\n",
    "    {'C': 10.0, 'kernel': 'rbf', 'gamma': 0.1, 'random_state': 42},\n",
    "    {'C': 10.0, 'kernel': 'rbf', 'gamma': 0.01, 'random_state': 42}\n",
    "]\n",
    "\n",
    "# Train and evaluate different RBF kernel SVM models\n",
    "svm_models = []\n",
    "for params in rbf_svm_param_combinations:\n",
    "    model = SVC(**params)\n",
    "    X_train, X_test, y_train, y_test = train_test_split(X, y, test_size=0.2, random_state=42)\n",
    "    model.fit(X_train, y_train)\n",
    "    y_pred = model.predict(X_test)\n",
    "    accuracy = accuracy_score(y_test, y_pred)\n",
    "    svm_models.append((model, accuracy))\n",
    "\n",
    "# Print the accuracy of the SVM models\n",
    "for i, (model, accuracy) in enumerate(svm_models):\n",
    "    print(f\"SVM Model {i + 1} - Parameters: {model.get_params()} - Accuracy: {accuracy:.2f}\")"
   ]
  },
  {
   "cell_type": "markdown",
   "id": "7b25635d-1361-4124-90b7-d0769d52b877",
   "metadata": {},
   "source": [
    "ANN"
   ]
  },
  {
   "cell_type": "code",
   "execution_count": 52,
   "id": "32a30e82-b969-4677-a63f-71017b1bae27",
   "metadata": {},
   "outputs": [
    {
     "name": "stdout",
     "output_type": "stream",
     "text": [
      "Epoch 1/20\n",
      "29/29 [==============================] - 1s 11ms/step - loss: 1.1528 - accuracy: 0.5929 - val_loss: 0.6545 - val_accuracy: 0.8628\n",
      "Epoch 2/20\n",
      "29/29 [==============================] - 0s 4ms/step - loss: 0.6188 - accuracy: 0.8540 - val_loss: 0.5755 - val_accuracy: 0.8628\n",
      "Epoch 3/20\n",
      "29/29 [==============================] - 0s 4ms/step - loss: 0.5405 - accuracy: 0.8540 - val_loss: 0.5414 - val_accuracy: 0.8628\n",
      "Epoch 4/20\n",
      "29/29 [==============================] - 0s 5ms/step - loss: 0.4875 - accuracy: 0.8551 - val_loss: 0.5215 - val_accuracy: 0.8628\n",
      "Epoch 5/20\n",
      "29/29 [==============================] - 0s 4ms/step - loss: 0.4465 - accuracy: 0.8551 - val_loss: 0.5142 - val_accuracy: 0.8540\n",
      "Epoch 6/20\n",
      "29/29 [==============================] - 0s 4ms/step - loss: 0.4098 - accuracy: 0.8584 - val_loss: 0.5059 - val_accuracy: 0.8584\n",
      "Epoch 7/20\n",
      "29/29 [==============================] - 0s 3ms/step - loss: 0.3787 - accuracy: 0.8639 - val_loss: 0.5039 - val_accuracy: 0.8496\n",
      "Epoch 8/20\n",
      "29/29 [==============================] - 0s 4ms/step - loss: 0.3487 - accuracy: 0.8750 - val_loss: 0.5008 - val_accuracy: 0.8540\n",
      "Epoch 9/20\n",
      "29/29 [==============================] - 0s 4ms/step - loss: 0.3156 - accuracy: 0.8827 - val_loss: 0.4986 - val_accuracy: 0.8496\n",
      "Epoch 10/20\n",
      "29/29 [==============================] - 0s 5ms/step - loss: 0.2875 - accuracy: 0.8927 - val_loss: 0.5029 - val_accuracy: 0.8451\n",
      "Epoch 11/20\n",
      "29/29 [==============================] - 0s 3ms/step - loss: 0.2568 - accuracy: 0.9071 - val_loss: 0.5127 - val_accuracy: 0.8451\n",
      "Epoch 12/20\n",
      "29/29 [==============================] - 0s 4ms/step - loss: 0.2249 - accuracy: 0.9093 - val_loss: 0.5199 - val_accuracy: 0.8142\n",
      "Epoch 13/20\n",
      "29/29 [==============================] - 0s 4ms/step - loss: 0.1997 - accuracy: 0.9314 - val_loss: 0.5227 - val_accuracy: 0.8319\n",
      "Epoch 14/20\n",
      "29/29 [==============================] - 0s 5ms/step - loss: 0.1707 - accuracy: 0.9414 - val_loss: 0.5363 - val_accuracy: 0.8230\n",
      "Epoch 15/20\n",
      "29/29 [==============================] - 0s 3ms/step - loss: 0.1467 - accuracy: 0.9513 - val_loss: 0.5584 - val_accuracy: 0.8097\n",
      "Epoch 16/20\n",
      "29/29 [==============================] - 0s 3ms/step - loss: 0.1302 - accuracy: 0.9569 - val_loss: 0.5647 - val_accuracy: 0.8230\n",
      "Epoch 17/20\n",
      "29/29 [==============================] - 0s 4ms/step - loss: 0.1177 - accuracy: 0.9679 - val_loss: 0.5897 - val_accuracy: 0.8053\n",
      "Epoch 18/20\n",
      "29/29 [==============================] - 0s 5ms/step - loss: 0.1070 - accuracy: 0.9723 - val_loss: 0.6216 - val_accuracy: 0.7832\n",
      "Epoch 19/20\n",
      "29/29 [==============================] - 0s 4ms/step - loss: 0.0943 - accuracy: 0.9746 - val_loss: 0.6191 - val_accuracy: 0.8142\n",
      "Epoch 20/20\n",
      "29/29 [==============================] - 0s 4ms/step - loss: 0.0878 - accuracy: 0.9712 - val_loss: 0.6385 - val_accuracy: 0.8097\n",
      "9/9 [==============================] - 0s 2ms/step\n",
      "Epoch 1/20\n",
      "29/29 [==============================] - 1s 11ms/step - loss: 0.8404 - accuracy: 0.8009 - val_loss: 0.5756 - val_accuracy: 0.8628\n",
      "Epoch 2/20\n",
      "29/29 [==============================] - 0s 4ms/step - loss: 0.5526 - accuracy: 0.8540 - val_loss: 0.5222 - val_accuracy: 0.8628\n",
      "Epoch 3/20\n",
      "29/29 [==============================] - 0s 4ms/step - loss: 0.4823 - accuracy: 0.8540 - val_loss: 0.5162 - val_accuracy: 0.8628\n",
      "Epoch 4/20\n",
      "29/29 [==============================] - 0s 4ms/step - loss: 0.4406 - accuracy: 0.8540 - val_loss: 0.4988 - val_accuracy: 0.8584\n",
      "Epoch 5/20\n",
      "29/29 [==============================] - 0s 4ms/step - loss: 0.3919 - accuracy: 0.8639 - val_loss: 0.4871 - val_accuracy: 0.8496\n",
      "Epoch 6/20\n",
      "29/29 [==============================] - 0s 5ms/step - loss: 0.3457 - accuracy: 0.8717 - val_loss: 0.4820 - val_accuracy: 0.8540\n",
      "Epoch 7/20\n",
      "29/29 [==============================] - 0s 4ms/step - loss: 0.2957 - accuracy: 0.8805 - val_loss: 0.5002 - val_accuracy: 0.8584\n",
      "Epoch 8/20\n",
      "29/29 [==============================] - 0s 4ms/step - loss: 0.2486 - accuracy: 0.8993 - val_loss: 0.5057 - val_accuracy: 0.8540\n",
      "Epoch 9/20\n",
      "29/29 [==============================] - 0s 4ms/step - loss: 0.2042 - accuracy: 0.9259 - val_loss: 0.5242 - val_accuracy: 0.8186\n",
      "Epoch 10/20\n",
      "29/29 [==============================] - 0s 4ms/step - loss: 0.1673 - accuracy: 0.9425 - val_loss: 0.5595 - val_accuracy: 0.8097\n",
      "Epoch 11/20\n",
      "29/29 [==============================] - 0s 3ms/step - loss: 0.1477 - accuracy: 0.9436 - val_loss: 0.5583 - val_accuracy: 0.8186\n",
      "Epoch 12/20\n",
      "29/29 [==============================] - 0s 4ms/step - loss: 0.1150 - accuracy: 0.9624 - val_loss: 0.5844 - val_accuracy: 0.8274\n",
      "Epoch 13/20\n",
      "29/29 [==============================] - 0s 4ms/step - loss: 0.1003 - accuracy: 0.9735 - val_loss: 0.6497 - val_accuracy: 0.7832\n",
      "Epoch 14/20\n",
      "29/29 [==============================] - 0s 5ms/step - loss: 0.0918 - accuracy: 0.9746 - val_loss: 0.6412 - val_accuracy: 0.8142\n",
      "Epoch 15/20\n",
      "29/29 [==============================] - 0s 4ms/step - loss: 0.0793 - accuracy: 0.9723 - val_loss: 0.6587 - val_accuracy: 0.8274\n",
      "Epoch 16/20\n",
      "29/29 [==============================] - 0s 4ms/step - loss: 0.0674 - accuracy: 0.9812 - val_loss: 0.6876 - val_accuracy: 0.8230\n",
      "Epoch 17/20\n",
      "29/29 [==============================] - 0s 4ms/step - loss: 0.0593 - accuracy: 0.9845 - val_loss: 0.7182 - val_accuracy: 0.8274\n",
      "Epoch 18/20\n",
      "29/29 [==============================] - 0s 4ms/step - loss: 0.0592 - accuracy: 0.9823 - val_loss: 0.7441 - val_accuracy: 0.8274\n",
      "Epoch 19/20\n",
      "29/29 [==============================] - 0s 4ms/step - loss: 0.0517 - accuracy: 0.9867 - val_loss: 0.7592 - val_accuracy: 0.8142\n",
      "Epoch 20/20\n",
      "29/29 [==============================] - 0s 4ms/step - loss: 0.0536 - accuracy: 0.9834 - val_loss: 0.7725 - val_accuracy: 0.7876\n",
      "9/9 [==============================] - 0s 1ms/step\n",
      "Epoch 1/10\n",
      "15/15 [==============================] - 1s 13ms/step - loss: 0.8875 - accuracy: 0.7799 - val_loss: 0.6097 - val_accuracy: 0.8628\n",
      "Epoch 2/10\n",
      "15/15 [==============================] - 0s 4ms/step - loss: 0.6190 - accuracy: 0.8540 - val_loss: 0.5679 - val_accuracy: 0.8628\n",
      "Epoch 3/10\n",
      "15/15 [==============================] - 0s 5ms/step - loss: 0.5603 - accuracy: 0.8540 - val_loss: 0.5314 - val_accuracy: 0.8628\n",
      "Epoch 4/10\n",
      "15/15 [==============================] - 0s 5ms/step - loss: 0.5055 - accuracy: 0.8540 - val_loss: 0.5094 - val_accuracy: 0.8628\n",
      "Epoch 5/10\n",
      "15/15 [==============================] - 0s 6ms/step - loss: 0.4577 - accuracy: 0.8540 - val_loss: 0.4983 - val_accuracy: 0.8628\n",
      "Epoch 6/10\n",
      "15/15 [==============================] - 0s 5ms/step - loss: 0.4201 - accuracy: 0.8540 - val_loss: 0.4927 - val_accuracy: 0.8628\n",
      "Epoch 7/10\n",
      "15/15 [==============================] - 0s 5ms/step - loss: 0.3839 - accuracy: 0.8606 - val_loss: 0.4896 - val_accuracy: 0.8628\n",
      "Epoch 8/10\n",
      "15/15 [==============================] - 0s 5ms/step - loss: 0.3450 - accuracy: 0.8650 - val_loss: 0.4891 - val_accuracy: 0.8540\n",
      "Epoch 9/10\n",
      "15/15 [==============================] - 0s 5ms/step - loss: 0.3211 - accuracy: 0.8772 - val_loss: 0.4883 - val_accuracy: 0.8540\n",
      "Epoch 10/10\n",
      "15/15 [==============================] - 0s 5ms/step - loss: 0.2740 - accuracy: 0.8938 - val_loss: 0.4890 - val_accuracy: 0.8319\n",
      "9/9 [==============================] - 0s 2ms/step\n",
      "Epoch 1/30\n",
      "57/57 [==============================] - 1s 5ms/step - loss: 0.6720 - accuracy: 0.8308 - val_loss: 0.5340 - val_accuracy: 0.8628\n",
      "Epoch 2/30\n",
      "57/57 [==============================] - 0s 3ms/step - loss: 0.4872 - accuracy: 0.8551 - val_loss: 0.5012 - val_accuracy: 0.8628\n",
      "Epoch 3/30\n",
      "57/57 [==============================] - 0s 3ms/step - loss: 0.4234 - accuracy: 0.8584 - val_loss: 0.4805 - val_accuracy: 0.8584\n",
      "Epoch 4/30\n",
      "57/57 [==============================] - 0s 3ms/step - loss: 0.3627 - accuracy: 0.8717 - val_loss: 0.4800 - val_accuracy: 0.8496\n",
      "Epoch 5/30\n",
      "57/57 [==============================] - 0s 3ms/step - loss: 0.2993 - accuracy: 0.8894 - val_loss: 0.4782 - val_accuracy: 0.8540\n",
      "Epoch 6/30\n",
      "57/57 [==============================] - 0s 3ms/step - loss: 0.2449 - accuracy: 0.9049 - val_loss: 0.5038 - val_accuracy: 0.8673\n",
      "Epoch 7/30\n",
      "57/57 [==============================] - 0s 4ms/step - loss: 0.1895 - accuracy: 0.9303 - val_loss: 0.5155 - val_accuracy: 0.8363\n",
      "Epoch 8/30\n",
      "57/57 [==============================] - 0s 4ms/step - loss: 0.1451 - accuracy: 0.9447 - val_loss: 0.6046 - val_accuracy: 0.8673\n",
      "Epoch 9/30\n",
      "57/57 [==============================] - 0s 3ms/step - loss: 0.1209 - accuracy: 0.9580 - val_loss: 0.6020 - val_accuracy: 0.7876\n",
      "Epoch 10/30\n",
      "57/57 [==============================] - 0s 4ms/step - loss: 0.0942 - accuracy: 0.9690 - val_loss: 0.6320 - val_accuracy: 0.7876\n",
      "Epoch 11/30\n",
      "57/57 [==============================] - 0s 4ms/step - loss: 0.0832 - accuracy: 0.9768 - val_loss: 0.6930 - val_accuracy: 0.8097\n",
      "Epoch 12/30\n",
      "57/57 [==============================] - 0s 3ms/step - loss: 0.0678 - accuracy: 0.9823 - val_loss: 0.6879 - val_accuracy: 0.7876\n",
      "Epoch 13/30\n",
      "57/57 [==============================] - 0s 4ms/step - loss: 0.0681 - accuracy: 0.9757 - val_loss: 0.7040 - val_accuracy: 0.8009\n",
      "Epoch 14/30\n",
      "57/57 [==============================] - 0s 3ms/step - loss: 0.0585 - accuracy: 0.9779 - val_loss: 0.7373 - val_accuracy: 0.8230\n",
      "Epoch 15/30\n",
      "57/57 [==============================] - 0s 3ms/step - loss: 0.0476 - accuracy: 0.9845 - val_loss: 0.7749 - val_accuracy: 0.7876\n",
      "Epoch 16/30\n",
      "57/57 [==============================] - 0s 3ms/step - loss: 0.0443 - accuracy: 0.9834 - val_loss: 0.7897 - val_accuracy: 0.7876\n",
      "Epoch 17/30\n",
      "57/57 [==============================] - 0s 4ms/step - loss: 0.0375 - accuracy: 0.9889 - val_loss: 0.8093 - val_accuracy: 0.8142\n",
      "Epoch 18/30\n",
      "57/57 [==============================] - 0s 4ms/step - loss: 0.0353 - accuracy: 0.9878 - val_loss: 0.8536 - val_accuracy: 0.8451\n",
      "Epoch 19/30\n",
      "57/57 [==============================] - 0s 4ms/step - loss: 0.0302 - accuracy: 0.9923 - val_loss: 0.8616 - val_accuracy: 0.8097\n",
      "Epoch 20/30\n",
      "57/57 [==============================] - 0s 3ms/step - loss: 0.0282 - accuracy: 0.9912 - val_loss: 0.9450 - val_accuracy: 0.7566\n",
      "Epoch 21/30\n",
      "57/57 [==============================] - 0s 4ms/step - loss: 0.0274 - accuracy: 0.9923 - val_loss: 0.9533 - val_accuracy: 0.8274\n",
      "Epoch 22/30\n",
      "57/57 [==============================] - 0s 4ms/step - loss: 0.0359 - accuracy: 0.9878 - val_loss: 0.9531 - val_accuracy: 0.7611\n",
      "Epoch 23/30\n",
      "57/57 [==============================] - 0s 3ms/step - loss: 0.0321 - accuracy: 0.9867 - val_loss: 0.9679 - val_accuracy: 0.8407\n",
      "Epoch 24/30\n",
      "57/57 [==============================] - 0s 3ms/step - loss: 0.0278 - accuracy: 0.9889 - val_loss: 0.9243 - val_accuracy: 0.7876\n",
      "Epoch 25/30\n",
      "57/57 [==============================] - 0s 3ms/step - loss: 0.0219 - accuracy: 0.9912 - val_loss: 0.9790 - val_accuracy: 0.8142\n",
      "Epoch 26/30\n",
      "57/57 [==============================] - 0s 3ms/step - loss: 0.0232 - accuracy: 0.9900 - val_loss: 0.9996 - val_accuracy: 0.7788\n",
      "Epoch 27/30\n",
      "57/57 [==============================] - 0s 3ms/step - loss: 0.0233 - accuracy: 0.9923 - val_loss: 1.0754 - val_accuracy: 0.8407\n",
      "Epoch 28/30\n",
      "57/57 [==============================] - 0s 4ms/step - loss: 0.0262 - accuracy: 0.9912 - val_loss: 1.0593 - val_accuracy: 0.7965\n",
      "Epoch 29/30\n",
      "57/57 [==============================] - 0s 4ms/step - loss: 0.0176 - accuracy: 0.9934 - val_loss: 1.0319 - val_accuracy: 0.7832\n",
      "Epoch 30/30\n",
      "57/57 [==============================] - 0s 3ms/step - loss: 0.0167 - accuracy: 0.9945 - val_loss: 1.1398 - val_accuracy: 0.8584\n",
      "9/9 [==============================] - 0s 2ms/step\n",
      "Epoch 1/20\n",
      "29/29 [==============================] - 1s 8ms/step - loss: 0.8258 - accuracy: 0.7898 - val_loss: 0.5893 - val_accuracy: 0.8628\n",
      "Epoch 2/20\n",
      "29/29 [==============================] - 0s 4ms/step - loss: 0.5710 - accuracy: 0.8540 - val_loss: 0.5169 - val_accuracy: 0.8628\n",
      "Epoch 3/20\n",
      "29/29 [==============================] - 0s 4ms/step - loss: 0.4761 - accuracy: 0.8540 - val_loss: 0.5000 - val_accuracy: 0.8628\n",
      "Epoch 4/20\n",
      "29/29 [==============================] - 0s 3ms/step - loss: 0.4168 - accuracy: 0.8628 - val_loss: 0.4840 - val_accuracy: 0.8540\n",
      "Epoch 5/20\n",
      "29/29 [==============================] - 0s 4ms/step - loss: 0.3678 - accuracy: 0.8706 - val_loss: 0.4765 - val_accuracy: 0.8540\n",
      "Epoch 6/20\n",
      "29/29 [==============================] - 0s 4ms/step - loss: 0.3249 - accuracy: 0.8816 - val_loss: 0.4873 - val_accuracy: 0.8540\n",
      "Epoch 7/20\n",
      "29/29 [==============================] - 0s 4ms/step - loss: 0.2659 - accuracy: 0.8960 - val_loss: 0.4935 - val_accuracy: 0.8363\n",
      "Epoch 8/20\n",
      "29/29 [==============================] - 0s 4ms/step - loss: 0.2301 - accuracy: 0.9126 - val_loss: 0.4900 - val_accuracy: 0.8363\n",
      "Epoch 9/20\n",
      "29/29 [==============================] - 0s 4ms/step - loss: 0.1855 - accuracy: 0.9469 - val_loss: 0.5305 - val_accuracy: 0.8540\n",
      "Epoch 10/20\n",
      "29/29 [==============================] - 0s 4ms/step - loss: 0.1599 - accuracy: 0.9513 - val_loss: 0.5370 - val_accuracy: 0.8186\n",
      "Epoch 11/20\n",
      "29/29 [==============================] - 0s 4ms/step - loss: 0.1258 - accuracy: 0.9524 - val_loss: 0.5528 - val_accuracy: 0.8274\n",
      "Epoch 12/20\n",
      "29/29 [==============================] - 0s 4ms/step - loss: 0.1082 - accuracy: 0.9646 - val_loss: 0.5838 - val_accuracy: 0.8053\n",
      "Epoch 13/20\n",
      "29/29 [==============================] - 0s 4ms/step - loss: 0.0939 - accuracy: 0.9646 - val_loss: 0.6222 - val_accuracy: 0.8496\n",
      "Epoch 14/20\n",
      "29/29 [==============================] - 0s 4ms/step - loss: 0.0837 - accuracy: 0.9746 - val_loss: 0.6217 - val_accuracy: 0.8319\n",
      "Epoch 15/20\n",
      "29/29 [==============================] - 0s 5ms/step - loss: 0.0717 - accuracy: 0.9757 - val_loss: 0.6926 - val_accuracy: 0.7876\n",
      "Epoch 16/20\n",
      "29/29 [==============================] - 0s 5ms/step - loss: 0.0751 - accuracy: 0.9757 - val_loss: 0.6645 - val_accuracy: 0.8363\n",
      "Epoch 17/20\n",
      "29/29 [==============================] - 0s 5ms/step - loss: 0.0603 - accuracy: 0.9801 - val_loss: 0.6937 - val_accuracy: 0.8363\n",
      "Epoch 18/20\n",
      "29/29 [==============================] - 0s 4ms/step - loss: 0.0555 - accuracy: 0.9812 - val_loss: 0.7100 - val_accuracy: 0.8363\n",
      "Epoch 19/20\n",
      "29/29 [==============================] - 0s 4ms/step - loss: 0.0495 - accuracy: 0.9856 - val_loss: 0.7253 - val_accuracy: 0.8407\n",
      "Epoch 20/20\n",
      "29/29 [==============================] - 0s 4ms/step - loss: 0.0465 - accuracy: 0.9889 - val_loss: 0.7493 - val_accuracy: 0.8186\n",
      "9/9 [==============================] - 0s 2ms/step\n",
      "Epoch 1/20\n",
      "29/29 [==============================] - 1s 9ms/step - loss: 0.8094 - accuracy: 0.7743 - val_loss: 0.5773 - val_accuracy: 0.8628\n",
      "Epoch 2/20\n",
      "29/29 [==============================] - 0s 4ms/step - loss: 0.5546 - accuracy: 0.8540 - val_loss: 0.5195 - val_accuracy: 0.8628\n",
      "Epoch 3/20\n",
      "29/29 [==============================] - 0s 4ms/step - loss: 0.4796 - accuracy: 0.8540 - val_loss: 0.5048 - val_accuracy: 0.8673\n",
      "Epoch 4/20\n",
      "29/29 [==============================] - 0s 5ms/step - loss: 0.4268 - accuracy: 0.8584 - val_loss: 0.4958 - val_accuracy: 0.8584\n",
      "Epoch 5/20\n",
      "29/29 [==============================] - 0s 6ms/step - loss: 0.3814 - accuracy: 0.8650 - val_loss: 0.4908 - val_accuracy: 0.8496\n",
      "Epoch 6/20\n",
      "29/29 [==============================] - 0s 6ms/step - loss: 0.3404 - accuracy: 0.8850 - val_loss: 0.4814 - val_accuracy: 0.8540\n",
      "Epoch 7/20\n",
      "29/29 [==============================] - 0s 4ms/step - loss: 0.2939 - accuracy: 0.8927 - val_loss: 0.4897 - val_accuracy: 0.8540\n",
      "Epoch 8/20\n",
      "29/29 [==============================] - 0s 4ms/step - loss: 0.2598 - accuracy: 0.8993 - val_loss: 0.5105 - val_accuracy: 0.8186\n",
      "Epoch 9/20\n",
      "29/29 [==============================] - 0s 6ms/step - loss: 0.2063 - accuracy: 0.9281 - val_loss: 0.5040 - val_accuracy: 0.8496\n",
      "Epoch 10/20\n",
      "29/29 [==============================] - 0s 4ms/step - loss: 0.1710 - accuracy: 0.9392 - val_loss: 0.5305 - val_accuracy: 0.8230\n",
      "Epoch 11/20\n",
      "29/29 [==============================] - 0s 5ms/step - loss: 0.1410 - accuracy: 0.9535 - val_loss: 0.5525 - val_accuracy: 0.8274\n",
      "Epoch 12/20\n",
      "29/29 [==============================] - 0s 4ms/step - loss: 0.1180 - accuracy: 0.9613 - val_loss: 0.5784 - val_accuracy: 0.8142\n",
      "Epoch 13/20\n",
      "29/29 [==============================] - 0s 4ms/step - loss: 0.1020 - accuracy: 0.9701 - val_loss: 0.5939 - val_accuracy: 0.8319\n",
      "Epoch 14/20\n",
      "29/29 [==============================] - 0s 4ms/step - loss: 0.0892 - accuracy: 0.9735 - val_loss: 0.6177 - val_accuracy: 0.8230\n",
      "Epoch 15/20\n",
      "29/29 [==============================] - 0s 5ms/step - loss: 0.0904 - accuracy: 0.9735 - val_loss: 0.6467 - val_accuracy: 0.8186\n",
      "Epoch 16/20\n",
      "29/29 [==============================] - 0s 5ms/step - loss: 0.0689 - accuracy: 0.9801 - val_loss: 0.6788 - val_accuracy: 0.8230\n",
      "Epoch 17/20\n",
      "29/29 [==============================] - 0s 5ms/step - loss: 0.0615 - accuracy: 0.9812 - val_loss: 0.6768 - val_accuracy: 0.8097\n",
      "Epoch 18/20\n",
      "29/29 [==============================] - 0s 6ms/step - loss: 0.0550 - accuracy: 0.9845 - val_loss: 0.7095 - val_accuracy: 0.8009\n",
      "Epoch 19/20\n",
      "29/29 [==============================] - 0s 5ms/step - loss: 0.0486 - accuracy: 0.9856 - val_loss: 0.7104 - val_accuracy: 0.8142\n",
      "Epoch 20/20\n",
      "29/29 [==============================] - 0s 4ms/step - loss: 0.0475 - accuracy: 0.9889 - val_loss: 0.7623 - val_accuracy: 0.8009\n",
      "9/9 [==============================] - 0s 3ms/step\n",
      "    Model Name                                         Parameters  Accuracy\n",
      "0  ann_model_1  {'hidden_layer_1': 64, 'hidden_layer_2': 32, '...  0.805654\n",
      "1  ann_model_2  {'hidden_layer_1': 128, 'hidden_layer_2': 64, ...  0.766784\n",
      "2  ann_model_3  {'hidden_layer_1': 128, 'hidden_layer_2': 64, ...  0.833922\n",
      "3  ann_model_4  {'hidden_layer_1': 128, 'hidden_layer_2': 64, ...  0.805654\n",
      "4  ann_model_5  {'hidden_layer_1': 128, 'hidden_layer_2': 64, ...  0.795053\n",
      "5  ann_model_6  {'hidden_layer_1': 128, 'hidden_layer_2': 64, ...  0.780919\n"
     ]
    }
   ],
   "source": [
    "import pandas as pd\n",
    "import numpy as np\n",
    "from sklearn.model_selection import train_test_split\n",
    "from tensorflow import keras\n",
    "from tensorflow.keras import layers\n",
    "from tensorflow.keras.utils import to_categorical\n",
    "from sklearn.metrics import accuracy_score\n",
    "\n",
    "# Define feature variables (X) and target variables (y)\n",
    "X = unit_data.drop(columns=['price_by_area_interval'])\n",
    "y = unit_data['price_by_area_interval']\n",
    "\n",
    "# Encode multi-category target variables into integer labels\n",
    "label_mapping = {label: idx for idx, label in enumerate(y.unique())}\n",
    "y_encoded = y.map(label_mapping)\n",
    "\n",
    "# Divide the data set into training set and test set\n",
    "X_train, X_test, y_train, y_test = train_test_split(X, y_encoded, test_size=0.2, random_state=42)\n",
    "\n",
    "# Convert integer labels to one-hot encoding\n",
    "y_train_one_hot = to_categorical(y_train)\n",
    "y_test_one_hot = to_categorical(y_test)\n",
    "\n",
    "# Parameter combinations for ANN\n",
    "param_combinations = [\n",
    "    {'hidden_layer_1': 64, 'hidden_layer_2': 32, 'hidden_layer_3': 16, 'epochs': 20, 'batch_size': 32},\n",
    "    {'hidden_layer_1': 128, 'hidden_layer_2': 64, 'hidden_layer_3': 32, 'epochs': 20, 'batch_size': 32},\n",
    "    {'hidden_layer_1': 128, 'hidden_layer_2': 64, 'epochs': 10, 'batch_size': 64},\n",
    "    {'hidden_layer_1': 128, 'hidden_layer_2': 64, 'epochs': 30, 'batch_size': 16},\n",
    "    {'hidden_layer_1': 128, 'hidden_layer_2': 64, 'epochs': 20, 'batch_size': 32, 'optimizer': 'adam', 'learning_rate': 0.001},\n",
    "    {'hidden_layer_1': 128, 'hidden_layer_2': 64, 'epochs': 20, 'batch_size': 32, 'optimizer': 'sgd', 'learning_rate': 0.01}\n",
    "]\n",
    "\n",
    "# Create a DataFrame to store model results\n",
    "results_df = pd.DataFrame(columns=['Model Name', 'Parameters', 'Accuracy'])\n",
    "\n",
    "# Create and train multiple ANN models\n",
    "for i, params in enumerate(param_combinations):\n",
    "    model_name = f\"ann_model_{i+1}\"\n",
    "    model = keras.Sequential()\n",
    "    model.add(layers.Input(shape=(X_train.shape[1],)))\n",
    "    model.add(layers.Dense(params['hidden_layer_1'], activation='relu'))\n",
    "    model.add(layers.Dense(params['hidden_layer_2'], activation='relu'))\n",
    "    model.add(layers.Dense(len(label_mapping), activation='softmax'))\n",
    "    \n",
    "    model.compile(optimizer='adam', loss='categorical_crossentropy', metrics=['accuracy'])\n",
    "    \n",
    "    model.fit(X_train, y_train_one_hot, epochs=params['epochs'], batch_size=params['batch_size'], validation_split=0.2)\n",
    "    \n",
    "    y_pred_one_hot = model.predict(X_test)\n",
    "    y_pred = np.argmax(y_pred_one_hot, axis=1)\n",
    "    \n",
    "    accuracy = accuracy_score(y_test, y_pred)\n",
    "    \n",
    "    # Append results to DataFrame\n",
    "    results_df = results_df.append({\n",
    "        'Model Name': model_name,\n",
    "        'Parameters': params,\n",
    "        'Accuracy': accuracy\n",
    "    }, ignore_index=True)\n",
    "\n",
    "# Output results\n",
    "print(results_df)"
   ]
  },
  {
   "cell_type": "markdown",
   "id": "83493c25-ae63-43fd-a0d5-d4694def6f45",
   "metadata": {},
   "source": [
    "Bayes"
   ]
  },
  {
   "cell_type": "code",
   "execution_count": 53,
   "id": "44472b5a-2ada-4c99-b530-af4c0ca167e5",
   "metadata": {},
   "outputs": [
    {
     "name": "stdout",
     "output_type": "stream",
     "text": [
      "Naive Bayes Model 1 - Parameters: {'alpha': 1.0, 'class_prior': None, 'fit_prior': True} - Accuracy: 0.86\n",
      "Naive Bayes Model 2 - Parameters: {'alpha': 0.1, 'class_prior': None, 'fit_prior': True} - Accuracy: 0.76\n",
      "Naive Bayes Model 3 - Parameters: {'alpha': 0.01, 'class_prior': None, 'fit_prior': True} - Accuracy: 0.68\n",
      "Naive Bayes Model 4 - Parameters: {'alpha': 0.001, 'class_prior': None, 'fit_prior': True} - Accuracy: 0.64\n",
      "Naive Bayes Model 5 - Parameters: {'alpha': 0.0001, 'class_prior': None, 'fit_prior': True} - Accuracy: 0.64\n"
     ]
    }
   ],
   "source": [
    "from sklearn.naive_bayes import MultinomialNB\n",
    "from sklearn.model_selection import train_test_split\n",
    "from sklearn.metrics import accuracy_score\n",
    "\n",
    "# Prepare features and target variables\n",
    "X = unit_data.drop(columns=['price_by_area_interval'])\n",
    "y = unit_data['price_by_area_interval']\n",
    "\n",
    "# Define different Naive Bayes parameter combinations\n",
    "nb_param_combinations = [\n",
    "    {'alpha': 1.0},\n",
    "    {'alpha': 0.1},\n",
    "    {'alpha': 0.01},\n",
    "    {'alpha': 0.001},\n",
    "    {'alpha': 0.0001}\n",
    "]\n",
    "\n",
    "# Train and evaluate different Naive Bayes models\n",
    "nb_models = []\n",
    "for params in nb_param_combinations:\n",
    "    model = MultinomialNB(**params)\n",
    "    X_train, X_test, y_train, y_test = train_test_split(X, y, test_size=0.2, random_state=42)\n",
    "    model.fit(X_train, y_train)\n",
    "    y_pred = model.predict(X_test)\n",
    "    accuracy = accuracy_score(y_test, y_pred)\n",
    "    nb_models.append((model, accuracy))\n",
    "\n",
    "# Print the accuracy of the Naive Bayes models\n",
    "for i, (model, accuracy) in enumerate(nb_models):\n",
    "    print(f\"Naive Bayes Model {i + 1} - Parameters: {model.get_params()} - Accuracy: {accuracy:.2f}\")"
   ]
  },
  {
   "cell_type": "markdown",
   "id": "d4b93ddd-dfc2-4c00-bdbb-54ae15642e40",
   "metadata": {},
   "source": [
    "### townhouse data"
   ]
  },
  {
   "cell_type": "code",
   "execution_count": 54,
   "id": "d3dd9bab-d1a6-4ecc-9e3c-a14ebbc02735",
   "metadata": {},
   "outputs": [
    {
     "name": "stdout",
     "output_type": "stream",
     "text": [
      "Model 1 - Accuracy: 0.65\n",
      "Model 2 - Accuracy: 0.65\n",
      "Model 3 - Accuracy: 0.66\n",
      "Model 4 - Accuracy: 0.66\n",
      "Model 5 - Accuracy: 0.66\n",
      "Model 6 - Accuracy: 0.63\n",
      "Model 7 - Accuracy: 0.63\n",
      "Model 8 - Accuracy: 0.64\n",
      "Model 9 - Accuracy: 0.64\n",
      "Model 10 - Accuracy: 0.64\n",
      "Model 11 - Accuracy: 0.65\n",
      "Model 12 - Accuracy: 0.65\n",
      "Model 13 - Accuracy: 0.65\n",
      "Model 14 - Accuracy: 0.65\n"
     ]
    }
   ],
   "source": [
    "from sklearn.ensemble import RandomForestClassifier\n",
    "from sklearn.model_selection import train_test_split\n",
    "from sklearn.metrics import accuracy_score\n",
    "\n",
    "X = townhouse_data.drop(columns=['price_by_area_interval'])\n",
    "y = townhouse_data['price_by_area_interval']\n",
    "\n",
    "params_combinations = [\n",
    "    {'n_estimators': 100, 'max_depth': 10, 'random_state': 42},\n",
    "    \n",
    "    {'n_estimators': 200, 'max_depth': 10, 'min_samples_split': 2, 'random_state': 42},\n",
    "    {'n_estimators': 300, 'max_depth': 10, 'min_samples_split': 2, 'random_state': 42},\n",
    "    {'n_estimators': 400, 'max_depth': 10, 'min_samples_split': 2, 'random_state': 42},\n",
    "    {'n_estimators': 500, 'max_depth': 10, 'min_samples_split': 2, 'random_state': 42},\n",
    "\n",
    "    {'n_estimators': 100, 'max_depth': 20, 'min_samples_split': 4, 'random_state': 42},\n",
    "    {'n_estimators': 100, 'max_depth': 30, 'min_samples_split': 4, 'random_state': 42},\n",
    "    {'n_estimators': 100, 'max_depth': 40, 'min_samples_split': 4, 'random_state': 42},\n",
    "    {'n_estimators': 100, 'max_depth': 50, 'min_samples_split': 4, 'random_state': 42},\n",
    "\n",
    "    {'n_estimators': 200, 'max_depth': 20, 'min_samples_split': 4, 'random_state': 42},\n",
    "    {'n_estimators': 300, 'max_depth': 30, 'min_samples_split': 4, 'random_state': 42},\n",
    "    {'n_estimators': 400, 'max_depth': 40, 'min_samples_split': 4, 'random_state': 42},\n",
    "\n",
    "    {'n_estimators': 500, 'max_depth': 50, 'min_samples_split': 6, 'random_state': 42},\n",
    "    {'n_estimators': 1000, 'max_depth': 100, 'min_samples_split': 6, 'random_state': 42},\n",
    "]\n",
    "\n",
    "models = []\n",
    "for params in params_combinations:\n",
    "    model = RandomForestClassifier(**params)\n",
    "    X_train, X_test, y_train, y_test = train_test_split(X, y, test_size=0.2, random_state=42)\n",
    "    model.fit(X_train, y_train)\n",
    "    y_pred = model.predict(X_test)\n",
    "    accuracy = accuracy_score(y_test, y_pred)\n",
    "    models.append((model, accuracy))\n",
    "\n",
    "for i, (model, accuracy) in enumerate(models):\n",
    "    print(f\"Model {i + 1} - Accuracy: {accuracy:.2f}\")"
   ]
  },
  {
   "cell_type": "markdown",
   "id": "e4b6fda2-47a3-4d3e-a4ae-8ff296ff43da",
   "metadata": {},
   "source": [
    "**SVM**"
   ]
  },
  {
   "cell_type": "code",
   "execution_count": 55,
   "id": "98338e1a-836a-452d-bbfa-a3042d369e90",
   "metadata": {},
   "outputs": [
    {
     "name": "stdout",
     "output_type": "stream",
     "text": [
      "SVM Model 1 - Parameters: {'C': 0.1, 'break_ties': False, 'cache_size': 200, 'class_weight': None, 'coef0': 0.0, 'decision_function_shape': 'ovr', 'degree': 3, 'gamma': 'scale', 'kernel': 'rbf', 'max_iter': -1, 'probability': False, 'random_state': 42, 'shrinking': True, 'tol': 0.001, 'verbose': False} - Accuracy: 0.65\n",
      "SVM Model 2 - Parameters: {'C': 1.0, 'break_ties': False, 'cache_size': 200, 'class_weight': None, 'coef0': 0.0, 'decision_function_shape': 'ovr', 'degree': 3, 'gamma': 'scale', 'kernel': 'rbf', 'max_iter': -1, 'probability': False, 'random_state': 42, 'shrinking': True, 'tol': 0.001, 'verbose': False} - Accuracy: 0.67\n",
      "SVM Model 3 - Parameters: {'C': 0.01, 'break_ties': False, 'cache_size': 200, 'class_weight': None, 'coef0': 0.0, 'decision_function_shape': 'ovr', 'degree': 3, 'gamma': 'scale', 'kernel': 'rbf', 'max_iter': -1, 'probability': False, 'random_state': 42, 'shrinking': True, 'tol': 0.001, 'verbose': False} - Accuracy: 0.65\n",
      "SVM Model 4 - Parameters: {'C': 0.1, 'break_ties': False, 'cache_size': 200, 'class_weight': None, 'coef0': 0.0, 'decision_function_shape': 'ovr', 'degree': 3, 'gamma': 0.1, 'kernel': 'rbf', 'max_iter': -1, 'probability': False, 'random_state': 42, 'shrinking': True, 'tol': 0.001, 'verbose': False} - Accuracy: 0.65\n",
      "SVM Model 5 - Parameters: {'C': 0.1, 'break_ties': False, 'cache_size': 200, 'class_weight': None, 'coef0': 0.0, 'decision_function_shape': 'ovr', 'degree': 3, 'gamma': 0.01, 'kernel': 'rbf', 'max_iter': -1, 'probability': False, 'random_state': 42, 'shrinking': True, 'tol': 0.001, 'verbose': False} - Accuracy: 0.65\n",
      "SVM Model 6 - Parameters: {'C': 0.1, 'break_ties': False, 'cache_size': 200, 'class_weight': None, 'coef0': 0.0, 'decision_function_shape': 'ovr', 'degree': 3, 'gamma': 0.01, 'kernel': 'rbf', 'max_iter': -1, 'probability': False, 'random_state': 42, 'shrinking': True, 'tol': 0.001, 'verbose': False} - Accuracy: 0.65\n",
      "SVM Model 7 - Parameters: {'C': 1.0, 'break_ties': False, 'cache_size': 200, 'class_weight': None, 'coef0': 0.0, 'decision_function_shape': 'ovr', 'degree': 3, 'gamma': 0.1, 'kernel': 'rbf', 'max_iter': -1, 'probability': False, 'random_state': 42, 'shrinking': True, 'tol': 0.001, 'verbose': False} - Accuracy: 0.66\n",
      "SVM Model 8 - Parameters: {'C': 1.0, 'break_ties': False, 'cache_size': 200, 'class_weight': None, 'coef0': 0.0, 'decision_function_shape': 'ovr', 'degree': 3, 'gamma': 0.01, 'kernel': 'rbf', 'max_iter': -1, 'probability': False, 'random_state': 42, 'shrinking': True, 'tol': 0.001, 'verbose': False} - Accuracy: 0.68\n",
      "SVM Model 9 - Parameters: {'C': 1.0, 'break_ties': False, 'cache_size': 200, 'class_weight': None, 'coef0': 0.0, 'decision_function_shape': 'ovr', 'degree': 3, 'gamma': 0.001, 'kernel': 'rbf', 'max_iter': -1, 'probability': False, 'random_state': 42, 'shrinking': True, 'tol': 0.001, 'verbose': False} - Accuracy: 0.65\n",
      "SVM Model 10 - Parameters: {'C': 10.0, 'break_ties': False, 'cache_size': 200, 'class_weight': None, 'coef0': 0.0, 'decision_function_shape': 'ovr', 'degree': 3, 'gamma': 0.1, 'kernel': 'rbf', 'max_iter': -1, 'probability': False, 'random_state': 42, 'shrinking': True, 'tol': 0.001, 'verbose': False} - Accuracy: 0.67\n",
      "SVM Model 11 - Parameters: {'C': 10.0, 'break_ties': False, 'cache_size': 200, 'class_weight': None, 'coef0': 0.0, 'decision_function_shape': 'ovr', 'degree': 3, 'gamma': 0.01, 'kernel': 'rbf', 'max_iter': -1, 'probability': False, 'random_state': 42, 'shrinking': True, 'tol': 0.001, 'verbose': False} - Accuracy: 0.67\n"
     ]
    }
   ],
   "source": [
    "from sklearn.svm import SVC\n",
    "from sklearn.model_selection import train_test_split\n",
    "from sklearn.metrics import accuracy_score\n",
    "\n",
    "# Prepare features and target variables\n",
    "X = townhouse_data.drop(columns=['price_by_area_interval'])\n",
    "y = townhouse_data['price_by_area_interval']\n",
    "\n",
    "# Define different RBF kernel SVM parameter combinations\n",
    "rbf_svm_param_combinations = [\n",
    "    {'C': 0.1, 'kernel': 'rbf', 'gamma': 'scale', 'random_state': 42},\n",
    "    {'C': 1.0, 'kernel': 'rbf', 'gamma': 'scale', 'random_state': 42},\n",
    "    {'C': 0.01, 'kernel': 'rbf', 'gamma': 'scale', 'random_state': 42},\n",
    "    \n",
    "    {'C': 0.1, 'kernel': 'rbf', 'gamma': 0.1, 'random_state': 42},\n",
    "    {'C': 0.1, 'kernel': 'rbf', 'gamma': 0.01, 'random_state': 42},\n",
    "    {'C': 0.1, 'kernel': 'rbf', 'gamma': 0.01, 'random_state': 42},\n",
    "    \n",
    "    {'C': 1.0, 'kernel': 'rbf', 'gamma': 0.1, 'random_state': 42},\n",
    "    {'C': 1.0, 'kernel': 'rbf', 'gamma': 0.01, 'random_state': 42},\n",
    "    {'C': 1.0, 'kernel': 'rbf', 'gamma': 0.001, 'random_state': 42},\n",
    "\n",
    "    {'C': 10.0, 'kernel': 'rbf', 'gamma': 0.1, 'random_state': 42},\n",
    "    {'C': 10.0, 'kernel': 'rbf', 'gamma': 0.01, 'random_state': 42}\n",
    "]\n",
    "\n",
    "# Train and evaluate different RBF kernel SVM models\n",
    "svm_models = []\n",
    "for params in rbf_svm_param_combinations:\n",
    "    model = SVC(**params)\n",
    "    X_train, X_test, y_train, y_test = train_test_split(X, y, test_size=0.2, random_state=42)\n",
    "    model.fit(X_train, y_train)\n",
    "    y_pred = model.predict(X_test)\n",
    "    accuracy = accuracy_score(y_test, y_pred)\n",
    "    svm_models.append((model, accuracy))\n",
    "\n",
    "# Print the accuracy of the SVM models\n",
    "for i, (model, accuracy) in enumerate(svm_models):\n",
    "    print(f\"SVM Model {i + 1} - Parameters: {model.get_params()} - Accuracy: {accuracy:.2f}\")"
   ]
  },
  {
   "cell_type": "code",
   "execution_count": 56,
   "id": "464746cd-dbf6-4b46-9f7c-e42470b6176e",
   "metadata": {},
   "outputs": [
    {
     "name": "stdout",
     "output_type": "stream",
     "text": [
      "Epoch 1/20\n",
      "12/12 [==============================] - 1s 18ms/step - loss: 1.3886 - accuracy: 0.3736 - val_loss: 1.2170 - val_accuracy: 0.6522\n",
      "Epoch 2/20\n",
      "12/12 [==============================] - 0s 5ms/step - loss: 1.1128 - accuracy: 0.6923 - val_loss: 1.0357 - val_accuracy: 0.6413\n",
      "Epoch 3/20\n",
      "12/12 [==============================] - 0s 5ms/step - loss: 0.9178 - accuracy: 0.6896 - val_loss: 0.8799 - val_accuracy: 0.6413\n",
      "Epoch 4/20\n",
      "12/12 [==============================] - 0s 5ms/step - loss: 0.7714 - accuracy: 0.6923 - val_loss: 0.7815 - val_accuracy: 0.6522\n",
      "Epoch 5/20\n",
      "12/12 [==============================] - 0s 5ms/step - loss: 0.6887 - accuracy: 0.7033 - val_loss: 0.6978 - val_accuracy: 0.6957\n",
      "Epoch 6/20\n",
      "12/12 [==============================] - 0s 6ms/step - loss: 0.6290 - accuracy: 0.7198 - val_loss: 0.6563 - val_accuracy: 0.6957\n",
      "Epoch 7/20\n",
      "12/12 [==============================] - 0s 5ms/step - loss: 0.5861 - accuracy: 0.7390 - val_loss: 0.6328 - val_accuracy: 0.6957\n",
      "Epoch 8/20\n",
      "12/12 [==============================] - 0s 5ms/step - loss: 0.5446 - accuracy: 0.7610 - val_loss: 0.6147 - val_accuracy: 0.7065\n",
      "Epoch 9/20\n",
      "12/12 [==============================] - 0s 5ms/step - loss: 0.5030 - accuracy: 0.7995 - val_loss: 0.6078 - val_accuracy: 0.7174\n",
      "Epoch 10/20\n",
      "12/12 [==============================] - 0s 5ms/step - loss: 0.4601 - accuracy: 0.8049 - val_loss: 0.6077 - val_accuracy: 0.7065\n",
      "Epoch 11/20\n",
      "12/12 [==============================] - 0s 5ms/step - loss: 0.4202 - accuracy: 0.8269 - val_loss: 0.6249 - val_accuracy: 0.6957\n",
      "Epoch 12/20\n",
      "12/12 [==============================] - 0s 5ms/step - loss: 0.3775 - accuracy: 0.8709 - val_loss: 0.6354 - val_accuracy: 0.6739\n",
      "Epoch 13/20\n",
      "12/12 [==============================] - 0s 5ms/step - loss: 0.3362 - accuracy: 0.8819 - val_loss: 0.6570 - val_accuracy: 0.6957\n",
      "Epoch 14/20\n",
      "12/12 [==============================] - 0s 5ms/step - loss: 0.3029 - accuracy: 0.9038 - val_loss: 0.6710 - val_accuracy: 0.6957\n",
      "Epoch 15/20\n",
      "12/12 [==============================] - 0s 5ms/step - loss: 0.2654 - accuracy: 0.9286 - val_loss: 0.7010 - val_accuracy: 0.6848\n",
      "Epoch 16/20\n",
      "12/12 [==============================] - 0s 5ms/step - loss: 0.2329 - accuracy: 0.9341 - val_loss: 0.7290 - val_accuracy: 0.6413\n",
      "Epoch 17/20\n",
      "12/12 [==============================] - 0s 8ms/step - loss: 0.2078 - accuracy: 0.9478 - val_loss: 0.7651 - val_accuracy: 0.6522\n",
      "Epoch 18/20\n",
      "12/12 [==============================] - 0s 5ms/step - loss: 0.1789 - accuracy: 0.9588 - val_loss: 0.7925 - val_accuracy: 0.6522\n",
      "Epoch 19/20\n",
      "12/12 [==============================] - 0s 5ms/step - loss: 0.1576 - accuracy: 0.9560 - val_loss: 0.8358 - val_accuracy: 0.6196\n",
      "Epoch 20/20\n",
      "12/12 [==============================] - 0s 5ms/step - loss: 0.1408 - accuracy: 0.9725 - val_loss: 0.8437 - val_accuracy: 0.6196\n",
      "4/4 [==============================] - 0s 6ms/step\n",
      "Epoch 1/20\n",
      "12/12 [==============================] - 1s 16ms/step - loss: 0.9553 - accuracy: 0.6401 - val_loss: 0.7937 - val_accuracy: 0.6413\n",
      "Epoch 2/20\n",
      "12/12 [==============================] - 0s 5ms/step - loss: 0.6879 - accuracy: 0.6841 - val_loss: 0.6646 - val_accuracy: 0.6957\n",
      "Epoch 3/20\n",
      "12/12 [==============================] - 0s 5ms/step - loss: 0.6357 - accuracy: 0.7335 - val_loss: 0.6279 - val_accuracy: 0.7065\n",
      "Epoch 4/20\n",
      "12/12 [==============================] - 0s 5ms/step - loss: 0.5857 - accuracy: 0.7335 - val_loss: 0.6000 - val_accuracy: 0.7174\n",
      "Epoch 5/20\n",
      "12/12 [==============================] - 0s 5ms/step - loss: 0.5226 - accuracy: 0.7912 - val_loss: 0.5852 - val_accuracy: 0.7283\n",
      "Epoch 6/20\n",
      "12/12 [==============================] - 0s 6ms/step - loss: 0.4670 - accuracy: 0.8022 - val_loss: 0.5932 - val_accuracy: 0.6957\n",
      "Epoch 7/20\n",
      "12/12 [==============================] - 0s 5ms/step - loss: 0.4181 - accuracy: 0.8407 - val_loss: 0.5964 - val_accuracy: 0.6957\n",
      "Epoch 8/20\n",
      "12/12 [==============================] - 0s 5ms/step - loss: 0.3714 - accuracy: 0.8681 - val_loss: 0.6274 - val_accuracy: 0.6848\n",
      "Epoch 9/20\n",
      "12/12 [==============================] - 0s 6ms/step - loss: 0.3063 - accuracy: 0.8984 - val_loss: 0.6633 - val_accuracy: 0.6848\n",
      "Epoch 10/20\n",
      "12/12 [==============================] - 0s 5ms/step - loss: 0.2542 - accuracy: 0.9231 - val_loss: 0.6891 - val_accuracy: 0.6522\n",
      "Epoch 11/20\n",
      "12/12 [==============================] - 0s 6ms/step - loss: 0.2164 - accuracy: 0.9313 - val_loss: 0.7314 - val_accuracy: 0.6196\n",
      "Epoch 12/20\n",
      "12/12 [==============================] - 0s 6ms/step - loss: 0.1833 - accuracy: 0.9533 - val_loss: 0.7532 - val_accuracy: 0.6304\n",
      "Epoch 13/20\n",
      "12/12 [==============================] - 0s 5ms/step - loss: 0.1506 - accuracy: 0.9670 - val_loss: 0.7991 - val_accuracy: 0.6304\n",
      "Epoch 14/20\n",
      "12/12 [==============================] - 0s 5ms/step - loss: 0.1261 - accuracy: 0.9698 - val_loss: 0.8618 - val_accuracy: 0.6413\n",
      "Epoch 15/20\n",
      "12/12 [==============================] - 0s 5ms/step - loss: 0.1038 - accuracy: 0.9753 - val_loss: 0.9025 - val_accuracy: 0.6413\n",
      "Epoch 16/20\n",
      "12/12 [==============================] - 0s 6ms/step - loss: 0.0853 - accuracy: 0.9808 - val_loss: 0.9313 - val_accuracy: 0.6413\n",
      "Epoch 17/20\n",
      "12/12 [==============================] - 0s 6ms/step - loss: 0.0682 - accuracy: 0.9890 - val_loss: 0.9805 - val_accuracy: 0.6630\n",
      "Epoch 18/20\n",
      "12/12 [==============================] - 0s 5ms/step - loss: 0.0617 - accuracy: 0.9918 - val_loss: 1.0720 - val_accuracy: 0.6413\n",
      "Epoch 19/20\n",
      "12/12 [==============================] - 0s 6ms/step - loss: 0.0514 - accuracy: 0.9918 - val_loss: 1.0482 - val_accuracy: 0.6630\n",
      "Epoch 20/20\n",
      "12/12 [==============================] - 0s 6ms/step - loss: 0.0425 - accuracy: 0.9918 - val_loss: 1.1219 - val_accuracy: 0.6304\n",
      "4/4 [==============================] - 0s 3ms/step\n",
      "Epoch 1/10\n",
      "6/6 [==============================] - 1s 33ms/step - loss: 1.2086 - accuracy: 0.4808 - val_loss: 0.9097 - val_accuracy: 0.6522\n",
      "Epoch 2/10\n",
      "6/6 [==============================] - 0s 9ms/step - loss: 0.8132 - accuracy: 0.6868 - val_loss: 0.7935 - val_accuracy: 0.6413\n",
      "Epoch 3/10\n",
      "6/6 [==============================] - 0s 9ms/step - loss: 0.7106 - accuracy: 0.6868 - val_loss: 0.6970 - val_accuracy: 0.6739\n",
      "Epoch 4/10\n",
      "6/6 [==============================] - 0s 9ms/step - loss: 0.6475 - accuracy: 0.7225 - val_loss: 0.6591 - val_accuracy: 0.6957\n",
      "Epoch 5/10\n",
      "6/6 [==============================] - 0s 9ms/step - loss: 0.6153 - accuracy: 0.7445 - val_loss: 0.6353 - val_accuracy: 0.6739\n",
      "Epoch 6/10\n",
      "6/6 [==============================] - 0s 9ms/step - loss: 0.5842 - accuracy: 0.7418 - val_loss: 0.6250 - val_accuracy: 0.6848\n",
      "Epoch 7/10\n",
      "6/6 [==============================] - 0s 9ms/step - loss: 0.5478 - accuracy: 0.7582 - val_loss: 0.6088 - val_accuracy: 0.7065\n",
      "Epoch 8/10\n",
      "6/6 [==============================] - 0s 9ms/step - loss: 0.5129 - accuracy: 0.7995 - val_loss: 0.6068 - val_accuracy: 0.7065\n",
      "Epoch 9/10\n",
      "6/6 [==============================] - 0s 9ms/step - loss: 0.4696 - accuracy: 0.8214 - val_loss: 0.6072 - val_accuracy: 0.7065\n",
      "Epoch 10/10\n",
      "6/6 [==============================] - 0s 9ms/step - loss: 0.4323 - accuracy: 0.8297 - val_loss: 0.6107 - val_accuracy: 0.7065\n",
      "4/4 [==============================] - 0s 5ms/step\n",
      "Epoch 1/30\n",
      "23/23 [==============================] - 1s 10ms/step - loss: 0.8837 - accuracy: 0.6099 - val_loss: 0.6815 - val_accuracy: 0.6413\n",
      "Epoch 2/30\n",
      "23/23 [==============================] - 0s 4ms/step - loss: 0.6588 - accuracy: 0.7033 - val_loss: 0.6490 - val_accuracy: 0.6522\n",
      "Epoch 3/30\n",
      "23/23 [==============================] - 0s 4ms/step - loss: 0.6048 - accuracy: 0.7198 - val_loss: 0.6298 - val_accuracy: 0.6739\n",
      "Epoch 4/30\n",
      "23/23 [==============================] - 0s 4ms/step - loss: 0.5283 - accuracy: 0.7775 - val_loss: 0.6003 - val_accuracy: 0.6957\n",
      "Epoch 5/30\n",
      "23/23 [==============================] - 0s 5ms/step - loss: 0.4486 - accuracy: 0.8214 - val_loss: 0.6106 - val_accuracy: 0.6848\n",
      "Epoch 6/30\n",
      "23/23 [==============================] - 0s 4ms/step - loss: 0.3701 - accuracy: 0.8626 - val_loss: 0.6468 - val_accuracy: 0.6522\n",
      "Epoch 7/30\n",
      "23/23 [==============================] - 0s 4ms/step - loss: 0.2984 - accuracy: 0.9093 - val_loss: 0.6793 - val_accuracy: 0.6630\n",
      "Epoch 8/30\n",
      "23/23 [==============================] - 0s 5ms/step - loss: 0.2370 - accuracy: 0.9396 - val_loss: 0.7380 - val_accuracy: 0.6630\n",
      "Epoch 9/30\n",
      "23/23 [==============================] - 0s 5ms/step - loss: 0.1897 - accuracy: 0.9478 - val_loss: 0.8089 - val_accuracy: 0.6304\n",
      "Epoch 10/30\n",
      "23/23 [==============================] - 0s 4ms/step - loss: 0.1450 - accuracy: 0.9670 - val_loss: 0.8519 - val_accuracy: 0.6304\n",
      "Epoch 11/30\n",
      "23/23 [==============================] - 0s 5ms/step - loss: 0.1117 - accuracy: 0.9780 - val_loss: 0.9340 - val_accuracy: 0.6413\n",
      "Epoch 12/30\n",
      "23/23 [==============================] - 0s 5ms/step - loss: 0.0843 - accuracy: 0.9808 - val_loss: 0.9814 - val_accuracy: 0.6304\n",
      "Epoch 13/30\n",
      "23/23 [==============================] - 0s 5ms/step - loss: 0.0768 - accuracy: 0.9890 - val_loss: 1.1438 - val_accuracy: 0.6087\n",
      "Epoch 14/30\n",
      "23/23 [==============================] - 0s 4ms/step - loss: 0.0613 - accuracy: 0.9835 - val_loss: 1.1205 - val_accuracy: 0.6413\n",
      "Epoch 15/30\n",
      "23/23 [==============================] - 0s 4ms/step - loss: 0.0432 - accuracy: 0.9973 - val_loss: 1.1693 - val_accuracy: 0.6304\n",
      "Epoch 16/30\n",
      "23/23 [==============================] - 0s 4ms/step - loss: 0.0316 - accuracy: 1.0000 - val_loss: 1.1926 - val_accuracy: 0.6413\n",
      "Epoch 17/30\n",
      "23/23 [==============================] - 0s 4ms/step - loss: 0.0290 - accuracy: 1.0000 - val_loss: 1.2397 - val_accuracy: 0.6196\n",
      "Epoch 18/30\n",
      "23/23 [==============================] - 0s 4ms/step - loss: 0.0223 - accuracy: 0.9973 - val_loss: 1.2769 - val_accuracy: 0.6304\n",
      "Epoch 19/30\n",
      "23/23 [==============================] - 0s 4ms/step - loss: 0.0178 - accuracy: 1.0000 - val_loss: 1.3243 - val_accuracy: 0.6413\n",
      "Epoch 20/30\n",
      "23/23 [==============================] - 0s 4ms/step - loss: 0.0157 - accuracy: 0.9973 - val_loss: 1.3431 - val_accuracy: 0.6522\n",
      "Epoch 21/30\n",
      "23/23 [==============================] - 0s 4ms/step - loss: 0.0133 - accuracy: 1.0000 - val_loss: 1.3852 - val_accuracy: 0.6413\n",
      "Epoch 22/30\n",
      "23/23 [==============================] - 0s 5ms/step - loss: 0.0126 - accuracy: 0.9973 - val_loss: 1.4045 - val_accuracy: 0.6522\n",
      "Epoch 23/30\n",
      "23/23 [==============================] - 0s 4ms/step - loss: 0.0124 - accuracy: 0.9973 - val_loss: 1.4321 - val_accuracy: 0.6413\n",
      "Epoch 24/30\n",
      "23/23 [==============================] - 0s 5ms/step - loss: 0.0095 - accuracy: 1.0000 - val_loss: 1.4603 - val_accuracy: 0.6522\n",
      "Epoch 25/30\n",
      "23/23 [==============================] - 0s 4ms/step - loss: 0.0082 - accuracy: 1.0000 - val_loss: 1.4834 - val_accuracy: 0.6413\n",
      "Epoch 26/30\n",
      "23/23 [==============================] - 0s 5ms/step - loss: 0.0083 - accuracy: 0.9973 - val_loss: 1.5115 - val_accuracy: 0.6413\n",
      "Epoch 27/30\n",
      "23/23 [==============================] - 0s 5ms/step - loss: 0.0070 - accuracy: 1.0000 - val_loss: 1.5356 - val_accuracy: 0.6413\n",
      "Epoch 28/30\n",
      "23/23 [==============================] - 0s 4ms/step - loss: 0.0071 - accuracy: 0.9973 - val_loss: 1.5668 - val_accuracy: 0.6413\n",
      "Epoch 29/30\n",
      "23/23 [==============================] - 0s 4ms/step - loss: 0.0071 - accuracy: 0.9973 - val_loss: 1.5820 - val_accuracy: 0.6522\n",
      "Epoch 30/30\n",
      "23/23 [==============================] - 0s 4ms/step - loss: 0.0071 - accuracy: 0.9973 - val_loss: 1.5794 - val_accuracy: 0.6522\n",
      "4/4 [==============================] - 0s 3ms/step\n",
      "Epoch 1/20\n",
      "12/12 [==============================] - 1s 17ms/step - loss: 0.9048 - accuracy: 0.6346 - val_loss: 0.7197 - val_accuracy: 0.6413\n",
      "Epoch 2/20\n",
      "12/12 [==============================] - 0s 5ms/step - loss: 0.6610 - accuracy: 0.6896 - val_loss: 0.6476 - val_accuracy: 0.6848\n",
      "Epoch 3/20\n",
      "12/12 [==============================] - 0s 6ms/step - loss: 0.6138 - accuracy: 0.7308 - val_loss: 0.6216 - val_accuracy: 0.6848\n",
      "Epoch 4/20\n",
      "12/12 [==============================] - 0s 5ms/step - loss: 0.5767 - accuracy: 0.7335 - val_loss: 0.6259 - val_accuracy: 0.7391\n",
      "Epoch 5/20\n",
      "12/12 [==============================] - 0s 6ms/step - loss: 0.5322 - accuracy: 0.7775 - val_loss: 0.6056 - val_accuracy: 0.7065\n",
      "Epoch 6/20\n",
      "12/12 [==============================] - 0s 5ms/step - loss: 0.4633 - accuracy: 0.8132 - val_loss: 0.5938 - val_accuracy: 0.6848\n",
      "Epoch 7/20\n",
      "12/12 [==============================] - 0s 6ms/step - loss: 0.4039 - accuracy: 0.8462 - val_loss: 0.6086 - val_accuracy: 0.6739\n",
      "Epoch 8/20\n",
      "12/12 [==============================] - 0s 6ms/step - loss: 0.3486 - accuracy: 0.8791 - val_loss: 0.6444 - val_accuracy: 0.6848\n",
      "Epoch 9/20\n",
      "12/12 [==============================] - 0s 6ms/step - loss: 0.3059 - accuracy: 0.9176 - val_loss: 0.6523 - val_accuracy: 0.6739\n",
      "Epoch 10/20\n",
      "12/12 [==============================] - 0s 6ms/step - loss: 0.2526 - accuracy: 0.9368 - val_loss: 0.7041 - val_accuracy: 0.6304\n",
      "Epoch 11/20\n",
      "12/12 [==============================] - 0s 6ms/step - loss: 0.2308 - accuracy: 0.9231 - val_loss: 0.7711 - val_accuracy: 0.6522\n",
      "Epoch 12/20\n",
      "12/12 [==============================] - 0s 6ms/step - loss: 0.1849 - accuracy: 0.9341 - val_loss: 0.7927 - val_accuracy: 0.6522\n",
      "Epoch 13/20\n",
      "12/12 [==============================] - 0s 6ms/step - loss: 0.1698 - accuracy: 0.9560 - val_loss: 0.8807 - val_accuracy: 0.6304\n",
      "Epoch 14/20\n",
      "12/12 [==============================] - 0s 6ms/step - loss: 0.1470 - accuracy: 0.9533 - val_loss: 0.9050 - val_accuracy: 0.6087\n",
      "Epoch 15/20\n",
      "12/12 [==============================] - 0s 6ms/step - loss: 0.1271 - accuracy: 0.9643 - val_loss: 0.9041 - val_accuracy: 0.6413\n",
      "Epoch 16/20\n",
      "12/12 [==============================] - 0s 5ms/step - loss: 0.0943 - accuracy: 0.9835 - val_loss: 0.9244 - val_accuracy: 0.6413\n",
      "Epoch 17/20\n",
      "12/12 [==============================] - 0s 6ms/step - loss: 0.0761 - accuracy: 0.9945 - val_loss: 0.9649 - val_accuracy: 0.6522\n",
      "Epoch 18/20\n",
      "12/12 [==============================] - 0s 6ms/step - loss: 0.0643 - accuracy: 0.9918 - val_loss: 1.0039 - val_accuracy: 0.6196\n",
      "Epoch 19/20\n",
      "12/12 [==============================] - 0s 6ms/step - loss: 0.0537 - accuracy: 0.9945 - val_loss: 1.0575 - val_accuracy: 0.6087\n",
      "Epoch 20/20\n",
      "12/12 [==============================] - 0s 5ms/step - loss: 0.0458 - accuracy: 0.9973 - val_loss: 1.0689 - val_accuracy: 0.6413\n",
      "4/4 [==============================] - 0s 5ms/step\n",
      "Epoch 1/20\n",
      "12/12 [==============================] - 1s 17ms/step - loss: 1.1958 - accuracy: 0.4753 - val_loss: 0.8546 - val_accuracy: 0.6413\n",
      "Epoch 2/20\n",
      "12/12 [==============================] - 0s 5ms/step - loss: 0.7375 - accuracy: 0.6868 - val_loss: 0.7193 - val_accuracy: 0.6413\n",
      "Epoch 3/20\n",
      "12/12 [==============================] - 0s 6ms/step - loss: 0.6598 - accuracy: 0.6896 - val_loss: 0.6609 - val_accuracy: 0.6739\n",
      "Epoch 4/20\n",
      "12/12 [==============================] - 0s 5ms/step - loss: 0.6128 - accuracy: 0.7088 - val_loss: 0.6333 - val_accuracy: 0.6630\n",
      "Epoch 5/20\n",
      "12/12 [==============================] - 0s 6ms/step - loss: 0.5608 - accuracy: 0.7473 - val_loss: 0.6083 - val_accuracy: 0.7283\n",
      "Epoch 6/20\n",
      "12/12 [==============================] - 0s 5ms/step - loss: 0.5208 - accuracy: 0.8077 - val_loss: 0.6097 - val_accuracy: 0.6630\n",
      "Epoch 7/20\n",
      "12/12 [==============================] - 0s 6ms/step - loss: 0.4641 - accuracy: 0.8022 - val_loss: 0.6063 - val_accuracy: 0.6848\n",
      "Epoch 8/20\n",
      "12/12 [==============================] - 0s 6ms/step - loss: 0.4065 - accuracy: 0.8736 - val_loss: 0.6074 - val_accuracy: 0.7500\n",
      "Epoch 9/20\n",
      "12/12 [==============================] - 0s 6ms/step - loss: 0.3455 - accuracy: 0.8874 - val_loss: 0.6304 - val_accuracy: 0.6522\n",
      "Epoch 10/20\n",
      "12/12 [==============================] - 0s 6ms/step - loss: 0.3008 - accuracy: 0.9203 - val_loss: 0.6555 - val_accuracy: 0.6630\n",
      "Epoch 11/20\n",
      "12/12 [==============================] - 0s 5ms/step - loss: 0.2628 - accuracy: 0.9258 - val_loss: 0.7071 - val_accuracy: 0.6087\n",
      "Epoch 12/20\n",
      "12/12 [==============================] - 0s 6ms/step - loss: 0.2379 - accuracy: 0.9313 - val_loss: 0.7493 - val_accuracy: 0.6522\n",
      "Epoch 13/20\n",
      "12/12 [==============================] - 0s 6ms/step - loss: 0.1909 - accuracy: 0.9533 - val_loss: 0.7662 - val_accuracy: 0.6413\n",
      "Epoch 14/20\n",
      "12/12 [==============================] - 0s 6ms/step - loss: 0.1568 - accuracy: 0.9670 - val_loss: 0.8022 - val_accuracy: 0.6739\n",
      "Epoch 15/20\n",
      "12/12 [==============================] - 0s 6ms/step - loss: 0.1324 - accuracy: 0.9780 - val_loss: 0.8469 - val_accuracy: 0.6087\n",
      "Epoch 16/20\n",
      "12/12 [==============================] - 0s 5ms/step - loss: 0.1141 - accuracy: 0.9780 - val_loss: 0.8753 - val_accuracy: 0.6630\n",
      "Epoch 17/20\n",
      "12/12 [==============================] - 0s 6ms/step - loss: 0.0960 - accuracy: 0.9835 - val_loss: 0.9195 - val_accuracy: 0.6848\n",
      "Epoch 18/20\n",
      "12/12 [==============================] - 0s 6ms/step - loss: 0.0792 - accuracy: 0.9863 - val_loss: 0.9701 - val_accuracy: 0.6739\n",
      "Epoch 19/20\n",
      "12/12 [==============================] - 0s 6ms/step - loss: 0.0684 - accuracy: 0.9890 - val_loss: 1.0148 - val_accuracy: 0.6522\n",
      "Epoch 20/20\n",
      "12/12 [==============================] - 0s 6ms/step - loss: 0.0562 - accuracy: 0.9918 - val_loss: 1.0527 - val_accuracy: 0.6630\n",
      "4/4 [==============================] - 0s 4ms/step\n",
      "    Model Name                                         Parameters  Accuracy\n",
      "0  ann_model_1  {'hidden_layer_1': 64, 'hidden_layer_2': 32, '...  0.643478\n",
      "1  ann_model_2  {'hidden_layer_1': 128, 'hidden_layer_2': 64, ...  0.634783\n",
      "2  ann_model_3  {'hidden_layer_1': 128, 'hidden_layer_2': 64, ...  0.695652\n",
      "3  ann_model_4  {'hidden_layer_1': 128, 'hidden_layer_2': 64, ...  0.634783\n",
      "4  ann_model_5  {'hidden_layer_1': 128, 'hidden_layer_2': 64, ...  0.652174\n",
      "5  ann_model_6  {'hidden_layer_1': 128, 'hidden_layer_2': 64, ...  0.652174\n"
     ]
    }
   ],
   "source": [
    "import pandas as pd\n",
    "import numpy as np\n",
    "from sklearn.model_selection import train_test_split\n",
    "from tensorflow import keras\n",
    "from tensorflow.keras import layers\n",
    "from tensorflow.keras.utils import to_categorical\n",
    "from sklearn.metrics import accuracy_score\n",
    "\n",
    "# Prepare features and target variables\n",
    "X = townhouse_data.drop(columns=['price_by_area_interval'])\n",
    "y = townhouse_data['price_by_area_interval']\n",
    "\n",
    "# Encode multi-category target variables into integer labels\n",
    "label_mapping = {label: idx for idx, label in enumerate(y.unique())}\n",
    "y_encoded = y.map(label_mapping)\n",
    "\n",
    "# Divide the data set into training set and test set\n",
    "X_train, X_test, y_train, y_test = train_test_split(X, y_encoded, test_size=0.2, random_state=42)\n",
    "\n",
    "# Convert integer labels to one-hot encoding\n",
    "y_train_one_hot = to_categorical(y_train)\n",
    "y_test_one_hot = to_categorical(y_test)\n",
    "\n",
    "# Parameter combinations for ANN\n",
    "param_combinations = [\n",
    "    {'hidden_layer_1': 64, 'hidden_layer_2': 32, 'hidden_layer_3': 16, 'epochs': 20, 'batch_size': 32},\n",
    "    {'hidden_layer_1': 128, 'hidden_layer_2': 64, 'hidden_layer_3': 32, 'epochs': 20, 'batch_size': 32},\n",
    "    {'hidden_layer_1': 128, 'hidden_layer_2': 64, 'epochs': 10, 'batch_size': 64},\n",
    "    {'hidden_layer_1': 128, 'hidden_layer_2': 64, 'epochs': 30, 'batch_size': 16},\n",
    "    {'hidden_layer_1': 128, 'hidden_layer_2': 64, 'epochs': 20, 'batch_size': 32, 'optimizer': 'adam', 'learning_rate': 0.001},\n",
    "    {'hidden_layer_1': 128, 'hidden_layer_2': 64, 'epochs': 20, 'batch_size': 32, 'optimizer': 'sgd', 'learning_rate': 0.01}\n",
    "]\n",
    "\n",
    "# Create a DataFrame to store model results\n",
    "results_df = pd.DataFrame(columns=['Model Name', 'Parameters', 'Accuracy'])\n",
    "\n",
    "# Create and train multiple ANN models\n",
    "for i, params in enumerate(param_combinations):\n",
    "    model_name = f\"ann_model_{i+1}\"\n",
    "    model = keras.Sequential()\n",
    "    model.add(layers.Input(shape=(X_train.shape[1],)))\n",
    "    model.add(layers.Dense(params['hidden_layer_1'], activation='relu'))\n",
    "    model.add(layers.Dense(params['hidden_layer_2'], activation='relu'))\n",
    "    model.add(layers.Dense(len(label_mapping), activation='softmax'))\n",
    "    \n",
    "    model.compile(optimizer='adam', loss='categorical_crossentropy', metrics=['accuracy'])\n",
    "    \n",
    "    model.fit(X_train, y_train_one_hot, epochs=params['epochs'], batch_size=params['batch_size'], validation_split=0.2)\n",
    "    \n",
    "    y_pred_one_hot = model.predict(X_test)\n",
    "    y_pred = np.argmax(y_pred_one_hot, axis=1)\n",
    "    \n",
    "    accuracy = accuracy_score(y_test, y_pred)\n",
    "    \n",
    "    # Append results to DataFrame\n",
    "    results_df = results_df.append({\n",
    "        'Model Name': model_name,\n",
    "        'Parameters': params,\n",
    "        'Accuracy': accuracy\n",
    "    }, ignore_index=True)\n",
    "\n",
    "# Output results\n",
    "print(results_df)"
   ]
  },
  {
   "cell_type": "code",
   "execution_count": 57,
   "id": "5eb2f68e-ee94-4d2d-b1f7-80364ea101f5",
   "metadata": {},
   "outputs": [
    {
     "name": "stdout",
     "output_type": "stream",
     "text": [
      "Multinomial Naive Bayes Model 1 - Parameters: {'alpha': 1.0, 'class_prior': None, 'fit_prior': True} - Accuracy: 0.70\n",
      "Multinomial Naive Bayes Model 2 - Parameters: {'alpha': 0.1, 'class_prior': None, 'fit_prior': True} - Accuracy: 0.63\n",
      "Multinomial Naive Bayes Model 3 - Parameters: {'alpha': 0.01, 'class_prior': None, 'fit_prior': True} - Accuracy: 0.60\n",
      "Multinomial Naive Bayes Model 4 - Parameters: {'alpha': 0.001, 'class_prior': None, 'fit_prior': True} - Accuracy: 0.63\n"
     ]
    }
   ],
   "source": [
    "from sklearn.naive_bayes import MultinomialNB\n",
    "from sklearn.model_selection import train_test_split\n",
    "from sklearn.metrics import accuracy_score\n",
    "\n",
    "# Prepare features and target variables\n",
    "X = townhouse_data.drop(columns=['price_by_area_interval'])\n",
    "y = townhouse_data['price_by_area_interval']\n",
    "\n",
    "# Define different Multinomial Naive Bayes parameter combinations\n",
    "nb_param_combinations = [\n",
    "    {'alpha': 1.0},\n",
    "    {'alpha': 0.1},\n",
    "    {'alpha': 0.01},\n",
    "    {'alpha': 0.001},\n",
    "]\n",
    "\n",
    "# Train and evaluate different Multinomial Naive Bayes models\n",
    "nb_models = []\n",
    "for params in nb_param_combinations:\n",
    "    model = MultinomialNB(**params)\n",
    "    X_train, X_test, y_train, y_test = train_test_split(X, y, test_size=0.2, random_state=42)\n",
    "    model.fit(X_train, y_train)\n",
    "    y_pred = model.predict(X_test)\n",
    "    accuracy = accuracy_score(y_test, y_pred)\n",
    "    nb_models.append((model, accuracy))\n",
    "\n",
    "# Print the accuracy of the Multinomial Naive Bayes models\n",
    "for i, (model, accuracy) in enumerate(nb_models):\n",
    "    print(f\"Multinomial Naive Bayes Model {i + 1} - Parameters: {model.get_params()} - Accuracy: {accuracy:.2f}\")"
   ]
  }
 ],
 "metadata": {
  "kernelspec": {
   "display_name": "Python 3 (ipykernel)",
   "language": "python",
   "name": "python3"
  },
  "language_info": {
   "codemirror_mode": {
    "name": "ipython",
    "version": 3
   },
   "file_extension": ".py",
   "mimetype": "text/x-python",
   "name": "python",
   "nbconvert_exporter": "python",
   "pygments_lexer": "ipython3",
   "version": "3.10.9"
  }
 },
 "nbformat": 4,
 "nbformat_minor": 5
}
