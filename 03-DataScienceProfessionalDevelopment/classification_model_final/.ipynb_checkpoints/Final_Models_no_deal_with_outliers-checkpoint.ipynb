{
 "cells": [
  {
   "cell_type": "markdown",
   "id": "0e76b6a6-b88f-46ea-a1f8-ff1dc46d6b45",
   "metadata": {},
   "source": [
    "# Import Data Set and Deal with Data Set"
   ]
  },
  {
   "cell_type": "markdown",
   "id": "53538057-1680-4555-b193-4583df8a36ca",
   "metadata": {},
   "source": [
    "**Step 1: First import the datase**"
   ]
  },
  {
   "cell_type": "code",
   "execution_count": 1,
   "id": "b26f0d5f-3e5a-45f9-8ad0-3eb50e10b062",
   "metadata": {},
   "outputs": [],
   "source": [
    "import pandas as pd\n",
    "\n",
    "file_path = \"melb_housing_filtered3.csv\"\n",
    "\n",
    "data = pd.read_csv(file_path)"
   ]
  },
  {
   "cell_type": "markdown",
   "id": "8b910ce6-1a69-4ad4-910d-8d65d9cef0e3",
   "metadata": {},
   "source": [
    "This data set has removed outliers. Here we modify the representation format of ADDRESS, and then remove DATE, YEARBUILT, LATTITUDE and LONGTITUDE:"
   ]
  },
  {
   "cell_type": "markdown",
   "id": "b31b35fd-0133-4201-bf44-30a035ed98f3",
   "metadata": {},
   "source": [
    "**Step 2: Delete some irrelevant or no longer necessary columns**"
   ]
  },
  {
   "cell_type": "code",
   "execution_count": 2,
   "id": "c2ab57e3-7419-4309-bf54-a9770832ed9b",
   "metadata": {},
   "outputs": [],
   "source": [
    "data['ADDRESS'] = data['ADDRESS'].str.split().str[-2:].str.join(' ')\n",
    "# 删除\"DATE\"和\"YEARBUILT\"列\n",
    "data.drop(columns=['DATE', 'YEARBUILT', 'LATTITUDE', 'LONGTITUDE'], inplace=True)"
   ]
  },
  {
   "cell_type": "markdown",
   "id": "395702a0-f6f7-41fe-8238-542b0e267dc3",
   "metadata": {},
   "source": [
    "Since price_by_area is obtained through LANDSIZE, BUILDGAR and PRICE, these three columns are also removed here:"
   ]
  },
  {
   "cell_type": "code",
   "execution_count": 3,
   "id": "4d4bed9b-2f78-406a-a19d-334dd633ab96",
   "metadata": {},
   "outputs": [],
   "source": [
    "data.drop(columns=['LANDSIZE', 'PRICE', 'BUILDINGAR', 'LANDSIZE'], inplace=True)"
   ]
  },
  {
   "cell_type": "code",
   "execution_count": 4,
   "id": "4233db88-9248-4827-ac96-58b6df25822b",
   "metadata": {},
   "outputs": [],
   "source": [
    "data.drop(columns=['PROPERTYCO'], inplace = True)"
   ]
  },
  {
   "cell_type": "markdown",
   "id": "0075869a-8b59-402b-9b65-0a8906ea5200",
   "metadata": {},
   "source": [
    "**Step 4: Divide into multiple sub-datasets according to type**"
   ]
  },
  {
   "cell_type": "code",
   "execution_count": 5,
   "id": "3aa327d5-f952-427d-9d61-9ea2305ea958",
   "metadata": {},
   "outputs": [
    {
     "name": "stdout",
     "output_type": "stream",
     "text": [
      "h    4046\n",
      "u    1414\n",
      "t     571\n",
      "Name: TYPE, dtype: int64\n"
     ]
    }
   ],
   "source": [
    "type_counts = data['TYPE'].value_counts()\n",
    "print(type_counts)"
   ]
  },
  {
   "cell_type": "code",
   "execution_count": 6,
   "id": "ebf47574-7b22-4dfa-86a2-96e82e6a0a4e",
   "metadata": {},
   "outputs": [],
   "source": [
    "# Use groupby to group data according to the \"TYPE\" column\n",
    "grouped = data.groupby('TYPE')\n",
    "\n",
    "#Create a dictionary to store different types of sub-datasets\n",
    "sub_datasets = {}\n",
    "\n",
    "# Loop through each group and store it in a dictionary\n",
    "for group_name, group_data in grouped:\n",
    "     sub_datasets[group_name] = group_data\n",
    "\n",
    "# Now you can access different types of subdatasets, for example:\n",
    "house_data = sub_datasets['h'] # Get sub-datasets of type \"house\"\n",
    "unit_data = sub_datasets['u'] # Get the sub-dataset of type \"unit\"\n",
    "townhouse_data = sub_datasets['t'] # Get sub-datasets of type \"townhouse\""
   ]
  },
  {
   "cell_type": "markdown",
   "id": "506cd99d-a944-4380-a7ec-ceaf9779df3e",
   "metadata": {},
   "source": [
    "Drop 'Type' from each dataset:"
   ]
  },
  {
   "cell_type": "code",
   "execution_count": 7,
   "id": "88888817-bdbf-4e25-ac81-4dd372d318f8",
   "metadata": {},
   "outputs": [],
   "source": [
    "# Remove the \"TYPE\" column from the \"house\" type subdataset\n",
    "house_data = sub_datasets['h'].drop(columns=['TYPE'])\n",
    "\n",
    "# Remove the \"TYPE\" column from the \"unit\" type subdataset\n",
    "unit_data = sub_datasets['u'].drop(columns=['TYPE'])\n",
    "\n",
    "# Remove the \"TYPE\" column from the \"townhouse\" type subdataset\n",
    "townhouse_data = sub_datasets['t'].drop(columns=['TYPE'])"
   ]
  },
  {
   "cell_type": "markdown",
   "id": "7078a545-0e0c-4549-b7c7-417488921f11",
   "metadata": {},
   "source": [
    "# Features Selection"
   ]
  },
  {
   "cell_type": "markdown",
   "id": "354929be-9860-40e4-b89d-8acc28e56ca8",
   "metadata": {},
   "source": [
    "**Step 3: Perform correlation analysis on category variables in each sub-dataset.**"
   ]
  },
  {
   "cell_type": "code",
   "execution_count": 8,
   "id": "8707b3a8-1794-4ed7-a657-c9b39e3b9097",
   "metadata": {},
   "outputs": [],
   "source": [
    "# List of column names\n",
    "category_columns = ['SUBURB', 'ADDRESS', 'METHOD', 'SELLERG', 'COUNCILARE', 'REGIONNAME', 'POSTCODE', \"AREANUM\"]\n",
    "\n",
    "# Change columns to category type in each subdataset\n",
    "for dataset in [house_data, unit_data, townhouse_data]:\n",
    "     dataset[category_columns] = dataset[category_columns].astype('category')"
   ]
  },
  {
   "cell_type": "code",
   "execution_count": 9,
   "id": "e81811af-3ba4-42c8-ac58-a2445a60755f",
   "metadata": {},
   "outputs": [],
   "source": [
    "# Extract \"category\" data from \"house_data\"\n",
    "house_data_category = house_data.select_dtypes(include='category')\n",
    "\n",
    "# Extract \"category\" data from \"unit_data\"\n",
    "unit_data_category = unit_data.select_dtypes(include='category')\n",
    "\n",
    "# Extract \"category\" data from \"townhouse_data\"\n",
    "townhouse_data_category = townhouse_data.select_dtypes(include='category')"
   ]
  },
  {
   "cell_type": "markdown",
   "id": "7124bdca-d879-4050-9fe6-8cc68b09fc34",
   "metadata": {},
   "source": [
    "house_data_category"
   ]
  },
  {
   "cell_type": "code",
   "execution_count": 10,
   "id": "afb4e86f-0d8a-4222-b3b9-68df52aaa8fe",
   "metadata": {},
   "outputs": [
    {
     "name": "stdout",
     "output_type": "stream",
     "text": [
      "              SUBURB   ADDRESS    METHOD   SELLERG  POSTCODE COUNCILARE  \\\n",
      "SUBURB           1.0  0.497127  0.154173  0.338493  0.987244   0.953814   \n",
      "ADDRESS     0.497127       1.0       0.0  0.285704  0.490121   0.492935   \n",
      "METHOD      0.154173       0.0       1.0  0.116533  0.150429   0.142439   \n",
      "SELLERG     0.338493  0.285704  0.116533       1.0  0.310035   0.446842   \n",
      "POSTCODE    0.987244  0.490121  0.150429  0.310035       1.0   0.947228   \n",
      "COUNCILARE  0.953814  0.492935  0.142439  0.446842  0.947228        1.0   \n",
      "REGIONNAME  0.965989  0.528214   0.11071  0.527918   0.93845    0.80243   \n",
      "AREANUM     0.965893  0.455298  0.092873  0.496796  0.952599   0.743758   \n",
      "\n",
      "           REGIONNAME   AREANUM  \n",
      "SUBURB       0.965989  0.965893  \n",
      "ADDRESS      0.528214  0.455298  \n",
      "METHOD        0.11071  0.092873  \n",
      "SELLERG      0.527918  0.496796  \n",
      "POSTCODE      0.93845  0.952599  \n",
      "COUNCILARE    0.80243  0.743758  \n",
      "REGIONNAME        1.0  0.495689  \n",
      "AREANUM      0.495689       1.0  \n"
     ]
    }
   ],
   "source": [
    "import pandas as pd\n",
    "from scipy.stats import chi2_contingency\n",
    "import numpy as np\n",
    "\n",
    "# Create an empty correlation matrix\n",
    "correlation_matrix = pd.DataFrame(index=house_data_category.columns, columns=house_data_category.columns)\n",
    "\n",
    "# Loop to calculate Cramér's V and populate the correlation matrix\n",
    "for col1 in house_data_category.columns:\n",
    "     for col2 in house_data_category.columns:\n",
    "         if col1 == col2:\n",
    "             correlation_matrix.loc[col1, col2] = 1.0\n",
    "         else:\n",
    "             #Create contingency table\n",
    "             contingency_table = pd.crosstab(house_data_category[col1], house_data_category[col2])\n",
    "             chi2, _, _, _ = chi2_contingency(contingency_table)\n",
    "             n = contingency_table.sum().sum()\n",
    "             phi2 = chi2/n\n",
    "             r, k = contingency_table.shape\n",
    "             phi2corr = max(0, phi2 - ((k-1)*(r-1))/(n-1))\n",
    "             rcorr = r - ((r-1)**2)/(n-1)\n",
    "             kcorr = k - ((k-1)**2)/(n-1)\n",
    "             correlation_matrix.loc[col1, col2] = np.sqrt(phi2corr / min((kcorr-1), (rcorr-1)))\n",
    "\n",
    "# Display correlation matrix\n",
    "print(correlation_matrix)"
   ]
  },
  {
   "cell_type": "markdown",
   "id": "83b377ef-ed78-452b-a4fb-6630f39bf8a1",
   "metadata": {},
   "source": [
    "The results show that there is a significant correlation between \"SUBURB\", \"COUNCILARE\", \"POSTCODE\", \"REGIONNAME\" and \"AREANUM\"."
   ]
  },
  {
   "cell_type": "code",
   "execution_count": 11,
   "id": "264e16ed-8d68-4eb7-8200-01b2927de929",
   "metadata": {},
   "outputs": [
    {
     "name": "stdout",
     "output_type": "stream",
     "text": [
      "Number of different values:\n",
      "SUBURB: 278\n",
      "REGIONNAME: 8\n",
      "COUNCILARE: 31\n",
      "POSTCODE 180\n",
      "AREANUM 9\n"
     ]
    }
   ],
   "source": [
    "# Count the number of distinct values in the \"SUBURB\" column\n",
    "suburb_count = house_data_category['SUBURB'].nunique()\n",
    "\n",
    "# Count the number of distinct values in the \"REGIONNAME\" column\n",
    "regionname_count = house_data_category['REGIONNAME'].nunique()\n",
    "\n",
    "# Count the number of distinct values in the \"COUNCILARE\" column\n",
    "councilare_count = house_data_category['COUNCILARE'].nunique()\n",
    "\n",
    "# POSTCODE\n",
    "postcode_count = house_data_category['POSTCODE'].nunique()\n",
    "\n",
    "# AREANUM\n",
    "areanum_count =  house_data_category['AREANUM'].nunique()\n",
    "\n",
    "print(\"Number of different values:\")\n",
    "print(\"SUBURB:\", suburb_count)\n",
    "print(\"REGIONNAME:\", regionname_count)\n",
    "print(\"COUNCILARE:\", councilare_count)\n",
    "print('POSTCODE', postcode_count)\n",
    "print('AREANUM', areanum_count)"
   ]
  },
  {
   "cell_type": "markdown",
   "id": "292d37ab-08c3-493b-8909-7108f5ccbc53",
   "metadata": {},
   "source": [
    "Since the number of regionnames is minimal, retaining regionnames can simplify the model as much as possible."
   ]
  },
  {
   "cell_type": "code",
   "execution_count": 12,
   "id": "140b6070-08dc-473e-8714-d4af9399ac9e",
   "metadata": {},
   "outputs": [],
   "source": [
    "# Remove \"SUBURB\" and \"COUNCILARE\" columns from \"house_data\"\n",
    "house_data = house_data.drop(columns=['SUBURB', 'COUNCILARE', \"POSTCODE\", \"AREANUM\"])"
   ]
  },
  {
   "cell_type": "markdown",
   "id": "1d52c4cb-da5b-4c91-a723-26fe40b042b0",
   "metadata": {},
   "source": [
    "uni_data_category"
   ]
  },
  {
   "cell_type": "code",
   "execution_count": 13,
   "id": "cf572558-1b49-4690-ac59-4610ec1b6172",
   "metadata": {},
   "outputs": [
    {
     "name": "stdout",
     "output_type": "stream",
     "text": [
      "              SUBURB   ADDRESS    METHOD   SELLERG  POSTCODE COUNCILARE  \\\n",
      "SUBURB           1.0  0.575663       0.0  0.333368  0.983192   0.933239   \n",
      "ADDRESS     0.575663       1.0       0.0   0.20278  0.571421   0.571494   \n",
      "METHOD           0.0       0.0       1.0  0.272646       0.0   0.104342   \n",
      "SELLERG     0.333368   0.20278  0.272646       1.0  0.312916   0.453384   \n",
      "POSTCODE    0.983192  0.571421       0.0  0.312916       1.0   0.936739   \n",
      "COUNCILARE  0.933239  0.571494  0.104342  0.453384  0.936739        1.0   \n",
      "REGIONNAME  0.941092  0.477135  0.061019  0.490735  0.947839   0.836458   \n",
      "AREANUM     0.942096  0.581031  0.070077  0.474101  0.923936   0.705238   \n",
      "\n",
      "           REGIONNAME   AREANUM  \n",
      "SUBURB       0.941092  0.942096  \n",
      "ADDRESS      0.477135  0.581031  \n",
      "METHOD       0.061019  0.070077  \n",
      "SELLERG      0.490735  0.474101  \n",
      "POSTCODE     0.947839  0.923936  \n",
      "COUNCILARE   0.836458  0.705238  \n",
      "REGIONNAME        1.0  0.501009  \n",
      "AREANUM      0.501009       1.0  \n"
     ]
    }
   ],
   "source": [
    "import pandas as pd\n",
    "from scipy.stats import chi2_contingency\n",
    "import numpy as np\n",
    "\n",
    "# Create an empty correlation matrix\n",
    "correlation_matrix = pd.DataFrame(index=unit_data_category.columns, columns=unit_data_category.columns)\n",
    "\n",
    "# Loop to calculate Cramér's V and populate the correlation matrix\n",
    "for col1 in unit_data_category.columns:\n",
    "     for col2 in unit_data_category.columns:\n",
    "         if col1 == col2:\n",
    "             correlation_matrix.loc[col1, col2] = 1.0\n",
    "         else:\n",
    "             #Create contingency table\n",
    "             contingency_table = pd.crosstab(unit_data_category[col1], unit_data_category[col2])\n",
    "             chi2, _, _, _ = chi2_contingency(contingency_table)\n",
    "             n = contingency_table.sum().sum()\n",
    "             phi2 = chi2/n\n",
    "             r, k = contingency_table.shape\n",
    "             phi2corr = max(0, phi2 - ((k-1)*(r-1))/(n-1))\n",
    "             rcorr = r - ((r-1)**2)/(n-1)\n",
    "             kcorr = k - ((k-1)**2)/(n-1)\n",
    "             correlation_matrix.loc[col1, col2] = np.sqrt(phi2corr / min((kcorr-1), (rcorr-1)))\n",
    "\n",
    "# Display correlation matrix\n",
    "print(correlation_matrix)"
   ]
  },
  {
   "cell_type": "code",
   "execution_count": 14,
   "id": "d9a6b459-3d99-48ac-b278-830be18470ce",
   "metadata": {},
   "outputs": [
    {
     "name": "stdout",
     "output_type": "stream",
     "text": [
      "Number of different values:\n",
      "SUBURB: 167\n",
      "REGIONNAME: 6\n",
      "COUNCILARE: 25\n",
      "POSTCODE 124\n",
      "AREANUM 9\n"
     ]
    }
   ],
   "source": [
    "# Count the number of distinct values in the \"SUBURB\" column\n",
    "suburb_count = unit_data_category['SUBURB'].nunique()\n",
    "\n",
    "# Count the number of distinct values in the \"REGIONNAME\" column\n",
    "regionname_count = unit_data_category['REGIONNAME'].nunique()\n",
    "\n",
    "# Count the number of distinct values in the \"COUNCILARE\" column\n",
    "councilare_count = unit_data_category['COUNCILARE'].nunique()\n",
    "\n",
    "# POSTCODE\n",
    "postcode_count = unit_data_category['POSTCODE'].nunique()\n",
    "\n",
    "# AREANUM\n",
    "areanum_count =  unit_data_category['AREANUM'].nunique()\n",
    "\n",
    "print(\"Number of different values:\")\n",
    "print(\"SUBURB:\", suburb_count)\n",
    "print(\"REGIONNAME:\", regionname_count)\n",
    "print(\"COUNCILARE:\", councilare_count)\n",
    "print('POSTCODE', postcode_count)\n",
    "print('AREANUM', areanum_count)"
   ]
  },
  {
   "cell_type": "markdown",
   "id": "211a3b10-1510-4278-8ba5-f562d2044ba6",
   "metadata": {},
   "source": [
    "Based on approximate results and for the same reason, 'SUBURB', 'COUNCILARE', \"POSTCODE\" and \"AREANUM\" will be removed here."
   ]
  },
  {
   "cell_type": "code",
   "execution_count": 15,
   "id": "df967bc6-bb5b-4c64-8429-1c67fb234be6",
   "metadata": {},
   "outputs": [],
   "source": [
    "unit_data = unit_data.drop(columns=['SUBURB', 'COUNCILARE', \"POSTCODE\", \"AREANUM\"])"
   ]
  },
  {
   "cell_type": "markdown",
   "id": "0428911e-a76c-4757-a689-2aaf7149b358",
   "metadata": {},
   "source": [
    "townhouse_data"
   ]
  },
  {
   "cell_type": "code",
   "execution_count": 16,
   "id": "bf979431-078c-49f6-81aa-3cd47a3b8f65",
   "metadata": {},
   "outputs": [
    {
     "name": "stdout",
     "output_type": "stream",
     "text": [
      "              SUBURB   ADDRESS    METHOD   SELLERG  POSTCODE COUNCILARE  \\\n",
      "SUBURB           1.0  0.407445  0.061491  0.322014  0.963942   0.870939   \n",
      "ADDRESS     0.407445       1.0  0.199242       0.0  0.359566   0.303751   \n",
      "METHOD      0.061491  0.199242       1.0  0.172361  0.125534   0.114664   \n",
      "SELLERG     0.322014       0.0  0.172361       1.0  0.348698   0.464822   \n",
      "POSTCODE    0.963942  0.359566  0.125534  0.348698       1.0   0.889515   \n",
      "COUNCILARE  0.870939  0.303751  0.114664  0.464822  0.889515        1.0   \n",
      "REGIONNAME  0.874653   0.36218  0.072982  0.542211  0.903454   0.905855   \n",
      "AREANUM      0.87698  0.333915   0.10387  0.486385  0.854178   0.716266   \n",
      "\n",
      "           REGIONNAME   AREANUM  \n",
      "SUBURB       0.874653   0.87698  \n",
      "ADDRESS       0.36218  0.333915  \n",
      "METHOD       0.072982   0.10387  \n",
      "SELLERG      0.542211  0.486385  \n",
      "POSTCODE     0.903454  0.854178  \n",
      "COUNCILARE   0.905855  0.716266  \n",
      "REGIONNAME        1.0  0.677166  \n",
      "AREANUM      0.677166       1.0  \n"
     ]
    }
   ],
   "source": [
    "import pandas as pd\n",
    "from scipy.stats import chi2_contingency\n",
    "import numpy as np\n",
    "\n",
    "# Create an empty correlation matrix\n",
    "correlation_matrix = pd.DataFrame(index=townhouse_data_category.columns, columns=townhouse_data_category.columns)\n",
    "\n",
    "# Loop to calculate Cramér's V and populate the correlation matrix\n",
    "for col1 in townhouse_data_category.columns:\n",
    "     for col2 in townhouse_data_category.columns:\n",
    "         if col1 == col2:\n",
    "             correlation_matrix.loc[col1, col2] = 1.0\n",
    "         else:\n",
    "             #Create contingency table\n",
    "             contingency_table = pd.crosstab(townhouse_data_category[col1], townhouse_data_category[col2])\n",
    "             chi2, _, _, _ = chi2_contingency(contingency_table)\n",
    "             n = contingency_table.sum().sum()\n",
    "             phi2 = chi2/n\n",
    "             r, k = contingency_table.shape\n",
    "             phi2corr = max(0, phi2 - ((k-1)*(r-1))/(n-1))\n",
    "             rcorr = r - ((r-1)**2)/(n-1)\n",
    "             kcorr = k - ((k-1)**2)/(n-1)\n",
    "             correlation_matrix.loc[col1, col2] = np.sqrt(phi2corr / min((kcorr-1), (rcorr-1)))\n",
    "\n",
    "# Display correlation matrix\n",
    "print(correlation_matrix)"
   ]
  },
  {
   "cell_type": "code",
   "execution_count": 17,
   "id": "77690d60-05ce-48ab-ab2e-0a613650ec7d",
   "metadata": {},
   "outputs": [
    {
     "name": "stdout",
     "output_type": "stream",
     "text": [
      "Number of different values:\n",
      "SUBURB: 138\n",
      "REGIONNAME: 5\n",
      "COUNCILARE: 23\n",
      "POSTCODE 105\n",
      "AREANUM 8\n"
     ]
    }
   ],
   "source": [
    "# Count the number of distinct values in the \"SUBURB\" column\n",
    "suburb_count = townhouse_data_category['SUBURB'].nunique()\n",
    "\n",
    "# Count the number of distinct values in the \"REGIONNAME\" column\n",
    "regionname_count = townhouse_data_category['REGIONNAME'].nunique()\n",
    "\n",
    "# Count the number of distinct values in the \"COUNCILARE\" column\n",
    "councilare_count = townhouse_data_category['COUNCILARE'].nunique()\n",
    "\n",
    "# POSTCODE\n",
    "postcode_count = townhouse_data_category['POSTCODE'].nunique()\n",
    "\n",
    "# AREANUM\n",
    "areanum_count =  townhouse_data_category['AREANUM'].nunique()\n",
    "\n",
    "print(\"Number of different values:\")\n",
    "print(\"SUBURB:\", suburb_count)\n",
    "print(\"REGIONNAME:\", regionname_count)\n",
    "print(\"COUNCILARE:\", councilare_count)\n",
    "print('POSTCODE', postcode_count)\n",
    "print('AREANUM', areanum_count)"
   ]
  },
  {
   "cell_type": "markdown",
   "id": "e3a92328-f7c8-44f5-a3e6-a273e95d1689",
   "metadata": {},
   "source": [
    "Based on approximate results and for the same reason, 'SUBURB', 'COUNCILARE', \"POSTCODE\" amd \"AREANUM\" will be removed here."
   ]
  },
  {
   "cell_type": "code",
   "execution_count": 18,
   "id": "6b3a5975-ea71-4afa-9e41-1eff232c569b",
   "metadata": {},
   "outputs": [],
   "source": [
    "townhouse_data_category = townhouse_data_category.drop(columns=['SUBURB', 'COUNCILARE', \"POSTCODE\", \"AREANUM\"])"
   ]
  },
  {
   "cell_type": "markdown",
   "id": "25aa0dc8-cdbb-4ad1-b3c0-e4b0355a31c5",
   "metadata": {},
   "source": [
    "**step 4: Perform correlation analysis on category variables in each sub-dataset.**"
   ]
  },
  {
   "cell_type": "code",
   "execution_count": 19,
   "id": "31ecaccb-21dc-4ada-8f09-4feb921cbefd",
   "metadata": {},
   "outputs": [],
   "source": [
    "# Extract integer and floating point data from \"house_data\"\n",
    "house_data_num = house_data.select_dtypes(include=['int64', 'float64'])\n",
    "\n",
    "# Extract integer and floating point data from \"unit_data\"\n",
    "unit_data_num = unit_data.select_dtypes(include=['int64', 'float64'])\n",
    "\n",
    "# Extract integer and floating point data from \"townhouse_data\"\n",
    "townhouse_data_num = townhouse_data.select_dtypes(include=['int64', 'float64'])\n",
    "\n",
    "# Exclude \"price_by_area\" column from \"house_data\"\n",
    "house_data_num = house_data_num.drop(columns=['price_by_area'])\n",
    "\n",
    "# Exclude \"price_by_area\" column from \"unit_data\"\n",
    "unit_data_num = unit_data_num.drop(columns=['price_by_area'])\n",
    "\n",
    "# Exclude \"price_by_area\" column from \"townhouse_data\"\n",
    "townhouse_data_num = townhouse_data_num.drop(columns=['price_by_area'])"
   ]
  },
  {
   "cell_type": "markdown",
   "id": "fcc510b4-c9f0-4a0e-91f6-2f98cd7eff2a",
   "metadata": {},
   "source": [
    "house_data"
   ]
  },
  {
   "cell_type": "code",
   "execution_count": 20,
   "id": "f4488379-7d4b-4463-9821-aa609ebbf49b",
   "metadata": {},
   "outputs": [
    {
     "data": {
      "image/png": "[encoded data removed]",
      "text/plain": [
       "<Figure size 1200x800 with 2 Axes>"
      ]
     },
     "metadata": {},
     "output_type": "display_data"
    }
   ],
   "source": [
    "import pandas as pd\n",
    "import seaborn as sns\n",
    "import matplotlib.pyplot as plt\n",
    "\n",
    "# Calculate correlation matrix\n",
    "correlation_matrix = house_data_num.corr()\n",
    "\n",
    "# Visualize the correlation matrix using heatmaps\n",
    "plt.figure(figsize=(12, 8))\n",
    "sns.heatmap(correlation_matrix, annot=True, cmap='coolwarm', fmt=\".2f\")\n",
    "plt.title(\"Correlation Heatmap for house_data_num\")\n",
    "plt.show()"
   ]
  },
  {
   "cell_type": "markdown",
   "id": "d254c2e4-3748-4b59-abd9-39754c6445ac",
   "metadata": {},
   "source": [
    "From the visual results, there is a high or moderate positive correlation between ROOMS and BEDROOM2 and BATHROOM. Here we choose to remove BEDROOM2 and BATHROOM."
   ]
  },
  {
   "cell_type": "code",
   "execution_count": 21,
   "id": "0ca53b94-679c-4e60-b772-33d5ae79968a",
   "metadata": {},
   "outputs": [],
   "source": [
    "# Remove the \"BEDROOM2\" and \"BATHROOM\" columns from \"house_data\"\n",
    "house_data = house_data.drop(columns=['BEDROOM2', 'BATHROOM'])"
   ]
  },
  {
   "cell_type": "markdown",
   "id": "46dc94b2-b575-44b7-bb00-6f4680095f39",
   "metadata": {},
   "source": [
    "unit_data"
   ]
  },
  {
   "cell_type": "code",
   "execution_count": 22,
   "id": "711367df-da0f-490c-b11b-0ddc1a18318f",
   "metadata": {},
   "outputs": [
    {
     "data": {
      "image/png": "[encoded data removed]",
      "text/plain": [
       "<Figure size 1200x800 with 2 Axes>"
      ]
     },
     "metadata": {},
     "output_type": "display_data"
    }
   ],
   "source": [
    "import pandas as pd\n",
    "import seaborn as sns\n",
    "import matplotlib.pyplot as plt\n",
    "\n",
    "# Calculate correlation matrix\n",
    "correlation_matrix = unit_data_num.corr()\n",
    "\n",
    "# Visualize the correlation matrix using heatmaps\n",
    "plt.figure(figsize=(12, 8))\n",
    "sns.heatmap(correlation_matrix, annot=True, cmap='coolwarm', fmt=\".2f\")\n",
    "plt.title(\"Correlation Heatmap for unit_data_num\")\n",
    "plt.show()"
   ]
  },
  {
   "cell_type": "markdown",
   "id": "f032a714-f1ac-45c7-a570-aa8b776bfdfb",
   "metadata": {},
   "source": [
    "It can be found that for Unit type data, there is no obvious positive correlation between ROOM2 and BATHROOM.\r\n",
    "\r\n",
    "So only \"BEDROOM2\" is removed here."
   ]
  },
  {
   "cell_type": "code",
   "execution_count": 23,
   "id": "e3b6ae7a-2032-4555-8765-865d51ac233a",
   "metadata": {},
   "outputs": [],
   "source": [
    "# Remove the \"BEDROOM2\" and \"BATHROOM\" columns from \"house_data\"\n",
    "unit_data = unit_data.drop(columns=['BEDROOM2'])"
   ]
  },
  {
   "cell_type": "markdown",
   "id": "9b186150-44c8-4700-9cd5-a4d6a51fbfd8",
   "metadata": {},
   "source": [
    "townhouse_data"
   ]
  },
  {
   "cell_type": "code",
   "execution_count": 24,
   "id": "06aebdfc-643d-453f-b835-5ce7b4956bb0",
   "metadata": {},
   "outputs": [
    {
     "data": {
      "image/png": "[encoded data removed]",
      "text/plain": [
       "<Figure size 1200x800 with 2 Axes>"
      ]
     },
     "metadata": {},
     "output_type": "display_data"
    }
   ],
   "source": [
    "import pandas as pd\n",
    "import seaborn as sns\n",
    "import matplotlib.pyplot as plt\n",
    "\n",
    "# Calculate correlation matrix\n",
    "correlation_matrix = townhouse_data_num.corr()\n",
    "\n",
    "# Visualize the correlation matrix using heatmaps\n",
    "plt.figure(figsize=(12, 8))\n",
    "sns.heatmap(correlation_matrix, annot=True, cmap='coolwarm', fmt=\".2f\")\n",
    "plt.title(\"Correlation Heatmap for townhouse_data_num\")\n",
    "plt.show()"
   ]
  },
  {
   "cell_type": "markdown",
   "id": "03c39150-e7ca-4668-87b4-d37bff59058f",
   "metadata": {},
   "source": [
    "The correlations shown by the numerical variables of TOWNHOUSE and HOUSE are basically close."
   ]
  },
  {
   "cell_type": "code",
   "execution_count": 25,
   "id": "3373b895-4063-4ab9-b53b-b2c4f3490d4e",
   "metadata": {},
   "outputs": [],
   "source": [
    "# Remove the \"BEDROOM2\" and \"BATHROOM\" columns from \"house_data\"\n",
    "townhouse_data = townhouse_data.drop(columns=['BEDROOM2', 'BATHROOM'])"
   ]
  },
  {
   "cell_type": "markdown",
   "id": "a069a04e-6821-4485-81ac-ae8b2fd37807",
   "metadata": {},
   "source": [
    "# Models Building"
   ]
  },
  {
   "cell_type": "markdown",
   "id": "06d701f5-2400-47dc-a72a-383fd00f18c3",
   "metadata": {},
   "source": [
    "## Generate new variables as target variable"
   ]
  },
  {
   "cell_type": "markdown",
   "id": "600ad22c-eb48-4a28-a303-c91f09c8211c",
   "metadata": {},
   "source": [
    "**house_data**"
   ]
  },
  {
   "cell_type": "code",
   "execution_count": 26,
   "id": "8136e10b-6ab2-4f5f-a74e-c5594d8ef01f",
   "metadata": {},
   "outputs": [
    {
     "data": {
      "image/png": "[encoded data removed]",
      "text/plain": [
       "<Figure size 1000x600 with 1 Axes>"
      ]
     },
     "metadata": {},
     "output_type": "display_data"
    }
   ],
   "source": [
    "import seaborn as sns\n",
    "import matplotlib.pyplot as plt\n",
    "\n",
    "plt.figure(figsize=(10, 6))\n",
    "sns.histplot(house_data['price_by_area'], kde=True, color='b')\n",
    "plt.title(\"Distribution of 'price_by_area' in house_data\")\n",
    "plt.xlabel(\"Price by Area\")\n",
    "plt.ylabel(\"Frequency\")\n",
    "plt.show()"
   ]
  },
  {
   "cell_type": "code",
   "execution_count": 27,
   "id": "066d9cf6-79ac-44d8-8e70-7d6902e33767",
   "metadata": {},
   "outputs": [],
   "source": [
    "import pandas as pd\n",
    "\n",
    "# Define custom price range rules\n",
    "price_bins = [0, 2500, 5000, 7500, 10000, 15000, float('inf')]\n",
    "price_labels = ['0-2500', '2500-5000', '5000-7500', '7500-10000', '10000-15000', '15000+']\n",
    "\n",
    "# Use the cut function to map \"price_by_area\" to the custom intervals\n",
    "house_data['price_by_area_interval'] = pd.cut(house_data['price_by_area'], bins=price_bins, labels=price_labels, right=False)\n",
    "\n",
    "# Convert the result to a category of string type\n",
    "house_data['price_by_area_interval'] = house_data['price_by_area_interval'].astype('category')"
   ]
  },
  {
   "cell_type": "code",
   "execution_count": 28,
   "id": "32978893-3a9f-4c8e-b6e2-a017637b287a",
   "metadata": {},
   "outputs": [
    {
     "name": "stdout",
     "output_type": "stream",
     "text": [
      "0-2500         2131\n",
      "2500-5000      1251\n",
      "5000-7500       363\n",
      "7500-10000      160\n",
      "10000-15000     109\n",
      "15000+           32\n",
      "Name: price_by_area_interval, dtype: int64\n"
     ]
    }
   ],
   "source": [
    "# Calculate the frequency of different types in the \"price_by_area_interval\" column\n",
    "frequency = house_data['price_by_area_interval'].value_counts()\n",
    "\n",
    "#Print frequency results\n",
    "print(frequency)"
   ]
  },
  {
   "cell_type": "markdown",
   "id": "6e94f829-7e26-4e2c-8c71-a13758af9589",
   "metadata": {},
   "source": [
    "**unit_data**"
   ]
  },
  {
   "cell_type": "code",
   "execution_count": 29,
   "id": "5ae74f5b-1895-4be9-99a8-beb1b7d4534b",
   "metadata": {},
   "outputs": [
    {
     "data": {
      "image/png": "[encoded data removed]",
      "text/plain": [
       "<Figure size 1000x600 with 1 Axes>"
      ]
     },
     "metadata": {},
     "output_type": "display_data"
    }
   ],
   "source": [
    "import seaborn as sns\n",
    "import matplotlib.pyplot as plt\n",
    "\n",
    "plt.figure(figsize=(10, 6))\n",
    "sns.histplot(unit_data['price_by_area'], kde=True, color='b')\n",
    "plt.title(\"Distribution of 'price_by_area' in unit_data\")\n",
    "plt.xlabel(\"Price by Area\")\n",
    "plt.ylabel(\"Frequency\")\n",
    "plt.show()"
   ]
  },
  {
   "cell_type": "code",
   "execution_count": 30,
   "id": "6404a172-415d-4e4f-9d30-27c8f6fec70e",
   "metadata": {},
   "outputs": [],
   "source": [
    "import pandas as pd\n",
    "\n",
    "# Define custom price range rules\n",
    "price_bins = [0, 5000, 7500, 10000, 15000, float('inf')]\n",
    "price_labels = ['0-5000', '5000-7500', '7500-10000', '10000-15000', '15000+']\n",
    "\n",
    "# Use the cut function to map \"price_by_area\" to the custom intervals\n",
    "unit_data['price_by_area_interval'] = pd.cut(unit_data['price_by_area'], bins=price_bins, labels=price_labels, right=False)\n",
    "\n",
    "# Convert the result to a category of string type\n",
    "unit_data['price_by_area_interval'] = unit_data['price_by_area_interval'].astype('category')"
   ]
  },
  {
   "cell_type": "code",
   "execution_count": 31,
   "id": "e7015ab1-62b8-4995-baf8-b848dc239259",
   "metadata": {},
   "outputs": [
    {
     "name": "stdout",
     "output_type": "stream",
     "text": [
      "5000-7500      608\n",
      "7500-10000     601\n",
      "10000-15000    107\n",
      "0-5000          97\n",
      "15000+           1\n",
      "Name: price_by_area_interval, dtype: int64\n"
     ]
    }
   ],
   "source": [
    "# Calculate the frequency of different types in the \"price_by_area_interval\" column\n",
    "frequency = unit_data['price_by_area_interval'].value_counts()\n",
    "\n",
    "#Print frequency results\n",
    "print(frequency)"
   ]
  },
  {
   "cell_type": "markdown",
   "id": "5e7262fb-1d92-4af9-9547-4a01637e1d3b",
   "metadata": {},
   "source": [
    "**townhouse_data**"
   ]
  },
  {
   "cell_type": "code",
   "execution_count": 32,
   "id": "f657f5dc-f3a7-428f-b870-264310e16ebc",
   "metadata": {},
   "outputs": [
    {
     "data": {
      "image/png": "[encoded data removed]",
      "text/plain": [
       "<Figure size 1000x600 with 1 Axes>"
      ]
     },
     "metadata": {},
     "output_type": "display_data"
    }
   ],
   "source": [
    "import seaborn as sns\n",
    "import matplotlib.pyplot as plt\n",
    "\n",
    "plt.figure(figsize=(10, 6))\n",
    "sns.histplot(townhouse_data['price_by_area'], kde=True, color='b')\n",
    "plt.title(\"Distribution of 'price_by_area' in townhouse_data\")\n",
    "plt.xlabel(\"Price by Area\")\n",
    "plt.ylabel(\"Frequency\")\n",
    "plt.show()"
   ]
  },
  {
   "cell_type": "code",
   "execution_count": 33,
   "id": "473ba27f-7b6d-4699-92d6-27179d5d5cba",
   "metadata": {},
   "outputs": [
    {
     "data": {
      "image/png": "[encoded data removed]",
      "text/plain": [
       "<Figure size 1000x600 with 1 Axes>"
      ]
     },
     "metadata": {},
     "output_type": "display_data"
    }
   ],
   "source": [
    "import seaborn as sns\n",
    "import matplotlib.pyplot as plt\n",
    "\n",
    "plt.figure(figsize=(10, 6))\n",
    "sns.histplot(townhouse_data['price_by_area'], kde=True, color='b')\n",
    "plt.title(\"Distribution of 'price_by_area' in townhouse_data\")\n",
    "plt.xlabel(\"Price by Area\")\n",
    "plt.ylabel(\"Frequency\")\n",
    "plt.show()"
   ]
  },
  {
   "cell_type": "code",
   "execution_count": 34,
   "id": "514cd212-eb4a-41b3-be2f-db5dd24718f5",
   "metadata": {},
   "outputs": [],
   "source": [
    "import pandas as pd\n",
    "\n",
    "# Define custom price range rules\n",
    "price_bins = [0, 2000, 4000, 6000, 8000, 10000, 15000, float('inf')]\n",
    "price_labels = ['0-2000', '2000-4000', '4000-6000', '6000-8000', '8000-10000', '10000-15000', '15000+']\n",
    "\n",
    "# Use the cut function to map \"price_by_area\" to the custom intervals\n",
    "townhouse_data['price_by_area_interval'] = pd.cut(townhouse_data['price_by_area'], bins=price_bins, labels=price_labels, right=False)\n",
    "\n",
    "# Convert the result to a category of string type\n",
    "townhouse_data['price_by_area_interval'] = townhouse_data['price_by_area_interval'].astype('category')"
   ]
  },
  {
   "cell_type": "code",
   "execution_count": 35,
   "id": "445f2569-2516-4fee-9295-f0f1ab153b75",
   "metadata": {},
   "outputs": [
    {
     "name": "stdout",
     "output_type": "stream",
     "text": [
      "2000-4000      239\n",
      "4000-6000      181\n",
      "6000-8000       55\n",
      "0-2000          45\n",
      "10000-15000     25\n",
      "8000-10000      23\n",
      "15000+           3\n",
      "Name: price_by_area_interval, dtype: int64\n"
     ]
    }
   ],
   "source": [
    "# Calculate the frequency of different types in the \"price_by_area_interval\" column\n",
    "frequency = townhouse_data['price_by_area_interval'].value_counts()\n",
    "\n",
    "#Print frequency results\n",
    "print(frequency)"
   ]
  },
  {
   "cell_type": "markdown",
   "id": "5fb862e3-d262-4fa1-8e8f-6e4d6e2acab4",
   "metadata": {},
   "source": [
    "drop all price_by_area"
   ]
  },
  {
   "cell_type": "code",
   "execution_count": 36,
   "id": "e0c9a0f4-329c-47c8-8782-907ddf21b546",
   "metadata": {},
   "outputs": [],
   "source": [
    "# Remove the \"price_by_area\" column from \"house_data\"\n",
    "house_data = house_data.drop(columns=['price_by_area'])\n",
    "\n",
    "# Remove the \"price_by_area\" column from \"unit_data\"\n",
    "unit_data = unit_data.drop(columns=['price_by_area'])\n",
    "\n",
    "# Remove the \"price_by_area\" column from \"townhouse_data\"\n",
    "townhouse_data = townhouse_data.drop(columns=['price_by_area'])"
   ]
  },
  {
   "cell_type": "markdown",
   "id": "575e9eb8-4dbc-4fbe-8ce2-24ea8e263468",
   "metadata": {},
   "source": [
    "## One-hot encoding"
   ]
  },
  {
   "cell_type": "code",
   "execution_count": 37,
   "id": "f875ca43-49f9-4c74-8835-a206e8271ccf",
   "metadata": {},
   "outputs": [],
   "source": [
    "# Perform one-hot encoding on categorical data in \"house_data\", except \"price_by_area_interval\"\n",
    "house_data = pd.get_dummies(house_data, columns=[col for col in house_data.columns if house_data[col].dtype.name == 'category' and col != 'price_by_area_interval'])\n",
    "\n",
    "# Perform one-hot encoding on categorical data in \"unit_data\", except \"price_by_area_interval\"\n",
    "unit_data = pd.get_dummies(unit_data, columns=[col for col in unit_data.columns if unit_data[col].dtype.name == 'category' and col != 'price_by_area_interval'])\n",
    "\n",
    "# Perform one-hot encoding on categorical data in \"townhouse_data\", except \"price_by_area_interval\"\n",
    "townhouse_data = pd.get_dummies(townhouse_data, columns=[col for col in townhouse_data.columns if townhouse_data[col].dtype.name == 'category' and col != 'price_by_area_interval'])"
   ]
  },
  {
   "cell_type": "markdown",
   "id": "70e2a2ae-5ca4-4ebf-a7e1-7f1d9903a736",
   "metadata": {},
   "source": [
    "## Models Building"
   ]
  },
  {
   "cell_type": "markdown",
   "id": "c0153e8f-31fb-4a50-8b90-b30f32ef4ba0",
   "metadata": {},
   "source": [
    "#### house data"
   ]
  },
  {
   "cell_type": "markdown",
   "id": "a8155e99-b924-4182-a643-9213d35abf5c",
   "metadata": {},
   "source": [
    "random forest models"
   ]
  },
  {
   "cell_type": "code",
   "execution_count": 38,
   "id": "3ad32ee9-994c-4c78-93ad-592d910ad7b1",
   "metadata": {},
   "outputs": [
    {
     "name": "stdout",
     "output_type": "stream",
     "text": [
      "Model 1 - Accuracy: 0.56\n",
      "Model 2 - Accuracy: 0.63\n",
      "Model 3 - Accuracy: 0.69\n",
      "Model 4 - Accuracy: 0.56\n",
      "Model 5 - Accuracy: 0.56\n",
      "Model 6 - Accuracy: 0.69\n",
      "Model 7 - Accuracy: 0.69\n",
      "Model 8 - Accuracy: 0.70\n"
     ]
    }
   ],
   "source": [
    "from sklearn.ensemble import RandomForestClassifier\n",
    "from sklearn.model_selection import train_test_split\n",
    "from sklearn.metrics import accuracy_score\n",
    "\n",
    "X = house_data.drop(columns=['price_by_area_interval'])\n",
    "y = house_data['price_by_area_interval']\n",
    "\n",
    "params_combinations = [\n",
    "    {'n_estimators': 100, 'max_depth': 10, 'min_samples_split': 2, 'random_state': 42},\n",
    "\n",
    "    {'n_estimators': 100, 'max_depth': 20, 'min_samples_split': 2, 'random_state': 42},\n",
    "    {'n_estimators': 100, 'max_depth': 50, 'min_samples_split': 2, 'random_state': 42},\n",
    "\n",
    "    {'n_estimators': 500, 'max_depth': 10, 'min_samples_split': 2, 'random_state': 42},\n",
    "    {'n_estimators': 1000, 'max_depth': 10, 'min_samples_split': 2, 'random_state': 42},\n",
    "    \n",
    "    {'n_estimators': 100, 'max_depth': None, 'min_samples_split': 2, 'random_state': 42},\n",
    "    {'n_estimators': 200, 'max_depth': None, 'min_samples_split': 2, 'random_state': 42},\n",
    "    {'n_estimators': 100, 'max_depth': None, 'min_samples_split': 4, 'random_state': 42}\n",
    "]\n",
    "\n",
    "models = []\n",
    "for params in params_combinations:\n",
    "    model = RandomForestClassifier(**params)\n",
    "    X_train, X_test, y_train, y_test = train_test_split(X, y, test_size=0.2, random_state=42)\n",
    "    model.fit(X_train, y_train)\n",
    "    y_pred = model.predict(X_test)\n",
    "    accuracy = accuracy_score(y_test, y_pred)\n",
    "    models.append((model, accuracy))\n",
    "\n",
    "for i, (model, accuracy) in enumerate(models):\n",
    "    print(f\"Model {i + 1} - Accuracy: {accuracy:.2f}\")"
   ]
  },
  {
   "cell_type": "markdown",
   "id": "b89d7f5b-e20a-46d5-a0ae-e65f08246042",
   "metadata": {},
   "source": [
    "svm models"
   ]
  },
  {
   "cell_type": "code",
   "execution_count": 39,
   "id": "9ffab72b-4d15-4be6-bb73-35b91c67b5e5",
   "metadata": {},
   "outputs": [
    {
     "name": "stdout",
     "output_type": "stream",
     "text": [
      "SVM Model 1 - Parameters: {'C': 0.1, 'break_ties': False, 'cache_size': 200, 'class_weight': None, 'coef0': 0.0, 'decision_function_shape': 'ovr', 'degree': 3, 'gamma': 'scale', 'kernel': 'rbf', 'max_iter': -1, 'probability': False, 'random_state': 42, 'shrinking': True, 'tol': 0.001, 'verbose': False} - Accuracy: 0.64\n",
      "SVM Model 2 - Parameters: {'C': 1.0, 'break_ties': False, 'cache_size': 200, 'class_weight': None, 'coef0': 0.0, 'decision_function_shape': 'ovr', 'degree': 3, 'gamma': 'scale', 'kernel': 'rbf', 'max_iter': -1, 'probability': False, 'random_state': 42, 'shrinking': True, 'tol': 0.001, 'verbose': False} - Accuracy: 0.71\n",
      "SVM Model 3 - Parameters: {'C': 0.01, 'break_ties': False, 'cache_size': 200, 'class_weight': None, 'coef0': 0.0, 'decision_function_shape': 'ovr', 'degree': 3, 'gamma': 'scale', 'kernel': 'rbf', 'max_iter': -1, 'probability': False, 'random_state': 42, 'shrinking': True, 'tol': 0.001, 'verbose': False} - Accuracy: 0.61\n",
      "SVM Model 4 - Parameters: {'C': 0.1, 'break_ties': False, 'cache_size': 200, 'class_weight': None, 'coef0': 0.0, 'decision_function_shape': 'ovr', 'degree': 3, 'gamma': 0.1, 'kernel': 'rbf', 'max_iter': -1, 'probability': False, 'random_state': 42, 'shrinking': True, 'tol': 0.001, 'verbose': False} - Accuracy: 0.70\n",
      "SVM Model 5 - Parameters: {'C': 0.1, 'break_ties': False, 'cache_size': 200, 'class_weight': None, 'coef0': 0.0, 'decision_function_shape': 'ovr', 'degree': 3, 'gamma': 0.01, 'kernel': 'rbf', 'max_iter': -1, 'probability': False, 'random_state': 42, 'shrinking': True, 'tol': 0.001, 'verbose': False} - Accuracy: 0.65\n",
      "SVM Model 6 - Parameters: {'C': 0.1, 'break_ties': False, 'cache_size': 200, 'class_weight': None, 'coef0': 0.0, 'decision_function_shape': 'ovr', 'degree': 3, 'gamma': 0.01, 'kernel': 'rbf', 'max_iter': -1, 'probability': False, 'random_state': 42, 'shrinking': True, 'tol': 0.001, 'verbose': False} - Accuracy: 0.65\n",
      "SVM Model 7 - Parameters: {'C': 1.0, 'break_ties': False, 'cache_size': 200, 'class_weight': None, 'coef0': 0.0, 'decision_function_shape': 'ovr', 'degree': 3, 'gamma': 0.1, 'kernel': 'rbf', 'max_iter': -1, 'probability': False, 'random_state': 42, 'shrinking': True, 'tol': 0.001, 'verbose': False} - Accuracy: 0.72\n",
      "SVM Model 8 - Parameters: {'C': 1.0, 'break_ties': False, 'cache_size': 200, 'class_weight': None, 'coef0': 0.0, 'decision_function_shape': 'ovr', 'degree': 3, 'gamma': 0.01, 'kernel': 'rbf', 'max_iter': -1, 'probability': False, 'random_state': 42, 'shrinking': True, 'tol': 0.001, 'verbose': False} - Accuracy: 0.71\n",
      "SVM Model 9 - Parameters: {'C': 1.0, 'break_ties': False, 'cache_size': 200, 'class_weight': None, 'coef0': 0.0, 'decision_function_shape': 'ovr', 'degree': 3, 'gamma': 0.001, 'kernel': 'rbf', 'max_iter': -1, 'probability': False, 'random_state': 42, 'shrinking': True, 'tol': 0.001, 'verbose': False} - Accuracy: 0.65\n",
      "SVM Model 10 - Parameters: {'C': 10.0, 'break_ties': False, 'cache_size': 200, 'class_weight': None, 'coef0': 0.0, 'decision_function_shape': 'ovr', 'degree': 3, 'gamma': 0.1, 'kernel': 'rbf', 'max_iter': -1, 'probability': False, 'random_state': 42, 'shrinking': True, 'tol': 0.001, 'verbose': False} - Accuracy: 0.70\n",
      "SVM Model 11 - Parameters: {'C': 10.0, 'break_ties': False, 'cache_size': 200, 'class_weight': None, 'coef0': 0.0, 'decision_function_shape': 'ovr', 'degree': 3, 'gamma': 0.01, 'kernel': 'rbf', 'max_iter': -1, 'probability': False, 'random_state': 42, 'shrinking': True, 'tol': 0.001, 'verbose': False} - Accuracy: 0.71\n"
     ]
    }
   ],
   "source": [
    "from sklearn.svm import SVC\n",
    "from sklearn.model_selection import train_test_split\n",
    "from sklearn.metrics import accuracy_score\n",
    "\n",
    "# Prepare features and target variables\n",
    "X = house_data.drop(columns=['price_by_area_interval'])\n",
    "y = house_data['price_by_area_interval']\n",
    "\n",
    "# Define different RBF kernel SVM parameter combinations\n",
    "rbf_svm_param_combinations = [\n",
    "    {'C': 0.1, 'kernel': 'rbf', 'gamma': 'scale', 'random_state': 42},\n",
    "    {'C': 1.0, 'kernel': 'rbf', 'gamma': 'scale', 'random_state': 42},\n",
    "    {'C': 0.01, 'kernel': 'rbf', 'gamma': 'scale', 'random_state': 42},\n",
    "    \n",
    "    {'C': 0.1, 'kernel': 'rbf', 'gamma': 0.1, 'random_state': 42},\n",
    "    {'C': 0.1, 'kernel': 'rbf', 'gamma': 0.01, 'random_state': 42},\n",
    "    {'C': 0.1, 'kernel': 'rbf', 'gamma': 0.01, 'random_state': 42},\n",
    "    \n",
    "    {'C': 1.0, 'kernel': 'rbf', 'gamma': 0.1, 'random_state': 42},\n",
    "    {'C': 1.0, 'kernel': 'rbf', 'gamma': 0.01, 'random_state': 42},\n",
    "    {'C': 1.0, 'kernel': 'rbf', 'gamma': 0.001, 'random_state': 42},\n",
    "\n",
    "    {'C': 10.0, 'kernel': 'rbf', 'gamma': 0.1, 'random_state': 42},\n",
    "    {'C': 10.0, 'kernel': 'rbf', 'gamma': 0.01, 'random_state': 42}\n",
    "]\n",
    "\n",
    "#Train and evaluate different RBF kernel SVM models\n",
    "svm_models = []\n",
    "for params in rbf_svm_param_combinations:\n",
    "     model = SVC(**params)\n",
    "     X_train, X_test, y_train, y_test = train_test_split(X, y, test_size=0.2, random_state=42)\n",
    "     model.fit(X_train, y_train)\n",
    "     y_pred = model.predict(X_test)\n",
    "     accuracy = accuracy_score(y_test, y_pred)\n",
    "     svm_models.append((model, accuracy))\n",
    "\n",
    "#Print the accuracy of the SVM model\n",
    "for i, (model, accuracy) in enumerate(svm_models):\n",
    "     print(f\"SVM Model {i + 1} - Parameters: {model.get_params()} - Accuracy: {accuracy:.2f}\")"
   ]
  },
  {
   "cell_type": "markdown",
   "id": "b53e6c01-f9a5-4d22-8f29-816623ab8298",
   "metadata": {},
   "source": [
    "ANN Models"
   ]
  },
  {
   "cell_type": "code",
   "execution_count": 40,
   "id": "59d3c12e-31f0-4de3-b50a-0efa879acd0f",
   "metadata": {},
   "outputs": [
    {
     "name": "stdout",
     "output_type": "stream",
     "text": [
      "Epoch 1/20\n",
      "81/81 [==============================] - 3s 16ms/step - loss: 1.1044 - accuracy: 0.5641 - val_loss: 0.8495 - val_accuracy: 0.6435\n",
      "Epoch 2/20\n",
      "81/81 [==============================] - 1s 9ms/step - loss: 0.8112 - accuracy: 0.6835 - val_loss: 0.7806 - val_accuracy: 0.6682\n",
      "Epoch 3/20\n",
      "81/81 [==============================] - 1s 9ms/step - loss: 0.7262 - accuracy: 0.7183 - val_loss: 0.7337 - val_accuracy: 0.7022\n",
      "Epoch 4/20\n",
      "81/81 [==============================] - 1s 10ms/step - loss: 0.6545 - accuracy: 0.7504 - val_loss: 0.7212 - val_accuracy: 0.7238\n",
      "Epoch 5/20\n",
      "81/81 [==============================] - 1s 9ms/step - loss: 0.5794 - accuracy: 0.7859 - val_loss: 0.7288 - val_accuracy: 0.7114\n",
      "Epoch 6/20\n",
      "81/81 [==============================] - 1s 9ms/step - loss: 0.5082 - accuracy: 0.8292 - val_loss: 0.7413 - val_accuracy: 0.7037\n",
      "Epoch 7/20\n",
      "81/81 [==============================] - 1s 9ms/step - loss: 0.4405 - accuracy: 0.8651 - val_loss: 0.7698 - val_accuracy: 0.6744\n",
      "Epoch 8/20\n",
      "81/81 [==============================] - 1s 9ms/step - loss: 0.3782 - accuracy: 0.8791 - val_loss: 0.8014 - val_accuracy: 0.6806\n",
      "Epoch 9/20\n",
      "81/81 [==============================] - 1s 10ms/step - loss: 0.3207 - accuracy: 0.9057 - val_loss: 0.8230 - val_accuracy: 0.7006\n",
      "Epoch 10/20\n",
      "81/81 [==============================] - 1s 9ms/step - loss: 0.2869 - accuracy: 0.9096 - val_loss: 0.8518 - val_accuracy: 0.6991\n",
      "Epoch 11/20\n",
      "81/81 [==============================] - 1s 12ms/step - loss: 0.2524 - accuracy: 0.9185 - val_loss: 0.9006 - val_accuracy: 0.6914\n",
      "Epoch 12/20\n",
      "81/81 [==============================] - 1s 10ms/step - loss: 0.2260 - accuracy: 0.9219 - val_loss: 0.9537 - val_accuracy: 0.6713\n",
      "Epoch 13/20\n",
      "81/81 [==============================] - 1s 9ms/step - loss: 0.2019 - accuracy: 0.9308 - val_loss: 0.9826 - val_accuracy: 0.6759\n",
      "Epoch 14/20\n",
      "81/81 [==============================] - 1s 10ms/step - loss: 0.1787 - accuracy: 0.9359 - val_loss: 1.0790 - val_accuracy: 0.6373\n",
      "Epoch 15/20\n",
      "81/81 [==============================] - 1s 10ms/step - loss: 0.1692 - accuracy: 0.9397 - val_loss: 1.1025 - val_accuracy: 0.6389\n",
      "Epoch 16/20\n",
      "81/81 [==============================] - 1s 10ms/step - loss: 0.1561 - accuracy: 0.9424 - val_loss: 1.1200 - val_accuracy: 0.6651\n",
      "Epoch 17/20\n",
      "81/81 [==============================] - 1s 10ms/step - loss: 0.1430 - accuracy: 0.9467 - val_loss: 1.2006 - val_accuracy: 0.6296\n",
      "Epoch 18/20\n",
      "81/81 [==============================] - 2s 19ms/step - loss: 0.1420 - accuracy: 0.9482 - val_loss: 1.3502 - val_accuracy: 0.5880\n",
      "Epoch 19/20\n",
      "81/81 [==============================] - 1s 15ms/step - loss: 0.1289 - accuracy: 0.9540 - val_loss: 1.2261 - val_accuracy: 0.6497\n",
      "Epoch 20/20\n",
      "81/81 [==============================] - 1s 13ms/step - loss: 0.1148 - accuracy: 0.9617 - val_loss: 1.2095 - val_accuracy: 0.6636\n",
      "26/26 [==============================] - 1s 5ms/step\n",
      "Epoch 1/20\n",
      "81/81 [==============================] - 5s 35ms/step - loss: 1.0307 - accuracy: 0.5684 - val_loss: 0.7962 - val_accuracy: 0.6559\n",
      "Epoch 2/20\n",
      "81/81 [==============================] - 2s 21ms/step - loss: 0.7703 - accuracy: 0.6874 - val_loss: 0.7554 - val_accuracy: 0.6713\n",
      "Epoch 3/20\n",
      "81/81 [==============================] - 2s 23ms/step - loss: 0.6901 - accuracy: 0.7307 - val_loss: 0.7249 - val_accuracy: 0.6991\n",
      "Epoch 4/20\n",
      "81/81 [==============================] - 2s 23ms/step - loss: 0.6101 - accuracy: 0.7763 - val_loss: 0.7184 - val_accuracy: 0.7022\n",
      "Epoch 5/20\n",
      "81/81 [==============================] - 2s 23ms/step - loss: 0.5127 - accuracy: 0.8296 - val_loss: 0.7198 - val_accuracy: 0.7068\n",
      "Epoch 6/20\n",
      "81/81 [==============================] - 2s 25ms/step - loss: 0.4180 - accuracy: 0.8663 - val_loss: 0.7699 - val_accuracy: 0.6944\n",
      "Epoch 7/20\n",
      "81/81 [==============================] - 2s 21ms/step - loss: 0.3397 - accuracy: 0.8903 - val_loss: 0.8124 - val_accuracy: 0.6883\n",
      "Epoch 8/20\n",
      "81/81 [==============================] - 2s 29ms/step - loss: 0.2826 - accuracy: 0.9104 - val_loss: 0.8659 - val_accuracy: 0.6852\n",
      "Epoch 9/20\n",
      "81/81 [==============================] - 2s 21ms/step - loss: 0.2415 - accuracy: 0.9177 - val_loss: 0.9494 - val_accuracy: 0.6559\n",
      "Epoch 10/20\n",
      "81/81 [==============================] - 2s 19ms/step - loss: 0.2081 - accuracy: 0.9285 - val_loss: 1.0133 - val_accuracy: 0.6466\n",
      "Epoch 11/20\n",
      "81/81 [==============================] - 2s 20ms/step - loss: 0.1878 - accuracy: 0.9324 - val_loss: 1.0322 - val_accuracy: 0.6620\n",
      "Epoch 12/20\n",
      "81/81 [==============================] - 2s 20ms/step - loss: 0.1607 - accuracy: 0.9417 - val_loss: 1.0952 - val_accuracy: 0.6481\n",
      "Epoch 13/20\n",
      "81/81 [==============================] - 2s 27ms/step - loss: 0.1402 - accuracy: 0.9544 - val_loss: 1.1172 - val_accuracy: 0.6590\n",
      "Epoch 14/20\n",
      "81/81 [==============================] - 1s 17ms/step - loss: 0.1231 - accuracy: 0.9602 - val_loss: 1.2298 - val_accuracy: 0.6296\n",
      "Epoch 15/20\n",
      "81/81 [==============================] - 1s 16ms/step - loss: 0.1169 - accuracy: 0.9563 - val_loss: 1.2253 - val_accuracy: 0.6559\n",
      "Epoch 16/20\n",
      "81/81 [==============================] - 1s 16ms/step - loss: 0.1047 - accuracy: 0.9575 - val_loss: 1.2763 - val_accuracy: 0.6636\n",
      "Epoch 17/20\n",
      "81/81 [==============================] - 1s 16ms/step - loss: 0.0961 - accuracy: 0.9637 - val_loss: 1.3159 - val_accuracy: 0.6420\n",
      "Epoch 18/20\n",
      "81/81 [==============================] - 1s 16ms/step - loss: 0.0938 - accuracy: 0.9633 - val_loss: 1.3792 - val_accuracy: 0.6574\n",
      "Epoch 19/20\n",
      "81/81 [==============================] - 1s 17ms/step - loss: 0.0754 - accuracy: 0.9730 - val_loss: 1.3848 - val_accuracy: 0.6466\n",
      "Epoch 20/20\n",
      "81/81 [==============================] - 1s 15ms/step - loss: 0.0687 - accuracy: 0.9768 - val_loss: 1.4078 - val_accuracy: 0.6590\n",
      "26/26 [==============================] - 0s 5ms/step\n",
      "Epoch 1/10\n",
      "41/41 [==============================] - 3s 27ms/step - loss: 1.1569 - accuracy: 0.4911 - val_loss: 0.9087 - val_accuracy: 0.6204\n",
      "Epoch 2/10\n",
      "41/41 [==============================] - 1s 17ms/step - loss: 0.8633 - accuracy: 0.6522 - val_loss: 0.7797 - val_accuracy: 0.6744\n",
      "Epoch 3/10\n",
      "41/41 [==============================] - 1s 19ms/step - loss: 0.7569 - accuracy: 0.6990 - val_loss: 0.7354 - val_accuracy: 0.6883\n",
      "Epoch 4/10\n",
      "41/41 [==============================] - 1s 20ms/step - loss: 0.6904 - accuracy: 0.7326 - val_loss: 0.7394 - val_accuracy: 0.6991\n",
      "Epoch 5/10\n",
      "41/41 [==============================] - 1s 21ms/step - loss: 0.6212 - accuracy: 0.7751 - val_loss: 0.7387 - val_accuracy: 0.6836\n",
      "Epoch 6/10\n",
      "41/41 [==============================] - 1s 20ms/step - loss: 0.5451 - accuracy: 0.8145 - val_loss: 0.7155 - val_accuracy: 0.7145\n",
      "Epoch 7/10\n",
      "41/41 [==============================] - 1s 18ms/step - loss: 0.4717 - accuracy: 0.8447 - val_loss: 0.7727 - val_accuracy: 0.6698\n",
      "Epoch 8/10\n",
      "41/41 [==============================] - 1s 20ms/step - loss: 0.3990 - accuracy: 0.8818 - val_loss: 0.7586 - val_accuracy: 0.6914\n",
      "Epoch 9/10\n",
      "41/41 [==============================] - 1s 20ms/step - loss: 0.3421 - accuracy: 0.8984 - val_loss: 0.7899 - val_accuracy: 0.6929\n",
      "Epoch 10/10\n",
      "41/41 [==============================] - 1s 19ms/step - loss: 0.2976 - accuracy: 0.9092 - val_loss: 0.8294 - val_accuracy: 0.6944\n",
      "26/26 [==============================] - 0s 4ms/step\n",
      "Epoch 1/30\n",
      "162/162 [==============================] - 4s 16ms/step - loss: 0.9209 - accuracy: 0.6039 - val_loss: 0.7453 - val_accuracy: 0.6836\n",
      "Epoch 2/30\n",
      "162/162 [==============================] - 2s 14ms/step - loss: 0.7329 - accuracy: 0.7168 - val_loss: 0.7130 - val_accuracy: 0.6944\n",
      "Epoch 3/30\n",
      "162/162 [==============================] - 3s 16ms/step - loss: 0.6378 - accuracy: 0.7639 - val_loss: 0.7154 - val_accuracy: 0.6929\n",
      "Epoch 4/30\n",
      "162/162 [==============================] - 3s 16ms/step - loss: 0.5346 - accuracy: 0.8145 - val_loss: 0.7331 - val_accuracy: 0.6944\n",
      "Epoch 5/30\n",
      "162/162 [==============================] - 3s 16ms/step - loss: 0.4216 - accuracy: 0.8617 - val_loss: 0.8302 - val_accuracy: 0.6852\n",
      "Epoch 6/30\n",
      "162/162 [==============================] - 2s 13ms/step - loss: 0.3378 - accuracy: 0.8887 - val_loss: 0.8917 - val_accuracy: 0.6497\n",
      "Epoch 7/30\n",
      "162/162 [==============================] - 2s 13ms/step - loss: 0.2749 - accuracy: 0.9053 - val_loss: 0.9126 - val_accuracy: 0.6636\n",
      "Epoch 8/30\n",
      "162/162 [==============================] - 2s 13ms/step - loss: 0.2221 - accuracy: 0.9231 - val_loss: 0.9535 - val_accuracy: 0.6898\n",
      "Epoch 9/30\n",
      "162/162 [==============================] - 2s 13ms/step - loss: 0.1852 - accuracy: 0.9343 - val_loss: 1.0426 - val_accuracy: 0.6590\n",
      "Epoch 10/30\n",
      "162/162 [==============================] - 2s 14ms/step - loss: 0.1648 - accuracy: 0.9413 - val_loss: 1.1168 - val_accuracy: 0.6667\n",
      "Epoch 11/30\n",
      "162/162 [==============================] - 2s 14ms/step - loss: 0.1349 - accuracy: 0.9494 - val_loss: 1.1610 - val_accuracy: 0.6775\n",
      "Epoch 12/30\n",
      "162/162 [==============================] - 2s 15ms/step - loss: 0.1184 - accuracy: 0.9594 - val_loss: 1.2097 - val_accuracy: 0.6574\n",
      "Epoch 13/30\n",
      "162/162 [==============================] - 3s 17ms/step - loss: 0.1062 - accuracy: 0.9610 - val_loss: 1.2885 - val_accuracy: 0.6327\n",
      "Epoch 14/30\n",
      "162/162 [==============================] - 3s 17ms/step - loss: 0.0975 - accuracy: 0.9641 - val_loss: 1.3978 - val_accuracy: 0.6204\n",
      "Epoch 15/30\n",
      "162/162 [==============================] - 3s 16ms/step - loss: 0.0851 - accuracy: 0.9675 - val_loss: 1.3808 - val_accuracy: 0.6543\n",
      "Epoch 16/30\n",
      "162/162 [==============================] - 2s 15ms/step - loss: 0.0707 - accuracy: 0.9726 - val_loss: 1.4591 - val_accuracy: 0.6481\n",
      "Epoch 17/30\n",
      "162/162 [==============================] - 2s 14ms/step - loss: 0.0623 - accuracy: 0.9757 - val_loss: 1.4726 - val_accuracy: 0.6574\n",
      "Epoch 18/30\n",
      "162/162 [==============================] - 3s 17ms/step - loss: 0.0709 - accuracy: 0.9733 - val_loss: 1.5067 - val_accuracy: 0.6435\n",
      "Epoch 19/30\n",
      "162/162 [==============================] - 2s 14ms/step - loss: 0.0497 - accuracy: 0.9826 - val_loss: 1.5842 - val_accuracy: 0.6173\n",
      "Epoch 20/30\n",
      "162/162 [==============================] - 2s 13ms/step - loss: 0.0507 - accuracy: 0.9826 - val_loss: 1.7699 - val_accuracy: 0.5880\n",
      "Epoch 21/30\n",
      "162/162 [==============================] - 2s 13ms/step - loss: 0.0412 - accuracy: 0.9838 - val_loss: 1.6939 - val_accuracy: 0.6373\n",
      "Epoch 22/30\n",
      "162/162 [==============================] - 2s 13ms/step - loss: 0.0484 - accuracy: 0.9845 - val_loss: 1.6356 - val_accuracy: 0.6389\n",
      "Epoch 23/30\n",
      "162/162 [==============================] - 2s 13ms/step - loss: 0.0399 - accuracy: 0.9857 - val_loss: 1.8301 - val_accuracy: 0.5880\n",
      "Epoch 24/30\n",
      "162/162 [==============================] - 2s 13ms/step - loss: 0.0361 - accuracy: 0.9876 - val_loss: 1.7284 - val_accuracy: 0.6235\n",
      "Epoch 25/30\n",
      "162/162 [==============================] - 2s 13ms/step - loss: 0.0335 - accuracy: 0.9892 - val_loss: 1.7825 - val_accuracy: 0.6281\n",
      "Epoch 26/30\n",
      "162/162 [==============================] - 2s 14ms/step - loss: 0.0346 - accuracy: 0.9869 - val_loss: 1.8539 - val_accuracy: 0.6142\n",
      "Epoch 27/30\n",
      "162/162 [==============================] - 2s 14ms/step - loss: 0.0358 - accuracy: 0.9830 - val_loss: 1.8676 - val_accuracy: 0.5833\n",
      "Epoch 28/30\n",
      "162/162 [==============================] - 2s 15ms/step - loss: 0.0294 - accuracy: 0.9896 - val_loss: 1.7368 - val_accuracy: 0.6358\n",
      "Epoch 29/30\n",
      "162/162 [==============================] - 2s 15ms/step - loss: 0.0311 - accuracy: 0.9888 - val_loss: 1.8003 - val_accuracy: 0.6296\n",
      "Epoch 30/30\n",
      "162/162 [==============================] - 2s 14ms/step - loss: 0.0221 - accuracy: 0.9915 - val_loss: 1.8154 - val_accuracy: 0.6343\n",
      "26/26 [==============================] - 0s 4ms/step\n",
      "Epoch 1/20\n",
      "81/81 [==============================] - 3s 18ms/step - loss: 1.0191 - accuracy: 0.5591 - val_loss: 0.8210 - val_accuracy: 0.6667\n",
      "Epoch 2/20\n",
      "81/81 [==============================] - 1s 16ms/step - loss: 0.7807 - accuracy: 0.6847 - val_loss: 0.7248 - val_accuracy: 0.7006\n",
      "Epoch 3/20\n",
      "81/81 [==============================] - 1s 15ms/step - loss: 0.6845 - accuracy: 0.7396 - val_loss: 0.7474 - val_accuracy: 0.6852\n",
      "Epoch 4/20\n",
      "81/81 [==============================] - 1s 16ms/step - loss: 0.6132 - accuracy: 0.7778 - val_loss: 0.7023 - val_accuracy: 0.7207\n",
      "Epoch 5/20\n",
      "81/81 [==============================] - 1s 17ms/step - loss: 0.5068 - accuracy: 0.8242 - val_loss: 0.8182 - val_accuracy: 0.6466\n",
      "Epoch 6/20\n",
      "81/81 [==============================] - 1s 15ms/step - loss: 0.4170 - accuracy: 0.8632 - val_loss: 0.8165 - val_accuracy: 0.6620\n",
      "Epoch 7/20\n",
      "81/81 [==============================] - 1s 15ms/step - loss: 0.3371 - accuracy: 0.8957 - val_loss: 0.8297 - val_accuracy: 0.6867\n",
      "Epoch 8/20\n",
      "81/81 [==============================] - 1s 16ms/step - loss: 0.2724 - accuracy: 0.9134 - val_loss: 0.8738 - val_accuracy: 0.6821\n",
      "Epoch 9/20\n",
      "81/81 [==============================] - 1s 18ms/step - loss: 0.2350 - accuracy: 0.9235 - val_loss: 1.0017 - val_accuracy: 0.6358\n",
      "Epoch 10/20\n",
      "81/81 [==============================] - 1s 18ms/step - loss: 0.1974 - accuracy: 0.9343 - val_loss: 0.9474 - val_accuracy: 0.6836\n",
      "Epoch 11/20\n",
      "81/81 [==============================] - 1s 15ms/step - loss: 0.1777 - accuracy: 0.9347 - val_loss: 1.0368 - val_accuracy: 0.6744\n",
      "Epoch 12/20\n",
      "81/81 [==============================] - 1s 15ms/step - loss: 0.1584 - accuracy: 0.9409 - val_loss: 1.1009 - val_accuracy: 0.6373\n",
      "Epoch 13/20\n",
      "81/81 [==============================] - 1s 15ms/step - loss: 0.1375 - accuracy: 0.9505 - val_loss: 1.2815 - val_accuracy: 0.5802\n",
      "Epoch 14/20\n",
      "81/81 [==============================] - 1s 15ms/step - loss: 0.1249 - accuracy: 0.9536 - val_loss: 1.2535 - val_accuracy: 0.6235\n",
      "Epoch 15/20\n",
      "81/81 [==============================] - 1s 16ms/step - loss: 0.1040 - accuracy: 0.9610 - val_loss: 1.2182 - val_accuracy: 0.6404\n",
      "Epoch 16/20\n",
      "81/81 [==============================] - 1s 16ms/step - loss: 0.0887 - accuracy: 0.9695 - val_loss: 1.2638 - val_accuracy: 0.6528\n",
      "Epoch 17/20\n",
      "81/81 [==============================] - 1s 17ms/step - loss: 0.0861 - accuracy: 0.9741 - val_loss: 1.3289 - val_accuracy: 0.6420\n",
      "Epoch 18/20\n",
      "81/81 [==============================] - 1s 16ms/step - loss: 0.0713 - accuracy: 0.9726 - val_loss: 1.4176 - val_accuracy: 0.6281\n",
      "Epoch 19/20\n",
      "81/81 [==============================] - 1s 17ms/step - loss: 0.0698 - accuracy: 0.9772 - val_loss: 1.3643 - val_accuracy: 0.6543\n",
      "Epoch 20/20\n",
      "81/81 [==============================] - 2s 25ms/step - loss: 0.0701 - accuracy: 0.9764 - val_loss: 1.5467 - val_accuracy: 0.6019\n",
      "26/26 [==============================] - 0s 5ms/step\n",
      "Epoch 1/20\n",
      "81/81 [==============================] - 4s 22ms/step - loss: 0.9719 - accuracy: 0.5788 - val_loss: 0.7696 - val_accuracy: 0.6728\n",
      "Epoch 2/20\n",
      "81/81 [==============================] - 1s 14ms/step - loss: 0.7554 - accuracy: 0.6978 - val_loss: 0.7182 - val_accuracy: 0.7052\n",
      "Epoch 3/20\n",
      "81/81 [==============================] - 1s 15ms/step - loss: 0.6625 - accuracy: 0.7624 - val_loss: 0.7002 - val_accuracy: 0.7299\n",
      "Epoch 4/20\n",
      "81/81 [==============================] - 1s 16ms/step - loss: 0.5856 - accuracy: 0.7910 - val_loss: 0.6988 - val_accuracy: 0.7176\n",
      "Epoch 5/20\n",
      "81/81 [==============================] - 2s 19ms/step - loss: 0.4906 - accuracy: 0.8323 - val_loss: 0.7505 - val_accuracy: 0.6775\n",
      "Epoch 6/20\n",
      "81/81 [==============================] - 1s 16ms/step - loss: 0.3958 - accuracy: 0.8682 - val_loss: 0.7749 - val_accuracy: 0.7068\n",
      "Epoch 7/20\n",
      "81/81 [==============================] - 1s 16ms/step - loss: 0.3272 - accuracy: 0.8910 - val_loss: 0.8452 - val_accuracy: 0.6605\n",
      "Epoch 8/20\n",
      "81/81 [==============================] - 1s 16ms/step - loss: 0.2700 - accuracy: 0.9119 - val_loss: 0.8862 - val_accuracy: 0.6867\n",
      "Epoch 9/20\n",
      "81/81 [==============================] - 1s 17ms/step - loss: 0.2301 - accuracy: 0.9204 - val_loss: 1.0714 - val_accuracy: 0.6250\n",
      "Epoch 10/20\n",
      "81/81 [==============================] - 1s 16ms/step - loss: 0.1986 - accuracy: 0.9304 - val_loss: 0.9893 - val_accuracy: 0.6806\n",
      "Epoch 11/20\n",
      "81/81 [==============================] - 1s 14ms/step - loss: 0.1760 - accuracy: 0.9324 - val_loss: 1.0454 - val_accuracy: 0.6605\n",
      "Epoch 12/20\n",
      "81/81 [==============================] - 1s 17ms/step - loss: 0.1512 - accuracy: 0.9447 - val_loss: 1.0704 - val_accuracy: 0.6806\n",
      "Epoch 13/20\n",
      "81/81 [==============================] - 1s 16ms/step - loss: 0.1470 - accuracy: 0.9451 - val_loss: 1.1275 - val_accuracy: 0.6636\n",
      "Epoch 14/20\n",
      "81/81 [==============================] - 1s 16ms/step - loss: 0.1191 - accuracy: 0.9548 - val_loss: 1.2998 - val_accuracy: 0.6219\n",
      "Epoch 15/20\n",
      "81/81 [==============================] - 1s 16ms/step - loss: 0.1098 - accuracy: 0.9602 - val_loss: 1.2294 - val_accuracy: 0.6296\n",
      "Epoch 16/20\n",
      "81/81 [==============================] - 1s 17ms/step - loss: 0.1036 - accuracy: 0.9629 - val_loss: 1.2710 - val_accuracy: 0.6389\n",
      "Epoch 17/20\n",
      "81/81 [==============================] - 1s 17ms/step - loss: 0.0906 - accuracy: 0.9637 - val_loss: 1.3037 - val_accuracy: 0.6389\n",
      "Epoch 18/20\n",
      "81/81 [==============================] - 1s 16ms/step - loss: 0.0829 - accuracy: 0.9656 - val_loss: 1.3353 - val_accuracy: 0.6682\n",
      "Epoch 19/20\n",
      "81/81 [==============================] - 1s 18ms/step - loss: 0.0791 - accuracy: 0.9691 - val_loss: 1.3711 - val_accuracy: 0.6343\n",
      "Epoch 20/20\n",
      "81/81 [==============================] - 1s 17ms/step - loss: 0.0748 - accuracy: 0.9726 - val_loss: 1.4444 - val_accuracy: 0.6373\n",
      "26/26 [==============================] - 0s 5ms/step\n",
      "    Model Name                                         Parameters  Accuracy\n",
      "0  ann_model_1  {'hidden_layer_1': 64, 'hidden_layer_2': 32, '...  0.638272\n",
      "1  ann_model_2  {'hidden_layer_1': 128, 'hidden_layer_2': 64, ...  0.632099\n",
      "2  ann_model_3  {'hidden_layer_1': 128, 'hidden_layer_2': 64, ...  0.660494\n",
      "3  ann_model_4  {'hidden_layer_1': 128, 'hidden_layer_2': 64, ...  0.627160\n",
      "4  ann_model_5  {'hidden_layer_1': 128, 'hidden_layer_2': 64, ...  0.596296\n",
      "5  ann_model_6  {'hidden_layer_1': 128, 'hidden_layer_2': 64, ...  0.616049\n"
     ]
    }
   ],
   "source": [
    "import pandas as pd\n",
    "import numpy as np\n",
    "from sklearn.model_selection import train_test_split\n",
    "from tensorflow import keras\n",
    "from tensorflow.keras import layers\n",
    "from tensorflow.keras.utils import to_categorical\n",
    "from sklearn.metrics import accuracy_score\n",
    "\n",
    "# Define feature variables (X) and target variables (y)\n",
    "X = house_data.drop(columns=['price_by_area_interval'])\n",
    "y = house_data['price_by_area_interval']\n",
    "\n",
    "# Encode multi-category target variables into integer labels\n",
    "label_mapping = {label: idx for idx, label in enumerate(y.unique())}\n",
    "y_encoded = y.map(label_mapping)\n",
    "\n",
    "# Divide the data set into training set and test set\n",
    "X_train, X_test, y_train, y_test = train_test_split(X, y_encoded, test_size=0.2, random_state=42)\n",
    "\n",
    "# Convert integer labels to one-hot encoding\n",
    "y_train_one_hot = to_categorical(y_train)\n",
    "y_test_one_hot = to_categorical(y_test)\n",
    "\n",
    "# Parameter combinations for ANN\n",
    "param_combinations = [\n",
    "    {'hidden_layer_1': 64, 'hidden_layer_2': 32, 'hidden_layer_3': 16, 'epochs': 20, 'batch_size': 32},\n",
    "    {'hidden_layer_1': 128, 'hidden_layer_2': 64, 'hidden_layer_3': 32, 'epochs': 20, 'batch_size': 32},\n",
    "    {'hidden_layer_1': 128, 'hidden_layer_2': 64, 'epochs': 10, 'batch_size': 64},\n",
    "    {'hidden_layer_1': 128, 'hidden_layer_2': 64, 'epochs': 30, 'batch_size': 16},\n",
    "    {'hidden_layer_1': 128, 'hidden_layer_2': 64, 'epochs': 20, 'batch_size': 32, 'optimizer': 'adam', 'learning_rate': 0.001},\n",
    "    {'hidden_layer_1': 128, 'hidden_layer_2': 64, 'epochs': 20, 'batch_size': 32, 'optimizer': 'sgd', 'learning_rate': 0.01}\n",
    "]\n",
    "\n",
    "# Create a DataFrame to store model results\n",
    "results_df = pd.DataFrame(columns=['Model Name', 'Parameters', 'Accuracy'])\n",
    "\n",
    "# Create and train multiple ANN models\n",
    "for i, params in enumerate(param_combinations):\n",
    "    model_name = f\"ann_model_{i+1}\"\n",
    "    model = keras.Sequential()\n",
    "    model.add(layers.Input(shape=(X_train.shape[1],)))\n",
    "    model.add(layers.Dense(params['hidden_layer_1'], activation='relu'))\n",
    "    model.add(layers.Dense(params['hidden_layer_2'], activation='relu'))\n",
    "    model.add(layers.Dense(len(label_mapping), activation='softmax'))\n",
    "    \n",
    "    model.compile(optimizer='adam', loss='categorical_crossentropy', metrics=['accuracy'])\n",
    "    \n",
    "    model.fit(X_train, y_train_one_hot, epochs=params['epochs'], batch_size=params['batch_size'], validation_split=0.2)\n",
    "    \n",
    "    y_pred_one_hot = model.predict(X_test)\n",
    "    y_pred = np.argmax(y_pred_one_hot, axis=1)\n",
    "    \n",
    "    accuracy = accuracy_score(y_test, y_pred)\n",
    "    \n",
    "    # Append results to DataFrame\n",
    "    results_df = results_df.append({\n",
    "        'Model Name': model_name,\n",
    "        'Parameters': params,\n",
    "        'Accuracy': accuracy\n",
    "    }, ignore_index=True)\n",
    "\n",
    "# Output results\n",
    "print(results_df)"
   ]
  },
  {
   "cell_type": "markdown",
   "id": "3afb748f-8e14-4f0d-8094-68958bf16097",
   "metadata": {},
   "source": [
    "Naive Bayesracy: {accuracy:.2f}\")\r\n"
   ]
  },
  {
   "cell_type": "code",
   "execution_count": 41,
   "id": "59d548c2-c50a-4593-9de1-4f67cb339060",
   "metadata": {},
   "outputs": [
    {
     "name": "stdout",
     "output_type": "stream",
     "text": [
      "Accuracy: 0.64\n"
     ]
    }
   ],
   "source": [
    "import pandas as pd\n",
    "from sklearn.model_selection import train_test_split\n",
    "from sklearn.naive_bayes import MultinomialNB\n",
    "from sklearn.metrics import accuracy_score\n",
    "\n",
    "# Define feature variables (X) and target variables (y)\n",
    "X = house_data.drop(columns=['price_by_area_interval'])\n",
    "y = house_data['price_by_area_interval']\n",
    "\n",
    "# Divide the data set into training set and test set\n",
    "X_train, X_test, y_train, y_test = train_test_split(X, y, test_size=0.2, random_state=42)\n",
    "\n",
    "# Create and train a Multinomial Naive Bayes classifier\n",
    "naive_bayes_model = MultinomialNB()\n",
    "naive_bayes_model.fit(X_train, y_train)\n",
    "\n",
    "# Predict on the test set\n",
    "y_pred = naive_bayes_model.predict(X_test)\n",
    "\n",
    "# Calculate accuracy\n",
    "accuracy = accuracy_score(y_test, y_pred)\n",
    "\n",
    "# Output accuracy\n",
    "print(f\"Accuracy: {accuracy:.2f}\")"
   ]
  },
  {
   "cell_type": "code",
   "execution_count": 42,
   "id": "9f3ee531-8b2b-4ac1-8274-b446be08c4bf",
   "metadata": {},
   "outputs": [
    {
     "name": "stdout",
     "output_type": "stream",
     "text": [
      "Accuracy: 0.31\n"
     ]
    }
   ],
   "source": [
    "import pandas as pd\n",
    "from sklearn.model_selection import train_test_split\n",
    "from sklearn.naive_bayes import GaussianNB\n",
    "from sklearn.metrics import accuracy_score\n",
    "\n",
    "# Define feature variables (X) and target variables (y)\n",
    "X = house_data.drop(columns=['price_by_area_interval'])\n",
    "y = house_data['price_by_area_interval']\n",
    "\n",
    "# Divide the data set into training set and test set\n",
    "X_train, X_test, y_train, y_test = train_test_split(X, y, test_size=0.2, random_state=42)\n",
    "\n",
    "# Create and train a Gaussian Naive Bayes classifier\n",
    "naive_bayes_model = GaussianNB()\n",
    "naive_bayes_model.fit(X_train, y_train)\n",
    "\n",
    "# Predict on the test set\n",
    "y_pred = naive_bayes_model.predict(X_test)\n",
    "\n",
    "# Calculate accuracy\n",
    "accuracy = accuracy_score(y_test, y_pred)\n",
    "\n",
    "# Output accuracy\n",
    "print(f\"Accuracy: {accuracy:.2f}\")"
   ]
  },
  {
   "cell_type": "markdown",
   "id": "99039af1-13df-497d-8b53-da673777289c",
   "metadata": {},
   "source": [
    "### unit data"
   ]
  },
  {
   "cell_type": "markdown",
   "id": "20833b73-0abc-4da1-a309-578cd19bbcd1",
   "metadata": {},
   "source": [
    "random forest"
   ]
  },
  {
   "cell_type": "code",
   "execution_count": 43,
   "id": "42797346-965b-4f97-8b8b-70bb70d7f422",
   "metadata": {},
   "outputs": [],
   "source": [
    "unit_data.dropna(inplace=True)"
   ]
  },
  {
   "cell_type": "code",
   "execution_count": 44,
   "id": "8682b30b-9021-4390-9a58-f356d1769621",
   "metadata": {},
   "outputs": [
    {
     "name": "stdout",
     "output_type": "stream",
     "text": [
      "Model 1 - Accuracy: 0.55\n",
      "Model 2 - Accuracy: 0.54\n",
      "Model 3 - Accuracy: 0.55\n",
      "Model 4 - Accuracy: 0.54\n",
      "Model 5 - Accuracy: 0.54\n",
      "Model 6 - Accuracy: 0.55\n",
      "Model 7 - Accuracy: 0.56\n",
      "Model 8 - Accuracy: 0.57\n",
      "Model 9 - Accuracy: 0.57\n",
      "Model 10 - Accuracy: 0.56\n",
      "Model 11 - Accuracy: 0.56\n",
      "Model 12 - Accuracy: 0.57\n",
      "Model 13 - Accuracy: 0.57\n",
      "Model 14 - Accuracy: 0.56\n"
     ]
    }
   ],
   "source": [
    "from sklearn.ensemble import RandomForestClassifier\n",
    "from sklearn.model_selection import train_test_split\n",
    "from sklearn.metrics import accuracy_score\n",
    "\n",
    "X = unit_data.drop(columns=['price_by_area_interval'])\n",
    "y = unit_data['price_by_area_interval']\n",
    "\n",
    "params_combinations = [\n",
    "    {'n_estimators': 100, 'max_depth': 10, 'random_state': 42},\n",
    "    \n",
    "    {'n_estimators': 200, 'max_depth': 10,'min_samples_split': 2,  'random_state': 42},\n",
    "    {'n_estimators': 300, 'max_depth': 10, 'min_samples_split': 2, 'random_state': 42},\n",
    "    {'n_estimators': 400, 'max_depth': 10, 'min_samples_split': 2, 'random_state': 42},\n",
    "    {'n_estimators': 500, 'max_depth': 10, 'min_samples_split': 2, 'random_state': 42},\n",
    "\n",
    "    {'n_estimators': 100, 'max_depth': 20, 'min_samples_split': 4, 'random_state': 42},\n",
    "    {'n_estimators': 100, 'max_depth': 30, 'min_samples_split': 4, 'random_state': 42},\n",
    "    {'n_estimators': 100, 'max_depth': 40, 'min_samples_split': 4, 'random_state': 42},\n",
    "    {'n_estimators': 100, 'max_depth': 50, 'min_samples_split': 4, 'random_state': 42},\n",
    "\n",
    "    {'n_estimators': 200, 'max_depth': 20, 'min_samples_split': 4, 'random_state': 42},\n",
    "    {'n_estimators': 300, 'max_depth': 30, 'min_samples_split': 4, 'random_state': 42},\n",
    "    {'n_estimators': 400, 'max_depth': 40, 'min_samples_split': 4, 'random_state': 42},\n",
    "\n",
    "    {'n_estimators': 500, 'max_depth': 50, 'min_samples_split': 6, 'random_state': 42},\n",
    "    {'n_estimators': 1000, 'max_depth': 100, 'min_samples_split': 6, 'random_state': 42},\n",
    "]\n",
    "\n",
    "models = []\n",
    "for params in params_combinations:\n",
    "    model = RandomForestClassifier(**params)\n",
    "    X_train, X_test, y_train, y_test = train_test_split(X, y, test_size=0.2, random_state=42)\n",
    "    model.fit(X_train, y_train)\n",
    "    y_pred = model.predict(X_test)\n",
    "    accuracy = accuracy_score(y_test, y_pred)\n",
    "    models.append((model, accuracy))\n",
    "\n",
    "for i, (model, accuracy) in enumerate(models):\n",
    "    print(f\"Model {i + 1} - Accuracy: {accuracy:.2f}\")"
   ]
  },
  {
   "cell_type": "markdown",
   "id": "e67289f5-218e-4fa8-a846-3c6cb0593de3",
   "metadata": {},
   "source": [
    "SVM"
   ]
  },
  {
   "cell_type": "code",
   "execution_count": 45,
   "id": "aa4480e6-a122-478c-845f-58f5263ad292",
   "metadata": {},
   "outputs": [
    {
     "name": "stdout",
     "output_type": "stream",
     "text": [
      "SVM Model 1 - Parameters: {'C': 0.1, 'break_ties': False, 'cache_size': 200, 'class_weight': None, 'coef0': 0.0, 'decision_function_shape': 'ovr', 'degree': 3, 'gamma': 'scale', 'kernel': 'rbf', 'max_iter': -1, 'probability': False, 'random_state': 42, 'shrinking': True, 'tol': 0.001, 'verbose': False} - Accuracy: 0.53\n",
      "SVM Model 2 - Parameters: {'C': 1.0, 'break_ties': False, 'cache_size': 200, 'class_weight': None, 'coef0': 0.0, 'decision_function_shape': 'ovr', 'degree': 3, 'gamma': 'scale', 'kernel': 'rbf', 'max_iter': -1, 'probability': False, 'random_state': 42, 'shrinking': True, 'tol': 0.001, 'verbose': False} - Accuracy: 0.56\n",
      "SVM Model 3 - Parameters: {'C': 0.01, 'break_ties': False, 'cache_size': 200, 'class_weight': None, 'coef0': 0.0, 'decision_function_shape': 'ovr', 'degree': 3, 'gamma': 'scale', 'kernel': 'rbf', 'max_iter': -1, 'probability': False, 'random_state': 42, 'shrinking': True, 'tol': 0.001, 'verbose': False} - Accuracy: 0.41\n",
      "SVM Model 4 - Parameters: {'C': 0.1, 'break_ties': False, 'cache_size': 200, 'class_weight': None, 'coef0': 0.0, 'decision_function_shape': 'ovr', 'degree': 3, 'gamma': 0.1, 'kernel': 'rbf', 'max_iter': -1, 'probability': False, 'random_state': 42, 'shrinking': True, 'tol': 0.001, 'verbose': False} - Accuracy: 0.54\n",
      "SVM Model 5 - Parameters: {'C': 0.1, 'break_ties': False, 'cache_size': 200, 'class_weight': None, 'coef0': 0.0, 'decision_function_shape': 'ovr', 'degree': 3, 'gamma': 0.01, 'kernel': 'rbf', 'max_iter': -1, 'probability': False, 'random_state': 42, 'shrinking': True, 'tol': 0.001, 'verbose': False} - Accuracy: 0.53\n",
      "SVM Model 6 - Parameters: {'C': 0.1, 'break_ties': False, 'cache_size': 200, 'class_weight': None, 'coef0': 0.0, 'decision_function_shape': 'ovr', 'degree': 3, 'gamma': 0.01, 'kernel': 'rbf', 'max_iter': -1, 'probability': False, 'random_state': 42, 'shrinking': True, 'tol': 0.001, 'verbose': False} - Accuracy: 0.53\n",
      "SVM Model 7 - Parameters: {'C': 1.0, 'break_ties': False, 'cache_size': 200, 'class_weight': None, 'coef0': 0.0, 'decision_function_shape': 'ovr', 'degree': 3, 'gamma': 0.1, 'kernel': 'rbf', 'max_iter': -1, 'probability': False, 'random_state': 42, 'shrinking': True, 'tol': 0.001, 'verbose': False} - Accuracy: 0.56\n",
      "SVM Model 8 - Parameters: {'C': 1.0, 'break_ties': False, 'cache_size': 200, 'class_weight': None, 'coef0': 0.0, 'decision_function_shape': 'ovr', 'degree': 3, 'gamma': 0.01, 'kernel': 'rbf', 'max_iter': -1, 'probability': False, 'random_state': 42, 'shrinking': True, 'tol': 0.001, 'verbose': False} - Accuracy: 0.55\n",
      "SVM Model 9 - Parameters: {'C': 1.0, 'break_ties': False, 'cache_size': 200, 'class_weight': None, 'coef0': 0.0, 'decision_function_shape': 'ovr', 'degree': 3, 'gamma': 0.001, 'kernel': 'rbf', 'max_iter': -1, 'probability': False, 'random_state': 42, 'shrinking': True, 'tol': 0.001, 'verbose': False} - Accuracy: 0.54\n",
      "SVM Model 10 - Parameters: {'C': 10.0, 'break_ties': False, 'cache_size': 200, 'class_weight': None, 'coef0': 0.0, 'decision_function_shape': 'ovr', 'degree': 3, 'gamma': 0.1, 'kernel': 'rbf', 'max_iter': -1, 'probability': False, 'random_state': 42, 'shrinking': True, 'tol': 0.001, 'verbose': False} - Accuracy: 0.52\n",
      "SVM Model 11 - Parameters: {'C': 10.0, 'break_ties': False, 'cache_size': 200, 'class_weight': None, 'coef0': 0.0, 'decision_function_shape': 'ovr', 'degree': 3, 'gamma': 0.01, 'kernel': 'rbf', 'max_iter': -1, 'probability': False, 'random_state': 42, 'shrinking': True, 'tol': 0.001, 'verbose': False} - Accuracy: 0.56\n"
     ]
    }
   ],
   "source": [
    "from sklearn.svm import SVC\n",
    "from sklearn.model_selection import train_test_split\n",
    "from sklearn.metrics import accuracy_score\n",
    "\n",
    "# Prepare features and target variables\n",
    "X = unit_data.drop(columns=['price_by_area_interval'])\n",
    "y = unit_data['price_by_area_interval']\n",
    "\n",
    "# Define different RBF kernel SVM parameter combinations\n",
    "rbf_svm_param_combinations = [\n",
    "    {'C': 0.1, 'kernel': 'rbf', 'gamma': 'scale', 'random_state': 42},\n",
    "    {'C': 1.0, 'kernel': 'rbf', 'gamma': 'scale', 'random_state': 42},\n",
    "    {'C': 0.01, 'kernel': 'rbf', 'gamma': 'scale', 'random_state': 42},\n",
    "    \n",
    "    {'C': 0.1, 'kernel': 'rbf', 'gamma': 0.1, 'random_state': 42},\n",
    "    {'C': 0.1, 'kernel': 'rbf', 'gamma': 0.01, 'random_state': 42},\n",
    "    {'C': 0.1, 'kernel': 'rbf', 'gamma': 0.01, 'random_state': 42},\n",
    "    \n",
    "    {'C': 1.0, 'kernel': 'rbf', 'gamma': 0.1, 'random_state': 42},\n",
    "    {'C': 1.0, 'kernel': 'rbf', 'gamma': 0.01, 'random_state': 42},\n",
    "    {'C': 1.0, 'kernel': 'rbf', 'gamma': 0.001, 'random_state': 42},\n",
    "\n",
    "    {'C': 10.0, 'kernel': 'rbf', 'gamma': 0.1, 'random_state': 42},\n",
    "    {'C': 10.0, 'kernel': 'rbf', 'gamma': 0.01, 'random_state': 42}\n",
    "]\n",
    "\n",
    "# Train and evaluate different RBF kernel SVM models\n",
    "svm_models = []\n",
    "for params in rbf_svm_param_combinations:\n",
    "    model = SVC(**params)\n",
    "    X_train, X_test, y_train, y_test = train_test_split(X, y, test_size=0.2, random_state=42)\n",
    "    model.fit(X_train, y_train)\n",
    "    y_pred = model.predict(X_test)\n",
    "    accuracy = accuracy_score(y_test, y_pred)\n",
    "    svm_models.append((model, accuracy))\n",
    "\n",
    "# Print the accuracy of the SVM models\n",
    "for i, (model, accuracy) in enumerate(svm_models):\n",
    "    print(f\"SVM Model {i + 1} - Parameters: {model.get_params()} - Accuracy: {accuracy:.2f}\")"
   ]
  },
  {
   "cell_type": "markdown",
   "id": "7b25635d-1361-4124-90b7-d0769d52b877",
   "metadata": {},
   "source": [
    "ANN"
   ]
  },
  {
   "cell_type": "code",
   "execution_count": 47,
   "id": "32a30e82-b969-4677-a63f-71017b1bae27",
   "metadata": {},
   "outputs": [
    {
     "name": "stdout",
     "output_type": "stream",
     "text": [
      "Epoch 1/20\n"
     ]
    },
    {
     "ename": "ValueError",
     "evalue": "in user code:\n\n    File \"C:\\Users\\yejiu\\AppData\\Local\\Programs\\Python\\Python310\\lib\\site-packages\\keras\\src\\engine\\training.py\", line 1377, in train_function  *\n        return step_function(self, iterator)\n    File \"C:\\Users\\yejiu\\AppData\\Local\\Programs\\Python\\Python310\\lib\\site-packages\\keras\\src\\engine\\training.py\", line 1360, in step_function  **\n        outputs = model.distribute_strategy.run(run_step, args=(data,))\n    File \"C:\\Users\\yejiu\\AppData\\Local\\Programs\\Python\\Python310\\lib\\site-packages\\keras\\src\\engine\\training.py\", line 1349, in run_step  **\n        outputs = model.train_step(data)\n    File \"C:\\Users\\yejiu\\AppData\\Local\\Programs\\Python\\Python310\\lib\\site-packages\\keras\\src\\engine\\training.py\", line 1127, in train_step\n        loss = self.compute_loss(x, y, y_pred, sample_weight)\n    File \"C:\\Users\\yejiu\\AppData\\Local\\Programs\\Python\\Python310\\lib\\site-packages\\keras\\src\\engine\\training.py\", line 1185, in compute_loss\n        return self.compiled_loss(\n    File \"C:\\Users\\yejiu\\AppData\\Local\\Programs\\Python\\Python310\\lib\\site-packages\\keras\\src\\engine\\compile_utils.py\", line 277, in __call__\n        loss_value = loss_obj(y_t, y_p, sample_weight=sw)\n    File \"C:\\Users\\yejiu\\AppData\\Local\\Programs\\Python\\Python310\\lib\\site-packages\\keras\\src\\losses.py\", line 143, in __call__\n        losses = call_fn(y_true, y_pred)\n    File \"C:\\Users\\yejiu\\AppData\\Local\\Programs\\Python\\Python310\\lib\\site-packages\\keras\\src\\losses.py\", line 270, in call  **\n        return ag_fn(y_true, y_pred, **self._fn_kwargs)\n    File \"C:\\Users\\yejiu\\AppData\\Local\\Programs\\Python\\Python310\\lib\\site-packages\\keras\\src\\losses.py\", line 2221, in categorical_crossentropy\n        return backend.categorical_crossentropy(\n    File \"C:\\Users\\yejiu\\AppData\\Local\\Programs\\Python\\Python310\\lib\\site-packages\\keras\\src\\backend.py\", line 5575, in categorical_crossentropy\n        target.shape.assert_is_compatible_with(output.shape)\n\n    ValueError: Shapes (None, 4) and (None, 5) are incompatible\n",
     "output_type": "error",
     "traceback": [
      "\u001b[1;31m---------------------------------------------------------------------------\u001b[0m",
      "\u001b[1;31mValueError\u001b[0m                                Traceback (most recent call last)",
      "Cell \u001b[1;32mIn[47], line 48\u001b[0m\n\u001b[0;32m     44\u001b[0m model\u001b[38;5;241m.\u001b[39madd(layers\u001b[38;5;241m.\u001b[39mDense(\u001b[38;5;28mlen\u001b[39m(label_mapping), activation\u001b[38;5;241m=\u001b[39m\u001b[38;5;124m'\u001b[39m\u001b[38;5;124msoftmax\u001b[39m\u001b[38;5;124m'\u001b[39m))\n\u001b[0;32m     46\u001b[0m model\u001b[38;5;241m.\u001b[39mcompile(optimizer\u001b[38;5;241m=\u001b[39m\u001b[38;5;124m'\u001b[39m\u001b[38;5;124madam\u001b[39m\u001b[38;5;124m'\u001b[39m, loss\u001b[38;5;241m=\u001b[39m\u001b[38;5;124m'\u001b[39m\u001b[38;5;124mcategorical_crossentropy\u001b[39m\u001b[38;5;124m'\u001b[39m, metrics\u001b[38;5;241m=\u001b[39m[\u001b[38;5;124m'\u001b[39m\u001b[38;5;124maccuracy\u001b[39m\u001b[38;5;124m'\u001b[39m])\n\u001b[1;32m---> 48\u001b[0m \u001b[43mmodel\u001b[49m\u001b[38;5;241;43m.\u001b[39;49m\u001b[43mfit\u001b[49m\u001b[43m(\u001b[49m\u001b[43mX_train\u001b[49m\u001b[43m,\u001b[49m\u001b[43m \u001b[49m\u001b[43my_train_one_hot\u001b[49m\u001b[43m,\u001b[49m\u001b[43m \u001b[49m\u001b[43mepochs\u001b[49m\u001b[38;5;241;43m=\u001b[39;49m\u001b[43mparams\u001b[49m\u001b[43m[\u001b[49m\u001b[38;5;124;43m'\u001b[39;49m\u001b[38;5;124;43mepochs\u001b[39;49m\u001b[38;5;124;43m'\u001b[39;49m\u001b[43m]\u001b[49m\u001b[43m,\u001b[49m\u001b[43m \u001b[49m\u001b[43mbatch_size\u001b[49m\u001b[38;5;241;43m=\u001b[39;49m\u001b[43mparams\u001b[49m\u001b[43m[\u001b[49m\u001b[38;5;124;43m'\u001b[39;49m\u001b[38;5;124;43mbatch_size\u001b[39;49m\u001b[38;5;124;43m'\u001b[39;49m\u001b[43m]\u001b[49m\u001b[43m,\u001b[49m\u001b[43m \u001b[49m\u001b[43mvalidation_split\u001b[49m\u001b[38;5;241;43m=\u001b[39;49m\u001b[38;5;241;43m0.2\u001b[39;49m\u001b[43m)\u001b[49m\n\u001b[0;32m     50\u001b[0m y_pred_one_hot \u001b[38;5;241m=\u001b[39m model\u001b[38;5;241m.\u001b[39mpredict(X_test)\n\u001b[0;32m     51\u001b[0m y_pred \u001b[38;5;241m=\u001b[39m np\u001b[38;5;241m.\u001b[39margmax(y_pred_one_hot, axis\u001b[38;5;241m=\u001b[39m\u001b[38;5;241m1\u001b[39m)\n",
      "File \u001b[1;32m~\\AppData\\Local\\Programs\\Python\\Python310\\lib\\site-packages\\keras\\src\\utils\\traceback_utils.py:70\u001b[0m, in \u001b[0;36mfilter_traceback.<locals>.error_handler\u001b[1;34m(*args, **kwargs)\u001b[0m\n\u001b[0;32m     67\u001b[0m     filtered_tb \u001b[38;5;241m=\u001b[39m _process_traceback_frames(e\u001b[38;5;241m.\u001b[39m__traceback__)\n\u001b[0;32m     68\u001b[0m     \u001b[38;5;66;03m# To get the full stack trace, call:\u001b[39;00m\n\u001b[0;32m     69\u001b[0m     \u001b[38;5;66;03m# `tf.debugging.disable_traceback_filtering()`\u001b[39;00m\n\u001b[1;32m---> 70\u001b[0m     \u001b[38;5;28;01mraise\u001b[39;00m e\u001b[38;5;241m.\u001b[39mwith_traceback(filtered_tb) \u001b[38;5;28;01mfrom\u001b[39;00m \u001b[38;5;28;01mNone\u001b[39;00m\n\u001b[0;32m     71\u001b[0m \u001b[38;5;28;01mfinally\u001b[39;00m:\n\u001b[0;32m     72\u001b[0m     \u001b[38;5;28;01mdel\u001b[39;00m filtered_tb\n",
      "File \u001b[1;32m~\\AppData\\Local\\Temp\\__autograph_generated_file30dtvwlg.py:15\u001b[0m, in \u001b[0;36mouter_factory.<locals>.inner_factory.<locals>.tf__train_function\u001b[1;34m(iterator)\u001b[0m\n\u001b[0;32m     13\u001b[0m \u001b[38;5;28;01mtry\u001b[39;00m:\n\u001b[0;32m     14\u001b[0m     do_return \u001b[38;5;241m=\u001b[39m \u001b[38;5;28;01mTrue\u001b[39;00m\n\u001b[1;32m---> 15\u001b[0m     retval_ \u001b[38;5;241m=\u001b[39m ag__\u001b[38;5;241m.\u001b[39mconverted_call(ag__\u001b[38;5;241m.\u001b[39mld(step_function), (ag__\u001b[38;5;241m.\u001b[39mld(\u001b[38;5;28mself\u001b[39m), ag__\u001b[38;5;241m.\u001b[39mld(iterator)), \u001b[38;5;28;01mNone\u001b[39;00m, fscope)\n\u001b[0;32m     16\u001b[0m \u001b[38;5;28;01mexcept\u001b[39;00m:\n\u001b[0;32m     17\u001b[0m     do_return \u001b[38;5;241m=\u001b[39m \u001b[38;5;28;01mFalse\u001b[39;00m\n",
      "\u001b[1;31mValueError\u001b[0m: in user code:\n\n    File \"C:\\Users\\yejiu\\AppData\\Local\\Programs\\Python\\Python310\\lib\\site-packages\\keras\\src\\engine\\training.py\", line 1377, in train_function  *\n        return step_function(self, iterator)\n    File \"C:\\Users\\yejiu\\AppData\\Local\\Programs\\Python\\Python310\\lib\\site-packages\\keras\\src\\engine\\training.py\", line 1360, in step_function  **\n        outputs = model.distribute_strategy.run(run_step, args=(data,))\n    File \"C:\\Users\\yejiu\\AppData\\Local\\Programs\\Python\\Python310\\lib\\site-packages\\keras\\src\\engine\\training.py\", line 1349, in run_step  **\n        outputs = model.train_step(data)\n    File \"C:\\Users\\yejiu\\AppData\\Local\\Programs\\Python\\Python310\\lib\\site-packages\\keras\\src\\engine\\training.py\", line 1127, in train_step\n        loss = self.compute_loss(x, y, y_pred, sample_weight)\n    File \"C:\\Users\\yejiu\\AppData\\Local\\Programs\\Python\\Python310\\lib\\site-packages\\keras\\src\\engine\\training.py\", line 1185, in compute_loss\n        return self.compiled_loss(\n    File \"C:\\Users\\yejiu\\AppData\\Local\\Programs\\Python\\Python310\\lib\\site-packages\\keras\\src\\engine\\compile_utils.py\", line 277, in __call__\n        loss_value = loss_obj(y_t, y_p, sample_weight=sw)\n    File \"C:\\Users\\yejiu\\AppData\\Local\\Programs\\Python\\Python310\\lib\\site-packages\\keras\\src\\losses.py\", line 143, in __call__\n        losses = call_fn(y_true, y_pred)\n    File \"C:\\Users\\yejiu\\AppData\\Local\\Programs\\Python\\Python310\\lib\\site-packages\\keras\\src\\losses.py\", line 270, in call  **\n        return ag_fn(y_true, y_pred, **self._fn_kwargs)\n    File \"C:\\Users\\yejiu\\AppData\\Local\\Programs\\Python\\Python310\\lib\\site-packages\\keras\\src\\losses.py\", line 2221, in categorical_crossentropy\n        return backend.categorical_crossentropy(\n    File \"C:\\Users\\yejiu\\AppData\\Local\\Programs\\Python\\Python310\\lib\\site-packages\\keras\\src\\backend.py\", line 5575, in categorical_crossentropy\n        target.shape.assert_is_compatible_with(output.shape)\n\n    ValueError: Shapes (None, 4) and (None, 5) are incompatible\n"
     ]
    }
   ],
   "source": [
    "import pandas as pd\n",
    "import numpy as np\n",
    "from sklearn.model_selection import train_test_split\n",
    "from tensorflow import keras\n",
    "from tensorflow.keras import layers\n",
    "from tensorflow.keras.utils import to_categorical\n",
    "from sklearn.metrics import accuracy_score\n",
    "\n",
    "# Define feature variables (X) and target variables (y)\n",
    "X = unit_data.drop(columns=['price_by_area_interval'])\n",
    "y = unit_data['price_by_area_interval']\n",
    "\n",
    "# Encode multi-category target variables into integer labels\n",
    "label_mapping = {label: idx for idx, label in enumerate(y.unique())}\n",
    "y_encoded = y.map(label_mapping)\n",
    "\n",
    "# Divide the data set into training set and test set\n",
    "X_train, X_test, y_train, y_test = train_test_split(X, y_encoded, test_size=0.2, random_state=42)\n",
    "\n",
    "# Convert integer labels to one-hot encoding\n",
    "y_train_one_hot = to_categorical(y_train)\n",
    "y_test_one_hot = to_categorical(y_test)\n",
    "\n",
    "# Parameter combinations for ANN\n",
    "param_combinations = [\n",
    "    {'hidden_layer_1': 64, 'hidden_layer_2': 32, 'hidden_layer_3': 16, 'epochs': 20, 'batch_size': 32},\n",
    "    {'hidden_layer_1': 128, 'hidden_layer_2': 64, 'hidden_layer_3': 32, 'epochs': 20, 'batch_size': 32},\n",
    "    {'hidden_layer_1': 128, 'hidden_layer_2': 64, 'epochs': 10, 'batch_size': 64},\n",
    "    {'hidden_layer_1': 128, 'hidden_layer_2': 64, 'epochs': 30, 'batch_size': 16},\n",
    "    {'hidden_layer_1': 128, 'hidden_layer_2': 64, 'epochs': 20, 'batch_size': 32, 'optimizer': 'adam', 'learning_rate': 0.001},\n",
    "    {'hidden_layer_1': 128, 'hidden_layer_2': 64, 'epochs': 20, 'batch_size': 32, 'optimizer': 'sgd', 'learning_rate': 0.01}\n",
    "]\n",
    "\n",
    "# Create a DataFrame to store model results\n",
    "results_df = pd.DataFrame(columns=['Model Name', 'Parameters', 'Accuracy'])\n",
    "\n",
    "# Create and train multiple ANN models\n",
    "for i, params in enumerate(param_combinations):\n",
    "    model_name = f\"ann_model_{i+1}\"\n",
    "    model = keras.Sequential()\n",
    "    model.add(layers.Input(shape=(X_train.shape[1],)))\n",
    "    model.add(layers.Dense(params['hidden_layer_1'], activation='relu'))\n",
    "    model.add(layers.Dense(params['hidden_layer_2'], activation='relu'))\n",
    "    model.add(layers.Dense(len(label_mapping), activation='softmax'))\n",
    "    \n",
    "    model.compile(optimizer='adam', loss='categorical_crossentropy', metrics=['accuracy'])\n",
    "    \n",
    "    model.fit(X_train, y_train_one_hot, epochs=params['epochs'], batch_size=params['batch_size'], validation_split=0.2)\n",
    "    \n",
    "    y_pred_one_hot = model.predict(X_test)\n",
    "    y_pred = np.argmax(y_pred_one_hot, axis=1)\n",
    "    \n",
    "    accuracy = accuracy_score(y_test, y_pred)\n",
    "    \n",
    "    # Append results to DataFrame\n",
    "    results_df = results_df.append({\n",
    "        'Model Name': model_name,\n",
    "        'Parameters': params,\n",
    "        'Accuracy': accuracy\n",
    "    }, ignore_index=True)\n",
    "\n",
    "# Output results\n",
    "print(results_df)"
   ]
  },
  {
   "cell_type": "markdown",
   "id": "83493c25-ae63-43fd-a0d5-d4694def6f45",
   "metadata": {},
   "source": [
    "Bayes"
   ]
  },
  {
   "cell_type": "code",
   "execution_count": 48,
   "id": "44472b5a-2ada-4c99-b530-af4c0ca167e5",
   "metadata": {},
   "outputs": [
    {
     "name": "stdout",
     "output_type": "stream",
     "text": [
      "Naive Bayes Model 1 - Parameters: {'alpha': 1.0, 'class_prior': None, 'fit_prior': True} - Accuracy: 0.52\n",
      "Naive Bayes Model 2 - Parameters: {'alpha': 0.1, 'class_prior': None, 'fit_prior': True} - Accuracy: 0.49\n",
      "Naive Bayes Model 3 - Parameters: {'alpha': 0.01, 'class_prior': None, 'fit_prior': True} - Accuracy: 0.46\n",
      "Naive Bayes Model 4 - Parameters: {'alpha': 0.001, 'class_prior': None, 'fit_prior': True} - Accuracy: 0.46\n",
      "Naive Bayes Model 5 - Parameters: {'alpha': 0.0001, 'class_prior': None, 'fit_prior': True} - Accuracy: 0.46\n"
     ]
    }
   ],
   "source": [
    "from sklearn.naive_bayes import MultinomialNB\n",
    "from sklearn.model_selection import train_test_split\n",
    "from sklearn.metrics import accuracy_score\n",
    "\n",
    "# Prepare features and target variables\n",
    "X = unit_data.drop(columns=['price_by_area_interval'])\n",
    "y = unit_data['price_by_area_interval']\n",
    "\n",
    "# Define different Naive Bayes parameter combinations\n",
    "nb_param_combinations = [\n",
    "    {'alpha': 1.0},\n",
    "    {'alpha': 0.1},\n",
    "    {'alpha': 0.01},\n",
    "    {'alpha': 0.001},\n",
    "    {'alpha': 0.0001}\n",
    "]\n",
    "\n",
    "# Train and evaluate different Naive Bayes models\n",
    "nb_models = []\n",
    "for params in nb_param_combinations:\n",
    "    model = MultinomialNB(**params)\n",
    "    X_train, X_test, y_train, y_test = train_test_split(X, y, test_size=0.2, random_state=42)\n",
    "    model.fit(X_train, y_train)\n",
    "    y_pred = model.predict(X_test)\n",
    "    accuracy = accuracy_score(y_test, y_pred)\n",
    "    nb_models.append((model, accuracy))\n",
    "\n",
    "# Print the accuracy of the Naive Bayes models\n",
    "for i, (model, accuracy) in enumerate(nb_models):\n",
    "    print(f\"Naive Bayes Model {i + 1} - Parameters: {model.get_params()} - Accuracy: {accuracy:.2f}\")"
   ]
  },
  {
   "cell_type": "markdown",
   "id": "d4b93ddd-dfc2-4c00-bdbb-54ae15642e40",
   "metadata": {},
   "source": [
    "### townhouse data"
   ]
  },
  {
   "cell_type": "code",
   "execution_count": 50,
   "id": "d3dd9bab-d1a6-4ecc-9e3c-a14ebbc02735",
   "metadata": {},
   "outputs": [
    {
     "name": "stdout",
     "output_type": "stream",
     "text": [
      "Model 1 - Accuracy: 0.43\n",
      "Model 2 - Accuracy: 0.44\n",
      "Model 3 - Accuracy: 0.44\n",
      "Model 4 - Accuracy: 0.43\n",
      "Model 5 - Accuracy: 0.44\n",
      "Model 6 - Accuracy: 0.43\n",
      "Model 7 - Accuracy: 0.42\n",
      "Model 8 - Accuracy: 0.45\n",
      "Model 9 - Accuracy: 0.43\n",
      "Model 10 - Accuracy: 0.42\n",
      "Model 11 - Accuracy: 0.41\n",
      "Model 12 - Accuracy: 0.43\n",
      "Model 13 - Accuracy: 0.41\n",
      "Model 14 - Accuracy: 0.42\n"
     ]
    }
   ],
   "source": [
    "from sklearn.ensemble import RandomForestClassifier\n",
    "from sklearn.model_selection import train_test_split\n",
    "from sklearn.metrics import accuracy_score\n",
    "\n",
    "X = townhouse_data.drop(columns=['price_by_area_interval'])\n",
    "y = townhouse_data['price_by_area_interval']\n",
    "\n",
    "params_combinations = [\n",
    "    {'n_estimators': 100, 'max_depth': 10, 'random_state': 42},\n",
    "    \n",
    "    {'n_estimators': 200, 'max_depth': 10, 'min_samples_split': 2, 'random_state': 42},\n",
    "    {'n_estimators': 300, 'max_depth': 10, 'min_samples_split': 2, 'random_state': 42},\n",
    "    {'n_estimators': 400, 'max_depth': 10, 'min_samples_split': 2, 'random_state': 42},\n",
    "    {'n_estimators': 500, 'max_depth': 10, 'min_samples_split': 2, 'random_state': 42},\n",
    "\n",
    "    {'n_estimators': 100, 'max_depth': 20, 'min_samples_split': 4, 'random_state': 42},\n",
    "    {'n_estimators': 100, 'max_depth': 30, 'min_samples_split': 4, 'random_state': 42},\n",
    "    {'n_estimators': 100, 'max_depth': 40, 'min_samples_split': 4, 'random_state': 42},\n",
    "    {'n_estimators': 100, 'max_depth': 50, 'min_samples_split': 4, 'random_state': 42},\n",
    "\n",
    "    {'n_estimators': 200, 'max_depth': 20, 'min_samples_split': 4, 'random_state': 42},\n",
    "    {'n_estimators': 300, 'max_depth': 30, 'min_samples_split': 4, 'random_state': 42},\n",
    "    {'n_estimators': 400, 'max_depth': 40, 'min_samples_split': 4, 'random_state': 42},\n",
    "\n",
    "    {'n_estimators': 500, 'max_depth': 50, 'min_samples_split': 6, 'random_state': 42},\n",
    "    {'n_estimators': 1000, 'max_depth': 100, 'min_samples_split': 6, 'random_state': 42},\n",
    "]\n",
    "\n",
    "models = []\n",
    "for params in params_combinations:\n",
    "    model = RandomForestClassifier(**params)\n",
    "    X_train, X_test, y_train, y_test = train_test_split(X, y, test_size=0.2, random_state=42)\n",
    "    model.fit(X_train, y_train)\n",
    "    y_pred = model.predict(X_test)\n",
    "    accuracy = accuracy_score(y_test, y_pred)\n",
    "    models.append((model, accuracy))\n",
    "\n",
    "for i, (model, accuracy) in enumerate(models):\n",
    "    print(f\"Model {i + 1} - Accuracy: {accuracy:.2f}\")"
   ]
  },
  {
   "cell_type": "markdown",
   "id": "e4b6fda2-47a3-4d3e-a4ae-8ff296ff43da",
   "metadata": {},
   "source": [
    "**SVM**"
   ]
  },
  {
   "cell_type": "code",
   "execution_count": 51,
   "id": "98338e1a-836a-452d-bbfa-a3042d369e90",
   "metadata": {},
   "outputs": [
    {
     "name": "stdout",
     "output_type": "stream",
     "text": [
      "SVM Model 1 - Parameters: {'C': 0.1, 'break_ties': False, 'cache_size': 200, 'class_weight': None, 'coef0': 0.0, 'decision_function_shape': 'ovr', 'degree': 3, 'gamma': 'scale', 'kernel': 'rbf', 'max_iter': -1, 'probability': False, 'random_state': 42, 'shrinking': True, 'tol': 0.001, 'verbose': False} - Accuracy: 0.42\n",
      "SVM Model 2 - Parameters: {'C': 1.0, 'break_ties': False, 'cache_size': 200, 'class_weight': None, 'coef0': 0.0, 'decision_function_shape': 'ovr', 'degree': 3, 'gamma': 'scale', 'kernel': 'rbf', 'max_iter': -1, 'probability': False, 'random_state': 42, 'shrinking': True, 'tol': 0.001, 'verbose': False} - Accuracy: 0.47\n",
      "SVM Model 3 - Parameters: {'C': 0.01, 'break_ties': False, 'cache_size': 200, 'class_weight': None, 'coef0': 0.0, 'decision_function_shape': 'ovr', 'degree': 3, 'gamma': 'scale', 'kernel': 'rbf', 'max_iter': -1, 'probability': False, 'random_state': 42, 'shrinking': True, 'tol': 0.001, 'verbose': False} - Accuracy: 0.42\n",
      "SVM Model 4 - Parameters: {'C': 0.1, 'break_ties': False, 'cache_size': 200, 'class_weight': None, 'coef0': 0.0, 'decision_function_shape': 'ovr', 'degree': 3, 'gamma': 0.1, 'kernel': 'rbf', 'max_iter': -1, 'probability': False, 'random_state': 42, 'shrinking': True, 'tol': 0.001, 'verbose': False} - Accuracy: 0.42\n",
      "SVM Model 5 - Parameters: {'C': 0.1, 'break_ties': False, 'cache_size': 200, 'class_weight': None, 'coef0': 0.0, 'decision_function_shape': 'ovr', 'degree': 3, 'gamma': 0.01, 'kernel': 'rbf', 'max_iter': -1, 'probability': False, 'random_state': 42, 'shrinking': True, 'tol': 0.001, 'verbose': False} - Accuracy: 0.43\n",
      "SVM Model 6 - Parameters: {'C': 0.1, 'break_ties': False, 'cache_size': 200, 'class_weight': None, 'coef0': 0.0, 'decision_function_shape': 'ovr', 'degree': 3, 'gamma': 0.01, 'kernel': 'rbf', 'max_iter': -1, 'probability': False, 'random_state': 42, 'shrinking': True, 'tol': 0.001, 'verbose': False} - Accuracy: 0.43\n",
      "SVM Model 7 - Parameters: {'C': 1.0, 'break_ties': False, 'cache_size': 200, 'class_weight': None, 'coef0': 0.0, 'decision_function_shape': 'ovr', 'degree': 3, 'gamma': 0.1, 'kernel': 'rbf', 'max_iter': -1, 'probability': False, 'random_state': 42, 'shrinking': True, 'tol': 0.001, 'verbose': False} - Accuracy: 0.45\n",
      "SVM Model 8 - Parameters: {'C': 1.0, 'break_ties': False, 'cache_size': 200, 'class_weight': None, 'coef0': 0.0, 'decision_function_shape': 'ovr', 'degree': 3, 'gamma': 0.01, 'kernel': 'rbf', 'max_iter': -1, 'probability': False, 'random_state': 42, 'shrinking': True, 'tol': 0.001, 'verbose': False} - Accuracy: 0.47\n",
      "SVM Model 9 - Parameters: {'C': 1.0, 'break_ties': False, 'cache_size': 200, 'class_weight': None, 'coef0': 0.0, 'decision_function_shape': 'ovr', 'degree': 3, 'gamma': 0.001, 'kernel': 'rbf', 'max_iter': -1, 'probability': False, 'random_state': 42, 'shrinking': True, 'tol': 0.001, 'verbose': False} - Accuracy: 0.47\n",
      "SVM Model 10 - Parameters: {'C': 10.0, 'break_ties': False, 'cache_size': 200, 'class_weight': None, 'coef0': 0.0, 'decision_function_shape': 'ovr', 'degree': 3, 'gamma': 0.1, 'kernel': 'rbf', 'max_iter': -1, 'probability': False, 'random_state': 42, 'shrinking': True, 'tol': 0.001, 'verbose': False} - Accuracy: 0.37\n",
      "SVM Model 11 - Parameters: {'C': 10.0, 'break_ties': False, 'cache_size': 200, 'class_weight': None, 'coef0': 0.0, 'decision_function_shape': 'ovr', 'degree': 3, 'gamma': 0.01, 'kernel': 'rbf', 'max_iter': -1, 'probability': False, 'random_state': 42, 'shrinking': True, 'tol': 0.001, 'verbose': False} - Accuracy: 0.43\n"
     ]
    }
   ],
   "source": [
    "from sklearn.svm import SVC\n",
    "from sklearn.model_selection import train_test_split\n",
    "from sklearn.metrics import accuracy_score\n",
    "\n",
    "# Prepare features and target variables\n",
    "X = townhouse_data.drop(columns=['price_by_area_interval'])\n",
    "y = townhouse_data['price_by_area_interval']\n",
    "\n",
    "# Define different RBF kernel SVM parameter combinations\n",
    "rbf_svm_param_combinations = [\n",
    "    {'C': 0.1, 'kernel': 'rbf', 'gamma': 'scale', 'random_state': 42},\n",
    "    {'C': 1.0, 'kernel': 'rbf', 'gamma': 'scale', 'random_state': 42},\n",
    "    {'C': 0.01, 'kernel': 'rbf', 'gamma': 'scale', 'random_state': 42},\n",
    "    \n",
    "    {'C': 0.1, 'kernel': 'rbf', 'gamma': 0.1, 'random_state': 42},\n",
    "    {'C': 0.1, 'kernel': 'rbf', 'gamma': 0.01, 'random_state': 42},\n",
    "    {'C': 0.1, 'kernel': 'rbf', 'gamma': 0.01, 'random_state': 42},\n",
    "    \n",
    "    {'C': 1.0, 'kernel': 'rbf', 'gamma': 0.1, 'random_state': 42},\n",
    "    {'C': 1.0, 'kernel': 'rbf', 'gamma': 0.01, 'random_state': 42},\n",
    "    {'C': 1.0, 'kernel': 'rbf', 'gamma': 0.001, 'random_state': 42},\n",
    "\n",
    "    {'C': 10.0, 'kernel': 'rbf', 'gamma': 0.1, 'random_state': 42},\n",
    "    {'C': 10.0, 'kernel': 'rbf', 'gamma': 0.01, 'random_state': 42}\n",
    "]\n",
    "\n",
    "# Train and evaluate different RBF kernel SVM models\n",
    "svm_models = []\n",
    "for params in rbf_svm_param_combinations:\n",
    "    model = SVC(**params)\n",
    "    X_train, X_test, y_train, y_test = train_test_split(X, y, test_size=0.2, random_state=42)\n",
    "    model.fit(X_train, y_train)\n",
    "    y_pred = model.predict(X_test)\n",
    "    accuracy = accuracy_score(y_test, y_pred)\n",
    "    svm_models.append((model, accuracy))\n",
    "\n",
    "# Print the accuracy of the SVM models\n",
    "for i, (model, accuracy) in enumerate(svm_models):\n",
    "    print(f\"SVM Model {i + 1} - Parameters: {model.get_params()} - Accuracy: {accuracy:.2f}\")"
   ]
  },
  {
   "cell_type": "code",
   "execution_count": 52,
   "id": "464746cd-dbf6-4b46-9f7c-e42470b6176e",
   "metadata": {},
   "outputs": [
    {
     "name": "stdout",
     "output_type": "stream",
     "text": [
      "Epoch 1/20\n",
      "12/12 [==============================] - 1s 20ms/step - loss: 1.5913 - accuracy: 0.3819 - val_loss: 1.4985 - val_accuracy: 0.4239\n",
      "Epoch 2/20\n",
      "12/12 [==============================] - 0s 5ms/step - loss: 1.3528 - accuracy: 0.4670 - val_loss: 1.4167 - val_accuracy: 0.4348\n",
      "Epoch 3/20\n",
      "12/12 [==============================] - 0s 6ms/step - loss: 1.2882 - accuracy: 0.5220 - val_loss: 1.4034 - val_accuracy: 0.4565\n",
      "Epoch 4/20\n",
      "12/12 [==============================] - 0s 7ms/step - loss: 1.2476 - accuracy: 0.5385 - val_loss: 1.3802 - val_accuracy: 0.4891\n",
      "Epoch 5/20\n",
      "12/12 [==============================] - 0s 8ms/step - loss: 1.2039 - accuracy: 0.5797 - val_loss: 1.3649 - val_accuracy: 0.4891\n",
      "Epoch 6/20\n",
      "12/12 [==============================] - 0s 7ms/step - loss: 1.1573 - accuracy: 0.5632 - val_loss: 1.3466 - val_accuracy: 0.5000\n",
      "Epoch 7/20\n",
      "12/12 [==============================] - 0s 11ms/step - loss: 1.1133 - accuracy: 0.5907 - val_loss: 1.3348 - val_accuracy: 0.4891\n",
      "Epoch 8/20\n",
      "12/12 [==============================] - 0s 7ms/step - loss: 1.0516 - accuracy: 0.5934 - val_loss: 1.3362 - val_accuracy: 0.4674\n",
      "Epoch 9/20\n",
      "12/12 [==============================] - 0s 10ms/step - loss: 0.9953 - accuracy: 0.6319 - val_loss: 1.3246 - val_accuracy: 0.4674\n",
      "Epoch 10/20\n",
      "12/12 [==============================] - 0s 9ms/step - loss: 0.9343 - accuracy: 0.6456 - val_loss: 1.3287 - val_accuracy: 0.4674\n",
      "Epoch 11/20\n",
      "12/12 [==============================] - 0s 7ms/step - loss: 0.8730 - accuracy: 0.6951 - val_loss: 1.3444 - val_accuracy: 0.4565\n",
      "Epoch 12/20\n",
      "12/12 [==============================] - 0s 8ms/step - loss: 0.8148 - accuracy: 0.6923 - val_loss: 1.3633 - val_accuracy: 0.4565\n",
      "Epoch 13/20\n",
      "12/12 [==============================] - 0s 9ms/step - loss: 0.7475 - accuracy: 0.7527 - val_loss: 1.3652 - val_accuracy: 0.4457\n",
      "Epoch 14/20\n",
      "12/12 [==============================] - 0s 8ms/step - loss: 0.6825 - accuracy: 0.7857 - val_loss: 1.3816 - val_accuracy: 0.4348\n",
      "Epoch 15/20\n",
      "12/12 [==============================] - 0s 9ms/step - loss: 0.6193 - accuracy: 0.8214 - val_loss: 1.3950 - val_accuracy: 0.4457\n",
      "Epoch 16/20\n",
      "12/12 [==============================] - 0s 7ms/step - loss: 0.5645 - accuracy: 0.8654 - val_loss: 1.4276 - val_accuracy: 0.4130\n",
      "Epoch 17/20\n",
      "12/12 [==============================] - 0s 7ms/step - loss: 0.5062 - accuracy: 0.8654 - val_loss: 1.4270 - val_accuracy: 0.4457\n",
      "Epoch 18/20\n",
      "12/12 [==============================] - 0s 7ms/step - loss: 0.4577 - accuracy: 0.8929 - val_loss: 1.4822 - val_accuracy: 0.4457\n",
      "Epoch 19/20\n",
      "12/12 [==============================] - 0s 7ms/step - loss: 0.4076 - accuracy: 0.9066 - val_loss: 1.4961 - val_accuracy: 0.4565\n",
      "Epoch 20/20\n",
      "12/12 [==============================] - 0s 12ms/step - loss: 0.3683 - accuracy: 0.9148 - val_loss: 1.5198 - val_accuracy: 0.4457\n",
      "4/4 [==============================] - 0s 3ms/step\n",
      "Epoch 1/20\n",
      "12/12 [==============================] - 1s 20ms/step - loss: 1.7163 - accuracy: 0.3462 - val_loss: 1.5076 - val_accuracy: 0.4130\n",
      "Epoch 2/20\n",
      "12/12 [==============================] - 0s 6ms/step - loss: 1.3606 - accuracy: 0.4615 - val_loss: 1.4549 - val_accuracy: 0.4674\n",
      "Epoch 3/20\n",
      "12/12 [==============================] - 0s 6ms/step - loss: 1.3004 - accuracy: 0.5357 - val_loss: 1.4063 - val_accuracy: 0.4674\n",
      "Epoch 4/20\n",
      "12/12 [==============================] - 0s 6ms/step - loss: 1.2370 - accuracy: 0.5412 - val_loss: 1.3669 - val_accuracy: 0.4565\n",
      "Epoch 5/20\n",
      "12/12 [==============================] - 0s 7ms/step - loss: 1.1829 - accuracy: 0.5412 - val_loss: 1.3694 - val_accuracy: 0.4891\n",
      "Epoch 6/20\n",
      "12/12 [==============================] - 0s 6ms/step - loss: 1.1031 - accuracy: 0.6016 - val_loss: 1.3445 - val_accuracy: 0.4674\n",
      "Epoch 7/20\n",
      "12/12 [==============================] - 0s 8ms/step - loss: 1.0265 - accuracy: 0.6429 - val_loss: 1.3367 - val_accuracy: 0.4783\n",
      "Epoch 8/20\n",
      "12/12 [==============================] - 0s 8ms/step - loss: 0.9378 - accuracy: 0.6676 - val_loss: 1.3509 - val_accuracy: 0.4457\n",
      "Epoch 9/20\n",
      "12/12 [==============================] - 0s 7ms/step - loss: 0.8346 - accuracy: 0.7308 - val_loss: 1.3798 - val_accuracy: 0.4239\n",
      "Epoch 10/20\n",
      "12/12 [==============================] - 0s 7ms/step - loss: 0.7330 - accuracy: 0.7637 - val_loss: 1.3881 - val_accuracy: 0.4022\n",
      "Epoch 11/20\n",
      "12/12 [==============================] - 0s 7ms/step - loss: 0.6344 - accuracy: 0.8077 - val_loss: 1.4108 - val_accuracy: 0.4239\n",
      "Epoch 12/20\n",
      "12/12 [==============================] - 0s 7ms/step - loss: 0.5431 - accuracy: 0.8324 - val_loss: 1.4649 - val_accuracy: 0.4022\n",
      "Epoch 13/20\n",
      "12/12 [==============================] - 0s 7ms/step - loss: 0.4590 - accuracy: 0.8736 - val_loss: 1.4662 - val_accuracy: 0.3696\n",
      "Epoch 14/20\n",
      "12/12 [==============================] - 0s 7ms/step - loss: 0.3904 - accuracy: 0.9148 - val_loss: 1.5168 - val_accuracy: 0.3696\n",
      "Epoch 15/20\n",
      "12/12 [==============================] - 0s 9ms/step - loss: 0.3335 - accuracy: 0.9286 - val_loss: 1.5641 - val_accuracy: 0.4022\n",
      "Epoch 16/20\n",
      "12/12 [==============================] - 0s 9ms/step - loss: 0.2743 - accuracy: 0.9643 - val_loss: 1.6440 - val_accuracy: 0.4348\n",
      "Epoch 17/20\n",
      "12/12 [==============================] - 0s 7ms/step - loss: 0.2312 - accuracy: 0.9643 - val_loss: 1.6667 - val_accuracy: 0.4457\n",
      "Epoch 18/20\n",
      "12/12 [==============================] - 0s 8ms/step - loss: 0.2022 - accuracy: 0.9753 - val_loss: 1.7186 - val_accuracy: 0.4130\n",
      "Epoch 19/20\n",
      "12/12 [==============================] - 0s 8ms/step - loss: 0.1717 - accuracy: 0.9808 - val_loss: 1.7193 - val_accuracy: 0.4239\n",
      "Epoch 20/20\n",
      "12/12 [==============================] - 0s 7ms/step - loss: 0.1422 - accuracy: 0.9808 - val_loss: 1.7791 - val_accuracy: 0.4348\n",
      "4/4 [==============================] - 0s 3ms/step\n",
      "Epoch 1/10\n",
      "6/6 [==============================] - 1s 56ms/step - loss: 1.8941 - accuracy: 0.1291 - val_loss: 1.6740 - val_accuracy: 0.4239\n",
      "Epoch 2/10\n",
      "6/6 [==============================] - 0s 11ms/step - loss: 1.5230 - accuracy: 0.4368 - val_loss: 1.5163 - val_accuracy: 0.4239\n",
      "Epoch 3/10\n",
      "6/6 [==============================] - 0s 12ms/step - loss: 1.3937 - accuracy: 0.4533 - val_loss: 1.4769 - val_accuracy: 0.4565\n",
      "Epoch 4/10\n",
      "6/6 [==============================] - 0s 12ms/step - loss: 1.3329 - accuracy: 0.4835 - val_loss: 1.4469 - val_accuracy: 0.4457\n",
      "Epoch 5/10\n",
      "6/6 [==============================] - 0s 11ms/step - loss: 1.2840 - accuracy: 0.5220 - val_loss: 1.4012 - val_accuracy: 0.4565\n",
      "Epoch 6/10\n",
      "6/6 [==============================] - 0s 11ms/step - loss: 1.2343 - accuracy: 0.5632 - val_loss: 1.3608 - val_accuracy: 0.4674\n",
      "Epoch 7/10\n",
      "6/6 [==============================] - 0s 11ms/step - loss: 1.1873 - accuracy: 0.5879 - val_loss: 1.3322 - val_accuracy: 0.4457\n",
      "Epoch 8/10\n",
      "6/6 [==============================] - 0s 13ms/step - loss: 1.1336 - accuracy: 0.6126 - val_loss: 1.3256 - val_accuracy: 0.5326\n",
      "Epoch 9/10\n",
      "6/6 [==============================] - 0s 16ms/step - loss: 1.0798 - accuracy: 0.6209 - val_loss: 1.3268 - val_accuracy: 0.5326\n",
      "Epoch 10/10\n",
      "6/6 [==============================] - 0s 16ms/step - loss: 1.0254 - accuracy: 0.6456 - val_loss: 1.3223 - val_accuracy: 0.5109\n",
      "4/4 [==============================] - 0s 3ms/step\n",
      "Epoch 1/30\n",
      "23/23 [==============================] - 1s 14ms/step - loss: 1.7038 - accuracy: 0.3434 - val_loss: 1.4942 - val_accuracy: 0.4674\n",
      "Epoch 2/30\n",
      "23/23 [==============================] - 0s 5ms/step - loss: 1.3407 - accuracy: 0.4670 - val_loss: 1.4287 - val_accuracy: 0.5326\n",
      "Epoch 3/30\n",
      "23/23 [==============================] - 0s 5ms/step - loss: 1.2418 - accuracy: 0.5549 - val_loss: 1.3791 - val_accuracy: 0.4674\n",
      "Epoch 4/30\n",
      "23/23 [==============================] - 0s 7ms/step - loss: 1.1593 - accuracy: 0.5659 - val_loss: 1.3412 - val_accuracy: 0.5109\n",
      "Epoch 5/30\n",
      "23/23 [==============================] - 0s 6ms/step - loss: 1.0425 - accuracy: 0.6126 - val_loss: 1.3729 - val_accuracy: 0.4891\n",
      "Epoch 6/30\n",
      "23/23 [==============================] - 0s 6ms/step - loss: 0.9298 - accuracy: 0.6731 - val_loss: 1.3606 - val_accuracy: 0.4674\n",
      "Epoch 7/30\n",
      "23/23 [==============================] - 0s 6ms/step - loss: 0.7972 - accuracy: 0.7418 - val_loss: 1.4179 - val_accuracy: 0.4457\n",
      "Epoch 8/30\n",
      "23/23 [==============================] - 0s 8ms/step - loss: 0.6731 - accuracy: 0.7857 - val_loss: 1.3822 - val_accuracy: 0.4022\n",
      "Epoch 9/30\n",
      "23/23 [==============================] - 0s 6ms/step - loss: 0.5510 - accuracy: 0.8352 - val_loss: 1.4424 - val_accuracy: 0.4674\n",
      "Epoch 10/30\n",
      "23/23 [==============================] - 0s 6ms/step - loss: 0.4394 - accuracy: 0.8791 - val_loss: 1.5469 - val_accuracy: 0.4022\n",
      "Epoch 11/30\n",
      "23/23 [==============================] - 0s 5ms/step - loss: 0.3521 - accuracy: 0.9148 - val_loss: 1.6053 - val_accuracy: 0.4674\n",
      "Epoch 12/30\n",
      "23/23 [==============================] - 0s 5ms/step - loss: 0.2686 - accuracy: 0.9423 - val_loss: 1.7082 - val_accuracy: 0.4130\n",
      "Epoch 13/30\n",
      "23/23 [==============================] - 0s 6ms/step - loss: 0.2207 - accuracy: 0.9643 - val_loss: 1.7480 - val_accuracy: 0.4130\n",
      "Epoch 14/30\n",
      "23/23 [==============================] - 0s 6ms/step - loss: 0.1651 - accuracy: 0.9753 - val_loss: 1.8725 - val_accuracy: 0.4022\n",
      "Epoch 15/30\n",
      "23/23 [==============================] - 0s 5ms/step - loss: 0.1399 - accuracy: 0.9753 - val_loss: 1.9394 - val_accuracy: 0.4783\n",
      "Epoch 16/30\n",
      "23/23 [==============================] - 0s 5ms/step - loss: 0.1067 - accuracy: 0.9945 - val_loss: 2.0196 - val_accuracy: 0.4130\n",
      "Epoch 17/30\n",
      "23/23 [==============================] - 0s 6ms/step - loss: 0.0978 - accuracy: 0.9835 - val_loss: 2.0492 - val_accuracy: 0.4022\n",
      "Epoch 18/30\n",
      "23/23 [==============================] - 0s 5ms/step - loss: 0.0780 - accuracy: 0.9918 - val_loss: 2.1074 - val_accuracy: 0.4348\n",
      "Epoch 19/30\n",
      "23/23 [==============================] - 0s 6ms/step - loss: 0.0637 - accuracy: 0.9945 - val_loss: 2.1402 - val_accuracy: 0.4674\n",
      "Epoch 20/30\n",
      "23/23 [==============================] - 0s 6ms/step - loss: 0.0590 - accuracy: 0.9918 - val_loss: 2.1717 - val_accuracy: 0.4130\n",
      "Epoch 21/30\n",
      "23/23 [==============================] - 0s 5ms/step - loss: 0.0491 - accuracy: 0.9945 - val_loss: 2.2498 - val_accuracy: 0.4891\n",
      "Epoch 22/30\n",
      "23/23 [==============================] - 0s 6ms/step - loss: 0.0439 - accuracy: 0.9945 - val_loss: 2.3039 - val_accuracy: 0.4891\n",
      "Epoch 23/30\n",
      "23/23 [==============================] - 0s 5ms/step - loss: 0.0356 - accuracy: 0.9945 - val_loss: 2.3426 - val_accuracy: 0.4783\n",
      "Epoch 24/30\n",
      "23/23 [==============================] - 0s 6ms/step - loss: 0.0339 - accuracy: 0.9918 - val_loss: 2.4358 - val_accuracy: 0.4891\n",
      "Epoch 25/30\n",
      "23/23 [==============================] - 0s 6ms/step - loss: 0.0349 - accuracy: 0.9918 - val_loss: 2.4642 - val_accuracy: 0.4130\n",
      "Epoch 26/30\n",
      "23/23 [==============================] - 0s 6ms/step - loss: 0.0306 - accuracy: 0.9918 - val_loss: 2.4611 - val_accuracy: 0.4565\n",
      "Epoch 27/30\n",
      "23/23 [==============================] - 0s 6ms/step - loss: 0.0276 - accuracy: 0.9918 - val_loss: 2.5009 - val_accuracy: 0.4565\n",
      "Epoch 28/30\n",
      "23/23 [==============================] - 0s 5ms/step - loss: 0.0264 - accuracy: 0.9890 - val_loss: 2.5989 - val_accuracy: 0.4348\n",
      "Epoch 29/30\n",
      "23/23 [==============================] - 0s 6ms/step - loss: 0.0257 - accuracy: 0.9918 - val_loss: 2.5367 - val_accuracy: 0.4130\n",
      "Epoch 30/30\n",
      "23/23 [==============================] - 0s 7ms/step - loss: 0.0252 - accuracy: 0.9890 - val_loss: 2.6016 - val_accuracy: 0.4348\n",
      "4/4 [==============================] - 0s 2ms/step\n",
      "Epoch 1/20\n",
      "12/12 [==============================] - 1s 18ms/step - loss: 1.6357 - accuracy: 0.3516 - val_loss: 1.4440 - val_accuracy: 0.4022\n",
      "Epoch 2/20\n",
      "12/12 [==============================] - 0s 5ms/step - loss: 1.3325 - accuracy: 0.4780 - val_loss: 1.4038 - val_accuracy: 0.4457\n",
      "Epoch 3/20\n",
      "12/12 [==============================] - 0s 6ms/step - loss: 1.2748 - accuracy: 0.5055 - val_loss: 1.3595 - val_accuracy: 0.4674\n",
      "Epoch 4/20\n",
      "12/12 [==============================] - 0s 6ms/step - loss: 1.2152 - accuracy: 0.5467 - val_loss: 1.3449 - val_accuracy: 0.4783\n",
      "Epoch 5/20\n",
      "12/12 [==============================] - 0s 5ms/step - loss: 1.1519 - accuracy: 0.5742 - val_loss: 1.3430 - val_accuracy: 0.4565\n",
      "Epoch 6/20\n",
      "12/12 [==============================] - 0s 5ms/step - loss: 1.0819 - accuracy: 0.6016 - val_loss: 1.3316 - val_accuracy: 0.4348\n",
      "Epoch 7/20\n",
      "12/12 [==============================] - 0s 9ms/step - loss: 0.9947 - accuracy: 0.6456 - val_loss: 1.3207 - val_accuracy: 0.4457\n",
      "Epoch 8/20\n",
      "12/12 [==============================] - 0s 8ms/step - loss: 0.9161 - accuracy: 0.6951 - val_loss: 1.3387 - val_accuracy: 0.4348\n",
      "Epoch 9/20\n",
      "12/12 [==============================] - 0s 8ms/step - loss: 0.8297 - accuracy: 0.7170 - val_loss: 1.3625 - val_accuracy: 0.4239\n",
      "Epoch 10/20\n",
      "12/12 [==============================] - 0s 8ms/step - loss: 0.7453 - accuracy: 0.7390 - val_loss: 1.3917 - val_accuracy: 0.4239\n",
      "Epoch 11/20\n",
      "12/12 [==============================] - 0s 6ms/step - loss: 0.6626 - accuracy: 0.7967 - val_loss: 1.3959 - val_accuracy: 0.3913\n",
      "Epoch 12/20\n",
      "12/12 [==============================] - 0s 10ms/step - loss: 0.5695 - accuracy: 0.8324 - val_loss: 1.4170 - val_accuracy: 0.4022\n",
      "Epoch 13/20\n",
      "12/12 [==============================] - 0s 8ms/step - loss: 0.4828 - accuracy: 0.8681 - val_loss: 1.4717 - val_accuracy: 0.4457\n",
      "Epoch 14/20\n",
      "12/12 [==============================] - 0s 7ms/step - loss: 0.4063 - accuracy: 0.9066 - val_loss: 1.5512 - val_accuracy: 0.4565\n",
      "Epoch 15/20\n",
      "12/12 [==============================] - 0s 8ms/step - loss: 0.3453 - accuracy: 0.9313 - val_loss: 1.6162 - val_accuracy: 0.4565\n",
      "Epoch 16/20\n",
      "12/12 [==============================] - 0s 8ms/step - loss: 0.2978 - accuracy: 0.9286 - val_loss: 1.5851 - val_accuracy: 0.4348\n",
      "Epoch 17/20\n",
      "12/12 [==============================] - 0s 8ms/step - loss: 0.2414 - accuracy: 0.9725 - val_loss: 1.6526 - val_accuracy: 0.4348\n",
      "Epoch 18/20\n",
      "12/12 [==============================] - 0s 6ms/step - loss: 0.2120 - accuracy: 0.9615 - val_loss: 1.7170 - val_accuracy: 0.4457\n",
      "Epoch 19/20\n",
      "12/12 [==============================] - 0s 9ms/step - loss: 0.1700 - accuracy: 0.9945 - val_loss: 1.7839 - val_accuracy: 0.4674\n",
      "Epoch 20/20\n",
      "12/12 [==============================] - 0s 9ms/step - loss: 0.1411 - accuracy: 0.9945 - val_loss: 1.7940 - val_accuracy: 0.4348\n",
      "4/4 [==============================] - 0s 3ms/step\n",
      "Epoch 1/20\n",
      "12/12 [==============================] - 1s 20ms/step - loss: 1.6510 - accuracy: 0.3984 - val_loss: 1.5075 - val_accuracy: 0.3913\n",
      "Epoch 2/20\n",
      "12/12 [==============================] - 0s 6ms/step - loss: 1.3646 - accuracy: 0.4670 - val_loss: 1.4564 - val_accuracy: 0.4674\n",
      "Epoch 3/20\n",
      "12/12 [==============================] - 0s 6ms/step - loss: 1.2951 - accuracy: 0.4918 - val_loss: 1.4012 - val_accuracy: 0.4565\n",
      "Epoch 4/20\n",
      "12/12 [==============================] - 0s 6ms/step - loss: 1.2340 - accuracy: 0.5302 - val_loss: 1.3639 - val_accuracy: 0.4457\n",
      "Epoch 5/20\n",
      "12/12 [==============================] - 0s 9ms/step - loss: 1.1761 - accuracy: 0.5385 - val_loss: 1.3777 - val_accuracy: 0.4674\n",
      "Epoch 6/20\n",
      "12/12 [==============================] - 0s 7ms/step - loss: 1.1118 - accuracy: 0.6154 - val_loss: 1.3406 - val_accuracy: 0.4457\n",
      "Epoch 7/20\n",
      "12/12 [==============================] - 0s 7ms/step - loss: 1.0153 - accuracy: 0.6484 - val_loss: 1.3604 - val_accuracy: 0.4457\n",
      "Epoch 8/20\n",
      "12/12 [==============================] - 0s 7ms/step - loss: 0.9328 - accuracy: 0.6868 - val_loss: 1.3480 - val_accuracy: 0.4348\n",
      "Epoch 9/20\n",
      "12/12 [==============================] - 0s 6ms/step - loss: 0.8403 - accuracy: 0.7060 - val_loss: 1.3382 - val_accuracy: 0.4457\n",
      "Epoch 10/20\n",
      "12/12 [==============================] - 0s 8ms/step - loss: 0.7578 - accuracy: 0.7527 - val_loss: 1.3833 - val_accuracy: 0.4457\n",
      "Epoch 11/20\n",
      "12/12 [==============================] - 0s 7ms/step - loss: 0.7052 - accuracy: 0.7418 - val_loss: 1.4323 - val_accuracy: 0.4348\n",
      "Epoch 12/20\n",
      "12/12 [==============================] - 0s 9ms/step - loss: 0.5870 - accuracy: 0.8214 - val_loss: 1.4624 - val_accuracy: 0.4239\n",
      "Epoch 13/20\n",
      "12/12 [==============================] - 0s 8ms/step - loss: 0.5308 - accuracy: 0.8324 - val_loss: 1.4397 - val_accuracy: 0.4457\n",
      "Epoch 14/20\n",
      "12/12 [==============================] - 0s 8ms/step - loss: 0.4384 - accuracy: 0.8874 - val_loss: 1.5063 - val_accuracy: 0.4348\n",
      "Epoch 15/20\n",
      "12/12 [==============================] - 0s 7ms/step - loss: 0.3643 - accuracy: 0.9121 - val_loss: 1.5268 - val_accuracy: 0.4348\n",
      "Epoch 16/20\n",
      "12/12 [==============================] - 0s 6ms/step - loss: 0.3032 - accuracy: 0.9478 - val_loss: 1.6143 - val_accuracy: 0.4457\n",
      "Epoch 17/20\n",
      "12/12 [==============================] - 0s 8ms/step - loss: 0.2669 - accuracy: 0.9560 - val_loss: 1.6476 - val_accuracy: 0.4348\n",
      "Epoch 18/20\n",
      "12/12 [==============================] - 0s 7ms/step - loss: 0.2251 - accuracy: 0.9560 - val_loss: 1.6833 - val_accuracy: 0.4239\n",
      "Epoch 19/20\n",
      "12/12 [==============================] - 0s 7ms/step - loss: 0.1865 - accuracy: 0.9808 - val_loss: 1.7611 - val_accuracy: 0.4239\n",
      "Epoch 20/20\n",
      "12/12 [==============================] - 0s 11ms/step - loss: 0.1566 - accuracy: 0.9835 - val_loss: 1.7777 - val_accuracy: 0.4239\n",
      "4/4 [==============================] - 0s 3ms/step\n",
      "    Model Name                                         Parameters  Accuracy\n",
      "0  ann_model_1  {'hidden_layer_1': 64, 'hidden_layer_2': 32, '...  0.382609\n",
      "1  ann_model_2  {'hidden_layer_1': 128, 'hidden_layer_2': 64, ...  0.356522\n",
      "2  ann_model_3  {'hidden_layer_1': 128, 'hidden_layer_2': 64, ...  0.469565\n",
      "3  ann_model_4  {'hidden_layer_1': 128, 'hidden_layer_2': 64, ...  0.339130\n",
      "4  ann_model_5  {'hidden_layer_1': 128, 'hidden_layer_2': 64, ...  0.330435\n",
      "5  ann_model_6  {'hidden_layer_1': 128, 'hidden_layer_2': 64, ...  0.365217\n"
     ]
    }
   ],
   "source": [
    "import pandas as pd\n",
    "import numpy as np\n",
    "from sklearn.model_selection import train_test_split\n",
    "from tensorflow import keras\n",
    "from tensorflow.keras import layers\n",
    "from tensorflow.keras.utils import to_categorical\n",
    "from sklearn.metrics import accuracy_score\n",
    "\n",
    "# Prepare features and target variables\n",
    "X = townhouse_data.drop(columns=['price_by_area_interval'])\n",
    "y = townhouse_data['price_by_area_interval']\n",
    "\n",
    "# Encode multi-category target variables into integer labels\n",
    "label_mapping = {label: idx for idx, label in enumerate(y.unique())}\n",
    "y_encoded = y.map(label_mapping)\n",
    "\n",
    "# Divide the data set into training set and test set\n",
    "X_train, X_test, y_train, y_test = train_test_split(X, y_encoded, test_size=0.2, random_state=42)\n",
    "\n",
    "# Convert integer labels to one-hot encoding\n",
    "y_train_one_hot = to_categorical(y_train)\n",
    "y_test_one_hot = to_categorical(y_test)\n",
    "\n",
    "# Parameter combinations for ANN\n",
    "param_combinations = [\n",
    "    {'hidden_layer_1': 64, 'hidden_layer_2': 32, 'hidden_layer_3': 16, 'epochs': 20, 'batch_size': 32},\n",
    "    {'hidden_layer_1': 128, 'hidden_layer_2': 64, 'hidden_layer_3': 32, 'epochs': 20, 'batch_size': 32},\n",
    "    {'hidden_layer_1': 128, 'hidden_layer_2': 64, 'epochs': 10, 'batch_size': 64},\n",
    "    {'hidden_layer_1': 128, 'hidden_layer_2': 64, 'epochs': 30, 'batch_size': 16},\n",
    "    {'hidden_layer_1': 128, 'hidden_layer_2': 64, 'epochs': 20, 'batch_size': 32, 'optimizer': 'adam', 'learning_rate': 0.001},\n",
    "    {'hidden_layer_1': 128, 'hidden_layer_2': 64, 'epochs': 20, 'batch_size': 32, 'optimizer': 'sgd', 'learning_rate': 0.01}\n",
    "]\n",
    "\n",
    "# Create a DataFrame to store model results\n",
    "results_df = pd.DataFrame(columns=['Model Name', 'Parameters', 'Accuracy'])\n",
    "\n",
    "# Create and train multiple ANN models\n",
    "for i, params in enumerate(param_combinations):\n",
    "    model_name = f\"ann_model_{i+1}\"\n",
    "    model = keras.Sequential()\n",
    "    model.add(layers.Input(shape=(X_train.shape[1],)))\n",
    "    model.add(layers.Dense(params['hidden_layer_1'], activation='relu'))\n",
    "    model.add(layers.Dense(params['hidden_layer_2'], activation='relu'))\n",
    "    model.add(layers.Dense(len(label_mapping), activation='softmax'))\n",
    "    \n",
    "    model.compile(optimizer='adam', loss='categorical_crossentropy', metrics=['accuracy'])\n",
    "    \n",
    "    model.fit(X_train, y_train_one_hot, epochs=params['epochs'], batch_size=params['batch_size'], validation_split=0.2)\n",
    "    \n",
    "    y_pred_one_hot = model.predict(X_test)\n",
    "    y_pred = np.argmax(y_pred_one_hot, axis=1)\n",
    "    \n",
    "    accuracy = accuracy_score(y_test, y_pred)\n",
    "    \n",
    "    # Append results to DataFrame\n",
    "    results_df = results_df.append({\n",
    "        'Model Name': model_name,\n",
    "        'Parameters': params,\n",
    "        'Accuracy': accuracy\n",
    "    }, ignore_index=True)\n",
    "\n",
    "# Output results\n",
    "print(results_df)"
   ]
  },
  {
   "cell_type": "code",
   "execution_count": 53,
   "id": "5eb2f68e-ee94-4d2d-b1f7-80364ea101f5",
   "metadata": {},
   "outputs": [
    {
     "name": "stdout",
     "output_type": "stream",
     "text": [
      "Multinomial Naive Bayes Model 1 - Parameters: {'alpha': 1.0, 'class_prior': None, 'fit_prior': True} - Accuracy: 0.46\n",
      "Multinomial Naive Bayes Model 2 - Parameters: {'alpha': 0.1, 'class_prior': None, 'fit_prior': True} - Accuracy: 0.36\n",
      "Multinomial Naive Bayes Model 3 - Parameters: {'alpha': 0.01, 'class_prior': None, 'fit_prior': True} - Accuracy: 0.30\n",
      "Multinomial Naive Bayes Model 4 - Parameters: {'alpha': 0.001, 'class_prior': None, 'fit_prior': True} - Accuracy: 0.30\n"
     ]
    }
   ],
   "source": [
    "from sklearn.naive_bayes import MultinomialNB\n",
    "from sklearn.model_selection import train_test_split\n",
    "from sklearn.metrics import accuracy_score\n",
    "\n",
    "# Prepare features and target variables\n",
    "X = townhouse_data.drop(columns=['price_by_area_interval'])\n",
    "y = townhouse_data['price_by_area_interval']\n",
    "\n",
    "# Define different Multinomial Naive Bayes parameter combinations\n",
    "nb_param_combinations = [\n",
    "    {'alpha': 1.0},\n",
    "    {'alpha': 0.1},\n",
    "    {'alpha': 0.01},\n",
    "    {'alpha': 0.001},\n",
    "]\n",
    "\n",
    "# Train and evaluate different Multinomial Naive Bayes models\n",
    "nb_models = []\n",
    "for params in nb_param_combinations:\n",
    "    model = MultinomialNB(**params)\n",
    "    X_train, X_test, y_train, y_test = train_test_split(X, y, test_size=0.2, random_state=42)\n",
    "    model.fit(X_train, y_train)\n",
    "    y_pred = model.predict(X_test)\n",
    "    accuracy = accuracy_score(y_test, y_pred)\n",
    "    nb_models.append((model, accuracy))\n",
    "\n",
    "# Print the accuracy of the Multinomial Naive Bayes models\n",
    "for i, (model, accuracy) in enumerate(nb_models):\n",
    "    print(f\"Multinomial Naive Bayes Model {i + 1} - Parameters: {model.get_params()} - Accuracy: {accuracy:.2f}\")"
   ]
  }
 ],
 "metadata": {
  "kernelspec": {
   "display_name": "Python 3 (ipykernel)",
   "language": "python",
   "name": "python3"
  },
  "language_info": {
   "codemirror_mode": {
    "name": "ipython",
    "version": 3
   },
   "file_extension": ".py",
   "mimetype": "text/x-python",
   "name": "python",
   "nbconvert_exporter": "python",
   "pygments_lexer": "ipython3",
   "version": "3.10.9"
  }
 },
 "nbformat": 4,
 "nbformat_minor": 5
}
