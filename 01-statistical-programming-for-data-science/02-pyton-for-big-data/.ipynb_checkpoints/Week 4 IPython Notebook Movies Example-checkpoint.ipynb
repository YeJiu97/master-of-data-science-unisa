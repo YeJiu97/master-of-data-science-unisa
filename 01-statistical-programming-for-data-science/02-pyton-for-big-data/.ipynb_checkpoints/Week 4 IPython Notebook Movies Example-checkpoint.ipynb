{
 "cells": [
  {
   "cell_type": "code",
   "execution_count": 95,
   "metadata": {},
   "outputs": [
    {
     "data": {
      "text/plain": [
       "'/Users/chieraba/Desktop/ml-1m'"
      ]
     },
     "execution_count": 95,
     "metadata": {},
     "output_type": "execute_result"
    }
   ],
   "source": [
    "pwd"
   ]
  },
  {
   "cell_type": "code",
   "execution_count": 97,
   "metadata": {},
   "outputs": [
    {
     "name": "stdout",
     "output_type": "stream",
     "text": [
      "/Users/chieraba/Desktop/ml-1m\n"
     ]
    }
   ],
   "source": [
    "cd '/Users/chieraba/Desktop/ml-1m'"
   ]
  },
  {
   "cell_type": "markdown",
   "metadata": {},
   "source": [
    "### Introductory Analysis of Movie Len Data "
   ]
  },
  {
   "cell_type": "markdown",
   "metadata": {},
   "source": [
    "<font color='blue'>\n",
    "We're going to use genfromtxt() to read in the data.\n",
    "</font> \n",
    "A great (ie easy to follow) intro can be found right here:\n",
    "\n",
    "https://www.numpy.org/devdocs/user/basics.io.genfromtxt.html\n"
   ]
  },
  {
   "cell_type": "code",
   "execution_count": 100,
   "metadata": {},
   "outputs": [
    {
     "name": "stdout",
     "output_type": "stream",
     "text": [
      "(6040,)\n"
     ]
    },
    {
     "data": {
      "text/plain": [
       "array([(1, 'F',  1, 10), (2, 'M', 56, 16), (3, 'M', 25, 15),\n",
       "       (4, 'M', 45,  7), (5, 'M', 25, 20), (6, 'F', 50,  9),\n",
       "       (7, 'M', 35,  1), (8, 'M', 25, 12), (9, 'M', 25, 17)],\n",
       "      dtype=[('user_id', '<i8'), ('gender', '<U1'), ('age', '<i8'), ('occupation', '<i8')])"
      ]
     },
     "execution_count": 100,
     "metadata": {},
     "output_type": "execute_result"
    }
   ],
   "source": [
    "import numpy as np\n",
    "\n",
    "# What happens if we read the data as shown below?\n",
    "users = np.genfromtxt('users.dat',delimiter='::',usecols=(0,1,2,3),names=['user_id', 'gender','age', 'occupation'],dtype=None,encoding='ascii')\n",
    "print(users.shape)\n",
    "users[0:9,]"
   ]
  },
  {
   "cell_type": "code",
   "execution_count": 104,
   "metadata": {},
   "outputs": [
    {
     "name": "stdout",
     "output_type": "stream",
     "text": [
      "(1000209,)\n"
     ]
    },
    {
     "data": {
      "text/plain": [
       "array([(1, 1193, 5), (1,  661, 3), (1,  914, 3), (1, 3408, 4),\n",
       "       (1, 2355, 5), (1, 1197, 3), (1, 1287, 5), (1, 2804, 5),\n",
       "       (1,  594, 4)],\n",
       "      dtype=[('user_id', '<i8'), ('movie_id', '<i8'), ('rating', '<i8')])"
      ]
     },
     "execution_count": 104,
     "metadata": {},
     "output_type": "execute_result"
    }
   ],
   "source": [
    "# Now read in the ratings\n",
    "\n",
    "ratings = np.genfromtxt('ratings.dat',delimiter='::',usecols=(0,1,2),names=['user_id', 'movie_id','rating'],dtype=None)\n",
    "print(ratings.shape)\n",
    "ratings[0:9,]"
   ]
  },
  {
   "cell_type": "code",
   "execution_count": 105,
   "metadata": {
    "scrolled": true
   },
   "outputs": [
    {
     "ename": "UnicodeDecodeError",
     "evalue": "'ascii' codec can't decode byte 0xe9 in position 3114: ordinal not in range(128)",
     "output_type": "error",
     "traceback": [
      "\u001b[0;31m---------------------------------------------------------------------------\u001b[0m",
      "\u001b[0;31mUnicodeDecodeError\u001b[0m                        Traceback (most recent call last)",
      "\u001b[0;32m<ipython-input-105-b0cbdc68aae4>\u001b[0m in \u001b[0;36m<module>\u001b[0;34m()\u001b[0m\n\u001b[1;32m      2\u001b[0m \u001b[0;31m# Also, this command won't work  ... there are other issues to think about too!\u001b[0m\u001b[0;34m\u001b[0m\u001b[0;34m\u001b[0m\u001b[0m\n\u001b[1;32m      3\u001b[0m \u001b[0;34m\u001b[0m\u001b[0m\n\u001b[0;32m----> 4\u001b[0;31m \u001b[0mmovies\u001b[0m \u001b[0;34m=\u001b[0m \u001b[0mnp\u001b[0m\u001b[0;34m.\u001b[0m\u001b[0mgenfromtxt\u001b[0m\u001b[0;34m(\u001b[0m\u001b[0;34m'movies.dat'\u001b[0m\u001b[0;34m,\u001b[0m\u001b[0mdelimiter\u001b[0m\u001b[0;34m=\u001b[0m\u001b[0;34m'::'\u001b[0m\u001b[0;34m,\u001b[0m\u001b[0mnames\u001b[0m\u001b[0;34m=\u001b[0m\u001b[0;34m[\u001b[0m\u001b[0;34m'movie_id'\u001b[0m\u001b[0;34m,\u001b[0m\u001b[0;34m'title'\u001b[0m\u001b[0;34m,\u001b[0m\u001b[0;34m'genre'\u001b[0m\u001b[0;34m]\u001b[0m\u001b[0;34m,\u001b[0m\u001b[0mdtype\u001b[0m\u001b[0;34m=\u001b[0m\u001b[0;32mNone\u001b[0m\u001b[0;34m,\u001b[0m\u001b[0mencoding\u001b[0m\u001b[0;34m=\u001b[0m\u001b[0;34m'ascii'\u001b[0m\u001b[0;34m)\u001b[0m\u001b[0;34m\u001b[0m\u001b[0m\n\u001b[0m",
      "\u001b[0;32m/anaconda3/lib/python3.6/site-packages/numpy/lib/npyio.py\u001b[0m in \u001b[0;36mgenfromtxt\u001b[0;34m(fname, dtype, comments, delimiter, skip_header, skip_footer, converters, missing_values, filling_values, usecols, names, excludelist, deletechars, replace_space, autostrip, case_sensitive, defaultfmt, unpack, usemask, loose, invalid_raise, max_rows, encoding)\u001b[0m\n\u001b[1;32m   1711\u001b[0m     \u001b[0;32mtry\u001b[0m\u001b[0;34m:\u001b[0m\u001b[0;34m\u001b[0m\u001b[0m\n\u001b[1;32m   1712\u001b[0m         \u001b[0;32mwhile\u001b[0m \u001b[0;32mnot\u001b[0m \u001b[0mfirst_values\u001b[0m\u001b[0;34m:\u001b[0m\u001b[0;34m\u001b[0m\u001b[0m\n\u001b[0;32m-> 1713\u001b[0;31m             \u001b[0mfirst_line\u001b[0m \u001b[0;34m=\u001b[0m \u001b[0m_decode_line\u001b[0m\u001b[0;34m(\u001b[0m\u001b[0mnext\u001b[0m\u001b[0;34m(\u001b[0m\u001b[0mfhd\u001b[0m\u001b[0;34m)\u001b[0m\u001b[0;34m,\u001b[0m \u001b[0mencoding\u001b[0m\u001b[0;34m)\u001b[0m\u001b[0;34m\u001b[0m\u001b[0m\n\u001b[0m\u001b[1;32m   1714\u001b[0m             \u001b[0;32mif\u001b[0m \u001b[0mnames\u001b[0m \u001b[0;32mis\u001b[0m \u001b[0;32mTrue\u001b[0m\u001b[0;34m:\u001b[0m\u001b[0;34m\u001b[0m\u001b[0m\n\u001b[1;32m   1715\u001b[0m                 \u001b[0;32mif\u001b[0m \u001b[0mcomments\u001b[0m \u001b[0;32min\u001b[0m \u001b[0mfirst_line\u001b[0m\u001b[0;34m:\u001b[0m\u001b[0;34m\u001b[0m\u001b[0m\n",
      "\u001b[0;32m/anaconda3/lib/python3.6/encodings/ascii.py\u001b[0m in \u001b[0;36mdecode\u001b[0;34m(self, input, final)\u001b[0m\n\u001b[1;32m     24\u001b[0m \u001b[0;32mclass\u001b[0m \u001b[0mIncrementalDecoder\u001b[0m\u001b[0;34m(\u001b[0m\u001b[0mcodecs\u001b[0m\u001b[0;34m.\u001b[0m\u001b[0mIncrementalDecoder\u001b[0m\u001b[0;34m)\u001b[0m\u001b[0;34m:\u001b[0m\u001b[0;34m\u001b[0m\u001b[0m\n\u001b[1;32m     25\u001b[0m     \u001b[0;32mdef\u001b[0m \u001b[0mdecode\u001b[0m\u001b[0;34m(\u001b[0m\u001b[0mself\u001b[0m\u001b[0;34m,\u001b[0m \u001b[0minput\u001b[0m\u001b[0;34m,\u001b[0m \u001b[0mfinal\u001b[0m\u001b[0;34m=\u001b[0m\u001b[0;32mFalse\u001b[0m\u001b[0;34m)\u001b[0m\u001b[0;34m:\u001b[0m\u001b[0;34m\u001b[0m\u001b[0m\n\u001b[0;32m---> 26\u001b[0;31m         \u001b[0;32mreturn\u001b[0m \u001b[0mcodecs\u001b[0m\u001b[0;34m.\u001b[0m\u001b[0mascii_decode\u001b[0m\u001b[0;34m(\u001b[0m\u001b[0minput\u001b[0m\u001b[0;34m,\u001b[0m \u001b[0mself\u001b[0m\u001b[0;34m.\u001b[0m\u001b[0merrors\u001b[0m\u001b[0;34m)\u001b[0m\u001b[0;34m[\u001b[0m\u001b[0;36m0\u001b[0m\u001b[0;34m]\u001b[0m\u001b[0;34m\u001b[0m\u001b[0m\n\u001b[0m\u001b[1;32m     27\u001b[0m \u001b[0;34m\u001b[0m\u001b[0m\n\u001b[1;32m     28\u001b[0m \u001b[0;32mclass\u001b[0m \u001b[0mStreamWriter\u001b[0m\u001b[0;34m(\u001b[0m\u001b[0mCodec\u001b[0m\u001b[0;34m,\u001b[0m\u001b[0mcodecs\u001b[0m\u001b[0;34m.\u001b[0m\u001b[0mStreamWriter\u001b[0m\u001b[0;34m)\u001b[0m\u001b[0;34m:\u001b[0m\u001b[0;34m\u001b[0m\u001b[0m\n",
      "\u001b[0;31mUnicodeDecodeError\u001b[0m: 'ascii' codec can't decode byte 0xe9 in position 3114: ordinal not in range(128)"
     ]
    }
   ],
   "source": [
    "# The same goes for movies.\n",
    "# Also, this command won't work  ... there are other issues to think about too!\n",
    "\n",
    "movies = np.genfromtxt('movies.dat',delimiter='::',names=['movie_id','title','genre'],dtype=None,encoding='ascii')"
   ]
  },
  {
   "cell_type": "code",
   "execution_count": 110,
   "metadata": {},
   "outputs": [
    {
     "name": "stdout",
     "output_type": "stream",
     "text": [
      "(3883,)\n"
     ]
    },
    {
     "data": {
      "text/plain": [
       "array([(1, 'Toy Story (1995)', \"Animation|Children's|Comedy\"),\n",
       "       (2, 'Jumanji (1995)', \"Adventure|Children's|Fantasy\"),\n",
       "       (3, 'Grumpier Old Men (1995)', 'Comedy|Romance'),\n",
       "       (4, 'Waiting to Exhale (1995)', 'Comedy|Drama'),\n",
       "       (5, 'Father of the Bride Part II (1995)', 'Comedy'),\n",
       "       (6, 'Heat (1995)', 'Action|Crime|Thriller'),\n",
       "       (7, 'Sabrina (1995)', 'Comedy|Romance'),\n",
       "       (8, 'Tom and Huck (1995)', \"Adventure|Children's\"),\n",
       "       (9, 'Sudden Death (1995)', 'Action')],\n",
       "      dtype=[('movie_id', '<i8'), ('title', '<U82'), ('genre', '<U47')])"
      ]
     },
     "execution_count": 110,
     "metadata": {},
     "output_type": "execute_result"
    }
   ],
   "source": [
    "# The problem is we're trying to load a UTF-8 file\n",
    "\n",
    "# And now it works!  The issue was the # which numpy treats as a comment (ie ignores everything else after this symbol)\n",
    "\n",
    "#movies = np.genfromtxt('movies.dat',delimiter='::',comments='%',names=['movie_id', 'title', 'genre'],dtype=None,encoding='latin-1')\n",
    "movies = np.genfromtxt('movies.dat',delimiter='::',comments='None',names=['movie_id', 'title', 'genre'],dtype=None,encoding='latin-1')\n",
    "print(movies.shape)\n",
    "movies[0:9,]"
   ]
  },
  {
   "cell_type": "code",
   "execution_count": 111,
   "metadata": {},
   "outputs": [
    {
     "data": {
      "text/plain": [
       "numpy.ndarray"
      ]
     },
     "execution_count": 111,
     "metadata": {},
     "output_type": "execute_result"
    }
   ],
   "source": [
    "# Check the type - make sure we have a numpy structure\n",
    "type(movies)"
   ]
  },
  {
   "cell_type": "code",
   "execution_count": 112,
   "metadata": {},
   "outputs": [
    {
     "data": {
      "text/plain": [
       "array([( 1, 'F',  1, 10), ( 2, 'M', 56, 16), ( 3, 'M', 25, 15),\n",
       "       ( 4, 'M', 45,  7), ( 5, 'M', 25, 20), ( 6, 'F', 50,  9),\n",
       "       ( 7, 'M', 35,  1), ( 8, 'M', 25, 12), ( 9, 'M', 25, 17),\n",
       "       (10, 'F', 35,  1)],\n",
       "      dtype=[('user_id', '<i8'), ('gender', '<U1'), ('age', '<i8'), ('occupation', '<i8')])"
      ]
     },
     "execution_count": 112,
     "metadata": {},
     "output_type": "execute_result"
    }
   ],
   "source": [
    "# Have a look at users ... this is a structured array (What do we mean by that?)\n",
    "users[:10]"
   ]
  },
  {
   "cell_type": "code",
   "execution_count": 113,
   "metadata": {},
   "outputs": [
    {
     "data": {
      "text/plain": [
       "array([(1, 1193, 5), (1,  661, 3), (1,  914, 3), (1, 3408, 4),\n",
       "       (1, 2355, 5), (1, 1197, 3), (1, 1287, 5), (1, 2804, 5),\n",
       "       (1,  594, 4), (1,  919, 4)],\n",
       "      dtype=[('user_id', '<i8'), ('movie_id', '<i8'), ('rating', '<i8')])"
      ]
     },
     "execution_count": 113,
     "metadata": {},
     "output_type": "execute_result"
    }
   ],
   "source": [
    "ratings[:10]"
   ]
  },
  {
   "cell_type": "code",
   "execution_count": 114,
   "metadata": {},
   "outputs": [
    {
     "data": {
      "text/plain": [
       "array([( 1, 'Toy Story (1995)', \"Animation|Children's|Comedy\"),\n",
       "       ( 2, 'Jumanji (1995)', \"Adventure|Children's|Fantasy\"),\n",
       "       ( 3, 'Grumpier Old Men (1995)', 'Comedy|Romance'),\n",
       "       ( 4, 'Waiting to Exhale (1995)', 'Comedy|Drama'),\n",
       "       ( 5, 'Father of the Bride Part II (1995)', 'Comedy'),\n",
       "       ( 6, 'Heat (1995)', 'Action|Crime|Thriller'),\n",
       "       ( 7, 'Sabrina (1995)', 'Comedy|Romance'),\n",
       "       ( 8, 'Tom and Huck (1995)', \"Adventure|Children's\"),\n",
       "       ( 9, 'Sudden Death (1995)', 'Action'),\n",
       "       (10, 'GoldenEye (1995)', 'Action|Adventure|Thriller')],\n",
       "      dtype=[('movie_id', '<i8'), ('title', '<U82'), ('genre', '<U47')])"
      ]
     },
     "execution_count": 114,
     "metadata": {},
     "output_type": "execute_result"
    }
   ],
   "source": [
    "movies[:10]"
   ]
  },
  {
   "cell_type": "markdown",
   "metadata": {},
   "source": [
    "We have the following fields:\n",
    "    \n",
    "    Users:    user_id, gender, age, occupation\n",
    "    Ratings:  user_id, movie_id, rating\n",
    "    Movies:   movie_id, title, genre\n",
    "    \n",
    "What sort of questions can we answer with this data?"
   ]
  },
  {
   "cell_type": "markdown",
   "metadata": {},
   "source": [
    "### Let's prepare to plot"
   ]
  },
  {
   "cell_type": "code",
   "execution_count": 116,
   "metadata": {},
   "outputs": [],
   "source": [
    "# What does the magic function %matplotlib inline do?\n",
    "import matplotlib.pyplot as plt\n",
    "%matplotlib inline"
   ]
  },
  {
   "cell_type": "markdown",
   "metadata": {},
   "source": [
    "### Let's start by checking out the ratings of movies (did we have a tough crowd?)"
   ]
  },
  {
   "cell_type": "code",
   "execution_count": 120,
   "metadata": {},
   "outputs": [
    {
     "name": "stdout",
     "output_type": "stream",
     "text": [
      "[ 56174. 107557. 261197. 348971. 226310.]\n",
      "[1.  1.8 2.6 3.4 4.2 5. ]\n",
      "<a list of 5 Patch objects>\n"
     ]
    },
    {
     "data": {
      "text/plain": [
       "Text(0,0.5,'Frequency')"
      ]
     },
     "execution_count": 120,
     "metadata": {},
     "output_type": "execute_result"
    },
    {
     "data": {
      "image/png": "[encoded data removed]",
      "text/plain": [
       "<Figure size 432x288 with 1 Axes>"
      ]
     },
     "metadata": {},
     "output_type": "display_data"
    }
   ],
   "source": [
    "n, bins, patches = plt.hist(ratings['rating'],bins=5,facecolor='blue')    # You could have also said bins=np.arange(6) or bins=(1,6,1)\n",
    "print(n)\n",
    "print(bins)\n",
    "print(patches)\n",
    "max_y = max(n)\n",
    "plt.axis([1, 5, 0, max_y])\n",
    "plt.title(\"Histogram of User Ratings\")\n",
    "plt.xlabel(\"Rating\")\n",
    "plt.ylabel(\"Frequency\")"
   ]
  },
  {
   "cell_type": "markdown",
   "metadata": {},
   "source": [
    "<font color='blue'>\n",
    "#### If you want to have more control over colours, use a Hex code.\n",
    "#### A nice reference list is [here](http://cloford.com/resources/colours/500col.htm)\n",
    "</font> "
   ]
  },
  {
   "cell_type": "code",
   "execution_count": 83,
   "metadata": {},
   "outputs": [
    {
     "name": "stdout",
     "output_type": "stream",
     "text": [
      "[ 56174. 107557. 261197. 348971. 226310.]\n",
      "[1.  1.8 2.6 3.4 4.2 5. ]\n",
      "<a list of 5 Patch objects>\n"
     ]
    }
   ],
   "source": [
    "# See what's inside of n, bins, patches\n",
    "\n",
    "print(n)\n",
    "print(bins)\n",
    "print(patches)"
   ]
  },
  {
   "cell_type": "code",
   "execution_count": 122,
   "metadata": {},
   "outputs": [
    {
     "data": {
      "text/plain": [
       "Text(0,0.5,'Frequency')"
      ]
     },
     "execution_count": 122,
     "metadata": {},
     "output_type": "execute_result"
    },
    {
     "data": {
      "image/png": "[encoded data removed]",
      "text/plain": [
       "<Figure size 432x288 with 1 Axes>"
      ]
     },
     "metadata": {},
     "output_type": "display_data"
    }
   ],
   "source": [
    "n, bins, patches = plt.hist(ratings['rating'],bins=5,facecolor='#FFEC8B',edgecolor='black')    # You could have also said bins=np.arange(6) or bins=(1,6,1)\n",
    "max_y = max(n)\n",
    "plt.axis([1, 5, 0, max_y])\n",
    "plt.title(\"Histogram of User Ratings\")\n",
    "plt.xlabel(\"Rating\")\n",
    "plt.ylabel(\"Frequency\")"
   ]
  },
  {
   "cell_type": "code",
   "execution_count": 123,
   "metadata": {},
   "outputs": [
    {
     "data": {
      "text/plain": [
       "[None, None, None]"
      ]
     },
     "execution_count": 123,
     "metadata": {},
     "output_type": "execute_result"
    },
    {
     "data": {
      "image/png": "[encoded data removed]",
      "text/plain": [
       "<Figure size 432x288 with 1 Axes>"
      ]
     },
     "metadata": {},
     "output_type": "display_data"
    }
   ],
   "source": [
    "# Now play with patches - they're a bit of fun!\n",
    "n, bins, patches = plt.hist(ratings['rating'],bins=5,facecolor='blue',edgecolor='black')    # You could have also said bins=np.arange(6) or bins=(1,6,1)\n",
    "max_y = max(n)+10000\n",
    "plt.axis([1, 5, 0, max_y])\n",
    "plt.title(\"Histogram of User Ratings\")\n",
    "plt.xlabel(\"Rating\")\n",
    "plt.ylabel(\"Frequency\")\n",
    "\n",
    "# Ratings of 1 and 2 are bad.  Ratings of 3-5 are good.\n",
    "# Reflect this with the colour scheme.\n",
    "plt.setp(patches[0:2], 'facecolor', '#EE799F')\n",
    "plt.setp(patches[2:5], 'facecolor', '#32CD32')"
   ]
  },
  {
   "cell_type": "code",
   "execution_count": 126,
   "metadata": {},
   "outputs": [
    {
     "data": {
      "text/plain": [
       "Text(0,0.5,'Frequency')"
      ]
     },
     "execution_count": 126,
     "metadata": {},
     "output_type": "execute_result"
    },
    {
     "data": {
      "image/png": "[encoded data removed]",
      "text/plain": [
       "<Figure size 432x288 with 1 Axes>"
      ]
     },
     "metadata": {},
     "output_type": "display_data"
    }
   ],
   "source": [
    "# How to pick bins now?  What's appropriate?\n",
    "n, bins, patches = plt.hist(users['age'],facecolor='plum',edgecolor='black',linewidth=2.5,bins=5)\n",
    "max_y = max(n) + 100\n",
    "max_x = max(users['age'])\n",
    "plt.axis([0,max_x, 0, max_y])\n",
    "plt.title(\"Histogram of User Ages\")\n",
    "plt.xlabel(\"Age Group\")\n",
    "plt.ylabel(\"Frequency\")"
   ]
  },
  {
   "cell_type": "code",
   "execution_count": 135,
   "metadata": {},
   "outputs": [
    {
     "name": "stdout",
     "output_type": "stream",
     "text": [
      "[0. 0. 0. 0. 0.]\n",
      "[ 3.67549669 18.2615894  34.70198675 19.75165563 23.60927152]\n",
      "[ 222. 1103. 2096. 1193. 1426.]\n",
      "[0.   0.   0.05 0.   0.  ]\n"
     ]
    },
    {
     "data": {
      "text/plain": [
       "Text(0.5,1,'Pie Chart of Ratings')"
      ]
     },
     "execution_count": 135,
     "metadata": {},
     "output_type": "execute_result"
    },
    {
     "data": {
      "image/png": "[encoded data removed]",
      "text/plain": [
       "<Figure size 432x288 with 1 Axes>"
      ]
     },
     "metadata": {},
     "output_type": "display_data"
    }
   ],
   "source": [
    "# Pie charts of ratings.  I don't believe in them, but for completeness, here it is.\n",
    "# Each pie chart slice is ordered and plotted anticlockwise.\n",
    "\n",
    "from pylab import *\n",
    "\n",
    "# !!! MAKE SURE YOU HAVE ENOUGH LABELS !!!!\n",
    "# The label for each pie slice\n",
    "labels = '1', '2', '3', '4','5'\n",
    "\n",
    "# Calculate the size of each pie slice - must sum to 100\n",
    "n_total = np.sum(n)\n",
    "percs = n/n_total*100\n",
    "explode=np.zeros(5)\n",
    "\n",
    "print(explode)\n",
    "print(percs)\n",
    "print(n)\n",
    "\n",
    "# get index of largest value in n\n",
    "max_y = n.argmax()\n",
    "explode[max_y] = 0.05\n",
    "print(explode)\n",
    "\n",
    "# Select colours\n",
    "col = ['#FF7F00','#00CED1','#00BFFF','#4EEE94','#FF3E96']\n",
    "\n",
    "# Now produce the pie chart!\n",
    "pie(percs, explode=explode, labels=labels, colors = col, autopct='%1.1f%%', shadow=True, startangle=45)\n",
    "\n",
    "# The default startangle is 0, with startangle=90, everything is rotated anticlockwise by 90 degrees,\n",
    "# so the plotting starts on the positive y-axis.\n",
    "\n",
    "title('Pie Chart of Ratings', bbox={'facecolor':'white', 'pad':5})"
   ]
  },
  {
   "cell_type": "code",
   "execution_count": 127,
   "metadata": {},
   "outputs": [
    {
     "data": {
      "text/plain": [
       "array([0., 0., 0., 0., 0.])"
      ]
     },
     "execution_count": 127,
     "metadata": {},
     "output_type": "execute_result"
    }
   ],
   "source": [
    "np.zeros(5)"
   ]
  },
  {
   "cell_type": "code",
   "execution_count": 136,
   "metadata": {},
   "outputs": [
    {
     "data": {
      "text/plain": [
       "4.0"
      ]
     },
     "execution_count": 136,
     "metadata": {},
     "output_type": "execute_result"
    }
   ],
   "source": [
    "# Calculate the median of the ratings (not the mean - why not?)\n",
    "np.median(ratings['rating'])"
   ]
  },
  {
   "cell_type": "code",
   "execution_count": 137,
   "metadata": {},
   "outputs": [
    {
     "data": {
      "text/plain": [
       "3.581564453029317"
      ]
     },
     "execution_count": 137,
     "metadata": {},
     "output_type": "execute_result"
    }
   ],
   "source": [
    "# Let's look at the mean anyway - do we believe it?  Yes? No?\n",
    "np.mean(ratings['rating'])"
   ]
  },
  {
   "cell_type": "code",
   "execution_count": 138,
   "metadata": {},
   "outputs": [
    {
     "name": "stdout",
     "output_type": "stream",
     "text": [
      "30.639238410596025\n",
      "25.0\n",
      "ModeResult(mode=array([25]), count=array([2096])) \n",
      "\n",
      "0.2426397982242566\n",
      "SkewtestResult(statistic=7.599233779588706, pvalue=2.978892167914599e-14) \n",
      "\n",
      "-0.2915626144379826\n",
      "KurtosistestResult(statistic=-5.398350569777378, pvalue=6.725635127785523e-08)\n"
     ]
    }
   ],
   "source": [
    "# Calculate the median of the ratings (not the mean - why not?)\n",
    "import scipy.stats.stats as st\n",
    "print(np.mean(users['age']))\n",
    "print(np.median(users['age']))\n",
    "print(st.mode(users['age']),'\\n')\n",
    "print(st.skew(users['age']))\n",
    "print(st.skewtest(users['age']),'\\n')\n",
    "print(st.kurtosis(users['age']))\n",
    "print(st.kurtosistest(users['age']))"
   ]
  },
  {
   "cell_type": "code",
   "execution_count": null,
   "metadata": {
    "collapsed": true
   },
   "outputs": [],
   "source": []
  }
 ],
 "metadata": {
  "kernelspec": {
   "display_name": "Python 3",
   "language": "python",
   "name": "python3"
  },
  "language_info": {
   "codemirror_mode": {
    "name": "ipython",
    "version": 3
   },
   "file_extension": ".py",
   "mimetype": "text/x-python",
   "name": "python",
   "nbconvert_exporter": "python",
   "pygments_lexer": "ipython3",
   "version": "3.6.5"
  }
 },
 "nbformat": 4,
 "nbformat_minor": 1
}
