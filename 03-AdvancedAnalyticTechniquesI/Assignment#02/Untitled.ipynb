{
 "cells": [
  {
   "cell_type": "markdown",
   "id": "8fc030cd-5463-48c0-a217-54c64e45e972",
   "metadata": {},
   "source": [
    "# Question 1"
   ]
  },
  {
   "cell_type": "code",
   "execution_count": 2,
   "id": "34e6ba6d-e21a-472d-926a-65fcbea61591",
   "metadata": {},
   "outputs": [
    {
     "name": "stdout",
     "output_type": "stream",
     "text": [
      "         Date     Output\n",
      "0  2011-01-01   1.452707\n",
      "1  2011-01-01  -0.444218\n",
      "2  2011-01-01  -0.396195\n",
      "3  2011-01-01   0.768375\n",
      "4  2011-01-01   2.149047\n",
      "5  2011-01-01   0.684333\n",
      "6  2011-01-01  -0.384190\n",
      "7  2011-01-01  -0.336167\n",
      "8  2011-01-01  -0.120060\n",
      "9  2011-01-01  -0.408202\n",
      "10 2011-01-01   4.850360\n",
      "11 2011-01-01   8.452108\n",
      "12 2011-01-01  17.576545\n",
      "13 2011-01-01  17.864683\n",
      "14 2011-01-01  20.469948\n",
      "15 2011-01-01   9.880803\n",
      "16 2011-01-01  39.054985\n",
      "17 2011-01-01  29.330255\n",
      "18 2011-01-01  17.312413\n",
      "19 2011-01-01   9.676703\n"
     ]
    }
   ],
   "source": [
    "import pandas as pd\n",
    "\n",
    "# 读取Excel文件\n",
    "df = pd.read_excel('ClementsGapWindFarmOutput.xlsx', engine='openpyxl')\n",
    "\n",
    "# 查看前几行数据\n",
    "print(df.head(n = 20))"
   ]
  },
  {
   "cell_type": "code",
   "execution_count": 3,
   "id": "7cced5bf-cf0c-435c-a00f-76a368715c6f",
   "metadata": {},
   "outputs": [
    {
     "name": "stdout",
     "output_type": "stream",
     "text": [
      "Index(['Date', 'Output'], dtype='object')\n"
     ]
    }
   ],
   "source": [
    "print(df.columns)"
   ]
  }
 ],
 "metadata": {
  "kernelspec": {
   "display_name": "Python 3 (ipykernel)",
   "language": "python",
   "name": "python3"
  },
  "language_info": {
   "codemirror_mode": {
    "name": "ipython",
    "version": 3
   },
   "file_extension": ".py",
   "mimetype": "text/x-python",
   "name": "python",
   "nbconvert_exporter": "python",
   "pygments_lexer": "ipython3",
   "version": "3.10.9"
  }
 },
 "nbformat": 4,
 "nbformat_minor": 5
}
